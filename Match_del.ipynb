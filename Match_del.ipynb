{
 "cells": [
  {
   "cell_type": "code",
   "execution_count": 1,
   "metadata": {},
   "outputs": [
    {
     "name": "stdout",
     "output_type": "stream",
     "text": [
      "<class 'pandas.core.frame.DataFrame'>\n",
      "RangeIndex: 1095 entries, 0 to 1094\n",
      "Data columns (total 20 columns):\n",
      " #   Column           Non-Null Count  Dtype  \n",
      "---  ------           --------------  -----  \n",
      " 0   id               1095 non-null   int64  \n",
      " 1   season           1095 non-null   object \n",
      " 2   city             1044 non-null   object \n",
      " 3   date             1095 non-null   object \n",
      " 4   match_type       1095 non-null   object \n",
      " 5   player_of_match  1090 non-null   object \n",
      " 6   venue            1095 non-null   object \n",
      " 7   team1            1095 non-null   object \n",
      " 8   team2            1095 non-null   object \n",
      " 9   toss_winner      1095 non-null   object \n",
      " 10  toss_decision    1095 non-null   object \n",
      " 11  winner           1090 non-null   object \n",
      " 12  result           1095 non-null   object \n",
      " 13  result_margin    1076 non-null   float64\n",
      " 14  target_runs      1092 non-null   float64\n",
      " 15  target_overs     1092 non-null   float64\n",
      " 16  super_over       1095 non-null   object \n",
      " 17  method           21 non-null     object \n",
      " 18  umpire1          1095 non-null   object \n",
      " 19  umpire2          1095 non-null   object \n",
      "dtypes: float64(3), int64(1), object(16)\n",
      "memory usage: 171.2+ KB\n"
     ]
    }
   ],
   "source": [
    "import pandas as pd\n",
    "import altair as alt\n",
    "\n",
    "# Load matches data\n",
    "matches = pd.read_csv('archive (1)/matches.csv')\n",
    "\n",
    "matches.info()"
   ]
  },
  {
   "cell_type": "code",
   "execution_count": 2,
   "metadata": {},
   "outputs": [
    {
     "name": "stderr",
     "output_type": "stream",
     "text": [
      "<>:8: SyntaxWarning: invalid escape sequence '\\d'\n",
      "<>:8: SyntaxWarning: invalid escape sequence '\\d'\n",
      "C:\\Users\\VARUN\\AppData\\Local\\Temp\\ipykernel_29264\\1165259120.py:8: SyntaxWarning: invalid escape sequence '\\d'\n",
      "  matches['season'] = matches['season'].str.extract('(\\d+)')\n",
      "c:\\Users\\VARUN\\anaconda3\\Lib\\site-packages\\altair\\utils\\core.py:395: FutureWarning: the convert_dtype parameter is deprecated and will be removed in a future version.  Do ``ser.astype(object).apply()`` instead if you want ``convert_dtype=False``.\n",
      "  col = df[col_name].apply(to_list_if_array, convert_dtype=False)\n"
     ]
    },
    {
     "data": {
      "text/html": [
       "\n",
       "<style>\n",
       "  #altair-viz-461a3931c874405eb480b68b36b9b858.vega-embed {\n",
       "    width: 100%;\n",
       "    display: flex;\n",
       "  }\n",
       "\n",
       "  #altair-viz-461a3931c874405eb480b68b36b9b858.vega-embed details,\n",
       "  #altair-viz-461a3931c874405eb480b68b36b9b858.vega-embed details summary {\n",
       "    position: relative;\n",
       "  }\n",
       "</style>\n",
       "<div id=\"altair-viz-461a3931c874405eb480b68b36b9b858\"></div>\n",
       "<script type=\"text/javascript\">\n",
       "  var VEGA_DEBUG = (typeof VEGA_DEBUG == \"undefined\") ? {} : VEGA_DEBUG;\n",
       "  (function(spec, embedOpt){\n",
       "    let outputDiv = document.currentScript.previousElementSibling;\n",
       "    if (outputDiv.id !== \"altair-viz-461a3931c874405eb480b68b36b9b858\") {\n",
       "      outputDiv = document.getElementById(\"altair-viz-461a3931c874405eb480b68b36b9b858\");\n",
       "    }\n",
       "    const paths = {\n",
       "      \"vega\": \"https://cdn.jsdelivr.net/npm/vega@5?noext\",\n",
       "      \"vega-lib\": \"https://cdn.jsdelivr.net/npm/vega-lib?noext\",\n",
       "      \"vega-lite\": \"https://cdn.jsdelivr.net/npm/vega-lite@5.8.0?noext\",\n",
       "      \"vega-embed\": \"https://cdn.jsdelivr.net/npm/vega-embed@6?noext\",\n",
       "    };\n",
       "\n",
       "    function maybeLoadScript(lib, version) {\n",
       "      var key = `${lib.replace(\"-\", \"\")}_version`;\n",
       "      return (VEGA_DEBUG[key] == version) ?\n",
       "        Promise.resolve(paths[lib]) :\n",
       "        new Promise(function(resolve, reject) {\n",
       "          var s = document.createElement('script');\n",
       "          document.getElementsByTagName(\"head\")[0].appendChild(s);\n",
       "          s.async = true;\n",
       "          s.onload = () => {\n",
       "            VEGA_DEBUG[key] = version;\n",
       "            return resolve(paths[lib]);\n",
       "          };\n",
       "          s.onerror = () => reject(`Error loading script: ${paths[lib]}`);\n",
       "          s.src = paths[lib];\n",
       "        });\n",
       "    }\n",
       "\n",
       "    function showError(err) {\n",
       "      outputDiv.innerHTML = `<div class=\"error\" style=\"color:red;\">${err}</div>`;\n",
       "      throw err;\n",
       "    }\n",
       "\n",
       "    function displayChart(vegaEmbed) {\n",
       "      vegaEmbed(outputDiv, spec, embedOpt)\n",
       "        .catch(err => showError(`Javascript Error: ${err.message}<br>This usually means there's a typo in your chart specification. See the javascript console for the full traceback.`));\n",
       "    }\n",
       "\n",
       "    if(typeof define === \"function\" && define.amd) {\n",
       "      requirejs.config({paths});\n",
       "      require([\"vega-embed\"], displayChart, err => showError(`Error loading script: ${err.message}`));\n",
       "    } else {\n",
       "      maybeLoadScript(\"vega\", \"5\")\n",
       "        .then(() => maybeLoadScript(\"vega-lite\", \"5.8.0\"))\n",
       "        .then(() => maybeLoadScript(\"vega-embed\", \"6\"))\n",
       "        .catch(showError)\n",
       "        .then(() => displayChart(vegaEmbed));\n",
       "    }\n",
       "  })({\"config\": {\"view\": {\"continuousWidth\": 300, \"continuousHeight\": 300}}, \"data\": {\"name\": \"data-8f35d9a213605aea4acfb0230ee51db0\"}, \"mark\": {\"type\": \"bar\"}, \"encoding\": {\"color\": {\"field\": \"winner\", \"type\": \"nominal\"}, \"tooltip\": [{\"field\": \"winner\", \"type\": \"nominal\"}, {\"field\": \"wins\", \"type\": \"quantitative\"}], \"x\": {\"field\": \"wins\", \"title\": \"Number of Wins\", \"type\": \"quantitative\"}, \"y\": {\"field\": \"winner\", \"sort\": \"-x\", \"title\": \"Teams\", \"type\": \"nominal\"}}, \"height\": 400, \"params\": [{\"name\": \"Season\", \"bind\": {\"input\": \"range\", \"max\": 2024, \"min\": 2007, \"step\": 1}, \"value\": 2007}], \"title\": \"\\ud83c\\udfc6 IPL Team Wins Over Seasons (Race Chart)\", \"transform\": [{\"filter\": \"(datum.season === Season)\"}], \"width\": 700, \"$schema\": \"https://vega.github.io/schema/vega-lite/v5.8.0.json\", \"datasets\": {\"data-8f35d9a213605aea4acfb0230ee51db0\": [{\"season\": 2007, \"winner\": \"Chennai Super Kings\", \"wins\": 9}, {\"season\": 2007, \"winner\": \"Deccan Chargers\", \"wins\": 2}, {\"season\": 2007, \"winner\": \"Delhi Daredevils\", \"wins\": 7}, {\"season\": 2007, \"winner\": \"Kings XI Punjab\", \"wins\": 10}, {\"season\": 2007, \"winner\": \"Kolkata Knight Riders\", \"wins\": 6}, {\"season\": 2007, \"winner\": \"Mumbai Indians\", \"wins\": 7}, {\"season\": 2007, \"winner\": \"Rajasthan Royals\", \"wins\": 13}, {\"season\": 2007, \"winner\": \"Royal Challengers Bangalore\", \"wins\": 4}, {\"season\": 2009, \"winner\": \"Chennai Super Kings\", \"wins\": 17}, {\"season\": 2009, \"winner\": \"Deccan Chargers\", \"wins\": 17}, {\"season\": 2009, \"winner\": \"Delhi Daredevils\", \"wins\": 17}, {\"season\": 2009, \"winner\": \"Kings XI Punjab\", \"wins\": 11}, {\"season\": 2009, \"winner\": \"Kolkata Knight Riders\", \"wins\": 10}, {\"season\": 2009, \"winner\": \"Mumbai Indians\", \"wins\": 16}, {\"season\": 2009, \"winner\": \"Rajasthan Royals\", \"wins\": 12}, {\"season\": 2009, \"winner\": \"Royal Challengers Bangalore\", \"wins\": 17}, {\"season\": 2011, \"winner\": \"Chennai Super Kings\", \"wins\": 11}, {\"season\": 2011, \"winner\": \"Deccan Chargers\", \"wins\": 6}, {\"season\": 2011, \"winner\": \"Delhi Daredevils\", \"wins\": 4}, {\"season\": 2011, \"winner\": \"Kings XI Punjab\", \"wins\": 7}, {\"season\": 2011, \"winner\": \"Kochi Tuskers Kerala\", \"wins\": 6}, {\"season\": 2011, \"winner\": \"Kolkata Knight Riders\", \"wins\": 8}, {\"season\": 2011, \"winner\": \"Mumbai Indians\", \"wins\": 10}, {\"season\": 2011, \"winner\": \"Pune Warriors\", \"wins\": 4}, {\"season\": 2011, \"winner\": \"Rajasthan Royals\", \"wins\": 6}, {\"season\": 2011, \"winner\": \"Royal Challengers Bangalore\", \"wins\": 10}, {\"season\": 2012, \"winner\": \"Chennai Super Kings\", \"wins\": 10}, {\"season\": 2012, \"winner\": \"Deccan Chargers\", \"wins\": 4}, {\"season\": 2012, \"winner\": \"Delhi Daredevils\", \"wins\": 11}, {\"season\": 2012, \"winner\": \"Kings XI Punjab\", \"wins\": 8}, {\"season\": 2012, \"winner\": \"Kolkata Knight Riders\", \"wins\": 12}, {\"season\": 2012, \"winner\": \"Mumbai Indians\", \"wins\": 10}, {\"season\": 2012, \"winner\": \"Pune Warriors\", \"wins\": 4}, {\"season\": 2012, \"winner\": \"Rajasthan Royals\", \"wins\": 7}, {\"season\": 2012, \"winner\": \"Royal Challengers Bangalore\", \"wins\": 8}, {\"season\": 2013, \"winner\": \"Chennai Super Kings\", \"wins\": 12}, {\"season\": 2013, \"winner\": \"Delhi Daredevils\", \"wins\": 3}, {\"season\": 2013, \"winner\": \"Kings XI Punjab\", \"wins\": 8}, {\"season\": 2013, \"winner\": \"Kolkata Knight Riders\", \"wins\": 6}, {\"season\": 2013, \"winner\": \"Mumbai Indians\", \"wins\": 13}, {\"season\": 2013, \"winner\": \"Pune Warriors\", \"wins\": 4}, {\"season\": 2013, \"winner\": \"Rajasthan Royals\", \"wins\": 11}, {\"season\": 2013, \"winner\": \"Royal Challengers Bangalore\", \"wins\": 9}, {\"season\": 2013, \"winner\": \"Sunrisers Hyderabad\", \"wins\": 10}, {\"season\": 2014, \"winner\": \"Chennai Super Kings\", \"wins\": 10}, {\"season\": 2014, \"winner\": \"Delhi Daredevils\", \"wins\": 2}, {\"season\": 2014, \"winner\": \"Kings XI Punjab\", \"wins\": 12}, {\"season\": 2014, \"winner\": \"Kolkata Knight Riders\", \"wins\": 11}, {\"season\": 2014, \"winner\": \"Mumbai Indians\", \"wins\": 7}, {\"season\": 2014, \"winner\": \"Rajasthan Royals\", \"wins\": 7}, {\"season\": 2014, \"winner\": \"Royal Challengers Bangalore\", \"wins\": 5}, {\"season\": 2014, \"winner\": \"Sunrisers Hyderabad\", \"wins\": 6}, {\"season\": 2015, \"winner\": \"Chennai Super Kings\", \"wins\": 10}, {\"season\": 2015, \"winner\": \"Delhi Daredevils\", \"wins\": 5}, {\"season\": 2015, \"winner\": \"Kings XI Punjab\", \"wins\": 3}, {\"season\": 2015, \"winner\": \"Kolkata Knight Riders\", \"wins\": 7}, {\"season\": 2015, \"winner\": \"Mumbai Indians\", \"wins\": 10}, {\"season\": 2015, \"winner\": \"Rajasthan Royals\", \"wins\": 7}, {\"season\": 2015, \"winner\": \"Royal Challengers Bangalore\", \"wins\": 8}, {\"season\": 2015, \"winner\": \"Sunrisers Hyderabad\", \"wins\": 7}, {\"season\": 2016, \"winner\": \"Delhi Daredevils\", \"wins\": 7}, {\"season\": 2016, \"winner\": \"Gujarat Lions\", \"wins\": 9}, {\"season\": 2016, \"winner\": \"Kings XI Punjab\", \"wins\": 4}, {\"season\": 2016, \"winner\": \"Kolkata Knight Riders\", \"wins\": 8}, {\"season\": 2016, \"winner\": \"Mumbai Indians\", \"wins\": 7}, {\"season\": 2016, \"winner\": \"Rising Pune Supergiants\", \"wins\": 5}, {\"season\": 2016, \"winner\": \"Royal Challengers Bangalore\", \"wins\": 9}, {\"season\": 2016, \"winner\": \"Sunrisers Hyderabad\", \"wins\": 11}, {\"season\": 2017, \"winner\": \"Delhi Daredevils\", \"wins\": 6}, {\"season\": 2017, \"winner\": \"Gujarat Lions\", \"wins\": 4}, {\"season\": 2017, \"winner\": \"Kings XI Punjab\", \"wins\": 7}, {\"season\": 2017, \"winner\": \"Kolkata Knight Riders\", \"wins\": 9}, {\"season\": 2017, \"winner\": \"Mumbai Indians\", \"wins\": 12}, {\"season\": 2017, \"winner\": \"Rising Pune Supergiant\", \"wins\": 10}, {\"season\": 2017, \"winner\": \"Royal Challengers Bangalore\", \"wins\": 3}, {\"season\": 2017, \"winner\": \"Sunrisers Hyderabad\", \"wins\": 8}, {\"season\": 2018, \"winner\": \"Chennai Super Kings\", \"wins\": 11}, {\"season\": 2018, \"winner\": \"Delhi Daredevils\", \"wins\": 5}, {\"season\": 2018, \"winner\": \"Kings XI Punjab\", \"wins\": 6}, {\"season\": 2018, \"winner\": \"Kolkata Knight Riders\", \"wins\": 9}, {\"season\": 2018, \"winner\": \"Mumbai Indians\", \"wins\": 6}, {\"season\": 2018, \"winner\": \"Rajasthan Royals\", \"wins\": 7}, {\"season\": 2018, \"winner\": \"Royal Challengers Bangalore\", \"wins\": 6}, {\"season\": 2018, \"winner\": \"Sunrisers Hyderabad\", \"wins\": 10}, {\"season\": 2019, \"winner\": \"Chennai Super Kings\", \"wins\": 10}, {\"season\": 2019, \"winner\": \"Delhi Capitals\", \"wins\": 10}, {\"season\": 2019, \"winner\": \"Kings XI Punjab\", \"wins\": 6}, {\"season\": 2019, \"winner\": \"Kolkata Knight Riders\", \"wins\": 6}, {\"season\": 2019, \"winner\": \"Mumbai Indians\", \"wins\": 11}, {\"season\": 2019, \"winner\": \"Rajasthan Royals\", \"wins\": 5}, {\"season\": 2019, \"winner\": \"Royal Challengers Bangalore\", \"wins\": 5}, {\"season\": 2019, \"winner\": \"Sunrisers Hyderabad\", \"wins\": 6}, {\"season\": 2020, \"winner\": \"Chennai Super Kings\", \"wins\": 6}, {\"season\": 2020, \"winner\": \"Delhi Capitals\", \"wins\": 9}, {\"season\": 2020, \"winner\": \"Kings XI Punjab\", \"wins\": 6}, {\"season\": 2020, \"winner\": \"Kolkata Knight Riders\", \"wins\": 7}, {\"season\": 2020, \"winner\": \"Mumbai Indians\", \"wins\": 11}, {\"season\": 2020, \"winner\": \"Rajasthan Royals\", \"wins\": 6}, {\"season\": 2020, \"winner\": \"Royal Challengers Bangalore\", \"wins\": 7}, {\"season\": 2020, \"winner\": \"Sunrisers Hyderabad\", \"wins\": 8}, {\"season\": 2021, \"winner\": \"Chennai Super Kings\", \"wins\": 11}, {\"season\": 2021, \"winner\": \"Delhi Capitals\", \"wins\": 10}, {\"season\": 2021, \"winner\": \"Kolkata Knight Riders\", \"wins\": 9}, {\"season\": 2021, \"winner\": \"Mumbai Indians\", \"wins\": 7}, {\"season\": 2021, \"winner\": \"Punjab Kings\", \"wins\": 6}, {\"season\": 2021, \"winner\": \"Rajasthan Royals\", \"wins\": 5}, {\"season\": 2021, \"winner\": \"Royal Challengers Bangalore\", \"wins\": 9}, {\"season\": 2021, \"winner\": \"Sunrisers Hyderabad\", \"wins\": 3}, {\"season\": 2022, \"winner\": \"Chennai Super Kings\", \"wins\": 4}, {\"season\": 2022, \"winner\": \"Delhi Capitals\", \"wins\": 7}, {\"season\": 2022, \"winner\": \"Gujarat Titans\", \"wins\": 12}, {\"season\": 2022, \"winner\": \"Kolkata Knight Riders\", \"wins\": 6}, {\"season\": 2022, \"winner\": \"Lucknow Super Giants\", \"wins\": 9}, {\"season\": 2022, \"winner\": \"Mumbai Indians\", \"wins\": 4}, {\"season\": 2022, \"winner\": \"Punjab Kings\", \"wins\": 7}, {\"season\": 2022, \"winner\": \"Rajasthan Royals\", \"wins\": 10}, {\"season\": 2022, \"winner\": \"Royal Challengers Bangalore\", \"wins\": 9}, {\"season\": 2022, \"winner\": \"Sunrisers Hyderabad\", \"wins\": 6}, {\"season\": 2023, \"winner\": \"Chennai Super Kings\", \"wins\": 10}, {\"season\": 2023, \"winner\": \"Delhi Capitals\", \"wins\": 5}, {\"season\": 2023, \"winner\": \"Gujarat Titans\", \"wins\": 11}, {\"season\": 2023, \"winner\": \"Kolkata Knight Riders\", \"wins\": 6}, {\"season\": 2023, \"winner\": \"Lucknow Super Giants\", \"wins\": 8}, {\"season\": 2023, \"winner\": \"Mumbai Indians\", \"wins\": 9}, {\"season\": 2023, \"winner\": \"Punjab Kings\", \"wins\": 6}, {\"season\": 2023, \"winner\": \"Rajasthan Royals\", \"wins\": 7}, {\"season\": 2023, \"winner\": \"Royal Challengers Bangalore\", \"wins\": 7}, {\"season\": 2023, \"winner\": \"Sunrisers Hyderabad\", \"wins\": 4}, {\"season\": 2024, \"winner\": \"Chennai Super Kings\", \"wins\": 7}, {\"season\": 2024, \"winner\": \"Delhi Capitals\", \"wins\": 7}, {\"season\": 2024, \"winner\": \"Gujarat Titans\", \"wins\": 5}, {\"season\": 2024, \"winner\": \"Kolkata Knight Riders\", \"wins\": 11}, {\"season\": 2024, \"winner\": \"Lucknow Super Giants\", \"wins\": 7}, {\"season\": 2024, \"winner\": \"Mumbai Indians\", \"wins\": 4}, {\"season\": 2024, \"winner\": \"Punjab Kings\", \"wins\": 5}, {\"season\": 2024, \"winner\": \"Rajasthan Royals\", \"wins\": 9}, {\"season\": 2024, \"winner\": \"Royal Challengers Bengaluru\", \"wins\": 7}, {\"season\": 2024, \"winner\": \"Sunrisers Hyderabad\", \"wins\": 9}]}}, {\"mode\": \"vega-lite\"});\n",
       "</script>"
      ],
      "text/plain": [
       "alt.Chart(...)"
      ]
     },
     "execution_count": 2,
     "metadata": {},
     "output_type": "execute_result"
    }
   ],
   "source": [
    "import pandas as pd\n",
    "import altair as alt\n",
    "\n",
    "# Load matches data\n",
    "matches = pd.read_csv('archive (1)/matches.csv')\n",
    "\n",
    "# Convert season to int properly\n",
    "matches['season'] = matches['season'].str.extract('(\\d+)')\n",
    "matches['season'] = matches['season'].astype(int)\n",
    "\n",
    "# Prepare wins per team per season\n",
    "team_wins = matches.groupby(['season', 'winner']).size().reset_index(name='wins')\n",
    "team_wins = team_wins.dropna(subset=['winner'])\n",
    "\n",
    "# Create slider\n",
    "season_slider = alt.binding_range(min=team_wins['season'].min(), max=team_wins['season'].max(), step=1)\n",
    "season_select = alt.param('Season', bind=season_slider, value=team_wins['season'].min())\n",
    "\n",
    "# Race bar chart\n",
    "race_chart = alt.Chart(team_wins).transform_filter(\n",
    "    alt.datum.season == season_select\n",
    ").mark_bar().encode(\n",
    "    x=alt.X('wins:Q', title='Number of Wins'),\n",
    "    y=alt.Y('winner:N', sort='-x', title='Teams'),\n",
    "    color='winner:N',\n",
    "    tooltip=['winner:N', 'wins:Q']\n",
    ").add_params(\n",
    "    season_select\n",
    ").properties(\n",
    "    title='🏆 IPL Team Wins Over Seasons (Race Chart)',\n",
    "    width=700,\n",
    "    height=400\n",
    ")\n",
    "\n",
    "race_chart"
   ]
  },
  {
   "cell_type": "code",
   "execution_count": 1,
   "id": "396aed98",
   "metadata": {},
   "outputs": [
    {
     "name": "stdout",
     "output_type": "stream",
     "text": [
      "<class 'pandas.core.frame.DataFrame'>\n",
      "RangeIndex: 260920 entries, 0 to 260919\n",
      "Data columns (total 17 columns):\n",
      " #   Column            Non-Null Count   Dtype \n",
      "---  ------            --------------   ----- \n",
      " 0   match_id          260920 non-null  int64 \n",
      " 1   inning            260920 non-null  int64 \n",
      " 2   batting_team      260920 non-null  object\n",
      " 3   bowling_team      260920 non-null  object\n",
      " 4   over              260920 non-null  int64 \n",
      " 5   ball              260920 non-null  int64 \n",
      " 6   batter            260920 non-null  object\n",
      " 7   bowler            260920 non-null  object\n",
      " 8   non_striker       260920 non-null  object\n",
      " 9   batsman_runs      260920 non-null  int64 \n",
      " 10  extra_runs        260920 non-null  int64 \n",
      " 11  total_runs        260920 non-null  int64 \n",
      " 12  extras_type       14125 non-null   object\n",
      " 13  is_wicket         260920 non-null  int64 \n",
      " 14  player_dismissed  12950 non-null   object\n",
      " 15  dismissal_kind    12950 non-null   object\n",
      " 16  fielder           9354 non-null    object\n",
      "dtypes: int64(8), object(9)\n",
      "memory usage: 33.8+ MB\n"
     ]
    }
   ],
   "source": [
    "import networkx as nx\n",
    "from pyvis.network import Network\n",
    "import pandas as pd\n",
    "\n",
    "# Load deliveries\n",
    "deliveries = pd.read_csv('archive (1)/deliveries.csv')\n",
    "\n",
    "deliveries.info()"
   ]
  },
  {
   "cell_type": "code",
   "execution_count": 7,
   "id": "6888f16b",
   "metadata": {},
   "outputs": [],
   "source": [
    "# Prepare partnership data\n",
    "partnerships = deliveries.groupby(['batter', 'non_striker'])['batsman_runs'].sum().reset_index()\n",
    "\n",
    "# Filter: Only strong partnerships (> 400 runs together)\n",
    "strong_partnerships = partnerships[partnerships['batsman_runs'] > 200]\n",
    "\n",
    "# Build Graph\n",
    "G = nx.Graph()\n",
    "\n",
    "for index, row in strong_partnerships.iterrows():\n",
    "    G.add_edge(row['batter'], row['non_striker'], weight=row['batsman_runs'])\n",
    "\n"
   ]
  },
  {
   "cell_type": "code",
   "execution_count": 12,
   "id": "488f5ea0",
   "metadata": {},
   "outputs": [
    {
     "name": "stdout",
     "output_type": "stream",
     "text": [
      "<class 'pandas.core.frame.DataFrame'>\n",
      "RangeIndex: 9120 entries, 0 to 9119\n",
      "Data columns (total 3 columns):\n",
      " #   Column        Non-Null Count  Dtype \n",
      "---  ------        --------------  ----- \n",
      " 0   batter        9120 non-null   object\n",
      " 1   non_striker   9120 non-null   object\n",
      " 2   batsman_runs  9120 non-null   int64 \n",
      "dtypes: int64(1), object(2)\n",
      "memory usage: 213.9+ KB\n"
     ]
    }
   ],
   "source": [
    "partnerships.info()"
   ]
  },
  {
   "cell_type": "code",
   "execution_count": 14,
   "id": "1fbc2cd1",
   "metadata": {},
   "outputs": [
    {
     "data": {
      "text/plain": [
       "True"
      ]
     },
     "execution_count": 14,
     "metadata": {},
     "output_type": "execute_result"
    }
   ],
   "source": [
    "# Create PyVis Network\n",
    "net = Network(height=\"1000px\", width=\"101%\", bgcolor=\"#1A1A1A\", font_color=\"white\")\n",
    "net.from_nx(G)\n",
    "\n",
    "# Save manually (safe way)\n",
    "net.write_html('batsman_partnerships.html')\n",
    "\n",
    "# Open it\n",
    "import webbrowser\n",
    "webbrowser.open('batsman_partnerships.html')\n"
   ]
  },
  {
   "cell_type": "code",
   "execution_count": 30,
   "id": "9a59337c",
   "metadata": {},
   "outputs": [
    {
     "name": "stderr",
     "output_type": "stream",
     "text": [
      "c:\\Users\\VARUN\\anaconda3\\Lib\\site-packages\\altair\\utils\\core.py:395: FutureWarning: the convert_dtype parameter is deprecated and will be removed in a future version.  Do ``ser.astype(object).apply()`` instead if you want ``convert_dtype=False``.\n",
      "  col = df[col_name].apply(to_list_if_array, convert_dtype=False)\n"
     ]
    },
    {
     "data": {
      "text/html": [
       "\n",
       "<style>\n",
       "  #altair-viz-1090226ac3c7412693b8007c0f46b151.vega-embed {\n",
       "    width: 100%;\n",
       "    display: flex;\n",
       "  }\n",
       "\n",
       "  #altair-viz-1090226ac3c7412693b8007c0f46b151.vega-embed details,\n",
       "  #altair-viz-1090226ac3c7412693b8007c0f46b151.vega-embed details summary {\n",
       "    position: relative;\n",
       "  }\n",
       "</style>\n",
       "<div id=\"altair-viz-1090226ac3c7412693b8007c0f46b151\"></div>\n",
       "<script type=\"text/javascript\">\n",
       "  var VEGA_DEBUG = (typeof VEGA_DEBUG == \"undefined\") ? {} : VEGA_DEBUG;\n",
       "  (function(spec, embedOpt){\n",
       "    let outputDiv = document.currentScript.previousElementSibling;\n",
       "    if (outputDiv.id !== \"altair-viz-1090226ac3c7412693b8007c0f46b151\") {\n",
       "      outputDiv = document.getElementById(\"altair-viz-1090226ac3c7412693b8007c0f46b151\");\n",
       "    }\n",
       "    const paths = {\n",
       "      \"vega\": \"https://cdn.jsdelivr.net/npm/vega@5?noext\",\n",
       "      \"vega-lib\": \"https://cdn.jsdelivr.net/npm/vega-lib?noext\",\n",
       "      \"vega-lite\": \"https://cdn.jsdelivr.net/npm/vega-lite@5.8.0?noext\",\n",
       "      \"vega-embed\": \"https://cdn.jsdelivr.net/npm/vega-embed@6?noext\",\n",
       "    };\n",
       "\n",
       "    function maybeLoadScript(lib, version) {\n",
       "      var key = `${lib.replace(\"-\", \"\")}_version`;\n",
       "      return (VEGA_DEBUG[key] == version) ?\n",
       "        Promise.resolve(paths[lib]) :\n",
       "        new Promise(function(resolve, reject) {\n",
       "          var s = document.createElement('script');\n",
       "          document.getElementsByTagName(\"head\")[0].appendChild(s);\n",
       "          s.async = true;\n",
       "          s.onload = () => {\n",
       "            VEGA_DEBUG[key] = version;\n",
       "            return resolve(paths[lib]);\n",
       "          };\n",
       "          s.onerror = () => reject(`Error loading script: ${paths[lib]}`);\n",
       "          s.src = paths[lib];\n",
       "        });\n",
       "    }\n",
       "\n",
       "    function showError(err) {\n",
       "      outputDiv.innerHTML = `<div class=\"error\" style=\"color:red;\">${err}</div>`;\n",
       "      throw err;\n",
       "    }\n",
       "\n",
       "    function displayChart(vegaEmbed) {\n",
       "      vegaEmbed(outputDiv, spec, embedOpt)\n",
       "        .catch(err => showError(`Javascript Error: ${err.message}<br>This usually means there's a typo in your chart specification. See the javascript console for the full traceback.`));\n",
       "    }\n",
       "\n",
       "    if(typeof define === \"function\" && define.amd) {\n",
       "      requirejs.config({paths});\n",
       "      require([\"vega-embed\"], displayChart, err => showError(`Error loading script: ${err.message}`));\n",
       "    } else {\n",
       "      maybeLoadScript(\"vega\", \"5\")\n",
       "        .then(() => maybeLoadScript(\"vega-lite\", \"5.8.0\"))\n",
       "        .then(() => maybeLoadScript(\"vega-embed\", \"6\"))\n",
       "        .catch(showError)\n",
       "        .then(() => displayChart(vegaEmbed));\n",
       "    }\n",
       "  })({\"config\": {\"view\": {\"continuousWidth\": 300, \"continuousHeight\": 300}}, \"data\": {\"name\": \"data-8f48a034f1e915afcb9df0e89aba34bc\"}, \"mark\": {\"type\": \"circle\"}, \"encoding\": {\"color\": {\"field\": \"batter\", \"legend\": null, \"type\": \"nominal\"}, \"size\": {\"field\": \"runs\", \"scale\": {\"range\": [20, 1000]}, \"type\": \"quantitative\"}, \"tooltip\": [{\"field\": \"batter\", \"type\": \"nominal\"}, {\"field\": \"runs\", \"type\": \"quantitative\"}, {\"field\": \"balls\", \"type\": \"quantitative\"}, {\"field\": \"strike_rate\", \"type\": \"quantitative\"}], \"x\": {\"field\": \"balls\", \"title\": \"Balls Faced\", \"type\": \"quantitative\"}, \"y\": {\"field\": \"strike_rate\", \"title\": \"Strike Rate\", \"type\": \"quantitative\"}}, \"height\": 500, \"params\": [{\"name\": \"param_1\", \"select\": {\"type\": \"interval\", \"encodings\": [\"x\", \"y\"]}, \"bind\": \"scales\"}], \"title\": \"\\ud83d\\udca5 Batsman Strike Rate vs Balls Faced (Bubble Chart)\", \"width\": 700, \"$schema\": \"https://vega.github.io/schema/vega-lite/v5.8.0.json\", \"datasets\": {\"data-8f48a034f1e915afcb9df0e89aba34bc\": [{\"batter\": \"A Badoni\", \"runs\": 634, \"balls\": 505, \"strike_rate\": 125.54455445544555}, {\"batter\": \"A Mishra\", \"runs\": 381, \"balls\": 440, \"strike_rate\": 86.5909090909091}, {\"batter\": \"A Symonds\", \"runs\": 974, \"balls\": 781, \"strike_rate\": 124.71190781049937}, {\"batter\": \"AA Jhunjhunwala\", \"runs\": 217, \"balls\": 218, \"strike_rate\": 99.54128440366972}, {\"batter\": \"AB de Villiers\", \"runs\": 5181, \"balls\": 3487, \"strike_rate\": 148.58044164037855}, {\"batter\": \"AC Gilchrist\", \"runs\": 2069, \"balls\": 1555, \"strike_rate\": 133.05466237942122}, {\"batter\": \"AD Mathews\", \"runs\": 724, \"balls\": 599, \"strike_rate\": 120.86811352253757}, {\"batter\": \"AD Russell\", \"runs\": 2488, \"balls\": 1515, \"strike_rate\": 164.22442244224422}, {\"batter\": \"AJ Finch\", \"runs\": 2092, \"balls\": 1696, \"strike_rate\": 123.34905660377358}, {\"batter\": \"AK Markram\", \"runs\": 995, \"balls\": 787, \"strike_rate\": 126.4294790343075}, {\"batter\": \"AL Menaria\", \"runs\": 401, \"balls\": 367, \"strike_rate\": 109.26430517711172}, {\"batter\": \"AM Nayar\", \"runs\": 672, \"balls\": 588, \"strike_rate\": 114.28571428571428}, {\"batter\": \"AM Rahane\", \"runs\": 4642, \"balls\": 3858, \"strike_rate\": 120.32141005702437}, {\"batter\": \"AP Tare\", \"runs\": 339, \"balls\": 285, \"strike_rate\": 118.94736842105263}, {\"batter\": \"AR Patel\", \"runs\": 1653, \"balls\": 1318, \"strike_rate\": 125.41729893778452}, {\"batter\": \"AT Rayudu\", \"runs\": 4348, \"balls\": 3490, \"strike_rate\": 124.58452722063038}, {\"batter\": \"Abdul Samad\", \"runs\": 579, \"balls\": 408, \"strike_rate\": 141.91176470588235}, {\"batter\": \"Abhishek Sharma\", \"runs\": 1377, \"balls\": 925, \"strike_rate\": 148.86486486486484}, {\"batter\": \"Abishek Porel\", \"runs\": 360, \"balls\": 244, \"strike_rate\": 147.54098360655738}, {\"batter\": \"Anuj Rawat\", \"runs\": 318, \"balls\": 276, \"strike_rate\": 115.21739130434783}, {\"batter\": \"Azhar Mahmood\", \"runs\": 388, \"balls\": 311, \"strike_rate\": 124.7588424437299}, {\"batter\": \"B Chipli\", \"runs\": 280, \"balls\": 256, \"strike_rate\": 109.375}, {\"batter\": \"B Kumar\", \"runs\": 306, \"balls\": 338, \"strike_rate\": 90.53254437869822}, {\"batter\": \"B Sai Sudharsan\", \"runs\": 1034, \"balls\": 770, \"strike_rate\": 134.28571428571428}, {\"batter\": \"BA Stokes\", \"runs\": 935, \"balls\": 718, \"strike_rate\": 130.22284122562675}, {\"batter\": \"BB McCullum\", \"runs\": 2882, \"balls\": 2272, \"strike_rate\": 126.84859154929578}, {\"batter\": \"BJ Hodge\", \"runs\": 1400, \"balls\": 1153, \"strike_rate\": 121.42237640936686}, {\"batter\": \"C Green\", \"runs\": 707, \"balls\": 472, \"strike_rate\": 149.78813559322032}, {\"batter\": \"C de Grandhomme\", \"runs\": 303, \"balls\": 229, \"strike_rate\": 132.31441048034935}, {\"batter\": \"CA Lynn\", \"runs\": 1329, \"balls\": 974, \"strike_rate\": 136.4476386036961}, {\"batter\": \"CA Pujara\", \"runs\": 390, \"balls\": 403, \"strike_rate\": 96.7741935483871}, {\"batter\": \"CH Gayle\", \"runs\": 4997, \"balls\": 3516, \"strike_rate\": 142.1217292377702}, {\"batter\": \"CH Morris\", \"runs\": 618, \"balls\": 413, \"strike_rate\": 149.636803874092}, {\"batter\": \"CJ Anderson\", \"runs\": 538, \"balls\": 436, \"strike_rate\": 123.39449541284404}, {\"batter\": \"CL White\", \"runs\": 971, \"balls\": 774, \"strike_rate\": 125.45219638242895}, {\"batter\": \"D Padikkal\", \"runs\": 1559, \"balls\": 1323, \"strike_rate\": 117.83824640967498}, {\"batter\": \"DA Miller\", \"runs\": 2924, \"balls\": 2171, \"strike_rate\": 134.68447719944726}, {\"batter\": \"DA Warner\", \"runs\": 6567, \"balls\": 4849, \"strike_rate\": 135.4299855640338}, {\"batter\": \"DB Das\", \"runs\": 304, \"balls\": 267, \"strike_rate\": 113.85767790262172}, {\"batter\": \"DB Ravi Teja\", \"runs\": 375, \"balls\": 325, \"strike_rate\": 115.38461538461537}, {\"batter\": \"DJ Bravo\", \"runs\": 1560, \"balls\": 1247, \"strike_rate\": 125.10024057738573}, {\"batter\": \"DJ Hooda\", \"runs\": 1466, \"balls\": 1170, \"strike_rate\": 125.2991452991453}, {\"batter\": \"DJ Hussey\", \"runs\": 1322, \"balls\": 1101, \"strike_rate\": 120.07266121707538}, {\"batter\": \"DJ Mitchell\", \"runs\": 351, \"balls\": 274, \"strike_rate\": 128.1021897810219}, {\"batter\": \"DJG Sammy\", \"runs\": 295, \"balls\": 251, \"strike_rate\": 117.52988047808766}, {\"batter\": \"DP Conway\", \"runs\": 924, \"balls\": 669, \"strike_rate\": 138.11659192825113}, {\"batter\": \"DPMD Jayawardene\", \"runs\": 1808, \"balls\": 1522, \"strike_rate\": 118.7910643889619}, {\"batter\": \"DR Smith\", \"runs\": 2385, \"balls\": 1803, \"strike_rate\": 132.27953410981698}, {\"batter\": \"DT Christian\", \"runs\": 460, \"balls\": 408, \"strike_rate\": 112.74509803921569}, {\"batter\": \"Dhruv Jurel\", \"runs\": 347, \"balls\": 237, \"strike_rate\": 146.41350210970467}, {\"batter\": \"E Lewis\", \"runs\": 654, \"balls\": 499, \"strike_rate\": 131.06212424849699}, {\"batter\": \"EJG Morgan\", \"runs\": 1406, \"balls\": 1181, \"strike_rate\": 119.05165114309906}, {\"batter\": \"F du Plessis\", \"runs\": 4571, \"balls\": 3435, \"strike_rate\": 133.07132459970887}, {\"batter\": \"G Gambhir\", \"runs\": 4217, \"balls\": 3524, \"strike_rate\": 119.66515323496027}, {\"batter\": \"GC Smith\", \"runs\": 739, \"balls\": 691, \"strike_rate\": 106.9464544138929}, {\"batter\": \"GH Vihari\", \"runs\": 284, \"balls\": 331, \"strike_rate\": 85.80060422960725}, {\"batter\": \"GJ Bailey\", \"runs\": 663, \"balls\": 552, \"strike_rate\": 120.1086956521739}, {\"batter\": \"GJ Maxwell\", \"runs\": 2772, \"balls\": 1842, \"strike_rate\": 150.4885993485342}, {\"batter\": \"Gurkeerat Singh\", \"runs\": 511, \"balls\": 436, \"strike_rate\": 117.20183486238531}, {\"batter\": \"H Klaasen\", \"runs\": 993, \"balls\": 613, \"strike_rate\": 161.99021207177816}, {\"batter\": \"HH Gibbs\", \"runs\": 886, \"balls\": 837, \"strike_rate\": 105.8542413381123}, {\"batter\": \"HH Pandya\", \"runs\": 2534, \"balls\": 1814, \"strike_rate\": 139.69128996692393}, {\"batter\": \"HM Amla\", \"runs\": 577, \"balls\": 418, \"strike_rate\": 138.03827751196172}, {\"batter\": \"HV Patel\", \"runs\": 249, \"balls\": 214, \"strike_rate\": 116.35514018691589}, {\"batter\": \"Harbhajan Singh\", \"runs\": 833, \"balls\": 636, \"strike_rate\": 130.9748427672956}, {\"batter\": \"Harpreet Brar\", \"runs\": 233, \"balls\": 201, \"strike_rate\": 115.92039800995025}, {\"batter\": \"IK Pathan\", \"runs\": 1150, \"balls\": 985, \"strike_rate\": 116.75126903553299}, {\"batter\": \"Ishan Kishan\", \"runs\": 2644, \"balls\": 1991, \"strike_rate\": 132.79758915118032}, {\"batter\": \"J Botha\", \"runs\": 409, \"balls\": 364, \"strike_rate\": 112.36263736263736}, {\"batter\": \"JA Morkel\", \"runs\": 975, \"balls\": 712, \"strike_rate\": 136.93820224719101}, {\"batter\": \"JC Buttler\", \"runs\": 3583, \"balls\": 2519, \"strike_rate\": 142.23898372369987}, {\"batter\": \"JD Ryder\", \"runs\": 604, \"balls\": 466, \"strike_rate\": 129.6137339055794}, {\"batter\": \"JEC Franklin\", \"runs\": 327, \"balls\": 309, \"strike_rate\": 105.8252427184466}, {\"batter\": \"JH Kallis\", \"runs\": 2427, \"balls\": 2291, \"strike_rate\": 105.93627237014405}, {\"batter\": \"JJ Roy\", \"runs\": 614, \"balls\": 460, \"strike_rate\": 133.47826086956522}, {\"batter\": \"JM Bairstow\", \"runs\": 1589, \"balls\": 1132, \"strike_rate\": 140.37102473498234}, {\"batter\": \"JM Sharma\", \"runs\": 730, \"balls\": 501, \"strike_rate\": 145.70858283433134}, {\"batter\": \"JO Holder\", \"runs\": 259, \"balls\": 217, \"strike_rate\": 119.35483870967742}, {\"batter\": \"JP Duminy\", \"runs\": 2029, \"balls\": 1680, \"strike_rate\": 120.77380952380952}, {\"batter\": \"JP Faulkner\", \"runs\": 527, \"balls\": 406, \"strike_rate\": 129.80295566502463}, {\"batter\": \"JR Hopes\", \"runs\": 417, \"balls\": 314, \"strike_rate\": 132.80254777070064}, {\"batter\": \"K Goel\", \"runs\": 218, \"balls\": 239, \"strike_rate\": 91.21338912133892}, {\"batter\": \"K Rabada\", \"runs\": 206, \"balls\": 207, \"strike_rate\": 99.51690821256038}, {\"batter\": \"KA Pollard\", \"runs\": 3437, \"balls\": 2447, \"strike_rate\": 140.45770331017573}, {\"batter\": \"KC Sangakkara\", \"runs\": 1687, \"balls\": 1424, \"strike_rate\": 118.4691011235955}, {\"batter\": \"KD Karthik\", \"runs\": 4843, \"balls\": 3687, \"strike_rate\": 131.35340385136968}, {\"batter\": \"KH Pandya\", \"runs\": 1647, \"balls\": 1287, \"strike_rate\": 127.97202797202797}, {\"batter\": \"KK Nair\", \"runs\": 1496, \"balls\": 1192, \"strike_rate\": 125.503355704698}, {\"batter\": \"KL Rahul\", \"runs\": 4689, \"balls\": 3578, \"strike_rate\": 131.05086640581328}, {\"batter\": \"KM Jadhav\", \"runs\": 1208, \"balls\": 1012, \"strike_rate\": 119.36758893280633}, {\"batter\": \"KP Pietersen\", \"runs\": 1001, \"balls\": 758, \"strike_rate\": 132.05804749340368}, {\"batter\": \"KR Mayers\", \"runs\": 379, \"balls\": 276, \"strike_rate\": 137.31884057971016}, {\"batter\": \"KS Williamson\", \"runs\": 2132, \"balls\": 1734, \"strike_rate\": 122.95271049596307}, {\"batter\": \"KV Sharma\", \"runs\": 351, \"balls\": 306, \"strike_rate\": 114.70588235294117}, {\"batter\": \"Kuldeep Yadav\", \"runs\": 183, \"balls\": 224, \"strike_rate\": 81.69642857142857}, {\"batter\": \"LA Pomersbach\", \"runs\": 302, \"balls\": 251, \"strike_rate\": 120.3187250996016}, {\"batter\": \"LMP Simmons\", \"runs\": 1079, \"balls\": 878, \"strike_rate\": 122.89293849658314}, {\"batter\": \"LR Shukla\", \"runs\": 405, \"balls\": 358, \"strike_rate\": 113.12849162011173}, {\"batter\": \"LRPL Taylor\", \"runs\": 1017, \"balls\": 847, \"strike_rate\": 120.07083825265643}, {\"batter\": \"LS Livingstone\", \"runs\": 939, \"balls\": 609, \"strike_rate\": 154.1871921182266}, {\"batter\": \"Lalit Yadav\", \"runs\": 305, \"balls\": 301, \"strike_rate\": 101.32890365448506}, {\"batter\": \"M Kaif\", \"runs\": 259, \"balls\": 258, \"strike_rate\": 100.3875968992248}, {\"batter\": \"M Manhas\", \"runs\": 514, \"balls\": 486, \"strike_rate\": 105.76131687242798}, {\"batter\": \"M Shahrukh Khan\", \"runs\": 553, \"balls\": 413, \"strike_rate\": 133.89830508474577}, {\"batter\": \"M Vijay\", \"runs\": 2619, \"balls\": 2208, \"strike_rate\": 118.61413043478262}, {\"batter\": \"M Vohra\", \"runs\": 1083, \"balls\": 863, \"strike_rate\": 125.49246813441484}, {\"batter\": \"MA Agarwal\", \"runs\": 2669, \"balls\": 2081, \"strike_rate\": 128.25564632388276}, {\"batter\": \"MC Henriques\", \"runs\": 1000, \"balls\": 801, \"strike_rate\": 124.84394506866417}, {\"batter\": \"MD Mishra\", \"runs\": 237, \"balls\": 213, \"strike_rate\": 111.26760563380283}, {\"batter\": \"MEK Hussey\", \"runs\": 1977, \"balls\": 1648, \"strike_rate\": 119.96359223300972}, {\"batter\": \"MK Lomror\", \"runs\": 527, \"balls\": 389, \"strike_rate\": 135.47557840616966}, {\"batter\": \"MK Pandey\", \"runs\": 3859, \"balls\": 3288, \"strike_rate\": 117.36618004866179}, {\"batter\": \"MK Tiwary\", \"runs\": 1695, \"balls\": 1489, \"strike_rate\": 113.83478844862324}, {\"batter\": \"ML Hayden\", \"runs\": 1107, \"balls\": 839, \"strike_rate\": 131.94278903456495}, {\"batter\": \"MM Ali\", \"runs\": 1162, \"balls\": 849, \"strike_rate\": 136.86690223792698}, {\"batter\": \"MP Stoinis\", \"runs\": 1866, \"balls\": 1366, \"strike_rate\": 136.60322108345534}, {\"batter\": \"MR Marsh\", \"runs\": 665, \"balls\": 532, \"strike_rate\": 125.0}, {\"batter\": \"MS Bisla\", \"runs\": 798, \"balls\": 737, \"strike_rate\": 108.27679782903662}, {\"batter\": \"MS Dhoni\", \"runs\": 5243, \"balls\": 3947, \"strike_rate\": 132.8350646060299}, {\"batter\": \"MV Boucher\", \"runs\": 394, \"balls\": 318, \"strike_rate\": 123.89937106918238}, {\"batter\": \"Mandeep Singh\", \"runs\": 1706, \"balls\": 1418, \"strike_rate\": 120.31029619181946}, {\"batter\": \"N Pooran\", \"runs\": 1769, \"balls\": 1143, \"strike_rate\": 154.7681539807524}, {\"batter\": \"N Rana\", \"runs\": 2636, \"balls\": 2015, \"strike_rate\": 130.81885856079404}, {\"batter\": \"N Wadhera\", \"runs\": 350, \"balls\": 261, \"strike_rate\": 134.09961685823754}, {\"batter\": \"NLTC Perera\", \"runs\": 424, \"balls\": 326, \"strike_rate\": 130.06134969325154}, {\"batter\": \"NV Ojha\", \"runs\": 1554, \"balls\": 1360, \"strike_rate\": 114.26470588235293}, {\"batter\": \"Nithish Kumar Reddy\", \"runs\": 303, \"balls\": 221, \"strike_rate\": 137.10407239819006}, {\"batter\": \"OA Shah\", \"runs\": 506, \"balls\": 405, \"strike_rate\": 124.93827160493827}, {\"batter\": \"P Kumar\", \"runs\": 340, \"balls\": 323, \"strike_rate\": 105.26315789473684}, {\"batter\": \"P Negi\", \"runs\": 365, \"balls\": 301, \"strike_rate\": 121.26245847176081}, {\"batter\": \"P Simran Singh\", \"runs\": 756, \"balls\": 528, \"strike_rate\": 143.1818181818182}, {\"batter\": \"PA Patel\", \"runs\": 2848, \"balls\": 2442, \"strike_rate\": 116.62571662571663}, {\"batter\": \"PBB Rajapaksa\", \"runs\": 277, \"balls\": 201, \"strike_rate\": 137.81094527363186}, {\"batter\": \"PC Valthaty\", \"runs\": 505, \"balls\": 432, \"strike_rate\": 116.89814814814814}, {\"batter\": \"PD Salt\", \"runs\": 653, \"balls\": 385, \"strike_rate\": 169.6103896103896}, {\"batter\": \"PJ Cummins\", \"runs\": 515, \"balls\": 359, \"strike_rate\": 143.4540389972145}, {\"batter\": \"PK Garg\", \"runs\": 273, \"balls\": 247, \"strike_rate\": 110.5263157894737}, {\"batter\": \"PP Chawla\", \"runs\": 624, \"balls\": 580, \"strike_rate\": 107.58620689655172}, {\"batter\": \"PP Shaw\", \"runs\": 1892, \"balls\": 1321, \"strike_rate\": 143.22482967448903}, {\"batter\": \"Q de Kock\", \"runs\": 3160, \"balls\": 2410, \"strike_rate\": 131.12033195020746}, {\"batter\": \"R Ashwin\", \"runs\": 800, \"balls\": 698, \"strike_rate\": 114.61318051575931}, {\"batter\": \"R Bhatia\", \"runs\": 342, \"balls\": 290, \"strike_rate\": 117.9310344827586}, {\"batter\": \"R Dravid\", \"runs\": 2174, \"balls\": 1918, \"strike_rate\": 113.34723670490095}, {\"batter\": \"R Parag\", \"runs\": 1173, \"balls\": 909, \"strike_rate\": 129.04290429042905}, {\"batter\": \"R Powell\", \"runs\": 360, \"balls\": 254, \"strike_rate\": 141.73228346456693}, {\"batter\": \"R Sathish\", \"runs\": 270, \"balls\": 236, \"strike_rate\": 114.40677966101696}, {\"batter\": \"R Tewatia\", \"runs\": 1013, \"balls\": 788, \"strike_rate\": 128.55329949238578}, {\"batter\": \"R Vinay Kumar\", \"runs\": 310, \"balls\": 289, \"strike_rate\": 107.26643598615917}, {\"batter\": \"RA Jadeja\", \"runs\": 2959, \"balls\": 2378, \"strike_rate\": 124.4322960470984}, {\"batter\": \"RA Tripathi\", \"runs\": 2236, \"balls\": 1650, \"strike_rate\": 135.51515151515153}, {\"batter\": \"RD Gaikwad\", \"runs\": 2380, \"balls\": 1781, \"strike_rate\": 133.63279056709715}, {\"batter\": \"RG Sharma\", \"runs\": 6630, \"balls\": 5183, \"strike_rate\": 127.91819409608335}, {\"batter\": \"RK Singh\", \"runs\": 893, \"balls\": 654, \"strike_rate\": 136.54434250764527}, {\"batter\": \"RM Patidar\", \"runs\": 799, \"balls\": 534, \"strike_rate\": 149.625468164794}, {\"batter\": \"RN ten Doeschate\", \"runs\": 326, \"balls\": 238, \"strike_rate\": 136.9747899159664}, {\"batter\": \"RR Pant\", \"runs\": 3297, \"balls\": 2296, \"strike_rate\": 143.59756097560975}, {\"batter\": \"RR Rossouw\", \"runs\": 473, \"balls\": 321, \"strike_rate\": 147.35202492211837}, {\"batter\": \"RS Bopara\", \"runs\": 531, \"balls\": 468, \"strike_rate\": 113.46153846153845}, {\"batter\": \"RV Uthappa\", \"runs\": 4954, \"balls\": 3927, \"strike_rate\": 126.15227909345556}, {\"batter\": \"Rahmanullah Gurbaz\", \"runs\": 289, \"balls\": 228, \"strike_rate\": 126.75438596491229}, {\"batter\": \"Rashid Khan\", \"runs\": 545, \"balls\": 355, \"strike_rate\": 153.52112676056336}, {\"batter\": \"S Badrinath\", \"runs\": 1441, \"balls\": 1245, \"strike_rate\": 115.74297188755021}, {\"batter\": \"S Dhawan\", \"runs\": 6769, \"balls\": 5483, \"strike_rate\": 123.45431333211745}, {\"batter\": \"S Dube\", \"runs\": 1502, \"balls\": 1077, \"strike_rate\": 139.46146703806872}, {\"batter\": \"S Sohal\", \"runs\": 368, \"balls\": 311, \"strike_rate\": 118.32797427652733}, {\"batter\": \"SA Asnodkar\", \"runs\": 423, \"balls\": 352, \"strike_rate\": 120.17045454545455}, {\"batter\": \"SA Yadav\", \"runs\": 3594, \"balls\": 2522, \"strike_rate\": 142.50594766058683}, {\"batter\": \"SC Ganguly\", \"runs\": 1349, \"balls\": 1326, \"strike_rate\": 101.73453996983409}, {\"batter\": \"SE Marsh\", \"runs\": 2489, \"balls\": 1913, \"strike_rate\": 130.10977522216413}, {\"batter\": \"SK Raina\", \"runs\": 5536, \"balls\": 4177, \"strike_rate\": 132.53531242518554}, {\"batter\": \"SK Warne\", \"runs\": 198, \"balls\": 219, \"strike_rate\": 90.41095890410958}, {\"batter\": \"SM Curran\", \"runs\": 883, \"balls\": 673, \"strike_rate\": 131.2035661218425}, {\"batter\": \"SN Khan\", \"runs\": 585, \"balls\": 456, \"strike_rate\": 128.28947368421052}, {\"batter\": \"SN Thakur\", \"runs\": 307, \"balls\": 228, \"strike_rate\": 134.64912280701756}, {\"batter\": \"SO Hetmyer\", \"runs\": 1243, \"balls\": 854, \"strike_rate\": 145.5503512880562}, {\"batter\": \"SP Goswami\", \"runs\": 293, \"balls\": 307, \"strike_rate\": 95.43973941368078}, {\"batter\": \"SP Narine\", \"runs\": 1534, \"balls\": 984, \"strike_rate\": 155.8943089430894}, {\"batter\": \"SPD Smith\", \"runs\": 2495, \"balls\": 1999, \"strike_rate\": 124.81240620310155}, {\"batter\": \"SR Tendulkar\", \"runs\": 2334, \"balls\": 2044, \"strike_rate\": 114.18786692759295}, {\"batter\": \"SR Watson\", \"runs\": 3880, \"balls\": 2892, \"strike_rate\": 134.1632088520055}, {\"batter\": \"SS Iyer\", \"runs\": 3131, \"balls\": 2545, \"strike_rate\": 123.02554027504911}, {\"batter\": \"SS Tiwary\", \"runs\": 1494, \"balls\": 1291, \"strike_rate\": 115.72424477149497}, {\"batter\": \"ST Jayasuriya\", \"runs\": 768, \"balls\": 573, \"strike_rate\": 134.03141361256544}, {\"batter\": \"STR Binny\", \"runs\": 880, \"balls\": 700, \"strike_rate\": 125.71428571428571}, {\"batter\": \"SV Samson\", \"runs\": 4419, \"balls\": 3270, \"strike_rate\": 135.1376146788991}, {\"batter\": \"SW Billings\", \"runs\": 503, \"balls\": 399, \"strike_rate\": 126.06516290726817}, {\"batter\": \"Shahbaz Ahmed\", \"runs\": 536, \"balls\": 467, \"strike_rate\": 114.77516059957173}, {\"batter\": \"Shakib Al Hasan\", \"runs\": 795, \"balls\": 665, \"strike_rate\": 119.54887218045114}, {\"batter\": \"Shashank Singh\", \"runs\": 423, \"balls\": 272, \"strike_rate\": 155.51470588235296}, {\"batter\": \"Shubman Gill\", \"runs\": 3216, \"balls\": 2432, \"strike_rate\": 132.23684210526315}, {\"batter\": \"T Stubbs\", \"runs\": 405, \"balls\": 239, \"strike_rate\": 169.4560669456067}, {\"batter\": \"TH David\", \"runs\": 659, \"balls\": 417, \"strike_rate\": 158.0335731414868}, {\"batter\": \"TL Suman\", \"runs\": 676, \"balls\": 587, \"strike_rate\": 115.1618398637138}, {\"batter\": \"TM Dilshan\", \"runs\": 1153, \"balls\": 1047, \"strike_rate\": 110.12416427889207}, {\"batter\": \"TM Head\", \"runs\": 772, \"balls\": 458, \"strike_rate\": 168.5589519650655}, {\"batter\": \"Tilak Varma\", \"runs\": 1156, \"balls\": 830, \"strike_rate\": 139.27710843373492}, {\"batter\": \"UBT Chand\", \"runs\": 300, \"balls\": 314, \"strike_rate\": 95.54140127388536}, {\"batter\": \"UT Yadav\", \"runs\": 208, \"balls\": 211, \"strike_rate\": 98.5781990521327}, {\"batter\": \"V Kohli\", \"runs\": 8014, \"balls\": 6236, \"strike_rate\": 128.51186658114176}, {\"batter\": \"V Sehwag\", \"runs\": 2728, \"balls\": 1833, \"strike_rate\": 148.82705946535734}, {\"batter\": \"V Shankar\", \"runs\": 1115, \"balls\": 890, \"strike_rate\": 125.2808988764045}, {\"batter\": \"VR Iyer\", \"runs\": 1326, \"balls\": 1000, \"strike_rate\": 132.6}, {\"batter\": \"VVS Laxman\", \"runs\": 282, \"balls\": 271, \"strike_rate\": 104.0590405904059}, {\"batter\": \"WP Saha\", \"runs\": 2934, \"balls\": 2368, \"strike_rate\": 123.90202702702702}, {\"batter\": \"Washington Sundar\", \"runs\": 378, \"balls\": 341, \"strike_rate\": 110.85043988269794}, {\"batter\": \"Y Nagar\", \"runs\": 285, \"balls\": 271, \"strike_rate\": 105.1660516605166}, {\"batter\": \"Y Venugopal Rao\", \"runs\": 985, \"balls\": 865, \"strike_rate\": 113.87283236994219}, {\"batter\": \"YBK Jaiswal\", \"runs\": 1607, \"balls\": 1095, \"strike_rate\": 146.7579908675799}, {\"batter\": \"YK Pathan\", \"runs\": 3222, \"balls\": 2334, \"strike_rate\": 138.04627249357327}, {\"batter\": \"Yuvraj Singh\", \"runs\": 2754, \"balls\": 2207, \"strike_rate\": 124.78477571363842}]}}, {\"mode\": \"vega-lite\"});\n",
       "</script>"
      ],
      "text/plain": [
       "alt.Chart(...)"
      ]
     },
     "execution_count": 30,
     "metadata": {},
     "output_type": "execute_result"
    }
   ],
   "source": [
    "import altair as alt\n",
    "\n",
    "# Prepare batsman stats\n",
    "batsman_stats = deliveries.groupby('batter').agg(\n",
    "    runs=('batsman_runs', 'sum'),\n",
    "    balls=('ball', 'count')\n",
    ").reset_index()\n",
    "\n",
    "batsman_stats['strike_rate'] = (batsman_stats['runs'] / batsman_stats['balls']) * 100\n",
    "batsman_stats = batsman_stats[batsman_stats['balls'] >= 200]  # Only serious players\n",
    "\n",
    "# Bubble Chart\n",
    "bubble_chart = alt.Chart(batsman_stats).mark_circle().encode(\n",
    "    x=alt.X('balls:Q', title='Balls Faced'),\n",
    "    y=alt.Y('strike_rate:Q', title='Strike Rate'),\n",
    "    size=alt.Size('runs:Q', scale=alt.Scale(range=[20, 1000])),\n",
    "    color=alt.Color('batter:N', legend=None),\n",
    "    tooltip=['batter:N', 'runs:Q', 'balls:Q', 'strike_rate:Q']\n",
    ").properties(\n",
    "    title=\"💥 Batsman Strike Rate vs Balls Faced (Bubble Chart)\",\n",
    "    width=700,\n",
    "    height=500\n",
    ").interactive()\n",
    "\n",
    "bubble_chart\n"
   ]
  },
  {
   "cell_type": "code",
   "execution_count": 31,
   "id": "5605b7b5",
   "metadata": {},
   "outputs": [
    {
     "data": {
      "application/vnd.plotly.v1+json": {
       "config": {
        "plotlyServerURL": "https://plot.ly"
       },
       "data": [
        {
         "domain": {
          "x": [
           0,
           1
          ],
          "y": [
           0,
           1
          ]
         },
         "hole": 0.4,
         "hovertemplate": "Dismissal Type=%{label}<br>Count=%{value}<extra></extra>",
         "labels": [
          "caught",
          "bowled",
          "run out",
          "lbw",
          "caught and bowled",
          "stumped",
          "retired hurt",
          "hit wicket",
          "obstructing the field",
          "retired out"
         ],
         "legendgroup": "",
         "name": "",
         "showlegend": true,
         "type": "pie",
         "values": [
          8063,
          2212,
          1114,
          800,
          367,
          358,
          15,
          15,
          3,
          3
         ]
        }
       ],
       "layout": {
        "legend": {
         "tracegroupgap": 0
        },
        "template": {
         "data": {
          "bar": [
           {
            "error_x": {
             "color": "#2a3f5f"
            },
            "error_y": {
             "color": "#2a3f5f"
            },
            "marker": {
             "line": {
              "color": "#E5ECF6",
              "width": 0.5
             },
             "pattern": {
              "fillmode": "overlay",
              "size": 10,
              "solidity": 0.2
             }
            },
            "type": "bar"
           }
          ],
          "barpolar": [
           {
            "marker": {
             "line": {
              "color": "#E5ECF6",
              "width": 0.5
             },
             "pattern": {
              "fillmode": "overlay",
              "size": 10,
              "solidity": 0.2
             }
            },
            "type": "barpolar"
           }
          ],
          "carpet": [
           {
            "aaxis": {
             "endlinecolor": "#2a3f5f",
             "gridcolor": "white",
             "linecolor": "white",
             "minorgridcolor": "white",
             "startlinecolor": "#2a3f5f"
            },
            "baxis": {
             "endlinecolor": "#2a3f5f",
             "gridcolor": "white",
             "linecolor": "white",
             "minorgridcolor": "white",
             "startlinecolor": "#2a3f5f"
            },
            "type": "carpet"
           }
          ],
          "choropleth": [
           {
            "colorbar": {
             "outlinewidth": 0,
             "ticks": ""
            },
            "type": "choropleth"
           }
          ],
          "contour": [
           {
            "colorbar": {
             "outlinewidth": 0,
             "ticks": ""
            },
            "colorscale": [
             [
              0,
              "#0d0887"
             ],
             [
              0.1111111111111111,
              "#46039f"
             ],
             [
              0.2222222222222222,
              "#7201a8"
             ],
             [
              0.3333333333333333,
              "#9c179e"
             ],
             [
              0.4444444444444444,
              "#bd3786"
             ],
             [
              0.5555555555555556,
              "#d8576b"
             ],
             [
              0.6666666666666666,
              "#ed7953"
             ],
             [
              0.7777777777777778,
              "#fb9f3a"
             ],
             [
              0.8888888888888888,
              "#fdca26"
             ],
             [
              1,
              "#f0f921"
             ]
            ],
            "type": "contour"
           }
          ],
          "contourcarpet": [
           {
            "colorbar": {
             "outlinewidth": 0,
             "ticks": ""
            },
            "type": "contourcarpet"
           }
          ],
          "heatmap": [
           {
            "colorbar": {
             "outlinewidth": 0,
             "ticks": ""
            },
            "colorscale": [
             [
              0,
              "#0d0887"
             ],
             [
              0.1111111111111111,
              "#46039f"
             ],
             [
              0.2222222222222222,
              "#7201a8"
             ],
             [
              0.3333333333333333,
              "#9c179e"
             ],
             [
              0.4444444444444444,
              "#bd3786"
             ],
             [
              0.5555555555555556,
              "#d8576b"
             ],
             [
              0.6666666666666666,
              "#ed7953"
             ],
             [
              0.7777777777777778,
              "#fb9f3a"
             ],
             [
              0.8888888888888888,
              "#fdca26"
             ],
             [
              1,
              "#f0f921"
             ]
            ],
            "type": "heatmap"
           }
          ],
          "heatmapgl": [
           {
            "colorbar": {
             "outlinewidth": 0,
             "ticks": ""
            },
            "colorscale": [
             [
              0,
              "#0d0887"
             ],
             [
              0.1111111111111111,
              "#46039f"
             ],
             [
              0.2222222222222222,
              "#7201a8"
             ],
             [
              0.3333333333333333,
              "#9c179e"
             ],
             [
              0.4444444444444444,
              "#bd3786"
             ],
             [
              0.5555555555555556,
              "#d8576b"
             ],
             [
              0.6666666666666666,
              "#ed7953"
             ],
             [
              0.7777777777777778,
              "#fb9f3a"
             ],
             [
              0.8888888888888888,
              "#fdca26"
             ],
             [
              1,
              "#f0f921"
             ]
            ],
            "type": "heatmapgl"
           }
          ],
          "histogram": [
           {
            "marker": {
             "pattern": {
              "fillmode": "overlay",
              "size": 10,
              "solidity": 0.2
             }
            },
            "type": "histogram"
           }
          ],
          "histogram2d": [
           {
            "colorbar": {
             "outlinewidth": 0,
             "ticks": ""
            },
            "colorscale": [
             [
              0,
              "#0d0887"
             ],
             [
              0.1111111111111111,
              "#46039f"
             ],
             [
              0.2222222222222222,
              "#7201a8"
             ],
             [
              0.3333333333333333,
              "#9c179e"
             ],
             [
              0.4444444444444444,
              "#bd3786"
             ],
             [
              0.5555555555555556,
              "#d8576b"
             ],
             [
              0.6666666666666666,
              "#ed7953"
             ],
             [
              0.7777777777777778,
              "#fb9f3a"
             ],
             [
              0.8888888888888888,
              "#fdca26"
             ],
             [
              1,
              "#f0f921"
             ]
            ],
            "type": "histogram2d"
           }
          ],
          "histogram2dcontour": [
           {
            "colorbar": {
             "outlinewidth": 0,
             "ticks": ""
            },
            "colorscale": [
             [
              0,
              "#0d0887"
             ],
             [
              0.1111111111111111,
              "#46039f"
             ],
             [
              0.2222222222222222,
              "#7201a8"
             ],
             [
              0.3333333333333333,
              "#9c179e"
             ],
             [
              0.4444444444444444,
              "#bd3786"
             ],
             [
              0.5555555555555556,
              "#d8576b"
             ],
             [
              0.6666666666666666,
              "#ed7953"
             ],
             [
              0.7777777777777778,
              "#fb9f3a"
             ],
             [
              0.8888888888888888,
              "#fdca26"
             ],
             [
              1,
              "#f0f921"
             ]
            ],
            "type": "histogram2dcontour"
           }
          ],
          "mesh3d": [
           {
            "colorbar": {
             "outlinewidth": 0,
             "ticks": ""
            },
            "type": "mesh3d"
           }
          ],
          "parcoords": [
           {
            "line": {
             "colorbar": {
              "outlinewidth": 0,
              "ticks": ""
             }
            },
            "type": "parcoords"
           }
          ],
          "pie": [
           {
            "automargin": true,
            "type": "pie"
           }
          ],
          "scatter": [
           {
            "fillpattern": {
             "fillmode": "overlay",
             "size": 10,
             "solidity": 0.2
            },
            "type": "scatter"
           }
          ],
          "scatter3d": [
           {
            "line": {
             "colorbar": {
              "outlinewidth": 0,
              "ticks": ""
             }
            },
            "marker": {
             "colorbar": {
              "outlinewidth": 0,
              "ticks": ""
             }
            },
            "type": "scatter3d"
           }
          ],
          "scattercarpet": [
           {
            "marker": {
             "colorbar": {
              "outlinewidth": 0,
              "ticks": ""
             }
            },
            "type": "scattercarpet"
           }
          ],
          "scattergeo": [
           {
            "marker": {
             "colorbar": {
              "outlinewidth": 0,
              "ticks": ""
             }
            },
            "type": "scattergeo"
           }
          ],
          "scattergl": [
           {
            "marker": {
             "colorbar": {
              "outlinewidth": 0,
              "ticks": ""
             }
            },
            "type": "scattergl"
           }
          ],
          "scattermapbox": [
           {
            "marker": {
             "colorbar": {
              "outlinewidth": 0,
              "ticks": ""
             }
            },
            "type": "scattermapbox"
           }
          ],
          "scatterpolar": [
           {
            "marker": {
             "colorbar": {
              "outlinewidth": 0,
              "ticks": ""
             }
            },
            "type": "scatterpolar"
           }
          ],
          "scatterpolargl": [
           {
            "marker": {
             "colorbar": {
              "outlinewidth": 0,
              "ticks": ""
             }
            },
            "type": "scatterpolargl"
           }
          ],
          "scatterternary": [
           {
            "marker": {
             "colorbar": {
              "outlinewidth": 0,
              "ticks": ""
             }
            },
            "type": "scatterternary"
           }
          ],
          "surface": [
           {
            "colorbar": {
             "outlinewidth": 0,
             "ticks": ""
            },
            "colorscale": [
             [
              0,
              "#0d0887"
             ],
             [
              0.1111111111111111,
              "#46039f"
             ],
             [
              0.2222222222222222,
              "#7201a8"
             ],
             [
              0.3333333333333333,
              "#9c179e"
             ],
             [
              0.4444444444444444,
              "#bd3786"
             ],
             [
              0.5555555555555556,
              "#d8576b"
             ],
             [
              0.6666666666666666,
              "#ed7953"
             ],
             [
              0.7777777777777778,
              "#fb9f3a"
             ],
             [
              0.8888888888888888,
              "#fdca26"
             ],
             [
              1,
              "#f0f921"
             ]
            ],
            "type": "surface"
           }
          ],
          "table": [
           {
            "cells": {
             "fill": {
              "color": "#EBF0F8"
             },
             "line": {
              "color": "white"
             }
            },
            "header": {
             "fill": {
              "color": "#C8D4E3"
             },
             "line": {
              "color": "white"
             }
            },
            "type": "table"
           }
          ]
         },
         "layout": {
          "annotationdefaults": {
           "arrowcolor": "#2a3f5f",
           "arrowhead": 0,
           "arrowwidth": 1
          },
          "autotypenumbers": "strict",
          "coloraxis": {
           "colorbar": {
            "outlinewidth": 0,
            "ticks": ""
           }
          },
          "colorscale": {
           "diverging": [
            [
             0,
             "#8e0152"
            ],
            [
             0.1,
             "#c51b7d"
            ],
            [
             0.2,
             "#de77ae"
            ],
            [
             0.3,
             "#f1b6da"
            ],
            [
             0.4,
             "#fde0ef"
            ],
            [
             0.5,
             "#f7f7f7"
            ],
            [
             0.6,
             "#e6f5d0"
            ],
            [
             0.7,
             "#b8e186"
            ],
            [
             0.8,
             "#7fbc41"
            ],
            [
             0.9,
             "#4d9221"
            ],
            [
             1,
             "#276419"
            ]
           ],
           "sequential": [
            [
             0,
             "#0d0887"
            ],
            [
             0.1111111111111111,
             "#46039f"
            ],
            [
             0.2222222222222222,
             "#7201a8"
            ],
            [
             0.3333333333333333,
             "#9c179e"
            ],
            [
             0.4444444444444444,
             "#bd3786"
            ],
            [
             0.5555555555555556,
             "#d8576b"
            ],
            [
             0.6666666666666666,
             "#ed7953"
            ],
            [
             0.7777777777777778,
             "#fb9f3a"
            ],
            [
             0.8888888888888888,
             "#fdca26"
            ],
            [
             1,
             "#f0f921"
            ]
           ],
           "sequentialminus": [
            [
             0,
             "#0d0887"
            ],
            [
             0.1111111111111111,
             "#46039f"
            ],
            [
             0.2222222222222222,
             "#7201a8"
            ],
            [
             0.3333333333333333,
             "#9c179e"
            ],
            [
             0.4444444444444444,
             "#bd3786"
            ],
            [
             0.5555555555555556,
             "#d8576b"
            ],
            [
             0.6666666666666666,
             "#ed7953"
            ],
            [
             0.7777777777777778,
             "#fb9f3a"
            ],
            [
             0.8888888888888888,
             "#fdca26"
            ],
            [
             1,
             "#f0f921"
            ]
           ]
          },
          "colorway": [
           "#636efa",
           "#EF553B",
           "#00cc96",
           "#ab63fa",
           "#FFA15A",
           "#19d3f3",
           "#FF6692",
           "#B6E880",
           "#FF97FF",
           "#FECB52"
          ],
          "font": {
           "color": "#2a3f5f"
          },
          "geo": {
           "bgcolor": "white",
           "lakecolor": "white",
           "landcolor": "#E5ECF6",
           "showlakes": true,
           "showland": true,
           "subunitcolor": "white"
          },
          "hoverlabel": {
           "align": "left"
          },
          "hovermode": "closest",
          "mapbox": {
           "style": "light"
          },
          "paper_bgcolor": "white",
          "plot_bgcolor": "#E5ECF6",
          "polar": {
           "angularaxis": {
            "gridcolor": "white",
            "linecolor": "white",
            "ticks": ""
           },
           "bgcolor": "#E5ECF6",
           "radialaxis": {
            "gridcolor": "white",
            "linecolor": "white",
            "ticks": ""
           }
          },
          "scene": {
           "xaxis": {
            "backgroundcolor": "#E5ECF6",
            "gridcolor": "white",
            "gridwidth": 2,
            "linecolor": "white",
            "showbackground": true,
            "ticks": "",
            "zerolinecolor": "white"
           },
           "yaxis": {
            "backgroundcolor": "#E5ECF6",
            "gridcolor": "white",
            "gridwidth": 2,
            "linecolor": "white",
            "showbackground": true,
            "ticks": "",
            "zerolinecolor": "white"
           },
           "zaxis": {
            "backgroundcolor": "#E5ECF6",
            "gridcolor": "white",
            "gridwidth": 2,
            "linecolor": "white",
            "showbackground": true,
            "ticks": "",
            "zerolinecolor": "white"
           }
          },
          "shapedefaults": {
           "line": {
            "color": "#2a3f5f"
           }
          },
          "ternary": {
           "aaxis": {
            "gridcolor": "white",
            "linecolor": "white",
            "ticks": ""
           },
           "baxis": {
            "gridcolor": "white",
            "linecolor": "white",
            "ticks": ""
           },
           "bgcolor": "#E5ECF6",
           "caxis": {
            "gridcolor": "white",
            "linecolor": "white",
            "ticks": ""
           }
          },
          "title": {
           "x": 0.05
          },
          "xaxis": {
           "automargin": true,
           "gridcolor": "white",
           "linecolor": "white",
           "ticks": "",
           "title": {
            "standoff": 15
           },
           "zerolinecolor": "white",
           "zerolinewidth": 2
          },
          "yaxis": {
           "automargin": true,
           "gridcolor": "white",
           "linecolor": "white",
           "ticks": "",
           "title": {
            "standoff": 15
           },
           "zerolinecolor": "white",
           "zerolinewidth": 2
          }
         }
        },
        "title": {
         "text": "Wicket Dismissal Types in IPL"
        }
       }
      }
     },
     "metadata": {},
     "output_type": "display_data"
    }
   ],
   "source": [
    "import plotly.express as px\n",
    "\n",
    "# Dismissal types\n",
    "dismissals = deliveries['dismissal_kind'].value_counts().reset_index()\n",
    "dismissals.columns = ['Dismissal Type', 'Count']\n",
    "\n",
    "# Pie Chart\n",
    "dismissal_pie = px.pie(\n",
    "    dismissals,\n",
    "    names='Dismissal Type',\n",
    "    values='Count',\n",
    "    title='Wicket Dismissal Types in IPL',\n",
    "    hole=0.4\n",
    ")\n",
    "\n",
    "dismissal_pie.show()\n"
   ]
  },
  {
   "cell_type": "code",
   "execution_count": 32,
   "id": "9d8ba0fc",
   "metadata": {},
   "outputs": [
    {
     "name": "stderr",
     "output_type": "stream",
     "text": [
      "c:\\Users\\VARUN\\anaconda3\\Lib\\site-packages\\altair\\utils\\core.py:395: FutureWarning:\n",
      "\n",
      "the convert_dtype parameter is deprecated and will be removed in a future version.  Do ``ser.astype(object).apply()`` instead if you want ``convert_dtype=False``.\n",
      "\n"
     ]
    },
    {
     "data": {
      "text/html": [
       "\n",
       "<style>\n",
       "  #altair-viz-eb86bf6c633345829c1fa051c6017d73.vega-embed {\n",
       "    width: 100%;\n",
       "    display: flex;\n",
       "  }\n",
       "\n",
       "  #altair-viz-eb86bf6c633345829c1fa051c6017d73.vega-embed details,\n",
       "  #altair-viz-eb86bf6c633345829c1fa051c6017d73.vega-embed details summary {\n",
       "    position: relative;\n",
       "  }\n",
       "</style>\n",
       "<div id=\"altair-viz-eb86bf6c633345829c1fa051c6017d73\"></div>\n",
       "<script type=\"text/javascript\">\n",
       "  var VEGA_DEBUG = (typeof VEGA_DEBUG == \"undefined\") ? {} : VEGA_DEBUG;\n",
       "  (function(spec, embedOpt){\n",
       "    let outputDiv = document.currentScript.previousElementSibling;\n",
       "    if (outputDiv.id !== \"altair-viz-eb86bf6c633345829c1fa051c6017d73\") {\n",
       "      outputDiv = document.getElementById(\"altair-viz-eb86bf6c633345829c1fa051c6017d73\");\n",
       "    }\n",
       "    const paths = {\n",
       "      \"vega\": \"https://cdn.jsdelivr.net/npm/vega@5?noext\",\n",
       "      \"vega-lib\": \"https://cdn.jsdelivr.net/npm/vega-lib?noext\",\n",
       "      \"vega-lite\": \"https://cdn.jsdelivr.net/npm/vega-lite@5.8.0?noext\",\n",
       "      \"vega-embed\": \"https://cdn.jsdelivr.net/npm/vega-embed@6?noext\",\n",
       "    };\n",
       "\n",
       "    function maybeLoadScript(lib, version) {\n",
       "      var key = `${lib.replace(\"-\", \"\")}_version`;\n",
       "      return (VEGA_DEBUG[key] == version) ?\n",
       "        Promise.resolve(paths[lib]) :\n",
       "        new Promise(function(resolve, reject) {\n",
       "          var s = document.createElement('script');\n",
       "          document.getElementsByTagName(\"head\")[0].appendChild(s);\n",
       "          s.async = true;\n",
       "          s.onload = () => {\n",
       "            VEGA_DEBUG[key] = version;\n",
       "            return resolve(paths[lib]);\n",
       "          };\n",
       "          s.onerror = () => reject(`Error loading script: ${paths[lib]}`);\n",
       "          s.src = paths[lib];\n",
       "        });\n",
       "    }\n",
       "\n",
       "    function showError(err) {\n",
       "      outputDiv.innerHTML = `<div class=\"error\" style=\"color:red;\">${err}</div>`;\n",
       "      throw err;\n",
       "    }\n",
       "\n",
       "    function displayChart(vegaEmbed) {\n",
       "      vegaEmbed(outputDiv, spec, embedOpt)\n",
       "        .catch(err => showError(`Javascript Error: ${err.message}<br>This usually means there's a typo in your chart specification. See the javascript console for the full traceback.`));\n",
       "    }\n",
       "\n",
       "    if(typeof define === \"function\" && define.amd) {\n",
       "      requirejs.config({paths});\n",
       "      require([\"vega-embed\"], displayChart, err => showError(`Error loading script: ${err.message}`));\n",
       "    } else {\n",
       "      maybeLoadScript(\"vega\", \"5\")\n",
       "        .then(() => maybeLoadScript(\"vega-lite\", \"5.8.0\"))\n",
       "        .then(() => maybeLoadScript(\"vega-embed\", \"6\"))\n",
       "        .catch(showError)\n",
       "        .then(() => displayChart(vegaEmbed));\n",
       "    }\n",
       "  })({\"config\": {\"view\": {\"continuousWidth\": 300, \"continuousHeight\": 300}}, \"data\": {\"name\": \"data-88d2f45cae019d8a028e4d026794c067\"}, \"mark\": {\"type\": \"circle\"}, \"encoding\": {\"color\": {\"field\": \"bowler\", \"legend\": null, \"type\": \"nominal\"}, \"size\": {\"field\": \"overs\", \"scale\": {\"range\": [20, 800]}, \"type\": \"quantitative\"}, \"tooltip\": [{\"field\": \"bowler\", \"type\": \"nominal\"}, {\"field\": \"economy\", \"type\": \"quantitative\"}, {\"field\": \"wickets\", \"type\": \"quantitative\"}, {\"field\": \"overs\", \"type\": \"quantitative\"}], \"x\": {\"field\": \"economy\", \"title\": \"Economy Rate\", \"type\": \"quantitative\"}, \"y\": {\"field\": \"wickets\", \"title\": \"Wickets Taken\", \"type\": \"quantitative\"}}, \"height\": 500, \"params\": [{\"name\": \"param_2\", \"select\": {\"type\": \"interval\", \"encodings\": [\"x\", \"y\"]}, \"bind\": \"scales\"}], \"title\": \"\\ud83c\\udfaf Bowler Economy Rate vs Wickets Taken (Bubble Chart)\", \"width\": 700, \"$schema\": \"https://vega.github.io/schema/vega-lite/v5.8.0.json\", \"datasets\": {\"data-88d2f45cae019d8a028e4d026794c067\": [{\"bowler\": \"A Kumble\", \"runs_conceded\": 1089, \"balls_bowled\": 983, \"wickets\": 49, \"overs\": 163.83333333333334, \"economy\": 6.646998982706002}, {\"bowler\": \"A Mishra\", \"runs_conceded\": 4193, \"balls_bowled\": 3444, \"wickets\": 183, \"overs\": 574.0, \"economy\": 7.304878048780488}, {\"bowler\": \"A Nehra\", \"runs_conceded\": 2537, \"balls_bowled\": 1974, \"wickets\": 121, \"overs\": 329.0, \"economy\": 7.711246200607903}, {\"bowler\": \"A Nortje\", \"runs_conceded\": 1614, \"balls_bowled\": 1097, \"wickets\": 62, \"overs\": 182.83333333333334, \"economy\": 8.82771194165907}, {\"bowler\": \"AB Agarkar\", \"runs_conceded\": 1174, \"balls_bowled\": 820, \"wickets\": 33, \"overs\": 136.66666666666666, \"economy\": 8.590243902439026}, {\"bowler\": \"AB Dinda\", \"runs_conceded\": 2103, \"balls_bowled\": 1589, \"wickets\": 82, \"overs\": 264.8333333333333, \"economy\": 7.940843297671492}, {\"bowler\": \"AD Mathews\", \"runs_conceded\": 1095, \"balls_bowled\": 807, \"wickets\": 28, \"overs\": 134.5, \"economy\": 8.141263940520446}, {\"bowler\": \"AD Russell\", \"runs_conceded\": 2691, \"balls_bowled\": 1771, \"wickets\": 125, \"overs\": 295.1666666666667, \"economy\": 9.116883116883116}, {\"bowler\": \"AJ Tye\", \"runs_conceded\": 1005, \"balls_bowled\": 714, \"wickets\": 48, \"overs\": 119.0, \"economy\": 8.445378151260504}, {\"bowler\": \"AR Patel\", \"runs_conceded\": 3824, \"balls_bowled\": 3152, \"wickets\": 131, \"overs\": 525.3333333333334, \"economy\": 7.279187817258883}, {\"bowler\": \"Arshdeep Singh\", \"runs_conceded\": 2097, \"balls_bowled\": 1453, \"wickets\": 84, \"overs\": 242.16666666666666, \"economy\": 8.659325533379215}, {\"bowler\": \"Avesh Khan\", \"runs_conceded\": 2010, \"balls_bowled\": 1390, \"wickets\": 81, \"overs\": 231.66666666666666, \"economy\": 8.676258992805757}, {\"bowler\": \"B Kumar\", \"runs_conceded\": 5051, \"balls_bowled\": 4060, \"wickets\": 195, \"overs\": 676.6666666666666, \"economy\": 7.464532019704434}, {\"bowler\": \"B Lee\", \"runs_conceded\": 1126, \"balls_bowled\": 916, \"wickets\": 30, \"overs\": 152.66666666666666, \"economy\": 7.3755458515283845}, {\"bowler\": \"BA Stokes\", \"runs_conceded\": 1023, \"balls_bowled\": 723, \"wickets\": 31, \"overs\": 120.5, \"economy\": 8.489626556016598}, {\"bowler\": \"CH Morris\", \"runs_conceded\": 2377, \"balls_bowled\": 1801, \"wickets\": 107, \"overs\": 300.1666666666667, \"economy\": 7.91893392559689}, {\"bowler\": \"CJ Jordan\", \"runs_conceded\": 1111, \"balls_bowled\": 717, \"wickets\": 36, \"overs\": 119.5, \"economy\": 9.297071129707113}, {\"bowler\": \"CV Varun\", \"runs_conceded\": 2042, \"balls_bowled\": 1624, \"wickets\": 85, \"overs\": 270.6666666666667, \"economy\": 7.544334975369457}, {\"bowler\": \"DE Bollinger\", \"runs_conceded\": 716, \"balls_bowled\": 600, \"wickets\": 43, \"overs\": 100.0, \"economy\": 7.16}, {\"bowler\": \"DJ Bravo\", \"runs_conceded\": 4436, \"balls_bowled\": 3296, \"wickets\": 207, \"overs\": 549.3333333333334, \"economy\": 8.075242718446601}, {\"bowler\": \"DL Chahar\", \"runs_conceded\": 2243, \"balls_bowled\": 1746, \"wickets\": 79, \"overs\": 291.0, \"economy\": 7.707903780068729}, {\"bowler\": \"DL Vettori\", \"runs_conceded\": 894, \"balls_bowled\": 785, \"wickets\": 34, \"overs\": 130.83333333333334, \"economy\": 6.83312101910828}, {\"bowler\": \"DP Nannes\", \"runs_conceded\": 815, \"balls_bowled\": 689, \"wickets\": 38, \"overs\": 114.83333333333333, \"economy\": 7.097242380261249}, {\"bowler\": \"DS Kulkarni\", \"runs_conceded\": 2513, \"balls_bowled\": 1876, \"wickets\": 91, \"overs\": 312.6666666666667, \"economy\": 8.03731343283582}, {\"bowler\": \"DT Christian\", \"runs_conceded\": 1218, \"balls_bowled\": 922, \"wickets\": 40, \"overs\": 153.66666666666666, \"economy\": 7.926247288503254}, {\"bowler\": \"DW Steyn\", \"runs_conceded\": 2583, \"balls_bowled\": 2282, \"wickets\": 105, \"overs\": 380.3333333333333, \"economy\": 6.791411042944786}, {\"bowler\": \"GJ Maxwell\", \"runs_conceded\": 1311, \"balls_bowled\": 965, \"wickets\": 41, \"overs\": 160.83333333333334, \"economy\": 8.151295336787564}, {\"bowler\": \"HH Pandya\", \"runs_conceded\": 2196, \"balls_bowled\": 1485, \"wickets\": 70, \"overs\": 247.5, \"economy\": 8.872727272727273}, {\"bowler\": \"HV Patel\", \"runs_conceded\": 3215, \"balls_bowled\": 2284, \"wickets\": 151, \"overs\": 380.6666666666667, \"economy\": 8.44570928196147}, {\"bowler\": \"Harbhajan Singh\", \"runs_conceded\": 4101, \"balls_bowled\": 3496, \"wickets\": 161, \"overs\": 582.6666666666666, \"economy\": 7.0383295194508015}, {\"bowler\": \"Harpreet Brar\", \"runs_conceded\": 907, \"balls_bowled\": 692, \"wickets\": 25, \"overs\": 115.33333333333333, \"economy\": 7.864161849710983}, {\"bowler\": \"I Sharma\", \"runs_conceded\": 3255, \"balls_bowled\": 2429, \"wickets\": 96, \"overs\": 404.8333333333333, \"economy\": 8.04034582132565}, {\"bowler\": \"IK Pathan\", \"runs_conceded\": 2711, \"balls_bowled\": 2113, \"wickets\": 99, \"overs\": 352.1666666666667, \"economy\": 7.698059630856601}, {\"bowler\": \"Imran Tahir\", \"runs_conceded\": 1729, \"balls_bowled\": 1340, \"wickets\": 86, \"overs\": 223.33333333333334, \"economy\": 7.741791044776119}, {\"bowler\": \"Iqbal Abdulla\", \"runs_conceded\": 1125, \"balls_bowled\": 943, \"wickets\": 45, \"overs\": 157.16666666666666, \"economy\": 7.158006362672323}, {\"bowler\": \"J Botha\", \"runs_conceded\": 818, \"balls_bowled\": 709, \"wickets\": 27, \"overs\": 118.16666666666667, \"economy\": 6.922425952045134}, {\"bowler\": \"JA Morkel\", \"runs_conceded\": 2409, \"balls_bowled\": 1807, \"wickets\": 96, \"overs\": 301.1666666666667, \"economy\": 7.998893193137797}, {\"bowler\": \"JC Archer\", \"runs_conceded\": 1210, \"balls_bowled\": 987, \"wickets\": 49, \"overs\": 164.5, \"economy\": 7.355623100303951}, {\"bowler\": \"JD Unadkat\", \"runs_conceded\": 3219, \"balls_bowled\": 2194, \"wickets\": 109, \"overs\": 365.6666666666667, \"economy\": 8.803099361896079}, {\"bowler\": \"JH Kallis\", \"runs_conceded\": 2348, \"balls_bowled\": 1799, \"wickets\": 74, \"overs\": 299.8333333333333, \"economy\": 7.8310172317954425}, {\"bowler\": \"JJ Bumrah\", \"runs_conceded\": 3840, \"balls_bowled\": 3185, \"wickets\": 182, \"overs\": 530.8333333333334, \"economy\": 7.233908948194662}, {\"bowler\": \"JO Holder\", \"runs_conceded\": 1489, \"balls_bowled\": 1049, \"wickets\": 59, \"overs\": 174.83333333333334, \"economy\": 8.516682554814109}, {\"bowler\": \"JP Duminy\", \"runs_conceded\": 847, \"balls_bowled\": 701, \"wickets\": 23, \"overs\": 116.83333333333333, \"economy\": 7.249643366619116}, {\"bowler\": \"JP Faulkner\", \"runs_conceded\": 1849, \"balls_bowled\": 1287, \"wickets\": 76, \"overs\": 214.5, \"economy\": 8.62004662004662}, {\"bowler\": \"JR Hazlewood\", \"runs_conceded\": 830, \"balls_bowled\": 622, \"wickets\": 36, \"overs\": 103.66666666666667, \"economy\": 8.006430868167202}, {\"bowler\": \"K Rabada\", \"runs_conceded\": 2652, \"balls_bowled\": 1907, \"wickets\": 126, \"overs\": 317.8333333333333, \"economy\": 8.34399580492921}, {\"bowler\": \"KA Pollard\", \"runs_conceded\": 2200, \"balls_bowled\": 1586, \"wickets\": 81, \"overs\": 264.3333333333333, \"economy\": 8.32282471626734}, {\"bowler\": \"KH Pandya\", \"runs_conceded\": 2644, \"balls_bowled\": 2183, \"wickets\": 80, \"overs\": 363.8333333333333, \"economy\": 7.267063673843335}, {\"bowler\": \"KK Ahmed\", \"runs_conceded\": 1918, \"balls_bowled\": 1345, \"wickets\": 78, \"overs\": 224.16666666666666, \"economy\": 8.556133828996282}, {\"bowler\": \"KK Cooper\", \"runs_conceded\": 789, \"balls_bowled\": 600, \"wickets\": 36, \"overs\": 100.0, \"economy\": 7.89}, {\"bowler\": \"KV Sharma\", \"runs_conceded\": 2130, \"balls_bowled\": 1520, \"wickets\": 82, \"overs\": 253.33333333333334, \"economy\": 8.407894736842104}, {\"bowler\": \"Kuldeep Yadav\", \"runs_conceded\": 2413, \"balls_bowled\": 1786, \"wickets\": 90, \"overs\": 297.6666666666667, \"economy\": 8.106382978723405}, {\"bowler\": \"L Balaji\", \"runs_conceded\": 2083, \"balls_bowled\": 1574, \"wickets\": 85, \"overs\": 262.3333333333333, \"economy\": 7.940279542566709}, {\"bowler\": \"LH Ferguson\", \"runs_conceded\": 1451, \"balls_bowled\": 1002, \"wickets\": 57, \"overs\": 167.0, \"economy\": 8.688622754491018}, {\"bowler\": \"M Ashwin\", \"runs_conceded\": 1182, \"balls_bowled\": 898, \"wickets\": 35, \"overs\": 149.66666666666666, \"economy\": 7.8975501113585755}, {\"bowler\": \"M Kartik\", \"runs_conceded\": 1418, \"balls_bowled\": 1182, \"wickets\": 39, \"overs\": 197.0, \"economy\": 7.197969543147208}, {\"bowler\": \"M Markande\", \"runs_conceded\": 1081, \"balls_bowled\": 737, \"wickets\": 37, \"overs\": 122.83333333333333, \"economy\": 8.800542740841248}, {\"bowler\": \"M Morkel\", \"runs_conceded\": 2136, \"balls_bowled\": 1699, \"wickets\": 88, \"overs\": 283.1666666666667, \"economy\": 7.543260741612713}, {\"bowler\": \"M Muralitharan\", \"runs_conceded\": 1765, \"balls_bowled\": 1581, \"wickets\": 67, \"overs\": 263.5, \"economy\": 6.698292220113852}, {\"bowler\": \"M Prasidh Krishna\", \"runs_conceded\": 1741, \"balls_bowled\": 1231, \"wickets\": 54, \"overs\": 205.16666666666666, \"economy\": 8.48578391551584}, {\"bowler\": \"M Theekshana\", \"runs_conceded\": 814, \"balls_bowled\": 631, \"wickets\": 25, \"overs\": 105.16666666666667, \"economy\": 7.740095087163232}, {\"bowler\": \"MA Starc\", \"runs_conceded\": 1175, \"balls_bowled\": 879, \"wickets\": 59, \"overs\": 146.5, \"economy\": 8.020477815699659}, {\"bowler\": \"MC Henriques\", \"runs_conceded\": 1302, \"balls_bowled\": 979, \"wickets\": 46, \"overs\": 163.16666666666666, \"economy\": 7.9795709908069465}, {\"bowler\": \"MG Johnson\", \"runs_conceded\": 1740, \"balls_bowled\": 1301, \"wickets\": 66, \"overs\": 216.83333333333334, \"economy\": 8.024596464258263}, {\"bowler\": \"MJ McClenaghan\", \"runs_conceded\": 1839, \"balls_bowled\": 1346, \"wickets\": 75, \"overs\": 224.33333333333334, \"economy\": 8.197622585438335}, {\"bowler\": \"MM Ali\", \"runs_conceded\": 900, \"balls_bowled\": 770, \"wickets\": 40, \"overs\": 128.33333333333334, \"economy\": 7.012987012987012}, {\"bowler\": \"MM Patel\", \"runs_conceded\": 1733, \"balls_bowled\": 1382, \"wickets\": 82, \"overs\": 230.33333333333334, \"economy\": 7.523878437047757}, {\"bowler\": \"MM Sharma\", \"runs_conceded\": 3278, \"balls_bowled\": 2308, \"wickets\": 147, \"overs\": 384.6666666666667, \"economy\": 8.52166377816291}, {\"bowler\": \"MP Stoinis\", \"runs_conceded\": 1300, \"balls_bowled\": 831, \"wickets\": 45, \"overs\": 138.5, \"economy\": 9.386281588447654}, {\"bowler\": \"MS Gony\", \"runs_conceded\": 1317, \"balls_bowled\": 925, \"wickets\": 39, \"overs\": 154.16666666666666, \"economy\": 8.542702702702703}, {\"bowler\": \"Mohammed Shami\", \"runs_conceded\": 3486, \"balls_bowled\": 2521, \"wickets\": 144, \"overs\": 420.1666666666667, \"economy\": 8.296707655692185}, {\"bowler\": \"Mohammed Siraj\", \"runs_conceded\": 2894, \"balls_bowled\": 2081, \"wickets\": 96, \"overs\": 346.8333333333333, \"economy\": 8.34406535319558}, {\"bowler\": \"Mustafizur Rahman\", \"runs_conceded\": 1792, \"balls_bowled\": 1353, \"wickets\": 70, \"overs\": 225.5, \"economy\": 7.946784922394679}, {\"bowler\": \"NLTC Perera\", \"runs_conceded\": 1031, \"balls_bowled\": 715, \"wickets\": 37, \"overs\": 119.16666666666667, \"economy\": 8.651748251748252}, {\"bowler\": \"NM Coulter-Nile\", \"runs_conceded\": 1125, \"balls_bowled\": 892, \"wickets\": 52, \"overs\": 148.66666666666666, \"economy\": 7.567264573991032}, {\"bowler\": \"Navdeep Saini\", \"runs_conceded\": 968, \"balls_bowled\": 682, \"wickets\": 26, \"overs\": 113.66666666666667, \"economy\": 8.516129032258064}, {\"bowler\": \"P Awana\", \"runs_conceded\": 1046, \"balls_bowled\": 774, \"wickets\": 43, \"overs\": 129.0, \"economy\": 8.108527131782946}, {\"bowler\": \"P Kumar\", \"runs_conceded\": 3342, \"balls_bowled\": 2637, \"wickets\": 102, \"overs\": 439.5, \"economy\": 7.604095563139932}, {\"bowler\": \"P Negi\", \"runs_conceded\": 954, \"balls_bowled\": 733, \"wickets\": 38, \"overs\": 122.16666666666667, \"economy\": 7.80900409276944}, {\"bowler\": \"PJ Cummins\", \"runs_conceded\": 1976, \"balls_bowled\": 1370, \"wickets\": 66, \"overs\": 228.33333333333334, \"economy\": 8.654014598540146}, {\"bowler\": \"PJ Sangwan\", \"runs_conceded\": 1267, \"balls_bowled\": 905, \"wickets\": 44, \"overs\": 150.83333333333334, \"economy\": 8.4}, {\"bowler\": \"PP Chawla\", \"runs_conceded\": 5179, \"balls_bowled\": 3895, \"wickets\": 201, \"overs\": 649.1666666666666, \"economy\": 7.977920410783056}, {\"bowler\": \"PP Ojha\", \"runs_conceded\": 2399, \"balls_bowled\": 1945, \"wickets\": 99, \"overs\": 324.1666666666667, \"economy\": 7.40051413881748}, {\"bowler\": \"PV Tambe\", \"runs_conceded\": 866, \"balls_bowled\": 674, \"wickets\": 28, \"overs\": 112.33333333333333, \"economy\": 7.70919881305638}, {\"bowler\": \"R Ashwin\", \"runs_conceded\": 5435, \"balls_bowled\": 4679, \"wickets\": 198, \"overs\": 779.8333333333334, \"economy\": 6.969437914084206}, {\"bowler\": \"R Bhatia\", \"runs_conceded\": 2059, \"balls_bowled\": 1661, \"wickets\": 82, \"overs\": 276.8333333333333, \"economy\": 7.437688139674895}, {\"bowler\": \"R Dhawan\", \"runs_conceded\": 922, \"balls_bowled\": 693, \"wickets\": 27, \"overs\": 115.5, \"economy\": 7.982683982683983}, {\"bowler\": \"R Sharma\", \"runs_conceded\": 1100, \"balls_bowled\": 935, \"wickets\": 42, \"overs\": 155.83333333333334, \"economy\": 7.0588235294117645}, {\"bowler\": \"R Tewatia\", \"runs_conceded\": 1117, \"balls_bowled\": 866, \"wickets\": 36, \"overs\": 144.33333333333334, \"economy\": 7.739030023094688}, {\"bowler\": \"R Vinay Kumar\", \"runs_conceded\": 3041, \"balls_bowled\": 2186, \"wickets\": 127, \"overs\": 364.3333333333333, \"economy\": 8.346752058554438}, {\"bowler\": \"RA Jadeja\", \"runs_conceded\": 4917, \"balls_bowled\": 3895, \"wickets\": 169, \"overs\": 649.1666666666666, \"economy\": 7.5743260590500645}, {\"bowler\": \"RD Chahar\", \"runs_conceded\": 2165, \"balls_bowled\": 1697, \"wickets\": 76, \"overs\": 282.8333333333333, \"economy\": 7.65468473777254}, {\"bowler\": \"RJ Harris\", \"runs_conceded\": 1085, \"balls_bowled\": 865, \"wickets\": 47, \"overs\": 144.16666666666666, \"economy\": 7.526011560693642}, {\"bowler\": \"RP Singh\", \"runs_conceded\": 2417, \"balls_bowled\": 1874, \"wickets\": 100, \"overs\": 312.3333333333333, \"economy\": 7.738527214514408}, {\"bowler\": \"Rashid Khan\", \"runs_conceded\": 3340, \"balls_bowled\": 2901, \"wickets\": 157, \"overs\": 483.5, \"economy\": 6.907962771458118}, {\"bowler\": \"Ravi Bishnoi\", \"runs_conceded\": 1861, \"balls_bowled\": 1460, \"wickets\": 68, \"overs\": 243.33333333333334, \"economy\": 7.647945205479452}, {\"bowler\": \"S Aravind\", \"runs_conceded\": 1057, \"balls_bowled\": 788, \"wickets\": 48, \"overs\": 131.33333333333334, \"economy\": 8.048223350253807}, {\"bowler\": \"S Gopal\", \"runs_conceded\": 1358, \"balls_bowled\": 1000, \"wickets\": 53, \"overs\": 166.66666666666666, \"economy\": 8.148}, {\"bowler\": \"S Kaul\", \"runs_conceded\": 1772, \"balls_bowled\": 1238, \"wickets\": 63, \"overs\": 206.33333333333334, \"economy\": 8.588045234248789}, {\"bowler\": \"S Nadeem\", \"runs_conceded\": 1800, \"balls_bowled\": 1444, \"wickets\": 54, \"overs\": 240.66666666666666, \"economy\": 7.4792243767313025}, {\"bowler\": \"S Sreesanth\", \"runs_conceded\": 1221, \"balls_bowled\": 947, \"wickets\": 43, \"overs\": 157.83333333333334, \"economy\": 7.736008447729672}, {\"bowler\": \"SB Jakati\", \"runs_conceded\": 1474, \"balls_bowled\": 1101, \"wickets\": 50, \"overs\": 183.5, \"economy\": 8.032697547683924}, {\"bowler\": \"SK Raina\", \"runs_conceded\": 1139, \"balls_bowled\": 930, \"wickets\": 30, \"overs\": 155.0, \"economy\": 7.348387096774194}, {\"bowler\": \"SK Trivedi\", \"runs_conceded\": 1944, \"balls_bowled\": 1557, \"wickets\": 73, \"overs\": 259.5, \"economy\": 7.491329479768786}, {\"bowler\": \"SK Warne\", \"runs_conceded\": 1465, \"balls_bowled\": 1223, \"wickets\": 60, \"overs\": 203.83333333333334, \"economy\": 7.187244480784955}, {\"bowler\": \"SL Malinga\", \"runs_conceded\": 3486, \"balls_bowled\": 2974, \"wickets\": 188, \"overs\": 495.6666666666667, \"economy\": 7.032952252858103}, {\"bowler\": \"SM Curran\", \"runs_conceded\": 1924, \"balls_bowled\": 1234, \"wickets\": 62, \"overs\": 205.66666666666666, \"economy\": 9.354943273905997}, {\"bowler\": \"SN Thakur\", \"runs_conceded\": 2908, \"balls_bowled\": 1979, \"wickets\": 100, \"overs\": 329.8333333333333, \"economy\": 8.816574027286508}, {\"bowler\": \"SP Narine\", \"runs_conceded\": 4672, \"balls_bowled\": 4146, \"wickets\": 200, \"overs\": 691.0, \"economy\": 6.7612156295224315}, {\"bowler\": \"SR Watson\", \"runs_conceded\": 2742, \"balls_bowled\": 2137, \"wickets\": 107, \"overs\": 356.1666666666667, \"economy\": 7.698642957416939}, {\"bowler\": \"STR Binny\", \"runs_conceded\": 763, \"balls_bowled\": 611, \"wickets\": 28, \"overs\": 101.83333333333333, \"economy\": 7.4926350245499185}, {\"bowler\": \"Sandeep Sharma\", \"runs_conceded\": 3758, \"balls_bowled\": 2925, \"wickets\": 153, \"overs\": 487.5, \"economy\": 7.708717948717949}, {\"bowler\": \"Shakib Al Hasan\", \"runs_conceded\": 1864, \"balls_bowled\": 1515, \"wickets\": 71, \"overs\": 252.5, \"economy\": 7.3821782178217825}, {\"bowler\": \"Shivam Mavi\", \"runs_conceded\": 958, \"balls_bowled\": 687, \"wickets\": 33, \"overs\": 114.5, \"economy\": 8.366812227074236}, {\"bowler\": \"T Natarajan\", \"runs_conceded\": 2001, \"balls_bowled\": 1401, \"wickets\": 76, \"overs\": 233.5, \"economy\": 8.569593147751606}, {\"bowler\": \"TA Boult\", \"runs_conceded\": 3286, \"balls_bowled\": 2428, \"wickets\": 128, \"overs\": 404.6666666666667, \"economy\": 8.120263591433279}, {\"bowler\": \"TG Southee\", \"runs_conceded\": 1774, \"balls_bowled\": 1262, \"wickets\": 57, \"overs\": 210.33333333333334, \"economy\": 8.434231378763867}, {\"bowler\": \"TU Deshpande\", \"runs_conceded\": 1275, \"balls_bowled\": 831, \"wickets\": 46, \"overs\": 138.5, \"economy\": 9.205776173285198}, {\"bowler\": \"UT Yadav\", \"runs_conceded\": 4442, \"balls_bowled\": 3190, \"wickets\": 163, \"overs\": 531.6666666666666, \"economy\": 8.354858934169279}, {\"bowler\": \"VR Aaron\", \"runs_conceded\": 1527, \"balls_bowled\": 1065, \"wickets\": 46, \"overs\": 177.5, \"economy\": 8.60281690140845}, {\"bowler\": \"WD Parnell\", \"runs_conceded\": 968, \"balls_bowled\": 758, \"wickets\": 40, \"overs\": 126.33333333333333, \"economy\": 7.6622691292875995}, {\"bowler\": \"Washington Sundar\", \"runs_conceded\": 1335, \"balls_bowled\": 1064, \"wickets\": 39, \"overs\": 177.33333333333334, \"economy\": 7.5281954887218046}, {\"bowler\": \"YK Pathan\", \"runs_conceded\": 1443, \"balls_bowled\": 1184, \"wickets\": 46, \"overs\": 197.33333333333334, \"economy\": 7.3125}, {\"bowler\": \"YS Chahal\", \"runs_conceded\": 4681, \"balls_bowled\": 3628, \"wickets\": 213, \"overs\": 604.6666666666666, \"economy\": 7.741455347298787}, {\"bowler\": \"Yash Dayal\", \"runs_conceded\": 933, \"balls_bowled\": 615, \"wickets\": 31, \"overs\": 102.5, \"economy\": 9.102439024390243}, {\"bowler\": \"Yuvraj Singh\", \"runs_conceded\": 1091, \"balls_bowled\": 882, \"wickets\": 39, \"overs\": 147.0, \"economy\": 7.421768707482993}, {\"bowler\": \"Z Khan\", \"runs_conceded\": 2860, \"balls_bowled\": 2276, \"wickets\": 119, \"overs\": 379.3333333333333, \"economy\": 7.539543057996485}]}}, {\"mode\": \"vega-lite\"});\n",
       "</script>"
      ],
      "text/plain": [
       "alt.Chart(...)"
      ]
     },
     "execution_count": 32,
     "metadata": {},
     "output_type": "execute_result"
    }
   ],
   "source": [
    "# Prepare bowler stats\n",
    "bowler_stats = deliveries.groupby('bowler').agg(\n",
    "    runs_conceded=('total_runs', 'sum'),\n",
    "    balls_bowled=('ball', 'count'),\n",
    "    wickets=('player_dismissed', 'count')\n",
    ").reset_index()\n",
    "\n",
    "bowler_stats['overs'] = bowler_stats['balls_bowled'] / 6\n",
    "bowler_stats['economy'] = bowler_stats['runs_conceded'] / bowler_stats['overs']\n",
    "\n",
    "# Filter serious bowlers\n",
    "bowler_stats = bowler_stats[bowler_stats['overs'] >= 100]\n",
    "\n",
    "# Bubble Chart\n",
    "bowler_bubble = alt.Chart(bowler_stats).mark_circle().encode(\n",
    "    x=alt.X('economy:Q', title='Economy Rate'),\n",
    "    y=alt.Y('wickets:Q', title='Wickets Taken'),\n",
    "    size=alt.Size('overs:Q', scale=alt.Scale(range=[20, 800])),\n",
    "    color=alt.Color('bowler:N', legend=None),\n",
    "    tooltip=['bowler:N', 'economy:Q', 'wickets:Q', 'overs:Q']\n",
    ").properties(\n",
    "    title=\"🎯 Bowler Economy Rate vs Wickets Taken (Bubble Chart)\",\n",
    "    width=700,\n",
    "    height=500\n",
    ").interactive()\n",
    "\n",
    "bowler_bubble\n"
   ]
  },
  {
   "cell_type": "code",
   "execution_count": 33,
   "id": "bec26deb",
   "metadata": {},
   "outputs": [
    {
     "name": "stderr",
     "output_type": "stream",
     "text": [
      "c:\\Users\\VARUN\\anaconda3\\Lib\\site-packages\\altair\\utils\\core.py:395: FutureWarning:\n",
      "\n",
      "the convert_dtype parameter is deprecated and will be removed in a future version.  Do ``ser.astype(object).apply()`` instead if you want ``convert_dtype=False``.\n",
      "\n"
     ]
    },
    {
     "data": {
      "text/html": [
       "\n",
       "<style>\n",
       "  #altair-viz-8fed1d75d3654947af3a4579c5b79c3f.vega-embed {\n",
       "    width: 100%;\n",
       "    display: flex;\n",
       "  }\n",
       "\n",
       "  #altair-viz-8fed1d75d3654947af3a4579c5b79c3f.vega-embed details,\n",
       "  #altair-viz-8fed1d75d3654947af3a4579c5b79c3f.vega-embed details summary {\n",
       "    position: relative;\n",
       "  }\n",
       "</style>\n",
       "<div id=\"altair-viz-8fed1d75d3654947af3a4579c5b79c3f\"></div>\n",
       "<script type=\"text/javascript\">\n",
       "  var VEGA_DEBUG = (typeof VEGA_DEBUG == \"undefined\") ? {} : VEGA_DEBUG;\n",
       "  (function(spec, embedOpt){\n",
       "    let outputDiv = document.currentScript.previousElementSibling;\n",
       "    if (outputDiv.id !== \"altair-viz-8fed1d75d3654947af3a4579c5b79c3f\") {\n",
       "      outputDiv = document.getElementById(\"altair-viz-8fed1d75d3654947af3a4579c5b79c3f\");\n",
       "    }\n",
       "    const paths = {\n",
       "      \"vega\": \"https://cdn.jsdelivr.net/npm/vega@5?noext\",\n",
       "      \"vega-lib\": \"https://cdn.jsdelivr.net/npm/vega-lib?noext\",\n",
       "      \"vega-lite\": \"https://cdn.jsdelivr.net/npm/vega-lite@5.8.0?noext\",\n",
       "      \"vega-embed\": \"https://cdn.jsdelivr.net/npm/vega-embed@6?noext\",\n",
       "    };\n",
       "\n",
       "    function maybeLoadScript(lib, version) {\n",
       "      var key = `${lib.replace(\"-\", \"\")}_version`;\n",
       "      return (VEGA_DEBUG[key] == version) ?\n",
       "        Promise.resolve(paths[lib]) :\n",
       "        new Promise(function(resolve, reject) {\n",
       "          var s = document.createElement('script');\n",
       "          document.getElementsByTagName(\"head\")[0].appendChild(s);\n",
       "          s.async = true;\n",
       "          s.onload = () => {\n",
       "            VEGA_DEBUG[key] = version;\n",
       "            return resolve(paths[lib]);\n",
       "          };\n",
       "          s.onerror = () => reject(`Error loading script: ${paths[lib]}`);\n",
       "          s.src = paths[lib];\n",
       "        });\n",
       "    }\n",
       "\n",
       "    function showError(err) {\n",
       "      outputDiv.innerHTML = `<div class=\"error\" style=\"color:red;\">${err}</div>`;\n",
       "      throw err;\n",
       "    }\n",
       "\n",
       "    function displayChart(vegaEmbed) {\n",
       "      vegaEmbed(outputDiv, spec, embedOpt)\n",
       "        .catch(err => showError(`Javascript Error: ${err.message}<br>This usually means there's a typo in your chart specification. See the javascript console for the full traceback.`));\n",
       "    }\n",
       "\n",
       "    if(typeof define === \"function\" && define.amd) {\n",
       "      requirejs.config({paths});\n",
       "      require([\"vega-embed\"], displayChart, err => showError(`Error loading script: ${err.message}`));\n",
       "    } else {\n",
       "      maybeLoadScript(\"vega\", \"5\")\n",
       "        .then(() => maybeLoadScript(\"vega-lite\", \"5.8.0\"))\n",
       "        .then(() => maybeLoadScript(\"vega-embed\", \"6\"))\n",
       "        .catch(showError)\n",
       "        .then(() => displayChart(vegaEmbed));\n",
       "    }\n",
       "  })({\"config\": {\"view\": {\"continuousWidth\": 300, \"continuousHeight\": 300, \"stroke\": null}, \"axis\": {\"grid\": true, \"gridOpacity\": 0.3}}, \"data\": {\"name\": \"data-4d5dbec84c1e721c7e2aac9f0c308ed9\"}, \"mark\": {\"type\": \"circle\", \"opacity\": 0.7}, \"encoding\": {\"color\": {\"field\": \"wickets_group\", \"scale\": {\"scheme\": \"set2\"}, \"title\": \"Wickets Range\", \"type\": \"nominal\"}, \"size\": {\"field\": \"overs\", \"scale\": {\"range\": [30, 1000]}, \"type\": \"quantitative\"}, \"tooltip\": [{\"field\": \"bowler\", \"title\": \"Bowler\", \"type\": \"nominal\"}, {\"field\": \"wickets\", \"title\": \"Total Wickets\", \"type\": \"quantitative\"}, {\"field\": \"economy\", \"title\": \"Economy\", \"type\": \"quantitative\"}, {\"field\": \"overs\", \"title\": \"Overs Bowled\", \"type\": \"quantitative\"}], \"x\": {\"field\": \"economy\", \"scale\": {\"zero\": false}, \"title\": \"Economy Rate\", \"type\": \"quantitative\"}, \"y\": {\"field\": \"wickets\", \"title\": \"Wickets Taken\", \"type\": \"quantitative\"}}, \"height\": 600, \"params\": [{\"name\": \"param_3\", \"select\": {\"type\": \"interval\", \"encodings\": [\"x\", \"y\"]}, \"bind\": \"scales\"}], \"title\": \"\\ud83c\\udfaf Creative Bubble Chart: Bowler Economy Rate vs Wickets Taken\", \"width\": 800, \"$schema\": \"https://vega.github.io/schema/vega-lite/v5.8.0.json\", \"datasets\": {\"data-4d5dbec84c1e721c7e2aac9f0c308ed9\": [{\"bowler\": \"A Kumble\", \"runs_conceded\": 1089, \"balls_bowled\": 983, \"wickets\": 49, \"overs\": 163.83333333333334, \"economy\": 6.646998982706002, \"wickets_group\": \"0-50\"}, {\"bowler\": \"A Mishra\", \"runs_conceded\": 4193, \"balls_bowled\": 3444, \"wickets\": 183, \"overs\": 574.0, \"economy\": 7.304878048780488, \"wickets_group\": \"151-200\"}, {\"bowler\": \"A Nehra\", \"runs_conceded\": 2537, \"balls_bowled\": 1974, \"wickets\": 121, \"overs\": 329.0, \"economy\": 7.711246200607903, \"wickets_group\": \"101-150\"}, {\"bowler\": \"A Nortje\", \"runs_conceded\": 1614, \"balls_bowled\": 1097, \"wickets\": 62, \"overs\": 182.83333333333334, \"economy\": 8.82771194165907, \"wickets_group\": \"51-100\"}, {\"bowler\": \"AB Agarkar\", \"runs_conceded\": 1174, \"balls_bowled\": 820, \"wickets\": 33, \"overs\": 136.66666666666666, \"economy\": 8.590243902439026, \"wickets_group\": \"0-50\"}, {\"bowler\": \"AB Dinda\", \"runs_conceded\": 2103, \"balls_bowled\": 1589, \"wickets\": 82, \"overs\": 264.8333333333333, \"economy\": 7.940843297671492, \"wickets_group\": \"51-100\"}, {\"bowler\": \"AD Mathews\", \"runs_conceded\": 1095, \"balls_bowled\": 807, \"wickets\": 28, \"overs\": 134.5, \"economy\": 8.141263940520446, \"wickets_group\": \"0-50\"}, {\"bowler\": \"AD Russell\", \"runs_conceded\": 2691, \"balls_bowled\": 1771, \"wickets\": 125, \"overs\": 295.1666666666667, \"economy\": 9.116883116883116, \"wickets_group\": \"101-150\"}, {\"bowler\": \"AJ Tye\", \"runs_conceded\": 1005, \"balls_bowled\": 714, \"wickets\": 48, \"overs\": 119.0, \"economy\": 8.445378151260504, \"wickets_group\": \"0-50\"}, {\"bowler\": \"AR Patel\", \"runs_conceded\": 3824, \"balls_bowled\": 3152, \"wickets\": 131, \"overs\": 525.3333333333334, \"economy\": 7.279187817258883, \"wickets_group\": \"101-150\"}, {\"bowler\": \"Arshdeep Singh\", \"runs_conceded\": 2097, \"balls_bowled\": 1453, \"wickets\": 84, \"overs\": 242.16666666666666, \"economy\": 8.659325533379215, \"wickets_group\": \"51-100\"}, {\"bowler\": \"Avesh Khan\", \"runs_conceded\": 2010, \"balls_bowled\": 1390, \"wickets\": 81, \"overs\": 231.66666666666666, \"economy\": 8.676258992805757, \"wickets_group\": \"51-100\"}, {\"bowler\": \"B Kumar\", \"runs_conceded\": 5051, \"balls_bowled\": 4060, \"wickets\": 195, \"overs\": 676.6666666666666, \"economy\": 7.464532019704434, \"wickets_group\": \"151-200\"}, {\"bowler\": \"B Lee\", \"runs_conceded\": 1126, \"balls_bowled\": 916, \"wickets\": 30, \"overs\": 152.66666666666666, \"economy\": 7.3755458515283845, \"wickets_group\": \"0-50\"}, {\"bowler\": \"BA Stokes\", \"runs_conceded\": 1023, \"balls_bowled\": 723, \"wickets\": 31, \"overs\": 120.5, \"economy\": 8.489626556016598, \"wickets_group\": \"0-50\"}, {\"bowler\": \"CH Morris\", \"runs_conceded\": 2377, \"balls_bowled\": 1801, \"wickets\": 107, \"overs\": 300.1666666666667, \"economy\": 7.91893392559689, \"wickets_group\": \"101-150\"}, {\"bowler\": \"CJ Jordan\", \"runs_conceded\": 1111, \"balls_bowled\": 717, \"wickets\": 36, \"overs\": 119.5, \"economy\": 9.297071129707113, \"wickets_group\": \"0-50\"}, {\"bowler\": \"CV Varun\", \"runs_conceded\": 2042, \"balls_bowled\": 1624, \"wickets\": 85, \"overs\": 270.6666666666667, \"economy\": 7.544334975369457, \"wickets_group\": \"51-100\"}, {\"bowler\": \"DE Bollinger\", \"runs_conceded\": 716, \"balls_bowled\": 600, \"wickets\": 43, \"overs\": 100.0, \"economy\": 7.16, \"wickets_group\": \"0-50\"}, {\"bowler\": \"DJ Bravo\", \"runs_conceded\": 4436, \"balls_bowled\": 3296, \"wickets\": 207, \"overs\": 549.3333333333334, \"economy\": 8.075242718446601, \"wickets_group\": null}, {\"bowler\": \"DL Chahar\", \"runs_conceded\": 2243, \"balls_bowled\": 1746, \"wickets\": 79, \"overs\": 291.0, \"economy\": 7.707903780068729, \"wickets_group\": \"51-100\"}, {\"bowler\": \"DL Vettori\", \"runs_conceded\": 894, \"balls_bowled\": 785, \"wickets\": 34, \"overs\": 130.83333333333334, \"economy\": 6.83312101910828, \"wickets_group\": \"0-50\"}, {\"bowler\": \"DP Nannes\", \"runs_conceded\": 815, \"balls_bowled\": 689, \"wickets\": 38, \"overs\": 114.83333333333333, \"economy\": 7.097242380261249, \"wickets_group\": \"0-50\"}, {\"bowler\": \"DS Kulkarni\", \"runs_conceded\": 2513, \"balls_bowled\": 1876, \"wickets\": 91, \"overs\": 312.6666666666667, \"economy\": 8.03731343283582, \"wickets_group\": \"51-100\"}, {\"bowler\": \"DT Christian\", \"runs_conceded\": 1218, \"balls_bowled\": 922, \"wickets\": 40, \"overs\": 153.66666666666666, \"economy\": 7.926247288503254, \"wickets_group\": \"0-50\"}, {\"bowler\": \"DW Steyn\", \"runs_conceded\": 2583, \"balls_bowled\": 2282, \"wickets\": 105, \"overs\": 380.3333333333333, \"economy\": 6.791411042944786, \"wickets_group\": \"101-150\"}, {\"bowler\": \"GJ Maxwell\", \"runs_conceded\": 1311, \"balls_bowled\": 965, \"wickets\": 41, \"overs\": 160.83333333333334, \"economy\": 8.151295336787564, \"wickets_group\": \"0-50\"}, {\"bowler\": \"HH Pandya\", \"runs_conceded\": 2196, \"balls_bowled\": 1485, \"wickets\": 70, \"overs\": 247.5, \"economy\": 8.872727272727273, \"wickets_group\": \"51-100\"}, {\"bowler\": \"HV Patel\", \"runs_conceded\": 3215, \"balls_bowled\": 2284, \"wickets\": 151, \"overs\": 380.6666666666667, \"economy\": 8.44570928196147, \"wickets_group\": \"151-200\"}, {\"bowler\": \"Harbhajan Singh\", \"runs_conceded\": 4101, \"balls_bowled\": 3496, \"wickets\": 161, \"overs\": 582.6666666666666, \"economy\": 7.0383295194508015, \"wickets_group\": \"151-200\"}, {\"bowler\": \"Harpreet Brar\", \"runs_conceded\": 907, \"balls_bowled\": 692, \"wickets\": 25, \"overs\": 115.33333333333333, \"economy\": 7.864161849710983, \"wickets_group\": \"0-50\"}, {\"bowler\": \"I Sharma\", \"runs_conceded\": 3255, \"balls_bowled\": 2429, \"wickets\": 96, \"overs\": 404.8333333333333, \"economy\": 8.04034582132565, \"wickets_group\": \"51-100\"}, {\"bowler\": \"IK Pathan\", \"runs_conceded\": 2711, \"balls_bowled\": 2113, \"wickets\": 99, \"overs\": 352.1666666666667, \"economy\": 7.698059630856601, \"wickets_group\": \"51-100\"}, {\"bowler\": \"Imran Tahir\", \"runs_conceded\": 1729, \"balls_bowled\": 1340, \"wickets\": 86, \"overs\": 223.33333333333334, \"economy\": 7.741791044776119, \"wickets_group\": \"51-100\"}, {\"bowler\": \"Iqbal Abdulla\", \"runs_conceded\": 1125, \"balls_bowled\": 943, \"wickets\": 45, \"overs\": 157.16666666666666, \"economy\": 7.158006362672323, \"wickets_group\": \"0-50\"}, {\"bowler\": \"J Botha\", \"runs_conceded\": 818, \"balls_bowled\": 709, \"wickets\": 27, \"overs\": 118.16666666666667, \"economy\": 6.922425952045134, \"wickets_group\": \"0-50\"}, {\"bowler\": \"JA Morkel\", \"runs_conceded\": 2409, \"balls_bowled\": 1807, \"wickets\": 96, \"overs\": 301.1666666666667, \"economy\": 7.998893193137797, \"wickets_group\": \"51-100\"}, {\"bowler\": \"JC Archer\", \"runs_conceded\": 1210, \"balls_bowled\": 987, \"wickets\": 49, \"overs\": 164.5, \"economy\": 7.355623100303951, \"wickets_group\": \"0-50\"}, {\"bowler\": \"JD Unadkat\", \"runs_conceded\": 3219, \"balls_bowled\": 2194, \"wickets\": 109, \"overs\": 365.6666666666667, \"economy\": 8.803099361896079, \"wickets_group\": \"101-150\"}, {\"bowler\": \"JH Kallis\", \"runs_conceded\": 2348, \"balls_bowled\": 1799, \"wickets\": 74, \"overs\": 299.8333333333333, \"economy\": 7.8310172317954425, \"wickets_group\": \"51-100\"}, {\"bowler\": \"JJ Bumrah\", \"runs_conceded\": 3840, \"balls_bowled\": 3185, \"wickets\": 182, \"overs\": 530.8333333333334, \"economy\": 7.233908948194662, \"wickets_group\": \"151-200\"}, {\"bowler\": \"JO Holder\", \"runs_conceded\": 1489, \"balls_bowled\": 1049, \"wickets\": 59, \"overs\": 174.83333333333334, \"economy\": 8.516682554814109, \"wickets_group\": \"51-100\"}, {\"bowler\": \"JP Duminy\", \"runs_conceded\": 847, \"balls_bowled\": 701, \"wickets\": 23, \"overs\": 116.83333333333333, \"economy\": 7.249643366619116, \"wickets_group\": \"0-50\"}, {\"bowler\": \"JP Faulkner\", \"runs_conceded\": 1849, \"balls_bowled\": 1287, \"wickets\": 76, \"overs\": 214.5, \"economy\": 8.62004662004662, \"wickets_group\": \"51-100\"}, {\"bowler\": \"JR Hazlewood\", \"runs_conceded\": 830, \"balls_bowled\": 622, \"wickets\": 36, \"overs\": 103.66666666666667, \"economy\": 8.006430868167202, \"wickets_group\": \"0-50\"}, {\"bowler\": \"K Rabada\", \"runs_conceded\": 2652, \"balls_bowled\": 1907, \"wickets\": 126, \"overs\": 317.8333333333333, \"economy\": 8.34399580492921, \"wickets_group\": \"101-150\"}, {\"bowler\": \"KA Pollard\", \"runs_conceded\": 2200, \"balls_bowled\": 1586, \"wickets\": 81, \"overs\": 264.3333333333333, \"economy\": 8.32282471626734, \"wickets_group\": \"51-100\"}, {\"bowler\": \"KH Pandya\", \"runs_conceded\": 2644, \"balls_bowled\": 2183, \"wickets\": 80, \"overs\": 363.8333333333333, \"economy\": 7.267063673843335, \"wickets_group\": \"51-100\"}, {\"bowler\": \"KK Ahmed\", \"runs_conceded\": 1918, \"balls_bowled\": 1345, \"wickets\": 78, \"overs\": 224.16666666666666, \"economy\": 8.556133828996282, \"wickets_group\": \"51-100\"}, {\"bowler\": \"KK Cooper\", \"runs_conceded\": 789, \"balls_bowled\": 600, \"wickets\": 36, \"overs\": 100.0, \"economy\": 7.89, \"wickets_group\": \"0-50\"}, {\"bowler\": \"KV Sharma\", \"runs_conceded\": 2130, \"balls_bowled\": 1520, \"wickets\": 82, \"overs\": 253.33333333333334, \"economy\": 8.407894736842104, \"wickets_group\": \"51-100\"}, {\"bowler\": \"Kuldeep Yadav\", \"runs_conceded\": 2413, \"balls_bowled\": 1786, \"wickets\": 90, \"overs\": 297.6666666666667, \"economy\": 8.106382978723405, \"wickets_group\": \"51-100\"}, {\"bowler\": \"L Balaji\", \"runs_conceded\": 2083, \"balls_bowled\": 1574, \"wickets\": 85, \"overs\": 262.3333333333333, \"economy\": 7.940279542566709, \"wickets_group\": \"51-100\"}, {\"bowler\": \"LH Ferguson\", \"runs_conceded\": 1451, \"balls_bowled\": 1002, \"wickets\": 57, \"overs\": 167.0, \"economy\": 8.688622754491018, \"wickets_group\": \"51-100\"}, {\"bowler\": \"M Ashwin\", \"runs_conceded\": 1182, \"balls_bowled\": 898, \"wickets\": 35, \"overs\": 149.66666666666666, \"economy\": 7.8975501113585755, \"wickets_group\": \"0-50\"}, {\"bowler\": \"M Kartik\", \"runs_conceded\": 1418, \"balls_bowled\": 1182, \"wickets\": 39, \"overs\": 197.0, \"economy\": 7.197969543147208, \"wickets_group\": \"0-50\"}, {\"bowler\": \"M Markande\", \"runs_conceded\": 1081, \"balls_bowled\": 737, \"wickets\": 37, \"overs\": 122.83333333333333, \"economy\": 8.800542740841248, \"wickets_group\": \"0-50\"}, {\"bowler\": \"M Morkel\", \"runs_conceded\": 2136, \"balls_bowled\": 1699, \"wickets\": 88, \"overs\": 283.1666666666667, \"economy\": 7.543260741612713, \"wickets_group\": \"51-100\"}, {\"bowler\": \"M Muralitharan\", \"runs_conceded\": 1765, \"balls_bowled\": 1581, \"wickets\": 67, \"overs\": 263.5, \"economy\": 6.698292220113852, \"wickets_group\": \"51-100\"}, {\"bowler\": \"M Prasidh Krishna\", \"runs_conceded\": 1741, \"balls_bowled\": 1231, \"wickets\": 54, \"overs\": 205.16666666666666, \"economy\": 8.48578391551584, \"wickets_group\": \"51-100\"}, {\"bowler\": \"M Theekshana\", \"runs_conceded\": 814, \"balls_bowled\": 631, \"wickets\": 25, \"overs\": 105.16666666666667, \"economy\": 7.740095087163232, \"wickets_group\": \"0-50\"}, {\"bowler\": \"MA Starc\", \"runs_conceded\": 1175, \"balls_bowled\": 879, \"wickets\": 59, \"overs\": 146.5, \"economy\": 8.020477815699659, \"wickets_group\": \"51-100\"}, {\"bowler\": \"MC Henriques\", \"runs_conceded\": 1302, \"balls_bowled\": 979, \"wickets\": 46, \"overs\": 163.16666666666666, \"economy\": 7.9795709908069465, \"wickets_group\": \"0-50\"}, {\"bowler\": \"MG Johnson\", \"runs_conceded\": 1740, \"balls_bowled\": 1301, \"wickets\": 66, \"overs\": 216.83333333333334, \"economy\": 8.024596464258263, \"wickets_group\": \"51-100\"}, {\"bowler\": \"MJ McClenaghan\", \"runs_conceded\": 1839, \"balls_bowled\": 1346, \"wickets\": 75, \"overs\": 224.33333333333334, \"economy\": 8.197622585438335, \"wickets_group\": \"51-100\"}, {\"bowler\": \"MM Ali\", \"runs_conceded\": 900, \"balls_bowled\": 770, \"wickets\": 40, \"overs\": 128.33333333333334, \"economy\": 7.012987012987012, \"wickets_group\": \"0-50\"}, {\"bowler\": \"MM Patel\", \"runs_conceded\": 1733, \"balls_bowled\": 1382, \"wickets\": 82, \"overs\": 230.33333333333334, \"economy\": 7.523878437047757, \"wickets_group\": \"51-100\"}, {\"bowler\": \"MM Sharma\", \"runs_conceded\": 3278, \"balls_bowled\": 2308, \"wickets\": 147, \"overs\": 384.6666666666667, \"economy\": 8.52166377816291, \"wickets_group\": \"101-150\"}, {\"bowler\": \"MP Stoinis\", \"runs_conceded\": 1300, \"balls_bowled\": 831, \"wickets\": 45, \"overs\": 138.5, \"economy\": 9.386281588447654, \"wickets_group\": \"0-50\"}, {\"bowler\": \"MS Gony\", \"runs_conceded\": 1317, \"balls_bowled\": 925, \"wickets\": 39, \"overs\": 154.16666666666666, \"economy\": 8.542702702702703, \"wickets_group\": \"0-50\"}, {\"bowler\": \"Mohammed Shami\", \"runs_conceded\": 3486, \"balls_bowled\": 2521, \"wickets\": 144, \"overs\": 420.1666666666667, \"economy\": 8.296707655692185, \"wickets_group\": \"101-150\"}, {\"bowler\": \"Mohammed Siraj\", \"runs_conceded\": 2894, \"balls_bowled\": 2081, \"wickets\": 96, \"overs\": 346.8333333333333, \"economy\": 8.34406535319558, \"wickets_group\": \"51-100\"}, {\"bowler\": \"Mustafizur Rahman\", \"runs_conceded\": 1792, \"balls_bowled\": 1353, \"wickets\": 70, \"overs\": 225.5, \"economy\": 7.946784922394679, \"wickets_group\": \"51-100\"}, {\"bowler\": \"NLTC Perera\", \"runs_conceded\": 1031, \"balls_bowled\": 715, \"wickets\": 37, \"overs\": 119.16666666666667, \"economy\": 8.651748251748252, \"wickets_group\": \"0-50\"}, {\"bowler\": \"NM Coulter-Nile\", \"runs_conceded\": 1125, \"balls_bowled\": 892, \"wickets\": 52, \"overs\": 148.66666666666666, \"economy\": 7.567264573991032, \"wickets_group\": \"51-100\"}, {\"bowler\": \"Navdeep Saini\", \"runs_conceded\": 968, \"balls_bowled\": 682, \"wickets\": 26, \"overs\": 113.66666666666667, \"economy\": 8.516129032258064, \"wickets_group\": \"0-50\"}, {\"bowler\": \"P Awana\", \"runs_conceded\": 1046, \"balls_bowled\": 774, \"wickets\": 43, \"overs\": 129.0, \"economy\": 8.108527131782946, \"wickets_group\": \"0-50\"}, {\"bowler\": \"P Kumar\", \"runs_conceded\": 3342, \"balls_bowled\": 2637, \"wickets\": 102, \"overs\": 439.5, \"economy\": 7.604095563139932, \"wickets_group\": \"101-150\"}, {\"bowler\": \"P Negi\", \"runs_conceded\": 954, \"balls_bowled\": 733, \"wickets\": 38, \"overs\": 122.16666666666667, \"economy\": 7.80900409276944, \"wickets_group\": \"0-50\"}, {\"bowler\": \"PJ Cummins\", \"runs_conceded\": 1976, \"balls_bowled\": 1370, \"wickets\": 66, \"overs\": 228.33333333333334, \"economy\": 8.654014598540146, \"wickets_group\": \"51-100\"}, {\"bowler\": \"PJ Sangwan\", \"runs_conceded\": 1267, \"balls_bowled\": 905, \"wickets\": 44, \"overs\": 150.83333333333334, \"economy\": 8.4, \"wickets_group\": \"0-50\"}, {\"bowler\": \"PP Chawla\", \"runs_conceded\": 5179, \"balls_bowled\": 3895, \"wickets\": 201, \"overs\": 649.1666666666666, \"economy\": 7.977920410783056, \"wickets_group\": null}, {\"bowler\": \"PP Ojha\", \"runs_conceded\": 2399, \"balls_bowled\": 1945, \"wickets\": 99, \"overs\": 324.1666666666667, \"economy\": 7.40051413881748, \"wickets_group\": \"51-100\"}, {\"bowler\": \"PV Tambe\", \"runs_conceded\": 866, \"balls_bowled\": 674, \"wickets\": 28, \"overs\": 112.33333333333333, \"economy\": 7.70919881305638, \"wickets_group\": \"0-50\"}, {\"bowler\": \"R Ashwin\", \"runs_conceded\": 5435, \"balls_bowled\": 4679, \"wickets\": 198, \"overs\": 779.8333333333334, \"economy\": 6.969437914084206, \"wickets_group\": \"151-200\"}, {\"bowler\": \"R Bhatia\", \"runs_conceded\": 2059, \"balls_bowled\": 1661, \"wickets\": 82, \"overs\": 276.8333333333333, \"economy\": 7.437688139674895, \"wickets_group\": \"51-100\"}, {\"bowler\": \"R Dhawan\", \"runs_conceded\": 922, \"balls_bowled\": 693, \"wickets\": 27, \"overs\": 115.5, \"economy\": 7.982683982683983, \"wickets_group\": \"0-50\"}, {\"bowler\": \"R Sharma\", \"runs_conceded\": 1100, \"balls_bowled\": 935, \"wickets\": 42, \"overs\": 155.83333333333334, \"economy\": 7.0588235294117645, \"wickets_group\": \"0-50\"}, {\"bowler\": \"R Tewatia\", \"runs_conceded\": 1117, \"balls_bowled\": 866, \"wickets\": 36, \"overs\": 144.33333333333334, \"economy\": 7.739030023094688, \"wickets_group\": \"0-50\"}, {\"bowler\": \"R Vinay Kumar\", \"runs_conceded\": 3041, \"balls_bowled\": 2186, \"wickets\": 127, \"overs\": 364.3333333333333, \"economy\": 8.346752058554438, \"wickets_group\": \"101-150\"}, {\"bowler\": \"RA Jadeja\", \"runs_conceded\": 4917, \"balls_bowled\": 3895, \"wickets\": 169, \"overs\": 649.1666666666666, \"economy\": 7.5743260590500645, \"wickets_group\": \"151-200\"}, {\"bowler\": \"RD Chahar\", \"runs_conceded\": 2165, \"balls_bowled\": 1697, \"wickets\": 76, \"overs\": 282.8333333333333, \"economy\": 7.65468473777254, \"wickets_group\": \"51-100\"}, {\"bowler\": \"RJ Harris\", \"runs_conceded\": 1085, \"balls_bowled\": 865, \"wickets\": 47, \"overs\": 144.16666666666666, \"economy\": 7.526011560693642, \"wickets_group\": \"0-50\"}, {\"bowler\": \"RP Singh\", \"runs_conceded\": 2417, \"balls_bowled\": 1874, \"wickets\": 100, \"overs\": 312.3333333333333, \"economy\": 7.738527214514408, \"wickets_group\": \"51-100\"}, {\"bowler\": \"Rashid Khan\", \"runs_conceded\": 3340, \"balls_bowled\": 2901, \"wickets\": 157, \"overs\": 483.5, \"economy\": 6.907962771458118, \"wickets_group\": \"151-200\"}, {\"bowler\": \"Ravi Bishnoi\", \"runs_conceded\": 1861, \"balls_bowled\": 1460, \"wickets\": 68, \"overs\": 243.33333333333334, \"economy\": 7.647945205479452, \"wickets_group\": \"51-100\"}, {\"bowler\": \"S Aravind\", \"runs_conceded\": 1057, \"balls_bowled\": 788, \"wickets\": 48, \"overs\": 131.33333333333334, \"economy\": 8.048223350253807, \"wickets_group\": \"0-50\"}, {\"bowler\": \"S Gopal\", \"runs_conceded\": 1358, \"balls_bowled\": 1000, \"wickets\": 53, \"overs\": 166.66666666666666, \"economy\": 8.148, \"wickets_group\": \"51-100\"}, {\"bowler\": \"S Kaul\", \"runs_conceded\": 1772, \"balls_bowled\": 1238, \"wickets\": 63, \"overs\": 206.33333333333334, \"economy\": 8.588045234248789, \"wickets_group\": \"51-100\"}, {\"bowler\": \"S Nadeem\", \"runs_conceded\": 1800, \"balls_bowled\": 1444, \"wickets\": 54, \"overs\": 240.66666666666666, \"economy\": 7.4792243767313025, \"wickets_group\": \"51-100\"}, {\"bowler\": \"S Sreesanth\", \"runs_conceded\": 1221, \"balls_bowled\": 947, \"wickets\": 43, \"overs\": 157.83333333333334, \"economy\": 7.736008447729672, \"wickets_group\": \"0-50\"}, {\"bowler\": \"SB Jakati\", \"runs_conceded\": 1474, \"balls_bowled\": 1101, \"wickets\": 50, \"overs\": 183.5, \"economy\": 8.032697547683924, \"wickets_group\": \"0-50\"}, {\"bowler\": \"SK Raina\", \"runs_conceded\": 1139, \"balls_bowled\": 930, \"wickets\": 30, \"overs\": 155.0, \"economy\": 7.348387096774194, \"wickets_group\": \"0-50\"}, {\"bowler\": \"SK Trivedi\", \"runs_conceded\": 1944, \"balls_bowled\": 1557, \"wickets\": 73, \"overs\": 259.5, \"economy\": 7.491329479768786, \"wickets_group\": \"51-100\"}, {\"bowler\": \"SK Warne\", \"runs_conceded\": 1465, \"balls_bowled\": 1223, \"wickets\": 60, \"overs\": 203.83333333333334, \"economy\": 7.187244480784955, \"wickets_group\": \"51-100\"}, {\"bowler\": \"SL Malinga\", \"runs_conceded\": 3486, \"balls_bowled\": 2974, \"wickets\": 188, \"overs\": 495.6666666666667, \"economy\": 7.032952252858103, \"wickets_group\": \"151-200\"}, {\"bowler\": \"SM Curran\", \"runs_conceded\": 1924, \"balls_bowled\": 1234, \"wickets\": 62, \"overs\": 205.66666666666666, \"economy\": 9.354943273905997, \"wickets_group\": \"51-100\"}, {\"bowler\": \"SN Thakur\", \"runs_conceded\": 2908, \"balls_bowled\": 1979, \"wickets\": 100, \"overs\": 329.8333333333333, \"economy\": 8.816574027286508, \"wickets_group\": \"51-100\"}, {\"bowler\": \"SP Narine\", \"runs_conceded\": 4672, \"balls_bowled\": 4146, \"wickets\": 200, \"overs\": 691.0, \"economy\": 6.7612156295224315, \"wickets_group\": \"151-200\"}, {\"bowler\": \"SR Watson\", \"runs_conceded\": 2742, \"balls_bowled\": 2137, \"wickets\": 107, \"overs\": 356.1666666666667, \"economy\": 7.698642957416939, \"wickets_group\": \"101-150\"}, {\"bowler\": \"STR Binny\", \"runs_conceded\": 763, \"balls_bowled\": 611, \"wickets\": 28, \"overs\": 101.83333333333333, \"economy\": 7.4926350245499185, \"wickets_group\": \"0-50\"}, {\"bowler\": \"Sandeep Sharma\", \"runs_conceded\": 3758, \"balls_bowled\": 2925, \"wickets\": 153, \"overs\": 487.5, \"economy\": 7.708717948717949, \"wickets_group\": \"151-200\"}, {\"bowler\": \"Shakib Al Hasan\", \"runs_conceded\": 1864, \"balls_bowled\": 1515, \"wickets\": 71, \"overs\": 252.5, \"economy\": 7.3821782178217825, \"wickets_group\": \"51-100\"}, {\"bowler\": \"Shivam Mavi\", \"runs_conceded\": 958, \"balls_bowled\": 687, \"wickets\": 33, \"overs\": 114.5, \"economy\": 8.366812227074236, \"wickets_group\": \"0-50\"}, {\"bowler\": \"T Natarajan\", \"runs_conceded\": 2001, \"balls_bowled\": 1401, \"wickets\": 76, \"overs\": 233.5, \"economy\": 8.569593147751606, \"wickets_group\": \"51-100\"}, {\"bowler\": \"TA Boult\", \"runs_conceded\": 3286, \"balls_bowled\": 2428, \"wickets\": 128, \"overs\": 404.6666666666667, \"economy\": 8.120263591433279, \"wickets_group\": \"101-150\"}, {\"bowler\": \"TG Southee\", \"runs_conceded\": 1774, \"balls_bowled\": 1262, \"wickets\": 57, \"overs\": 210.33333333333334, \"economy\": 8.434231378763867, \"wickets_group\": \"51-100\"}, {\"bowler\": \"TU Deshpande\", \"runs_conceded\": 1275, \"balls_bowled\": 831, \"wickets\": 46, \"overs\": 138.5, \"economy\": 9.205776173285198, \"wickets_group\": \"0-50\"}, {\"bowler\": \"UT Yadav\", \"runs_conceded\": 4442, \"balls_bowled\": 3190, \"wickets\": 163, \"overs\": 531.6666666666666, \"economy\": 8.354858934169279, \"wickets_group\": \"151-200\"}, {\"bowler\": \"VR Aaron\", \"runs_conceded\": 1527, \"balls_bowled\": 1065, \"wickets\": 46, \"overs\": 177.5, \"economy\": 8.60281690140845, \"wickets_group\": \"0-50\"}, {\"bowler\": \"WD Parnell\", \"runs_conceded\": 968, \"balls_bowled\": 758, \"wickets\": 40, \"overs\": 126.33333333333333, \"economy\": 7.6622691292875995, \"wickets_group\": \"0-50\"}, {\"bowler\": \"Washington Sundar\", \"runs_conceded\": 1335, \"balls_bowled\": 1064, \"wickets\": 39, \"overs\": 177.33333333333334, \"economy\": 7.5281954887218046, \"wickets_group\": \"0-50\"}, {\"bowler\": \"YK Pathan\", \"runs_conceded\": 1443, \"balls_bowled\": 1184, \"wickets\": 46, \"overs\": 197.33333333333334, \"economy\": 7.3125, \"wickets_group\": \"0-50\"}, {\"bowler\": \"YS Chahal\", \"runs_conceded\": 4681, \"balls_bowled\": 3628, \"wickets\": 213, \"overs\": 604.6666666666666, \"economy\": 7.741455347298787, \"wickets_group\": null}, {\"bowler\": \"Yash Dayal\", \"runs_conceded\": 933, \"balls_bowled\": 615, \"wickets\": 31, \"overs\": 102.5, \"economy\": 9.102439024390243, \"wickets_group\": \"0-50\"}, {\"bowler\": \"Yuvraj Singh\", \"runs_conceded\": 1091, \"balls_bowled\": 882, \"wickets\": 39, \"overs\": 147.0, \"economy\": 7.421768707482993, \"wickets_group\": \"0-50\"}, {\"bowler\": \"Z Khan\", \"runs_conceded\": 2860, \"balls_bowled\": 2276, \"wickets\": 119, \"overs\": 379.3333333333333, \"economy\": 7.539543057996485, \"wickets_group\": \"101-150\"}]}}, {\"mode\": \"vega-lite\"});\n",
       "</script>"
      ],
      "text/plain": [
       "alt.Chart(...)"
      ]
     },
     "execution_count": 33,
     "metadata": {},
     "output_type": "execute_result"
    }
   ],
   "source": [
    "bowler_stats = deliveries.groupby('bowler').agg(\n",
    "    runs_conceded=('total_runs', 'sum'),\n",
    "    balls_bowled=('ball', 'count'),\n",
    "    wickets=('player_dismissed', 'count')\n",
    ").reset_index()\n",
    "\n",
    "bowler_stats['overs'] = bowler_stats['balls_bowled'] / 6\n",
    "bowler_stats['economy'] = bowler_stats['runs_conceded'] / bowler_stats['overs']\n",
    "\n",
    "# Filter serious bowlers\n",
    "bowler_stats = bowler_stats[bowler_stats['overs'] >= 100]\n",
    "\n",
    "# Create Wickets Groups\n",
    "bowler_stats['wickets_group'] = pd.cut(bowler_stats['wickets'], \n",
    "                                       bins=[0, 50, 100, 150, 200],\n",
    "                                       labels=['0-50', '51-100', '101-150', '151-200'])\n",
    "\n",
    "# Bubble Chart\n",
    "bubble_chart = alt.Chart(bowler_stats).mark_circle(opacity=0.7).encode(\n",
    "    x=alt.X('economy:Q', title='Economy Rate', scale=alt.Scale(zero=False)),\n",
    "    y=alt.Y('wickets:Q', title='Wickets Taken'),\n",
    "    size=alt.Size('overs:Q', scale=alt.Scale(range=[30, 1000])), # Bigger bubbles\n",
    "    color=alt.Color('wickets_group:N', \n",
    "                    scale=alt.Scale(scheme='set2'), \n",
    "                    title='Wickets Range'),\n",
    "    tooltip=[\n",
    "        alt.Tooltip('bowler:N', title='Bowler'),\n",
    "        alt.Tooltip('wickets:Q', title='Total Wickets'),\n",
    "        alt.Tooltip('economy:Q', title='Economy'),\n",
    "        alt.Tooltip('overs:Q', title='Overs Bowled')\n",
    "    ]\n",
    ").properties(\n",
    "    title=\"🎯 Creative Bubble Chart: Bowler Economy Rate vs Wickets Taken\",\n",
    "    width=800,\n",
    "    height=600\n",
    ").configure_axis(\n",
    "    grid=True,\n",
    "    gridOpacity=0.3\n",
    ").configure_view(\n",
    "    stroke=None\n",
    ").interactive()\n",
    "\n",
    "bubble_chart"
   ]
  },
  {
   "cell_type": "markdown",
   "id": "aaca2ded",
   "metadata": {},
   "source": [
    "## Both CSV combined"
   ]
  },
  {
   "cell_type": "code",
   "execution_count": 35,
   "id": "8007e9eb",
   "metadata": {},
   "outputs": [
    {
     "name": "stderr",
     "output_type": "stream",
     "text": [
      "<>:8: SyntaxWarning:\n",
      "\n",
      "invalid escape sequence '\\d'\n",
      "\n",
      "<>:8: SyntaxWarning:\n",
      "\n",
      "invalid escape sequence '\\d'\n",
      "\n",
      "C:\\Users\\VARUN\\AppData\\Local\\Temp\\ipykernel_29264\\625194524.py:8: SyntaxWarning:\n",
      "\n",
      "invalid escape sequence '\\d'\n",
      "\n"
     ]
    },
    {
     "name": "stdout",
     "output_type": "stream",
     "text": [
      "(260920, 37)\n",
      "Index(['match_id', 'inning', 'batting_team', 'bowling_team', 'over', 'ball',\n",
      "       'batter', 'bowler', 'non_striker', 'batsman_runs', 'extra_runs',\n",
      "       'total_runs', 'extras_type', 'is_wicket', 'player_dismissed',\n",
      "       'dismissal_kind', 'fielder', 'id', 'season', 'city', 'date',\n",
      "       'match_type', 'player_of_match', 'venue', 'team1', 'team2',\n",
      "       'toss_winner', 'toss_decision', 'winner', 'result', 'result_margin',\n",
      "       'target_runs', 'target_overs', 'super_over', 'method', 'umpire1',\n",
      "       'umpire2'],\n",
      "      dtype='object')\n"
     ]
    }
   ],
   "source": [
    "import pandas as pd\n",
    "\n",
    "# Load both datasets\n",
    "matches = pd.read_csv('archive (1)/matches.csv')\n",
    "deliveries = pd.read_csv('archive (1)/deliveries.csv')\n",
    "\n",
    "# Clean 'season' to integer if needed\n",
    "matches['season'] = matches['season'].str.extract('(\\d+)')\n",
    "matches['season'] = matches['season'].astype(int)\n",
    "\n",
    "# Merge on match_id\n",
    "combined_df = deliveries.merge(matches, how='left', left_on='match_id', right_on='id')\n",
    "\n",
    "# Let's see final combined structure\n",
    "print(combined_df.shape)\n",
    "print(combined_df.columns)\n"
   ]
  },
  {
   "cell_type": "code",
   "execution_count": 37,
   "id": "d94268f9",
   "metadata": {},
   "outputs": [
    {
     "name": "stderr",
     "output_type": "stream",
     "text": [
      "c:\\Users\\VARUN\\anaconda3\\Lib\\site-packages\\altair\\utils\\core.py:395: FutureWarning:\n",
      "\n",
      "the convert_dtype parameter is deprecated and will be removed in a future version.  Do ``ser.astype(object).apply()`` instead if you want ``convert_dtype=False``.\n",
      "\n"
     ]
    },
    {
     "data": {
      "text/html": [
       "\n",
       "<style>\n",
       "  #altair-viz-ebda28d1d0dd483eaa76db6f662a8952.vega-embed {\n",
       "    width: 100%;\n",
       "    display: flex;\n",
       "  }\n",
       "\n",
       "  #altair-viz-ebda28d1d0dd483eaa76db6f662a8952.vega-embed details,\n",
       "  #altair-viz-ebda28d1d0dd483eaa76db6f662a8952.vega-embed details summary {\n",
       "    position: relative;\n",
       "  }\n",
       "</style>\n",
       "<div id=\"altair-viz-ebda28d1d0dd483eaa76db6f662a8952\"></div>\n",
       "<script type=\"text/javascript\">\n",
       "  var VEGA_DEBUG = (typeof VEGA_DEBUG == \"undefined\") ? {} : VEGA_DEBUG;\n",
       "  (function(spec, embedOpt){\n",
       "    let outputDiv = document.currentScript.previousElementSibling;\n",
       "    if (outputDiv.id !== \"altair-viz-ebda28d1d0dd483eaa76db6f662a8952\") {\n",
       "      outputDiv = document.getElementById(\"altair-viz-ebda28d1d0dd483eaa76db6f662a8952\");\n",
       "    }\n",
       "    const paths = {\n",
       "      \"vega\": \"https://cdn.jsdelivr.net/npm/vega@5?noext\",\n",
       "      \"vega-lib\": \"https://cdn.jsdelivr.net/npm/vega-lib?noext\",\n",
       "      \"vega-lite\": \"https://cdn.jsdelivr.net/npm/vega-lite@5.8.0?noext\",\n",
       "      \"vega-embed\": \"https://cdn.jsdelivr.net/npm/vega-embed@6?noext\",\n",
       "    };\n",
       "\n",
       "    function maybeLoadScript(lib, version) {\n",
       "      var key = `${lib.replace(\"-\", \"\")}_version`;\n",
       "      return (VEGA_DEBUG[key] == version) ?\n",
       "        Promise.resolve(paths[lib]) :\n",
       "        new Promise(function(resolve, reject) {\n",
       "          var s = document.createElement('script');\n",
       "          document.getElementsByTagName(\"head\")[0].appendChild(s);\n",
       "          s.async = true;\n",
       "          s.onload = () => {\n",
       "            VEGA_DEBUG[key] = version;\n",
       "            return resolve(paths[lib]);\n",
       "          };\n",
       "          s.onerror = () => reject(`Error loading script: ${paths[lib]}`);\n",
       "          s.src = paths[lib];\n",
       "        });\n",
       "    }\n",
       "\n",
       "    function showError(err) {\n",
       "      outputDiv.innerHTML = `<div class=\"error\" style=\"color:red;\">${err}</div>`;\n",
       "      throw err;\n",
       "    }\n",
       "\n",
       "    function displayChart(vegaEmbed) {\n",
       "      vegaEmbed(outputDiv, spec, embedOpt)\n",
       "        .catch(err => showError(`Javascript Error: ${err.message}<br>This usually means there's a typo in your chart specification. See the javascript console for the full traceback.`));\n",
       "    }\n",
       "\n",
       "    if(typeof define === \"function\" && define.amd) {\n",
       "      requirejs.config({paths});\n",
       "      require([\"vega-embed\"], displayChart, err => showError(`Error loading script: ${err.message}`));\n",
       "    } else {\n",
       "      maybeLoadScript(\"vega\", \"5\")\n",
       "        .then(() => maybeLoadScript(\"vega-lite\", \"5.8.0\"))\n",
       "        .then(() => maybeLoadScript(\"vega-embed\", \"6\"))\n",
       "        .catch(showError)\n",
       "        .then(() => displayChart(vegaEmbed));\n",
       "    }\n",
       "  })({\"config\": {\"view\": {\"continuousWidth\": 300, \"continuousHeight\": 300}}, \"data\": {\"name\": \"data-3e6b5b6e324145e240cc6f3c349db698\"}, \"mark\": {\"type\": \"bar\"}, \"encoding\": {\"color\": {\"field\": \"batter\", \"type\": \"nominal\"}, \"tooltip\": [{\"field\": \"batter\", \"type\": \"nominal\"}, {\"field\": \"batsman_runs\", \"type\": \"quantitative\"}], \"x\": {\"field\": \"batsman_runs\", \"title\": \"Total Runs in Winning Matches\", \"type\": \"quantitative\"}, \"y\": {\"field\": \"batter\", \"sort\": \"-x\", \"title\": \"Batsman\", \"type\": \"nominal\"}}, \"height\": 400, \"title\": \"\\ud83c\\udfc6 Top 10 Batsmen by Runs in Winning Matches\", \"width\": 600, \"$schema\": \"https://vega.github.io/schema/vega-lite/v5.8.0.json\", \"datasets\": {\"data-3e6b5b6e324145e240cc6f3c349db698\": [{\"batter\": \"V Kohli\", \"batsman_runs\": 4278}, {\"batter\": \"S Dhawan\", \"batsman_runs\": 3989}, {\"batter\": \"RG Sharma\", \"batsman_runs\": 3951}, {\"batter\": \"DA Warner\", \"batsman_runs\": 3710}, {\"batter\": \"SK Raina\", \"batsman_runs\": 3559}, {\"batter\": \"CH Gayle\", \"batsman_runs\": 3162}, {\"batter\": \"AB de Villiers\", \"batsman_runs\": 3080}, {\"batter\": \"MS Dhoni\", \"batsman_runs\": 3007}, {\"batter\": \"G Gambhir\", \"batsman_runs\": 2839}, {\"batter\": \"F du Plessis\", \"batsman_runs\": 2751}]}}, {\"mode\": \"vega-lite\"});\n",
       "</script>"
      ],
      "text/plain": [
       "alt.Chart(...)"
      ]
     },
     "execution_count": 37,
     "metadata": {},
     "output_type": "execute_result"
    }
   ],
   "source": [
    "# Batsman performance in winning matches\n",
    "batsman_wins = combined_df[combined_df['winner'] == combined_df['batting_team']]\n",
    "batsman_performance = batsman_wins.groupby('batter')['batsman_runs'].sum().reset_index()\n",
    "\n",
    "# Top 10\n",
    "top_batsmen = batsman_performance.sort_values(by='batsman_runs', ascending=False).head(10)\n",
    "\n",
    "# Plot\n",
    "import altair as alt\n",
    "\n",
    "chart = alt.Chart(top_batsmen).mark_bar().encode(\n",
    "    x=alt.X('batsman_runs:Q', title='Total Runs in Winning Matches'),\n",
    "    y=alt.Y('batter:N', sort='-x', title='Batsman'),\n",
    "    color='batter:N',\n",
    "    tooltip=['batter:N', 'batsman_runs:Q']\n",
    ").properties(\n",
    "    title=\"🏆 Top 10 Batsmen by Runs in Winning Matches\",\n",
    "    width=600,\n",
    "    height=400\n",
    ")\n",
    "\n",
    "chart\n"
   ]
  },
  {
   "cell_type": "code",
   "execution_count": 38,
   "id": "18515eac",
   "metadata": {},
   "outputs": [
    {
     "name": "stderr",
     "output_type": "stream",
     "text": [
      "c:\\Users\\VARUN\\anaconda3\\Lib\\site-packages\\altair\\utils\\core.py:395: FutureWarning:\n",
      "\n",
      "the convert_dtype parameter is deprecated and will be removed in a future version.  Do ``ser.astype(object).apply()`` instead if you want ``convert_dtype=False``.\n",
      "\n"
     ]
    },
    {
     "data": {
      "text/html": [
       "\n",
       "<style>\n",
       "  #altair-viz-d80e1eaba6c34273853ae725da75fcbe.vega-embed {\n",
       "    width: 100%;\n",
       "    display: flex;\n",
       "  }\n",
       "\n",
       "  #altair-viz-d80e1eaba6c34273853ae725da75fcbe.vega-embed details,\n",
       "  #altair-viz-d80e1eaba6c34273853ae725da75fcbe.vega-embed details summary {\n",
       "    position: relative;\n",
       "  }\n",
       "</style>\n",
       "<div id=\"altair-viz-d80e1eaba6c34273853ae725da75fcbe\"></div>\n",
       "<script type=\"text/javascript\">\n",
       "  var VEGA_DEBUG = (typeof VEGA_DEBUG == \"undefined\") ? {} : VEGA_DEBUG;\n",
       "  (function(spec, embedOpt){\n",
       "    let outputDiv = document.currentScript.previousElementSibling;\n",
       "    if (outputDiv.id !== \"altair-viz-d80e1eaba6c34273853ae725da75fcbe\") {\n",
       "      outputDiv = document.getElementById(\"altair-viz-d80e1eaba6c34273853ae725da75fcbe\");\n",
       "    }\n",
       "    const paths = {\n",
       "      \"vega\": \"https://cdn.jsdelivr.net/npm/vega@5?noext\",\n",
       "      \"vega-lib\": \"https://cdn.jsdelivr.net/npm/vega-lib?noext\",\n",
       "      \"vega-lite\": \"https://cdn.jsdelivr.net/npm/vega-lite@5.8.0?noext\",\n",
       "      \"vega-embed\": \"https://cdn.jsdelivr.net/npm/vega-embed@6?noext\",\n",
       "    };\n",
       "\n",
       "    function maybeLoadScript(lib, version) {\n",
       "      var key = `${lib.replace(\"-\", \"\")}_version`;\n",
       "      return (VEGA_DEBUG[key] == version) ?\n",
       "        Promise.resolve(paths[lib]) :\n",
       "        new Promise(function(resolve, reject) {\n",
       "          var s = document.createElement('script');\n",
       "          document.getElementsByTagName(\"head\")[0].appendChild(s);\n",
       "          s.async = true;\n",
       "          s.onload = () => {\n",
       "            VEGA_DEBUG[key] = version;\n",
       "            return resolve(paths[lib]);\n",
       "          };\n",
       "          s.onerror = () => reject(`Error loading script: ${paths[lib]}`);\n",
       "          s.src = paths[lib];\n",
       "        });\n",
       "    }\n",
       "\n",
       "    function showError(err) {\n",
       "      outputDiv.innerHTML = `<div class=\"error\" style=\"color:red;\">${err}</div>`;\n",
       "      throw err;\n",
       "    }\n",
       "\n",
       "    function displayChart(vegaEmbed) {\n",
       "      vegaEmbed(outputDiv, spec, embedOpt)\n",
       "        .catch(err => showError(`Javascript Error: ${err.message}<br>This usually means there's a typo in your chart specification. See the javascript console for the full traceback.`));\n",
       "    }\n",
       "\n",
       "    if(typeof define === \"function\" && define.amd) {\n",
       "      requirejs.config({paths});\n",
       "      require([\"vega-embed\"], displayChart, err => showError(`Error loading script: ${err.message}`));\n",
       "    } else {\n",
       "      maybeLoadScript(\"vega\", \"5\")\n",
       "        .then(() => maybeLoadScript(\"vega-lite\", \"5.8.0\"))\n",
       "        .then(() => maybeLoadScript(\"vega-embed\", \"6\"))\n",
       "        .catch(showError)\n",
       "        .then(() => displayChart(vegaEmbed));\n",
       "    }\n",
       "  })({\"config\": {\"view\": {\"continuousWidth\": 300, \"continuousHeight\": 300}}, \"data\": {\"name\": \"data-55d0733e4e6cee071200b05d812fc827\"}, \"mark\": {\"type\": \"bar\"}, \"encoding\": {\"color\": {\"field\": \"bowler\", \"type\": \"nominal\"}, \"tooltip\": [{\"field\": \"bowler\", \"type\": \"nominal\"}, {\"field\": \"economy\", \"type\": \"quantitative\"}, {\"field\": \"overs\", \"type\": \"quantitative\"}], \"x\": {\"field\": \"economy\", \"title\": \"Economy Rate in Wins\", \"type\": \"quantitative\"}, \"y\": {\"field\": \"bowler\", \"sort\": \"x\", \"title\": \"Bowler\", \"type\": \"nominal\"}}, \"height\": 400, \"title\": \"\\ud83c\\udfaf Top 10 Best Economy Bowlers in Winning Matches\", \"width\": 600, \"$schema\": \"https://vega.github.io/schema/vega-lite/v5.8.0.json\", \"datasets\": {\"data-55d0733e4e6cee071200b05d812fc827\": [{\"bowler\": \"A Kumble\", \"total_runs\": 467, \"balls_bowled\": 467, \"overs\": 77.83333333333333, \"economy\": 6.0}, {\"bowler\": \"DW Steyn\", \"total_runs\": 989, \"balls_bowled\": 971, \"overs\": 161.83333333333334, \"economy\": 6.111225540679711}, {\"bowler\": \"R Sharma\", \"total_runs\": 292, \"balls_bowled\": 279, \"overs\": 46.5, \"economy\": 6.279569892473118}, {\"bowler\": \"DL Vettori\", \"total_runs\": 477, \"balls_bowled\": 450, \"overs\": 75.0, \"economy\": 6.36}, {\"bowler\": \"JP Duminy\", \"total_runs\": 278, \"balls_bowled\": 261, \"overs\": 43.5, \"economy\": 6.390804597701149}, {\"bowler\": \"CH Gayle\", \"total_runs\": 273, \"balls_bowled\": 256, \"overs\": 42.666666666666664, \"economy\": 6.3984375}, {\"bowler\": \"MM Ali\", \"total_runs\": 340, \"balls_bowled\": 318, \"overs\": 53.0, \"economy\": 6.415094339622642}, {\"bowler\": \"Rashid Khan\", \"total_runs\": 1636, \"balls_bowled\": 1526, \"overs\": 254.33333333333334, \"economy\": 6.432503276539974}, {\"bowler\": \"Sohail Tanvir\", \"total_runs\": 262, \"balls_bowled\": 242, \"overs\": 40.333333333333336, \"economy\": 6.495867768595041}, {\"bowler\": \"A Mishra\", \"total_runs\": 1862, \"balls_bowled\": 1716, \"overs\": 286.0, \"economy\": 6.510489510489511}]}}, {\"mode\": \"vega-lite\"});\n",
       "</script>"
      ],
      "text/plain": [
       "alt.Chart(...)"
      ]
     },
     "execution_count": 38,
     "metadata": {},
     "output_type": "execute_result"
    }
   ],
   "source": [
    "# Bowler economy in winning matches\n",
    "bowler_wins = combined_df[combined_df['winner'] == combined_df['bowling_team']]\n",
    "bowler_stats = bowler_wins.groupby('bowler').agg(\n",
    "    total_runs=('total_runs', 'sum'),\n",
    "    balls_bowled=('ball', 'count')\n",
    ").reset_index()\n",
    "\n",
    "bowler_stats['overs'] = bowler_stats['balls_bowled'] / 6\n",
    "bowler_stats['economy'] = bowler_stats['total_runs'] / bowler_stats['overs']\n",
    "\n",
    "# Serious bowlers only\n",
    "bowler_stats = bowler_stats[bowler_stats['overs'] >= 30]\n",
    "\n",
    "# Top 10 best economy\n",
    "best_economy = bowler_stats.sort_values('economy').head(10)\n",
    "\n",
    "# Plot\n",
    "chart2 = alt.Chart(best_economy).mark_bar().encode(\n",
    "    x=alt.X('economy:Q', title='Economy Rate in Wins'),\n",
    "    y=alt.Y('bowler:N', sort='x', title='Bowler'),\n",
    "    color='bowler:N',\n",
    "    tooltip=['bowler:N', 'economy:Q', 'overs:Q']\n",
    ").properties(\n",
    "    title=\"🎯 Top 10 Best Economy Bowlers in Winning Matches\",\n",
    "    width=600,\n",
    "    height=400\n",
    ")\n",
    "\n",
    "chart2\n"
   ]
  },
  {
   "cell_type": "code",
   "execution_count": 39,
   "id": "1ec46d4a",
   "metadata": {},
   "outputs": [
    {
     "data": {
      "application/vnd.plotly.v1+json": {
       "config": {
        "plotlyServerURL": "https://plot.ly"
       },
       "data": [
        {
         "domain": {
          "x": [
           0,
           1
          ],
          "y": [
           0,
           1
          ]
         },
         "hovertemplate": "toss_match_result=%{label}<extra></extra>",
         "labels": [
          "Lost After Toss",
          "Won Toss and Match",
          "Lost After Toss",
          "Lost After Toss",
          "Lost After Toss",
          "Lost After Toss",
          "Lost After Toss",
          "Lost After Toss",
          "Won Toss and Match",
          "Lost After Toss",
          "Won Toss and Match",
          "Lost After Toss",
          "Won Toss and Match",
          "Lost After Toss",
          "Won Toss and Match",
          "Lost After Toss",
          "Lost After Toss",
          "Won Toss and Match",
          "Won Toss and Match",
          "Lost After Toss",
          "Lost After Toss",
          "Won Toss and Match",
          "Lost After Toss",
          "Lost After Toss",
          "Won Toss and Match",
          "Won Toss and Match",
          "Won Toss and Match",
          "Won Toss and Match",
          "Won Toss and Match",
          "Won Toss and Match",
          "Won Toss and Match",
          "Lost After Toss",
          "Won Toss and Match",
          "Won Toss and Match",
          "Lost After Toss",
          "Won Toss and Match",
          "Won Toss and Match",
          "Lost After Toss",
          "Lost After Toss",
          "Won Toss and Match",
          "Lost After Toss",
          "Lost After Toss",
          "Lost After Toss",
          "Lost After Toss",
          "Won Toss and Match",
          "Won Toss and Match",
          "Lost After Toss",
          "Won Toss and Match",
          "Won Toss and Match",
          "Won Toss and Match",
          "Won Toss and Match",
          "Lost After Toss",
          "Lost After Toss",
          "Won Toss and Match",
          "Lost After Toss",
          "Lost After Toss",
          "Lost After Toss",
          "Won Toss and Match",
          "Lost After Toss",
          "Won Toss and Match",
          "Won Toss and Match",
          "Lost After Toss",
          "Won Toss and Match",
          "Won Toss and Match",
          "Won Toss and Match",
          "Won Toss and Match",
          "Lost After Toss",
          "Lost After Toss",
          "Won Toss and Match",
          "Lost After Toss",
          "Won Toss and Match",
          "Won Toss and Match",
          "Won Toss and Match",
          "Lost After Toss",
          "Lost After Toss",
          "Won Toss and Match",
          "Won Toss and Match",
          "Lost After Toss",
          "Won Toss and Match",
          "Won Toss and Match",
          "Lost After Toss",
          "Lost After Toss",
          "Lost After Toss",
          "Lost After Toss",
          "Won Toss and Match",
          "Lost After Toss",
          "Lost After Toss",
          "Won Toss and Match",
          "Won Toss and Match",
          "Won Toss and Match",
          "Lost After Toss",
          "Won Toss and Match",
          "Lost After Toss",
          "Won Toss and Match",
          "Won Toss and Match",
          "Won Toss and Match",
          "Won Toss and Match",
          "Lost After Toss",
          "Lost After Toss",
          "Lost After Toss",
          "Won Toss and Match",
          "Won Toss and Match",
          "Lost After Toss",
          "Won Toss and Match",
          "Lost After Toss",
          "Won Toss and Match",
          "Lost After Toss",
          "Lost After Toss",
          "Won Toss and Match",
          "Won Toss and Match",
          "Won Toss and Match",
          "Won Toss and Match",
          "Won Toss and Match",
          "Won Toss and Match",
          "Lost After Toss",
          "Lost After Toss",
          "Won Toss and Match",
          "Won Toss and Match",
          "Won Toss and Match",
          "Won Toss and Match",
          "Won Toss and Match",
          "Lost After Toss",
          "Won Toss and Match",
          "Lost After Toss",
          "Won Toss and Match",
          "Lost After Toss",
          "Lost After Toss",
          "Won Toss and Match",
          "Lost After Toss",
          "Won Toss and Match",
          "Lost After Toss",
          "Lost After Toss",
          "Lost After Toss",
          "Lost After Toss",
          "Won Toss and Match",
          "Lost After Toss",
          "Won Toss and Match",
          "Lost After Toss",
          "Won Toss and Match",
          "Lost After Toss",
          "Won Toss and Match",
          "Won Toss and Match",
          "Lost After Toss",
          "Won Toss and Match",
          "Won Toss and Match",
          "Lost After Toss",
          "Won Toss and Match",
          "Won Toss and Match",
          "Lost After Toss",
          "Won Toss and Match",
          "Won Toss and Match",
          "Won Toss and Match",
          "Lost After Toss",
          "Won Toss and Match",
          "Won Toss and Match",
          "Lost After Toss",
          "Lost After Toss",
          "Won Toss and Match",
          "Lost After Toss",
          "Lost After Toss",
          "Lost After Toss",
          "Won Toss and Match",
          "Lost After Toss",
          "Lost After Toss",
          "Lost After Toss",
          "Won Toss and Match",
          "Lost After Toss",
          "Lost After Toss",
          "Won Toss and Match",
          "Won Toss and Match",
          "Lost After Toss",
          "Won Toss and Match",
          "Won Toss and Match",
          "Lost After Toss",
          "Won Toss and Match",
          "Won Toss and Match",
          "Won Toss and Match",
          "Lost After Toss",
          "Lost After Toss",
          "Lost After Toss",
          "Won Toss and Match",
          "Lost After Toss",
          "Won Toss and Match",
          "Won Toss and Match",
          "Lost After Toss",
          "Lost After Toss",
          "Won Toss and Match",
          "Won Toss and Match",
          "Won Toss and Match",
          "Won Toss and Match",
          "Won Toss and Match",
          "Won Toss and Match",
          "Won Toss and Match",
          "Won Toss and Match",
          "Lost After Toss",
          "Lost After Toss",
          "Lost After Toss",
          "Lost After Toss",
          "Won Toss and Match",
          "Lost After Toss",
          "Lost After Toss",
          "Won Toss and Match",
          "Lost After Toss",
          "Won Toss and Match",
          "Lost After Toss",
          "Lost After Toss",
          "Lost After Toss",
          "Won Toss and Match",
          "Lost After Toss",
          "Won Toss and Match",
          "Won Toss and Match",
          "Won Toss and Match",
          "Won Toss and Match",
          "Lost After Toss",
          "Won Toss and Match",
          "Lost After Toss",
          "Lost After Toss",
          "Lost After Toss",
          "Lost After Toss",
          "Won Toss and Match",
          "Lost After Toss",
          "Lost After Toss",
          "Lost After Toss",
          "Lost After Toss",
          "Lost After Toss",
          "Lost After Toss",
          "Lost After Toss",
          "Lost After Toss",
          "Won Toss and Match",
          "Won Toss and Match",
          "Won Toss and Match",
          "Won Toss and Match",
          "Won Toss and Match",
          "Lost After Toss",
          "Won Toss and Match",
          "Won Toss and Match",
          "Won Toss and Match",
          "Won Toss and Match",
          "Won Toss and Match",
          "Lost After Toss",
          "Lost After Toss",
          "Lost After Toss",
          "Won Toss and Match",
          "Won Toss and Match",
          "Won Toss and Match",
          "Won Toss and Match",
          "Lost After Toss",
          "Won Toss and Match",
          "Won Toss and Match",
          "Won Toss and Match",
          "Lost After Toss",
          "Lost After Toss",
          "Lost After Toss",
          "Lost After Toss",
          "Lost After Toss",
          "Won Toss and Match",
          "Lost After Toss",
          "Lost After Toss",
          "Won Toss and Match",
          "Lost After Toss",
          "Lost After Toss",
          "Won Toss and Match",
          "Lost After Toss",
          "Lost After Toss",
          "Lost After Toss",
          "Lost After Toss",
          "Won Toss and Match",
          "Won Toss and Match",
          "Lost After Toss",
          "Lost After Toss",
          "Lost After Toss",
          "Lost After Toss",
          "Lost After Toss",
          "Won Toss and Match",
          "Lost After Toss",
          "Lost After Toss",
          "Lost After Toss",
          "Won Toss and Match",
          "Lost After Toss",
          "Lost After Toss",
          "Lost After Toss",
          "Won Toss and Match",
          "Lost After Toss",
          "Won Toss and Match",
          "Won Toss and Match",
          "Won Toss and Match",
          "Won Toss and Match",
          "Lost After Toss",
          "Won Toss and Match",
          "Lost After Toss",
          "Won Toss and Match",
          "Won Toss and Match",
          "Won Toss and Match",
          "Won Toss and Match",
          "Won Toss and Match",
          "Won Toss and Match",
          "Won Toss and Match",
          "Lost After Toss",
          "Lost After Toss",
          "Lost After Toss",
          "Won Toss and Match",
          "Won Toss and Match",
          "Lost After Toss",
          "Won Toss and Match",
          "Won Toss and Match",
          "Won Toss and Match",
          "Lost After Toss",
          "Won Toss and Match",
          "Won Toss and Match",
          "Lost After Toss",
          "Lost After Toss",
          "Won Toss and Match",
          "Lost After Toss",
          "Lost After Toss",
          "Won Toss and Match",
          "Won Toss and Match",
          "Lost After Toss",
          "Lost After Toss",
          "Won Toss and Match",
          "Lost After Toss",
          "Lost After Toss",
          "Lost After Toss",
          "Won Toss and Match",
          "Lost After Toss",
          "Lost After Toss",
          "Won Toss and Match",
          "Won Toss and Match",
          "Lost After Toss",
          "Lost After Toss",
          "Lost After Toss",
          "Won Toss and Match",
          "Won Toss and Match",
          "Won Toss and Match",
          "Lost After Toss",
          "Lost After Toss",
          "Won Toss and Match",
          "Won Toss and Match",
          "Won Toss and Match",
          "Won Toss and Match",
          "Won Toss and Match",
          "Lost After Toss",
          "Won Toss and Match",
          "Lost After Toss",
          "Won Toss and Match",
          "Won Toss and Match",
          "Lost After Toss",
          "Lost After Toss",
          "Won Toss and Match",
          "Lost After Toss",
          "Won Toss and Match",
          "Lost After Toss",
          "Lost After Toss",
          "Lost After Toss",
          "Lost After Toss",
          "Lost After Toss",
          "Lost After Toss",
          "Lost After Toss",
          "Won Toss and Match",
          "Lost After Toss",
          "Lost After Toss",
          "Won Toss and Match",
          "Won Toss and Match",
          "Won Toss and Match",
          "Lost After Toss",
          "Lost After Toss",
          "Won Toss and Match",
          "Won Toss and Match",
          "Lost After Toss",
          "Lost After Toss",
          "Won Toss and Match",
          "Won Toss and Match",
          "Lost After Toss",
          "Lost After Toss",
          "Lost After Toss",
          "Won Toss and Match",
          "Lost After Toss",
          "Won Toss and Match",
          "Won Toss and Match",
          "Lost After Toss",
          "Lost After Toss",
          "Lost After Toss",
          "Won Toss and Match",
          "Won Toss and Match",
          "Won Toss and Match",
          "Lost After Toss",
          "Lost After Toss",
          "Won Toss and Match",
          "Lost After Toss",
          "Won Toss and Match",
          "Won Toss and Match",
          "Lost After Toss",
          "Won Toss and Match",
          "Lost After Toss",
          "Lost After Toss",
          "Won Toss and Match",
          "Lost After Toss",
          "Lost After Toss",
          "Won Toss and Match",
          "Won Toss and Match",
          "Won Toss and Match",
          "Lost After Toss",
          "Won Toss and Match",
          "Won Toss and Match",
          "Lost After Toss",
          "Won Toss and Match",
          "Won Toss and Match",
          "Lost After Toss",
          "Lost After Toss",
          "Lost After Toss",
          "Won Toss and Match",
          "Lost After Toss",
          "Won Toss and Match",
          "Lost After Toss",
          "Lost After Toss",
          "Lost After Toss",
          "Won Toss and Match",
          "Won Toss and Match",
          "Lost After Toss",
          "Won Toss and Match",
          "Lost After Toss",
          "Won Toss and Match",
          "Won Toss and Match",
          "Lost After Toss",
          "Won Toss and Match",
          "Lost After Toss",
          "Lost After Toss",
          "Lost After Toss",
          "Lost After Toss",
          "Lost After Toss",
          "Won Toss and Match",
          "Won Toss and Match",
          "Won Toss and Match",
          "Lost After Toss",
          "Lost After Toss",
          "Lost After Toss",
          "Lost After Toss",
          "Won Toss and Match",
          "Won Toss and Match",
          "Lost After Toss",
          "Lost After Toss",
          "Lost After Toss",
          "Won Toss and Match",
          "Won Toss and Match",
          "Lost After Toss",
          "Won Toss and Match",
          "Won Toss and Match",
          "Lost After Toss",
          "Won Toss and Match",
          "Lost After Toss",
          "Lost After Toss",
          "Won Toss and Match",
          "Won Toss and Match",
          "Won Toss and Match",
          "Won Toss and Match",
          "Lost After Toss",
          "Won Toss and Match",
          "Lost After Toss",
          "Won Toss and Match",
          "Won Toss and Match",
          "Lost After Toss",
          "Lost After Toss",
          "Won Toss and Match",
          "Won Toss and Match",
          "Won Toss and Match",
          "Lost After Toss",
          "Won Toss and Match",
          "Lost After Toss",
          "Won Toss and Match",
          "Lost After Toss",
          "Won Toss and Match",
          "Lost After Toss",
          "Won Toss and Match",
          "Won Toss and Match",
          "Lost After Toss",
          "Lost After Toss",
          "Won Toss and Match",
          "Won Toss and Match",
          "Lost After Toss",
          "Lost After Toss",
          "Lost After Toss",
          "Won Toss and Match",
          "Won Toss and Match",
          "Won Toss and Match",
          "Won Toss and Match",
          "Lost After Toss",
          "Won Toss and Match",
          "Lost After Toss",
          "Lost After Toss",
          "Won Toss and Match",
          "Lost After Toss",
          "Won Toss and Match",
          "Lost After Toss",
          "Won Toss and Match",
          "Lost After Toss",
          "Won Toss and Match",
          "Lost After Toss",
          "Lost After Toss",
          "Lost After Toss",
          "Lost After Toss",
          "Lost After Toss",
          "Lost After Toss",
          "Won Toss and Match",
          "Won Toss and Match",
          "Won Toss and Match",
          "Won Toss and Match",
          "Lost After Toss",
          "Lost After Toss",
          "Lost After Toss",
          "Lost After Toss",
          "Lost After Toss",
          "Won Toss and Match",
          "Lost After Toss",
          "Lost After Toss",
          "Won Toss and Match",
          "Won Toss and Match",
          "Won Toss and Match",
          "Lost After Toss",
          "Lost After Toss",
          "Won Toss and Match",
          "Won Toss and Match",
          "Lost After Toss",
          "Won Toss and Match",
          "Lost After Toss",
          "Won Toss and Match",
          "Lost After Toss",
          "Won Toss and Match",
          "Lost After Toss",
          "Won Toss and Match",
          "Won Toss and Match",
          "Won Toss and Match",
          "Won Toss and Match",
          "Won Toss and Match",
          "Lost After Toss",
          "Lost After Toss",
          "Won Toss and Match",
          "Lost After Toss",
          "Won Toss and Match",
          "Lost After Toss",
          "Won Toss and Match",
          "Lost After Toss",
          "Won Toss and Match",
          "Won Toss and Match",
          "Lost After Toss",
          "Lost After Toss",
          "Lost After Toss",
          "Won Toss and Match",
          "Won Toss and Match",
          "Won Toss and Match",
          "Lost After Toss",
          "Won Toss and Match",
          "Won Toss and Match",
          "Won Toss and Match",
          "Lost After Toss",
          "Lost After Toss",
          "Won Toss and Match",
          "Lost After Toss",
          "Won Toss and Match",
          "Won Toss and Match",
          "Won Toss and Match",
          "Lost After Toss",
          "Lost After Toss",
          "Lost After Toss",
          "Lost After Toss",
          "Lost After Toss",
          "Won Toss and Match",
          "Won Toss and Match",
          "Lost After Toss",
          "Won Toss and Match",
          "Won Toss and Match",
          "Lost After Toss",
          "Won Toss and Match",
          "Lost After Toss",
          "Won Toss and Match",
          "Won Toss and Match",
          "Lost After Toss",
          "Won Toss and Match",
          "Won Toss and Match",
          "Lost After Toss",
          "Won Toss and Match",
          "Won Toss and Match",
          "Won Toss and Match",
          "Won Toss and Match",
          "Won Toss and Match",
          "Won Toss and Match",
          "Lost After Toss",
          "Lost After Toss",
          "Won Toss and Match",
          "Won Toss and Match",
          "Won Toss and Match",
          "Won Toss and Match",
          "Lost After Toss",
          "Won Toss and Match",
          "Won Toss and Match",
          "Lost After Toss",
          "Lost After Toss",
          "Lost After Toss",
          "Lost After Toss",
          "Won Toss and Match",
          "Won Toss and Match",
          "Won Toss and Match",
          "Lost After Toss",
          "Won Toss and Match",
          "Lost After Toss",
          "Lost After Toss",
          "Lost After Toss",
          "Won Toss and Match",
          "Won Toss and Match",
          "Won Toss and Match",
          "Lost After Toss",
          "Lost After Toss",
          "Lost After Toss",
          "Won Toss and Match",
          "Lost After Toss",
          "Lost After Toss",
          "Won Toss and Match",
          "Won Toss and Match",
          "Won Toss and Match",
          "Won Toss and Match",
          "Lost After Toss",
          "Lost After Toss",
          "Lost After Toss",
          "Won Toss and Match",
          "Won Toss and Match",
          "Lost After Toss",
          "Lost After Toss",
          "Won Toss and Match",
          "Lost After Toss",
          "Won Toss and Match",
          "Won Toss and Match",
          "Lost After Toss",
          "Won Toss and Match",
          "Won Toss and Match",
          "Lost After Toss",
          "Won Toss and Match",
          "Won Toss and Match",
          "Won Toss and Match",
          "Won Toss and Match",
          "Won Toss and Match",
          "Won Toss and Match",
          "Won Toss and Match",
          "Won Toss and Match",
          "Lost After Toss",
          "Won Toss and Match",
          "Won Toss and Match",
          "Won Toss and Match",
          "Won Toss and Match",
          "Lost After Toss",
          "Lost After Toss",
          "Lost After Toss",
          "Lost After Toss",
          "Won Toss and Match",
          "Won Toss and Match",
          "Lost After Toss",
          "Won Toss and Match",
          "Won Toss and Match",
          "Lost After Toss",
          "Lost After Toss",
          "Lost After Toss",
          "Lost After Toss",
          "Won Toss and Match",
          "Lost After Toss",
          "Lost After Toss",
          "Won Toss and Match",
          "Won Toss and Match",
          "Won Toss and Match",
          "Lost After Toss",
          "Lost After Toss",
          "Lost After Toss",
          "Won Toss and Match",
          "Won Toss and Match",
          "Won Toss and Match",
          "Lost After Toss",
          "Lost After Toss",
          "Won Toss and Match",
          "Lost After Toss",
          "Won Toss and Match",
          "Lost After Toss",
          "Lost After Toss",
          "Lost After Toss",
          "Lost After Toss",
          "Won Toss and Match",
          "Won Toss and Match",
          "Won Toss and Match",
          "Won Toss and Match",
          "Won Toss and Match",
          "Lost After Toss",
          "Lost After Toss",
          "Lost After Toss",
          "Won Toss and Match",
          "Lost After Toss",
          "Won Toss and Match",
          "Won Toss and Match",
          "Won Toss and Match",
          "Lost After Toss",
          "Lost After Toss",
          "Won Toss and Match",
          "Won Toss and Match",
          "Won Toss and Match",
          "Lost After Toss",
          "Lost After Toss",
          "Lost After Toss",
          "Lost After Toss",
          "Lost After Toss",
          "Lost After Toss",
          "Won Toss and Match",
          "Won Toss and Match",
          "Lost After Toss",
          "Lost After Toss",
          "Lost After Toss",
          "Won Toss and Match",
          "Lost After Toss",
          "Won Toss and Match",
          "Won Toss and Match",
          "Won Toss and Match",
          "Lost After Toss",
          "Won Toss and Match",
          "Won Toss and Match",
          "Won Toss and Match",
          "Won Toss and Match",
          "Won Toss and Match",
          "Won Toss and Match",
          "Won Toss and Match",
          "Won Toss and Match",
          "Won Toss and Match",
          "Won Toss and Match",
          "Lost After Toss",
          "Won Toss and Match",
          "Lost After Toss",
          "Lost After Toss",
          "Won Toss and Match",
          "Lost After Toss",
          "Won Toss and Match",
          "Won Toss and Match",
          "Won Toss and Match",
          "Lost After Toss",
          "Won Toss and Match",
          "Won Toss and Match",
          "Lost After Toss",
          "Won Toss and Match",
          "Lost After Toss",
          "Won Toss and Match",
          "Won Toss and Match",
          "Lost After Toss",
          "Lost After Toss",
          "Lost After Toss",
          "Lost After Toss",
          "Won Toss and Match",
          "Won Toss and Match",
          "Lost After Toss",
          "Won Toss and Match",
          "Won Toss and Match",
          "Won Toss and Match",
          "Lost After Toss",
          "Won Toss and Match",
          "Won Toss and Match",
          "Won Toss and Match",
          "Won Toss and Match",
          "Lost After Toss",
          "Lost After Toss",
          "Won Toss and Match",
          "Lost After Toss",
          "Lost After Toss",
          "Lost After Toss",
          "Won Toss and Match",
          "Lost After Toss",
          "Won Toss and Match",
          "Won Toss and Match",
          "Lost After Toss",
          "Lost After Toss",
          "Won Toss and Match",
          "Won Toss and Match",
          "Lost After Toss",
          "Lost After Toss",
          "Lost After Toss",
          "Lost After Toss",
          "Won Toss and Match",
          "Lost After Toss",
          "Lost After Toss",
          "Lost After Toss",
          "Lost After Toss",
          "Won Toss and Match",
          "Lost After Toss",
          "Won Toss and Match",
          "Lost After Toss",
          "Won Toss and Match",
          "Won Toss and Match",
          "Lost After Toss",
          "Won Toss and Match",
          "Lost After Toss",
          "Won Toss and Match",
          "Lost After Toss",
          "Won Toss and Match",
          "Won Toss and Match",
          "Lost After Toss",
          "Lost After Toss",
          "Lost After Toss",
          "Lost After Toss",
          "Lost After Toss",
          "Lost After Toss",
          "Won Toss and Match",
          "Won Toss and Match",
          "Won Toss and Match",
          "Won Toss and Match",
          "Lost After Toss",
          "Won Toss and Match",
          "Lost After Toss",
          "Won Toss and Match",
          "Won Toss and Match",
          "Lost After Toss",
          "Lost After Toss",
          "Lost After Toss",
          "Lost After Toss",
          "Lost After Toss",
          "Won Toss and Match",
          "Won Toss and Match",
          "Lost After Toss",
          "Won Toss and Match",
          "Won Toss and Match",
          "Lost After Toss",
          "Lost After Toss",
          "Lost After Toss",
          "Lost After Toss",
          "Won Toss and Match",
          "Won Toss and Match",
          "Won Toss and Match",
          "Won Toss and Match",
          "Won Toss and Match",
          "Lost After Toss",
          "Lost After Toss",
          "Lost After Toss",
          "Lost After Toss",
          "Won Toss and Match",
          "Won Toss and Match",
          "Won Toss and Match",
          "Won Toss and Match",
          "Won Toss and Match",
          "Won Toss and Match",
          "Lost After Toss",
          "Lost After Toss",
          "Won Toss and Match",
          "Won Toss and Match",
          "Lost After Toss",
          "Won Toss and Match",
          "Lost After Toss",
          "Won Toss and Match",
          "Lost After Toss",
          "Won Toss and Match",
          "Won Toss and Match",
          "Won Toss and Match",
          "Won Toss and Match",
          "Won Toss and Match",
          "Won Toss and Match",
          "Won Toss and Match",
          "Lost After Toss",
          "Won Toss and Match",
          "Lost After Toss",
          "Lost After Toss",
          "Won Toss and Match",
          "Lost After Toss",
          "Won Toss and Match",
          "Won Toss and Match",
          "Won Toss and Match",
          "Won Toss and Match",
          "Lost After Toss",
          "Lost After Toss",
          "Lost After Toss",
          "Lost After Toss",
          "Lost After Toss",
          "Won Toss and Match",
          "Lost After Toss",
          "Won Toss and Match",
          "Won Toss and Match",
          "Won Toss and Match",
          "Lost After Toss",
          "Won Toss and Match",
          "Lost After Toss",
          "Won Toss and Match",
          "Won Toss and Match",
          "Won Toss and Match",
          "Won Toss and Match",
          "Lost After Toss",
          "Won Toss and Match",
          "Won Toss and Match",
          "Won Toss and Match",
          "Lost After Toss",
          "Lost After Toss",
          "Lost After Toss",
          "Lost After Toss",
          "Won Toss and Match",
          "Won Toss and Match",
          "Won Toss and Match",
          "Won Toss and Match",
          "Won Toss and Match",
          "Won Toss and Match",
          "Lost After Toss",
          "Lost After Toss",
          "Won Toss and Match",
          "Lost After Toss",
          "Lost After Toss",
          "Lost After Toss",
          "Won Toss and Match",
          "Lost After Toss",
          "Lost After Toss",
          "Won Toss and Match",
          "Won Toss and Match",
          "Lost After Toss",
          "Lost After Toss",
          "Won Toss and Match",
          "Won Toss and Match",
          "Lost After Toss",
          "Won Toss and Match",
          "Won Toss and Match",
          "Lost After Toss",
          "Lost After Toss",
          "Lost After Toss",
          "Won Toss and Match",
          "Won Toss and Match",
          "Lost After Toss",
          "Lost After Toss",
          "Won Toss and Match",
          "Won Toss and Match",
          "Lost After Toss",
          "Won Toss and Match",
          "Lost After Toss",
          "Lost After Toss",
          "Lost After Toss",
          "Lost After Toss",
          "Lost After Toss",
          "Lost After Toss",
          "Won Toss and Match",
          "Lost After Toss",
          "Lost After Toss",
          "Won Toss and Match",
          "Won Toss and Match",
          "Won Toss and Match",
          "Lost After Toss",
          "Won Toss and Match",
          "Lost After Toss",
          "Won Toss and Match",
          "Lost After Toss",
          "Lost After Toss",
          "Won Toss and Match",
          "Lost After Toss",
          "Lost After Toss",
          "Won Toss and Match",
          "Lost After Toss",
          "Won Toss and Match",
          "Lost After Toss",
          "Won Toss and Match",
          "Lost After Toss",
          "Won Toss and Match",
          "Lost After Toss",
          "Lost After Toss",
          "Lost After Toss",
          "Won Toss and Match",
          "Lost After Toss",
          "Won Toss and Match",
          "Lost After Toss",
          "Lost After Toss",
          "Lost After Toss",
          "Lost After Toss",
          "Won Toss and Match",
          "Lost After Toss",
          "Won Toss and Match",
          "Won Toss and Match",
          "Won Toss and Match",
          "Lost After Toss",
          "Won Toss and Match",
          "Lost After Toss",
          "Lost After Toss",
          "Won Toss and Match",
          "Won Toss and Match",
          "Won Toss and Match",
          "Lost After Toss",
          "Lost After Toss",
          "Lost After Toss",
          "Lost After Toss",
          "Won Toss and Match",
          "Won Toss and Match",
          "Won Toss and Match",
          "Lost After Toss",
          "Lost After Toss",
          "Lost After Toss",
          "Won Toss and Match",
          "Lost After Toss",
          "Lost After Toss",
          "Won Toss and Match",
          "Lost After Toss",
          "Won Toss and Match",
          "Won Toss and Match",
          "Lost After Toss",
          "Lost After Toss",
          "Won Toss and Match",
          "Won Toss and Match",
          "Lost After Toss",
          "Won Toss and Match",
          "Won Toss and Match",
          "Lost After Toss",
          "Won Toss and Match",
          "Lost After Toss",
          "Lost After Toss",
          "Lost After Toss",
          "Lost After Toss",
          "Won Toss and Match",
          "Won Toss and Match",
          "Won Toss and Match",
          "Lost After Toss",
          "Lost After Toss",
          "Lost After Toss",
          "Won Toss and Match",
          "Lost After Toss",
          "Lost After Toss",
          "Lost After Toss",
          "Lost After Toss",
          "Won Toss and Match",
          "Won Toss and Match",
          "Won Toss and Match",
          "Lost After Toss",
          "Won Toss and Match",
          "Won Toss and Match",
          "Lost After Toss",
          "Won Toss and Match",
          "Lost After Toss",
          "Won Toss and Match",
          "Lost After Toss",
          "Won Toss and Match",
          "Lost After Toss",
          "Won Toss and Match",
          "Lost After Toss",
          "Won Toss and Match",
          "Lost After Toss",
          "Lost After Toss",
          "Lost After Toss",
          "Won Toss and Match",
          "Won Toss and Match",
          "Lost After Toss",
          "Won Toss and Match",
          "Won Toss and Match",
          "Lost After Toss",
          "Won Toss and Match",
          "Won Toss and Match",
          "Won Toss and Match",
          "Won Toss and Match",
          "Lost After Toss",
          "Won Toss and Match",
          "Won Toss and Match",
          "Lost After Toss",
          "Won Toss and Match",
          "Won Toss and Match",
          "Lost After Toss",
          "Won Toss and Match",
          "Won Toss and Match",
          "Lost After Toss",
          "Lost After Toss",
          "Won Toss and Match",
          "Won Toss and Match",
          "Lost After Toss",
          "Won Toss and Match",
          "Lost After Toss",
          "Lost After Toss",
          "Lost After Toss",
          "Lost After Toss",
          "Won Toss and Match",
          "Lost After Toss",
          "Won Toss and Match",
          "Won Toss and Match",
          "Lost After Toss",
          "Won Toss and Match",
          "Won Toss and Match",
          "Lost After Toss",
          "Lost After Toss",
          "Won Toss and Match",
          "Won Toss and Match",
          "Won Toss and Match",
          "Lost After Toss",
          "Won Toss and Match",
          "Lost After Toss",
          "Lost After Toss",
          "Won Toss and Match",
          "Lost After Toss",
          "Lost After Toss",
          "Lost After Toss",
          "Lost After Toss",
          "Lost After Toss",
          "Lost After Toss",
          "Lost After Toss",
          "Lost After Toss",
          "Lost After Toss",
          "Lost After Toss",
          "Lost After Toss",
          "Lost After Toss",
          "Lost After Toss",
          "Won Toss and Match",
          "Lost After Toss",
          "Lost After Toss"
         ],
         "legendgroup": "",
         "name": "",
         "showlegend": true,
         "type": "pie"
        }
       ],
       "layout": {
        "legend": {
         "tracegroupgap": 0
        },
        "template": {
         "data": {
          "bar": [
           {
            "error_x": {
             "color": "#2a3f5f"
            },
            "error_y": {
             "color": "#2a3f5f"
            },
            "marker": {
             "line": {
              "color": "#E5ECF6",
              "width": 0.5
             },
             "pattern": {
              "fillmode": "overlay",
              "size": 10,
              "solidity": 0.2
             }
            },
            "type": "bar"
           }
          ],
          "barpolar": [
           {
            "marker": {
             "line": {
              "color": "#E5ECF6",
              "width": 0.5
             },
             "pattern": {
              "fillmode": "overlay",
              "size": 10,
              "solidity": 0.2
             }
            },
            "type": "barpolar"
           }
          ],
          "carpet": [
           {
            "aaxis": {
             "endlinecolor": "#2a3f5f",
             "gridcolor": "white",
             "linecolor": "white",
             "minorgridcolor": "white",
             "startlinecolor": "#2a3f5f"
            },
            "baxis": {
             "endlinecolor": "#2a3f5f",
             "gridcolor": "white",
             "linecolor": "white",
             "minorgridcolor": "white",
             "startlinecolor": "#2a3f5f"
            },
            "type": "carpet"
           }
          ],
          "choropleth": [
           {
            "colorbar": {
             "outlinewidth": 0,
             "ticks": ""
            },
            "type": "choropleth"
           }
          ],
          "contour": [
           {
            "colorbar": {
             "outlinewidth": 0,
             "ticks": ""
            },
            "colorscale": [
             [
              0,
              "#0d0887"
             ],
             [
              0.1111111111111111,
              "#46039f"
             ],
             [
              0.2222222222222222,
              "#7201a8"
             ],
             [
              0.3333333333333333,
              "#9c179e"
             ],
             [
              0.4444444444444444,
              "#bd3786"
             ],
             [
              0.5555555555555556,
              "#d8576b"
             ],
             [
              0.6666666666666666,
              "#ed7953"
             ],
             [
              0.7777777777777778,
              "#fb9f3a"
             ],
             [
              0.8888888888888888,
              "#fdca26"
             ],
             [
              1,
              "#f0f921"
             ]
            ],
            "type": "contour"
           }
          ],
          "contourcarpet": [
           {
            "colorbar": {
             "outlinewidth": 0,
             "ticks": ""
            },
            "type": "contourcarpet"
           }
          ],
          "heatmap": [
           {
            "colorbar": {
             "outlinewidth": 0,
             "ticks": ""
            },
            "colorscale": [
             [
              0,
              "#0d0887"
             ],
             [
              0.1111111111111111,
              "#46039f"
             ],
             [
              0.2222222222222222,
              "#7201a8"
             ],
             [
              0.3333333333333333,
              "#9c179e"
             ],
             [
              0.4444444444444444,
              "#bd3786"
             ],
             [
              0.5555555555555556,
              "#d8576b"
             ],
             [
              0.6666666666666666,
              "#ed7953"
             ],
             [
              0.7777777777777778,
              "#fb9f3a"
             ],
             [
              0.8888888888888888,
              "#fdca26"
             ],
             [
              1,
              "#f0f921"
             ]
            ],
            "type": "heatmap"
           }
          ],
          "heatmapgl": [
           {
            "colorbar": {
             "outlinewidth": 0,
             "ticks": ""
            },
            "colorscale": [
             [
              0,
              "#0d0887"
             ],
             [
              0.1111111111111111,
              "#46039f"
             ],
             [
              0.2222222222222222,
              "#7201a8"
             ],
             [
              0.3333333333333333,
              "#9c179e"
             ],
             [
              0.4444444444444444,
              "#bd3786"
             ],
             [
              0.5555555555555556,
              "#d8576b"
             ],
             [
              0.6666666666666666,
              "#ed7953"
             ],
             [
              0.7777777777777778,
              "#fb9f3a"
             ],
             [
              0.8888888888888888,
              "#fdca26"
             ],
             [
              1,
              "#f0f921"
             ]
            ],
            "type": "heatmapgl"
           }
          ],
          "histogram": [
           {
            "marker": {
             "pattern": {
              "fillmode": "overlay",
              "size": 10,
              "solidity": 0.2
             }
            },
            "type": "histogram"
           }
          ],
          "histogram2d": [
           {
            "colorbar": {
             "outlinewidth": 0,
             "ticks": ""
            },
            "colorscale": [
             [
              0,
              "#0d0887"
             ],
             [
              0.1111111111111111,
              "#46039f"
             ],
             [
              0.2222222222222222,
              "#7201a8"
             ],
             [
              0.3333333333333333,
              "#9c179e"
             ],
             [
              0.4444444444444444,
              "#bd3786"
             ],
             [
              0.5555555555555556,
              "#d8576b"
             ],
             [
              0.6666666666666666,
              "#ed7953"
             ],
             [
              0.7777777777777778,
              "#fb9f3a"
             ],
             [
              0.8888888888888888,
              "#fdca26"
             ],
             [
              1,
              "#f0f921"
             ]
            ],
            "type": "histogram2d"
           }
          ],
          "histogram2dcontour": [
           {
            "colorbar": {
             "outlinewidth": 0,
             "ticks": ""
            },
            "colorscale": [
             [
              0,
              "#0d0887"
             ],
             [
              0.1111111111111111,
              "#46039f"
             ],
             [
              0.2222222222222222,
              "#7201a8"
             ],
             [
              0.3333333333333333,
              "#9c179e"
             ],
             [
              0.4444444444444444,
              "#bd3786"
             ],
             [
              0.5555555555555556,
              "#d8576b"
             ],
             [
              0.6666666666666666,
              "#ed7953"
             ],
             [
              0.7777777777777778,
              "#fb9f3a"
             ],
             [
              0.8888888888888888,
              "#fdca26"
             ],
             [
              1,
              "#f0f921"
             ]
            ],
            "type": "histogram2dcontour"
           }
          ],
          "mesh3d": [
           {
            "colorbar": {
             "outlinewidth": 0,
             "ticks": ""
            },
            "type": "mesh3d"
           }
          ],
          "parcoords": [
           {
            "line": {
             "colorbar": {
              "outlinewidth": 0,
              "ticks": ""
             }
            },
            "type": "parcoords"
           }
          ],
          "pie": [
           {
            "automargin": true,
            "type": "pie"
           }
          ],
          "scatter": [
           {
            "fillpattern": {
             "fillmode": "overlay",
             "size": 10,
             "solidity": 0.2
            },
            "type": "scatter"
           }
          ],
          "scatter3d": [
           {
            "line": {
             "colorbar": {
              "outlinewidth": 0,
              "ticks": ""
             }
            },
            "marker": {
             "colorbar": {
              "outlinewidth": 0,
              "ticks": ""
             }
            },
            "type": "scatter3d"
           }
          ],
          "scattercarpet": [
           {
            "marker": {
             "colorbar": {
              "outlinewidth": 0,
              "ticks": ""
             }
            },
            "type": "scattercarpet"
           }
          ],
          "scattergeo": [
           {
            "marker": {
             "colorbar": {
              "outlinewidth": 0,
              "ticks": ""
             }
            },
            "type": "scattergeo"
           }
          ],
          "scattergl": [
           {
            "marker": {
             "colorbar": {
              "outlinewidth": 0,
              "ticks": ""
             }
            },
            "type": "scattergl"
           }
          ],
          "scattermapbox": [
           {
            "marker": {
             "colorbar": {
              "outlinewidth": 0,
              "ticks": ""
             }
            },
            "type": "scattermapbox"
           }
          ],
          "scatterpolar": [
           {
            "marker": {
             "colorbar": {
              "outlinewidth": 0,
              "ticks": ""
             }
            },
            "type": "scatterpolar"
           }
          ],
          "scatterpolargl": [
           {
            "marker": {
             "colorbar": {
              "outlinewidth": 0,
              "ticks": ""
             }
            },
            "type": "scatterpolargl"
           }
          ],
          "scatterternary": [
           {
            "marker": {
             "colorbar": {
              "outlinewidth": 0,
              "ticks": ""
             }
            },
            "type": "scatterternary"
           }
          ],
          "surface": [
           {
            "colorbar": {
             "outlinewidth": 0,
             "ticks": ""
            },
            "colorscale": [
             [
              0,
              "#0d0887"
             ],
             [
              0.1111111111111111,
              "#46039f"
             ],
             [
              0.2222222222222222,
              "#7201a8"
             ],
             [
              0.3333333333333333,
              "#9c179e"
             ],
             [
              0.4444444444444444,
              "#bd3786"
             ],
             [
              0.5555555555555556,
              "#d8576b"
             ],
             [
              0.6666666666666666,
              "#ed7953"
             ],
             [
              0.7777777777777778,
              "#fb9f3a"
             ],
             [
              0.8888888888888888,
              "#fdca26"
             ],
             [
              1,
              "#f0f921"
             ]
            ],
            "type": "surface"
           }
          ],
          "table": [
           {
            "cells": {
             "fill": {
              "color": "#EBF0F8"
             },
             "line": {
              "color": "white"
             }
            },
            "header": {
             "fill": {
              "color": "#C8D4E3"
             },
             "line": {
              "color": "white"
             }
            },
            "type": "table"
           }
          ]
         },
         "layout": {
          "annotationdefaults": {
           "arrowcolor": "#2a3f5f",
           "arrowhead": 0,
           "arrowwidth": 1
          },
          "autotypenumbers": "strict",
          "coloraxis": {
           "colorbar": {
            "outlinewidth": 0,
            "ticks": ""
           }
          },
          "colorscale": {
           "diverging": [
            [
             0,
             "#8e0152"
            ],
            [
             0.1,
             "#c51b7d"
            ],
            [
             0.2,
             "#de77ae"
            ],
            [
             0.3,
             "#f1b6da"
            ],
            [
             0.4,
             "#fde0ef"
            ],
            [
             0.5,
             "#f7f7f7"
            ],
            [
             0.6,
             "#e6f5d0"
            ],
            [
             0.7,
             "#b8e186"
            ],
            [
             0.8,
             "#7fbc41"
            ],
            [
             0.9,
             "#4d9221"
            ],
            [
             1,
             "#276419"
            ]
           ],
           "sequential": [
            [
             0,
             "#0d0887"
            ],
            [
             0.1111111111111111,
             "#46039f"
            ],
            [
             0.2222222222222222,
             "#7201a8"
            ],
            [
             0.3333333333333333,
             "#9c179e"
            ],
            [
             0.4444444444444444,
             "#bd3786"
            ],
            [
             0.5555555555555556,
             "#d8576b"
            ],
            [
             0.6666666666666666,
             "#ed7953"
            ],
            [
             0.7777777777777778,
             "#fb9f3a"
            ],
            [
             0.8888888888888888,
             "#fdca26"
            ],
            [
             1,
             "#f0f921"
            ]
           ],
           "sequentialminus": [
            [
             0,
             "#0d0887"
            ],
            [
             0.1111111111111111,
             "#46039f"
            ],
            [
             0.2222222222222222,
             "#7201a8"
            ],
            [
             0.3333333333333333,
             "#9c179e"
            ],
            [
             0.4444444444444444,
             "#bd3786"
            ],
            [
             0.5555555555555556,
             "#d8576b"
            ],
            [
             0.6666666666666666,
             "#ed7953"
            ],
            [
             0.7777777777777778,
             "#fb9f3a"
            ],
            [
             0.8888888888888888,
             "#fdca26"
            ],
            [
             1,
             "#f0f921"
            ]
           ]
          },
          "colorway": [
           "#636efa",
           "#EF553B",
           "#00cc96",
           "#ab63fa",
           "#FFA15A",
           "#19d3f3",
           "#FF6692",
           "#B6E880",
           "#FF97FF",
           "#FECB52"
          ],
          "font": {
           "color": "#2a3f5f"
          },
          "geo": {
           "bgcolor": "white",
           "lakecolor": "white",
           "landcolor": "#E5ECF6",
           "showlakes": true,
           "showland": true,
           "subunitcolor": "white"
          },
          "hoverlabel": {
           "align": "left"
          },
          "hovermode": "closest",
          "mapbox": {
           "style": "light"
          },
          "paper_bgcolor": "white",
          "plot_bgcolor": "#E5ECF6",
          "polar": {
           "angularaxis": {
            "gridcolor": "white",
            "linecolor": "white",
            "ticks": ""
           },
           "bgcolor": "#E5ECF6",
           "radialaxis": {
            "gridcolor": "white",
            "linecolor": "white",
            "ticks": ""
           }
          },
          "scene": {
           "xaxis": {
            "backgroundcolor": "#E5ECF6",
            "gridcolor": "white",
            "gridwidth": 2,
            "linecolor": "white",
            "showbackground": true,
            "ticks": "",
            "zerolinecolor": "white"
           },
           "yaxis": {
            "backgroundcolor": "#E5ECF6",
            "gridcolor": "white",
            "gridwidth": 2,
            "linecolor": "white",
            "showbackground": true,
            "ticks": "",
            "zerolinecolor": "white"
           },
           "zaxis": {
            "backgroundcolor": "#E5ECF6",
            "gridcolor": "white",
            "gridwidth": 2,
            "linecolor": "white",
            "showbackground": true,
            "ticks": "",
            "zerolinecolor": "white"
           }
          },
          "shapedefaults": {
           "line": {
            "color": "#2a3f5f"
           }
          },
          "ternary": {
           "aaxis": {
            "gridcolor": "white",
            "linecolor": "white",
            "ticks": ""
           },
           "baxis": {
            "gridcolor": "white",
            "linecolor": "white",
            "ticks": ""
           },
           "bgcolor": "#E5ECF6",
           "caxis": {
            "gridcolor": "white",
            "linecolor": "white",
            "ticks": ""
           }
          },
          "title": {
           "x": 0.05
          },
          "xaxis": {
           "automargin": true,
           "gridcolor": "white",
           "linecolor": "white",
           "ticks": "",
           "title": {
            "standoff": 15
           },
           "zerolinecolor": "white",
           "zerolinewidth": 2
          },
          "yaxis": {
           "automargin": true,
           "gridcolor": "white",
           "linecolor": "white",
           "ticks": "",
           "title": {
            "standoff": 15
           },
           "zerolinecolor": "white",
           "zerolinewidth": 2
          }
         }
        },
        "title": {
         "text": "🧠 Toss Impact on Winning Matches"
        }
       }
      }
     },
     "metadata": {},
     "output_type": "display_data"
    }
   ],
   "source": [
    "import plotly.express as px\n",
    "\n",
    "# Toss winner decision vs match winner\n",
    "combined_df['toss_match_result'] = combined_df.apply(lambda row: 'Won Toss and Match' if row['toss_winner'] == row['winner'] else 'Lost After Toss', axis=1)\n",
    "\n",
    "toss_outcomes = combined_df[['match_id', 'toss_match_result']].drop_duplicates()\n",
    "\n",
    "fig = px.pie(toss_outcomes, names='toss_match_result', title='🧠 Toss Impact on Winning Matches')\n",
    "\n",
    "fig.show()\n"
   ]
  },
  {
   "cell_type": "code",
   "execution_count": null,
   "id": "2897f1a3",
   "metadata": {},
   "outputs": [],
   "source": []
  }
 ],
 "metadata": {
  "kernelspec": {
   "display_name": "base",
   "language": "python",
   "name": "python3"
  },
  "language_info": {
   "codemirror_mode": {
    "name": "ipython",
    "version": 3
   },
   "file_extension": ".py",
   "mimetype": "text/x-python",
   "name": "python",
   "nbconvert_exporter": "python",
   "pygments_lexer": "ipython3",
   "version": "3.12.4"
  }
 },
 "nbformat": 4,
 "nbformat_minor": 5
}
