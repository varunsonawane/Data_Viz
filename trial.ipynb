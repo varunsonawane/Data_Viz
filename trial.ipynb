{
 "cells": [
  {
   "cell_type": "code",
   "execution_count": 1,
   "metadata": {},
   "outputs": [
    {
     "name": "stdout",
     "output_type": "stream",
     "text": [
      "<class 'pandas.core.frame.DataFrame'>\n",
      "RangeIndex: 970 entries, 0 to 969\n",
      "Data columns (total 6 columns):\n",
      " #   Column         Non-Null Count  Dtype  \n",
      "---  ------         --------------  -----  \n",
      " 0   Player         970 non-null    object \n",
      " 1   Role           970 non-null    object \n",
      " 2   Amount         970 non-null    int64  \n",
      " 3   Team           970 non-null    object \n",
      " 4   Year           969 non-null    float64\n",
      " 5   Player Origin  970 non-null    object \n",
      "dtypes: float64(1), int64(1), object(4)\n",
      "memory usage: 45.6+ KB\n"
     ]
    }
   ],
   "source": [
    "import pandas as pd\n",
    "import plotly.express as px\n",
    "\n",
    "# Load your auction data\n",
    "auction = pd.read_csv('archive/IPLPlayerAuctionData.csv')\n",
    "\n",
    "auction.info()\n",
    "# # Cleaning: Convert Price to Numeric\n",
    "# auction['Price (INR)'] = auction['Price (INR)'].str.replace(',', '').astype(float)\n",
    "\n",
    "# # Group by Team\n",
    "# team_spend = auction.groupby('Team', as_index=False)['Price (INR)'].sum()\n",
    "\n",
    "# # Create Treemap\n",
    "# fig = px.treemap(team_spend, \n",
    "#                  path=['Team'], \n",
    "#                  values='Price (INR)',\n",
    "#                  title='Total Auction Spending by Team (2013-2024)',\n",
    "#                  color='Price (INR)', \n",
    "#                  color_continuous_scale='Blues')\n",
    "\n",
    "# fig.update_layout(margin=dict(t=50, l=25, r=25, b=25))\n",
    "# fig.show()\n"
   ]
  },
  {
   "cell_type": "code",
   "execution_count": 12,
   "metadata": {},
   "outputs": [
    {
     "data": {
      "application/vnd.plotly.v1+json": {
       "config": {
        "plotlyServerURL": "https://plot.ly"
       },
       "data": [
        {
         "branchvalues": "total",
         "customdata": [
          [
           1570875000,
           "Chennai Super Kings"
          ],
          [
           953000000,
           "Delhi Capitals"
          ],
          [
           1945500000,
           "Delhi Daredevils"
          ],
          [
           205000000,
           "Gujarat Lions"
          ],
          [
           518500000,
           "Gujarat Titans"
          ],
          [
           1947000000,
           "Kings XI Punjab"
          ],
          [
           2165125000,
           "Kolkata Knight Riders"
          ],
          [
           590000000,
           "Lucknow Super Giants"
          ],
          [
           1870000000,
           "Mumbai Indians"
          ],
          [
           187500000,
           "Pune Warriors India"
          ],
          [
           1029500000,
           "Punjab Kings"
          ],
          [
           2028249999.9999998,
           "Rajasthan Royals"
          ],
          [
           390000000,
           "Rising Pune Supergiant"
          ],
          [
           2709625000,
           "Royal Challengers Bangalore"
          ],
          [
           2311000000,
           "Sunrisers Hyderabad"
          ]
         ],
         "domain": {
          "x": [
           0,
           1
          ],
          "y": [
           0,
           1
          ]
         },
         "hovertemplate": "labels=%{label}<br>Amount_sum=%{value}<br>parent=%{parent}<br>id=%{id}<br>Amount=%{color}<br>Team=%{customdata[1]}<extra></extra>",
         "ids": [
          "Chennai Super Kings",
          "Delhi Capitals",
          "Delhi Daredevils",
          "Gujarat Lions",
          "Gujarat Titans",
          "Kings XI Punjab",
          "Kolkata Knight Riders",
          "Lucknow Super Giants",
          "Mumbai Indians",
          "Pune Warriors India",
          "Punjab Kings",
          "Rajasthan Royals",
          "Rising Pune Supergiant",
          "Royal Challengers Bangalore",
          "Sunrisers Hyderabad"
         ],
         "labels": [
          "Chennai Super Kings",
          "Delhi Capitals",
          "Delhi Daredevils",
          "Gujarat Lions",
          "Gujarat Titans",
          "Kings XI Punjab",
          "Kolkata Knight Riders",
          "Lucknow Super Giants",
          "Mumbai Indians",
          "Pune Warriors India",
          "Punjab Kings",
          "Rajasthan Royals",
          "Rising Pune Supergiant",
          "Royal Challengers Bangalore",
          "Sunrisers Hyderabad"
         ],
         "marker": {
          "coloraxis": "coloraxis",
          "colors": [
           1570875000,
           953000000,
           1945500000,
           205000000,
           518500000,
           1947000000,
           2165125000,
           590000000,
           1870000000,
           187500000,
           1029500000,
           2028249999.9999998,
           390000000,
           2709625000,
           2311000000
          ]
         },
         "name": "",
         "parents": [
          "",
          "",
          "",
          "",
          "",
          "",
          "",
          "",
          "",
          "",
          "",
          "",
          "",
          "",
          ""
         ],
         "type": "treemap",
         "values": [
          1570875000,
          953000000,
          1945500000,
          205000000,
          518500000,
          1947000000,
          2165125000,
          590000000,
          1870000000,
          187500000,
          1029500000,
          2028250000,
          390000000,
          2709625000,
          2311000000
         ]
        }
       ],
       "layout": {
        "coloraxis": {
         "colorbar": {
          "title": {
           "text": "Amount"
          }
         },
         "colorscale": [
          [
           0,
           "rgb(247,251,255)"
          ],
          [
           0.125,
           "rgb(222,235,247)"
          ],
          [
           0.25,
           "rgb(198,219,239)"
          ],
          [
           0.375,
           "rgb(158,202,225)"
          ],
          [
           0.5,
           "rgb(107,174,214)"
          ],
          [
           0.625,
           "rgb(66,146,198)"
          ],
          [
           0.75,
           "rgb(33,113,181)"
          ],
          [
           0.875,
           "rgb(8,81,156)"
          ],
          [
           1,
           "rgb(8,48,107)"
          ]
         ]
        },
        "hoverlabel": {
         "bgcolor": "white",
         "font": {
          "family": "Rockwell",
          "size": 14
         }
        },
        "legend": {
         "tracegroupgap": 0
        },
        "margin": {
         "b": 25,
         "l": 25,
         "r": 25,
         "t": 50
        },
        "template": {
         "data": {
          "bar": [
           {
            "error_x": {
             "color": "#2a3f5f"
            },
            "error_y": {
             "color": "#2a3f5f"
            },
            "marker": {
             "line": {
              "color": "#E5ECF6",
              "width": 0.5
             },
             "pattern": {
              "fillmode": "overlay",
              "size": 10,
              "solidity": 0.2
             }
            },
            "type": "bar"
           }
          ],
          "barpolar": [
           {
            "marker": {
             "line": {
              "color": "#E5ECF6",
              "width": 0.5
             },
             "pattern": {
              "fillmode": "overlay",
              "size": 10,
              "solidity": 0.2
             }
            },
            "type": "barpolar"
           }
          ],
          "carpet": [
           {
            "aaxis": {
             "endlinecolor": "#2a3f5f",
             "gridcolor": "white",
             "linecolor": "white",
             "minorgridcolor": "white",
             "startlinecolor": "#2a3f5f"
            },
            "baxis": {
             "endlinecolor": "#2a3f5f",
             "gridcolor": "white",
             "linecolor": "white",
             "minorgridcolor": "white",
             "startlinecolor": "#2a3f5f"
            },
            "type": "carpet"
           }
          ],
          "choropleth": [
           {
            "colorbar": {
             "outlinewidth": 0,
             "ticks": ""
            },
            "type": "choropleth"
           }
          ],
          "contour": [
           {
            "colorbar": {
             "outlinewidth": 0,
             "ticks": ""
            },
            "colorscale": [
             [
              0,
              "#0d0887"
             ],
             [
              0.1111111111111111,
              "#46039f"
             ],
             [
              0.2222222222222222,
              "#7201a8"
             ],
             [
              0.3333333333333333,
              "#9c179e"
             ],
             [
              0.4444444444444444,
              "#bd3786"
             ],
             [
              0.5555555555555556,
              "#d8576b"
             ],
             [
              0.6666666666666666,
              "#ed7953"
             ],
             [
              0.7777777777777778,
              "#fb9f3a"
             ],
             [
              0.8888888888888888,
              "#fdca26"
             ],
             [
              1,
              "#f0f921"
             ]
            ],
            "type": "contour"
           }
          ],
          "contourcarpet": [
           {
            "colorbar": {
             "outlinewidth": 0,
             "ticks": ""
            },
            "type": "contourcarpet"
           }
          ],
          "heatmap": [
           {
            "colorbar": {
             "outlinewidth": 0,
             "ticks": ""
            },
            "colorscale": [
             [
              0,
              "#0d0887"
             ],
             [
              0.1111111111111111,
              "#46039f"
             ],
             [
              0.2222222222222222,
              "#7201a8"
             ],
             [
              0.3333333333333333,
              "#9c179e"
             ],
             [
              0.4444444444444444,
              "#bd3786"
             ],
             [
              0.5555555555555556,
              "#d8576b"
             ],
             [
              0.6666666666666666,
              "#ed7953"
             ],
             [
              0.7777777777777778,
              "#fb9f3a"
             ],
             [
              0.8888888888888888,
              "#fdca26"
             ],
             [
              1,
              "#f0f921"
             ]
            ],
            "type": "heatmap"
           }
          ],
          "heatmapgl": [
           {
            "colorbar": {
             "outlinewidth": 0,
             "ticks": ""
            },
            "colorscale": [
             [
              0,
              "#0d0887"
             ],
             [
              0.1111111111111111,
              "#46039f"
             ],
             [
              0.2222222222222222,
              "#7201a8"
             ],
             [
              0.3333333333333333,
              "#9c179e"
             ],
             [
              0.4444444444444444,
              "#bd3786"
             ],
             [
              0.5555555555555556,
              "#d8576b"
             ],
             [
              0.6666666666666666,
              "#ed7953"
             ],
             [
              0.7777777777777778,
              "#fb9f3a"
             ],
             [
              0.8888888888888888,
              "#fdca26"
             ],
             [
              1,
              "#f0f921"
             ]
            ],
            "type": "heatmapgl"
           }
          ],
          "histogram": [
           {
            "marker": {
             "pattern": {
              "fillmode": "overlay",
              "size": 10,
              "solidity": 0.2
             }
            },
            "type": "histogram"
           }
          ],
          "histogram2d": [
           {
            "colorbar": {
             "outlinewidth": 0,
             "ticks": ""
            },
            "colorscale": [
             [
              0,
              "#0d0887"
             ],
             [
              0.1111111111111111,
              "#46039f"
             ],
             [
              0.2222222222222222,
              "#7201a8"
             ],
             [
              0.3333333333333333,
              "#9c179e"
             ],
             [
              0.4444444444444444,
              "#bd3786"
             ],
             [
              0.5555555555555556,
              "#d8576b"
             ],
             [
              0.6666666666666666,
              "#ed7953"
             ],
             [
              0.7777777777777778,
              "#fb9f3a"
             ],
             [
              0.8888888888888888,
              "#fdca26"
             ],
             [
              1,
              "#f0f921"
             ]
            ],
            "type": "histogram2d"
           }
          ],
          "histogram2dcontour": [
           {
            "colorbar": {
             "outlinewidth": 0,
             "ticks": ""
            },
            "colorscale": [
             [
              0,
              "#0d0887"
             ],
             [
              0.1111111111111111,
              "#46039f"
             ],
             [
              0.2222222222222222,
              "#7201a8"
             ],
             [
              0.3333333333333333,
              "#9c179e"
             ],
             [
              0.4444444444444444,
              "#bd3786"
             ],
             [
              0.5555555555555556,
              "#d8576b"
             ],
             [
              0.6666666666666666,
              "#ed7953"
             ],
             [
              0.7777777777777778,
              "#fb9f3a"
             ],
             [
              0.8888888888888888,
              "#fdca26"
             ],
             [
              1,
              "#f0f921"
             ]
            ],
            "type": "histogram2dcontour"
           }
          ],
          "mesh3d": [
           {
            "colorbar": {
             "outlinewidth": 0,
             "ticks": ""
            },
            "type": "mesh3d"
           }
          ],
          "parcoords": [
           {
            "line": {
             "colorbar": {
              "outlinewidth": 0,
              "ticks": ""
             }
            },
            "type": "parcoords"
           }
          ],
          "pie": [
           {
            "automargin": true,
            "type": "pie"
           }
          ],
          "scatter": [
           {
            "fillpattern": {
             "fillmode": "overlay",
             "size": 10,
             "solidity": 0.2
            },
            "type": "scatter"
           }
          ],
          "scatter3d": [
           {
            "line": {
             "colorbar": {
              "outlinewidth": 0,
              "ticks": ""
             }
            },
            "marker": {
             "colorbar": {
              "outlinewidth": 0,
              "ticks": ""
             }
            },
            "type": "scatter3d"
           }
          ],
          "scattercarpet": [
           {
            "marker": {
             "colorbar": {
              "outlinewidth": 0,
              "ticks": ""
             }
            },
            "type": "scattercarpet"
           }
          ],
          "scattergeo": [
           {
            "marker": {
             "colorbar": {
              "outlinewidth": 0,
              "ticks": ""
             }
            },
            "type": "scattergeo"
           }
          ],
          "scattergl": [
           {
            "marker": {
             "colorbar": {
              "outlinewidth": 0,
              "ticks": ""
             }
            },
            "type": "scattergl"
           }
          ],
          "scattermapbox": [
           {
            "marker": {
             "colorbar": {
              "outlinewidth": 0,
              "ticks": ""
             }
            },
            "type": "scattermapbox"
           }
          ],
          "scatterpolar": [
           {
            "marker": {
             "colorbar": {
              "outlinewidth": 0,
              "ticks": ""
             }
            },
            "type": "scatterpolar"
           }
          ],
          "scatterpolargl": [
           {
            "marker": {
             "colorbar": {
              "outlinewidth": 0,
              "ticks": ""
             }
            },
            "type": "scatterpolargl"
           }
          ],
          "scatterternary": [
           {
            "marker": {
             "colorbar": {
              "outlinewidth": 0,
              "ticks": ""
             }
            },
            "type": "scatterternary"
           }
          ],
          "surface": [
           {
            "colorbar": {
             "outlinewidth": 0,
             "ticks": ""
            },
            "colorscale": [
             [
              0,
              "#0d0887"
             ],
             [
              0.1111111111111111,
              "#46039f"
             ],
             [
              0.2222222222222222,
              "#7201a8"
             ],
             [
              0.3333333333333333,
              "#9c179e"
             ],
             [
              0.4444444444444444,
              "#bd3786"
             ],
             [
              0.5555555555555556,
              "#d8576b"
             ],
             [
              0.6666666666666666,
              "#ed7953"
             ],
             [
              0.7777777777777778,
              "#fb9f3a"
             ],
             [
              0.8888888888888888,
              "#fdca26"
             ],
             [
              1,
              "#f0f921"
             ]
            ],
            "type": "surface"
           }
          ],
          "table": [
           {
            "cells": {
             "fill": {
              "color": "#EBF0F8"
             },
             "line": {
              "color": "white"
             }
            },
            "header": {
             "fill": {
              "color": "#C8D4E3"
             },
             "line": {
              "color": "white"
             }
            },
            "type": "table"
           }
          ]
         },
         "layout": {
          "annotationdefaults": {
           "arrowcolor": "#2a3f5f",
           "arrowhead": 0,
           "arrowwidth": 1
          },
          "autotypenumbers": "strict",
          "coloraxis": {
           "colorbar": {
            "outlinewidth": 0,
            "ticks": ""
           }
          },
          "colorscale": {
           "diverging": [
            [
             0,
             "#8e0152"
            ],
            [
             0.1,
             "#c51b7d"
            ],
            [
             0.2,
             "#de77ae"
            ],
            [
             0.3,
             "#f1b6da"
            ],
            [
             0.4,
             "#fde0ef"
            ],
            [
             0.5,
             "#f7f7f7"
            ],
            [
             0.6,
             "#e6f5d0"
            ],
            [
             0.7,
             "#b8e186"
            ],
            [
             0.8,
             "#7fbc41"
            ],
            [
             0.9,
             "#4d9221"
            ],
            [
             1,
             "#276419"
            ]
           ],
           "sequential": [
            [
             0,
             "#0d0887"
            ],
            [
             0.1111111111111111,
             "#46039f"
            ],
            [
             0.2222222222222222,
             "#7201a8"
            ],
            [
             0.3333333333333333,
             "#9c179e"
            ],
            [
             0.4444444444444444,
             "#bd3786"
            ],
            [
             0.5555555555555556,
             "#d8576b"
            ],
            [
             0.6666666666666666,
             "#ed7953"
            ],
            [
             0.7777777777777778,
             "#fb9f3a"
            ],
            [
             0.8888888888888888,
             "#fdca26"
            ],
            [
             1,
             "#f0f921"
            ]
           ],
           "sequentialminus": [
            [
             0,
             "#0d0887"
            ],
            [
             0.1111111111111111,
             "#46039f"
            ],
            [
             0.2222222222222222,
             "#7201a8"
            ],
            [
             0.3333333333333333,
             "#9c179e"
            ],
            [
             0.4444444444444444,
             "#bd3786"
            ],
            [
             0.5555555555555556,
             "#d8576b"
            ],
            [
             0.6666666666666666,
             "#ed7953"
            ],
            [
             0.7777777777777778,
             "#fb9f3a"
            ],
            [
             0.8888888888888888,
             "#fdca26"
            ],
            [
             1,
             "#f0f921"
            ]
           ]
          },
          "colorway": [
           "#636efa",
           "#EF553B",
           "#00cc96",
           "#ab63fa",
           "#FFA15A",
           "#19d3f3",
           "#FF6692",
           "#B6E880",
           "#FF97FF",
           "#FECB52"
          ],
          "font": {
           "color": "#2a3f5f"
          },
          "geo": {
           "bgcolor": "white",
           "lakecolor": "white",
           "landcolor": "#E5ECF6",
           "showlakes": true,
           "showland": true,
           "subunitcolor": "white"
          },
          "hoverlabel": {
           "align": "left"
          },
          "hovermode": "closest",
          "mapbox": {
           "style": "light"
          },
          "paper_bgcolor": "white",
          "plot_bgcolor": "#E5ECF6",
          "polar": {
           "angularaxis": {
            "gridcolor": "white",
            "linecolor": "white",
            "ticks": ""
           },
           "bgcolor": "#E5ECF6",
           "radialaxis": {
            "gridcolor": "white",
            "linecolor": "white",
            "ticks": ""
           }
          },
          "scene": {
           "xaxis": {
            "backgroundcolor": "#E5ECF6",
            "gridcolor": "white",
            "gridwidth": 2,
            "linecolor": "white",
            "showbackground": true,
            "ticks": "",
            "zerolinecolor": "white"
           },
           "yaxis": {
            "backgroundcolor": "#E5ECF6",
            "gridcolor": "white",
            "gridwidth": 2,
            "linecolor": "white",
            "showbackground": true,
            "ticks": "",
            "zerolinecolor": "white"
           },
           "zaxis": {
            "backgroundcolor": "#E5ECF6",
            "gridcolor": "white",
            "gridwidth": 2,
            "linecolor": "white",
            "showbackground": true,
            "ticks": "",
            "zerolinecolor": "white"
           }
          },
          "shapedefaults": {
           "line": {
            "color": "#2a3f5f"
           }
          },
          "ternary": {
           "aaxis": {
            "gridcolor": "white",
            "linecolor": "white",
            "ticks": ""
           },
           "baxis": {
            "gridcolor": "white",
            "linecolor": "white",
            "ticks": ""
           },
           "bgcolor": "#E5ECF6",
           "caxis": {
            "gridcolor": "white",
            "linecolor": "white",
            "ticks": ""
           }
          },
          "title": {
           "x": 0.05
          },
          "xaxis": {
           "automargin": true,
           "gridcolor": "white",
           "linecolor": "white",
           "ticks": "",
           "title": {
            "standoff": 15
           },
           "zerolinecolor": "white",
           "zerolinewidth": 2
          },
          "yaxis": {
           "automargin": true,
           "gridcolor": "white",
           "linecolor": "white",
           "ticks": "",
           "title": {
            "standoff": 15
           },
           "zerolinecolor": "white",
           "zerolinewidth": 2
          }
         }
        },
        "title": {
         "text": "Total Auction Spending by Team (2013–2024)"
        }
       }
      }
     },
     "metadata": {},
     "output_type": "display_data"
    }
   ],
   "source": [
    "import pandas as pd\n",
    "import plotly.express as px\n",
    "\n",
    "# Load auction data\n",
    "auction = pd.read_csv('archive/IPLPlayerAuctionData.csv')\n",
    "\n",
    "# Drop rows with missing Year if any\n",
    "auction = auction.dropna(subset=['Year'])\n",
    "\n",
    "# Convert Year to integer\n",
    "auction['Year'] = auction['Year'].astype(int)\n",
    "\n",
    "# Group by Team\n",
    "team_spend = auction.groupby('Team', as_index=False)['Amount'].sum()\n",
    "\n",
    "# Create Treemap with detailed hover info\n",
    "fig = px.treemap(team_spend, \n",
    "                 path=['Team'], \n",
    "                 values='Amount',\n",
    "                 title='Total Auction Spending by Team (2013–2024)',\n",
    "                 color='Amount', \n",
    "                 color_continuous_scale='Blues',\n",
    "                 hover_data={'Amount': True, 'Team': True})\n",
    "\n",
    "fig.update_layout(\n",
    "    margin=dict(t=50, l=25, r=25, b=25),\n",
    "    hoverlabel=dict(\n",
    "        bgcolor=\"white\", \n",
    "        font_size=14, \n",
    "        font_family=\"Rockwell\"\n",
    "    )\n",
    ")\n",
    "\n",
    "fig.show()\n"
   ]
  },
  {
   "cell_type": "code",
   "execution_count": 18,
   "metadata": {},
   "outputs": [
    {
     "data": {
      "application/vnd.plotly.v1+json": {
       "config": {
        "plotlyServerURL": "https://plot.ly"
       },
       "data": [
        {
         "link": {
          "source": [
           0,
           1,
           2,
           3,
           4,
           5,
           4,
           6,
           7,
           4,
           1,
           0,
           2,
           4,
           0,
           7,
           8,
           9,
           9,
           10
          ],
          "target": [
           11,
           12,
           13,
           14,
           15,
           16,
           17,
           18,
           19,
           12,
           21,
           16,
           23,
           24,
           25,
           26,
           27,
           28,
           29,
           30
          ],
          "value": [
           162500000,
           160000000,
           155000000,
           152500000,
           150000000,
           145000000,
           142500000,
           140000000,
           140000000,
           140000000,
           125000000,
           125000000,
           122500000,
           120000000,
           115000000,
           115000000,
           110000000,
           110000000,
           107500000,
           107500000
          ]
         },
         "node": {
          "label": [
           "Rajasthan Royals",
           "Delhi Daredevils",
           "Kolkata Knight Riders",
           "Mumbai Indians",
           "Royal Challengers Bangalore",
           "Rising Pune Supergiant",
           "Chennai Super Kings",
           "Punjab Kings",
           "Kings XI Punjab",
           "Sunrisers Hyderabad",
           "Delhi Capitals",
           "Christopher Morris",
           "Yuvraj Singh",
           "Pat Cummins",
           "Ishan Kishan",
           "Kyle Jamieson",
           "Benjamin Stokes",
           "Glenn Maxwell",
           "Deepak Chahar",
           "Jhye Richardson",
           "Yuvraj Singh",
           "Dinesh Karthik",
           "Benjamin Stokes",
           "Shreyas Iyer",
           "Tymal Mills",
           "Jaydev Unadkat",
           "Liam Livingstone",
           "KL Rahul",
           "Manish Pandey",
           "Nicolas Pooran",
           "Shardul Thakur"
          ],
          "line": {
           "color": "black",
           "width": 0.5
          },
          "pad": 30,
          "thickness": 20
         },
         "type": "sankey"
        }
       ],
       "layout": {
        "font": {
         "size": 10
        },
        "template": {
         "data": {
          "bar": [
           {
            "error_x": {
             "color": "#2a3f5f"
            },
            "error_y": {
             "color": "#2a3f5f"
            },
            "marker": {
             "line": {
              "color": "#E5ECF6",
              "width": 0.5
             },
             "pattern": {
              "fillmode": "overlay",
              "size": 10,
              "solidity": 0.2
             }
            },
            "type": "bar"
           }
          ],
          "barpolar": [
           {
            "marker": {
             "line": {
              "color": "#E5ECF6",
              "width": 0.5
             },
             "pattern": {
              "fillmode": "overlay",
              "size": 10,
              "solidity": 0.2
             }
            },
            "type": "barpolar"
           }
          ],
          "carpet": [
           {
            "aaxis": {
             "endlinecolor": "#2a3f5f",
             "gridcolor": "white",
             "linecolor": "white",
             "minorgridcolor": "white",
             "startlinecolor": "#2a3f5f"
            },
            "baxis": {
             "endlinecolor": "#2a3f5f",
             "gridcolor": "white",
             "linecolor": "white",
             "minorgridcolor": "white",
             "startlinecolor": "#2a3f5f"
            },
            "type": "carpet"
           }
          ],
          "choropleth": [
           {
            "colorbar": {
             "outlinewidth": 0,
             "ticks": ""
            },
            "type": "choropleth"
           }
          ],
          "contour": [
           {
            "colorbar": {
             "outlinewidth": 0,
             "ticks": ""
            },
            "colorscale": [
             [
              0,
              "#0d0887"
             ],
             [
              0.1111111111111111,
              "#46039f"
             ],
             [
              0.2222222222222222,
              "#7201a8"
             ],
             [
              0.3333333333333333,
              "#9c179e"
             ],
             [
              0.4444444444444444,
              "#bd3786"
             ],
             [
              0.5555555555555556,
              "#d8576b"
             ],
             [
              0.6666666666666666,
              "#ed7953"
             ],
             [
              0.7777777777777778,
              "#fb9f3a"
             ],
             [
              0.8888888888888888,
              "#fdca26"
             ],
             [
              1,
              "#f0f921"
             ]
            ],
            "type": "contour"
           }
          ],
          "contourcarpet": [
           {
            "colorbar": {
             "outlinewidth": 0,
             "ticks": ""
            },
            "type": "contourcarpet"
           }
          ],
          "heatmap": [
           {
            "colorbar": {
             "outlinewidth": 0,
             "ticks": ""
            },
            "colorscale": [
             [
              0,
              "#0d0887"
             ],
             [
              0.1111111111111111,
              "#46039f"
             ],
             [
              0.2222222222222222,
              "#7201a8"
             ],
             [
              0.3333333333333333,
              "#9c179e"
             ],
             [
              0.4444444444444444,
              "#bd3786"
             ],
             [
              0.5555555555555556,
              "#d8576b"
             ],
             [
              0.6666666666666666,
              "#ed7953"
             ],
             [
              0.7777777777777778,
              "#fb9f3a"
             ],
             [
              0.8888888888888888,
              "#fdca26"
             ],
             [
              1,
              "#f0f921"
             ]
            ],
            "type": "heatmap"
           }
          ],
          "heatmapgl": [
           {
            "colorbar": {
             "outlinewidth": 0,
             "ticks": ""
            },
            "colorscale": [
             [
              0,
              "#0d0887"
             ],
             [
              0.1111111111111111,
              "#46039f"
             ],
             [
              0.2222222222222222,
              "#7201a8"
             ],
             [
              0.3333333333333333,
              "#9c179e"
             ],
             [
              0.4444444444444444,
              "#bd3786"
             ],
             [
              0.5555555555555556,
              "#d8576b"
             ],
             [
              0.6666666666666666,
              "#ed7953"
             ],
             [
              0.7777777777777778,
              "#fb9f3a"
             ],
             [
              0.8888888888888888,
              "#fdca26"
             ],
             [
              1,
              "#f0f921"
             ]
            ],
            "type": "heatmapgl"
           }
          ],
          "histogram": [
           {
            "marker": {
             "pattern": {
              "fillmode": "overlay",
              "size": 10,
              "solidity": 0.2
             }
            },
            "type": "histogram"
           }
          ],
          "histogram2d": [
           {
            "colorbar": {
             "outlinewidth": 0,
             "ticks": ""
            },
            "colorscale": [
             [
              0,
              "#0d0887"
             ],
             [
              0.1111111111111111,
              "#46039f"
             ],
             [
              0.2222222222222222,
              "#7201a8"
             ],
             [
              0.3333333333333333,
              "#9c179e"
             ],
             [
              0.4444444444444444,
              "#bd3786"
             ],
             [
              0.5555555555555556,
              "#d8576b"
             ],
             [
              0.6666666666666666,
              "#ed7953"
             ],
             [
              0.7777777777777778,
              "#fb9f3a"
             ],
             [
              0.8888888888888888,
              "#fdca26"
             ],
             [
              1,
              "#f0f921"
             ]
            ],
            "type": "histogram2d"
           }
          ],
          "histogram2dcontour": [
           {
            "colorbar": {
             "outlinewidth": 0,
             "ticks": ""
            },
            "colorscale": [
             [
              0,
              "#0d0887"
             ],
             [
              0.1111111111111111,
              "#46039f"
             ],
             [
              0.2222222222222222,
              "#7201a8"
             ],
             [
              0.3333333333333333,
              "#9c179e"
             ],
             [
              0.4444444444444444,
              "#bd3786"
             ],
             [
              0.5555555555555556,
              "#d8576b"
             ],
             [
              0.6666666666666666,
              "#ed7953"
             ],
             [
              0.7777777777777778,
              "#fb9f3a"
             ],
             [
              0.8888888888888888,
              "#fdca26"
             ],
             [
              1,
              "#f0f921"
             ]
            ],
            "type": "histogram2dcontour"
           }
          ],
          "mesh3d": [
           {
            "colorbar": {
             "outlinewidth": 0,
             "ticks": ""
            },
            "type": "mesh3d"
           }
          ],
          "parcoords": [
           {
            "line": {
             "colorbar": {
              "outlinewidth": 0,
              "ticks": ""
             }
            },
            "type": "parcoords"
           }
          ],
          "pie": [
           {
            "automargin": true,
            "type": "pie"
           }
          ],
          "scatter": [
           {
            "fillpattern": {
             "fillmode": "overlay",
             "size": 10,
             "solidity": 0.2
            },
            "type": "scatter"
           }
          ],
          "scatter3d": [
           {
            "line": {
             "colorbar": {
              "outlinewidth": 0,
              "ticks": ""
             }
            },
            "marker": {
             "colorbar": {
              "outlinewidth": 0,
              "ticks": ""
             }
            },
            "type": "scatter3d"
           }
          ],
          "scattercarpet": [
           {
            "marker": {
             "colorbar": {
              "outlinewidth": 0,
              "ticks": ""
             }
            },
            "type": "scattercarpet"
           }
          ],
          "scattergeo": [
           {
            "marker": {
             "colorbar": {
              "outlinewidth": 0,
              "ticks": ""
             }
            },
            "type": "scattergeo"
           }
          ],
          "scattergl": [
           {
            "marker": {
             "colorbar": {
              "outlinewidth": 0,
              "ticks": ""
             }
            },
            "type": "scattergl"
           }
          ],
          "scattermapbox": [
           {
            "marker": {
             "colorbar": {
              "outlinewidth": 0,
              "ticks": ""
             }
            },
            "type": "scattermapbox"
           }
          ],
          "scatterpolar": [
           {
            "marker": {
             "colorbar": {
              "outlinewidth": 0,
              "ticks": ""
             }
            },
            "type": "scatterpolar"
           }
          ],
          "scatterpolargl": [
           {
            "marker": {
             "colorbar": {
              "outlinewidth": 0,
              "ticks": ""
             }
            },
            "type": "scatterpolargl"
           }
          ],
          "scatterternary": [
           {
            "marker": {
             "colorbar": {
              "outlinewidth": 0,
              "ticks": ""
             }
            },
            "type": "scatterternary"
           }
          ],
          "surface": [
           {
            "colorbar": {
             "outlinewidth": 0,
             "ticks": ""
            },
            "colorscale": [
             [
              0,
              "#0d0887"
             ],
             [
              0.1111111111111111,
              "#46039f"
             ],
             [
              0.2222222222222222,
              "#7201a8"
             ],
             [
              0.3333333333333333,
              "#9c179e"
             ],
             [
              0.4444444444444444,
              "#bd3786"
             ],
             [
              0.5555555555555556,
              "#d8576b"
             ],
             [
              0.6666666666666666,
              "#ed7953"
             ],
             [
              0.7777777777777778,
              "#fb9f3a"
             ],
             [
              0.8888888888888888,
              "#fdca26"
             ],
             [
              1,
              "#f0f921"
             ]
            ],
            "type": "surface"
           }
          ],
          "table": [
           {
            "cells": {
             "fill": {
              "color": "#EBF0F8"
             },
             "line": {
              "color": "white"
             }
            },
            "header": {
             "fill": {
              "color": "#C8D4E3"
             },
             "line": {
              "color": "white"
             }
            },
            "type": "table"
           }
          ]
         },
         "layout": {
          "annotationdefaults": {
           "arrowcolor": "#2a3f5f",
           "arrowhead": 0,
           "arrowwidth": 1
          },
          "autotypenumbers": "strict",
          "coloraxis": {
           "colorbar": {
            "outlinewidth": 0,
            "ticks": ""
           }
          },
          "colorscale": {
           "diverging": [
            [
             0,
             "#8e0152"
            ],
            [
             0.1,
             "#c51b7d"
            ],
            [
             0.2,
             "#de77ae"
            ],
            [
             0.3,
             "#f1b6da"
            ],
            [
             0.4,
             "#fde0ef"
            ],
            [
             0.5,
             "#f7f7f7"
            ],
            [
             0.6,
             "#e6f5d0"
            ],
            [
             0.7,
             "#b8e186"
            ],
            [
             0.8,
             "#7fbc41"
            ],
            [
             0.9,
             "#4d9221"
            ],
            [
             1,
             "#276419"
            ]
           ],
           "sequential": [
            [
             0,
             "#0d0887"
            ],
            [
             0.1111111111111111,
             "#46039f"
            ],
            [
             0.2222222222222222,
             "#7201a8"
            ],
            [
             0.3333333333333333,
             "#9c179e"
            ],
            [
             0.4444444444444444,
             "#bd3786"
            ],
            [
             0.5555555555555556,
             "#d8576b"
            ],
            [
             0.6666666666666666,
             "#ed7953"
            ],
            [
             0.7777777777777778,
             "#fb9f3a"
            ],
            [
             0.8888888888888888,
             "#fdca26"
            ],
            [
             1,
             "#f0f921"
            ]
           ],
           "sequentialminus": [
            [
             0,
             "#0d0887"
            ],
            [
             0.1111111111111111,
             "#46039f"
            ],
            [
             0.2222222222222222,
             "#7201a8"
            ],
            [
             0.3333333333333333,
             "#9c179e"
            ],
            [
             0.4444444444444444,
             "#bd3786"
            ],
            [
             0.5555555555555556,
             "#d8576b"
            ],
            [
             0.6666666666666666,
             "#ed7953"
            ],
            [
             0.7777777777777778,
             "#fb9f3a"
            ],
            [
             0.8888888888888888,
             "#fdca26"
            ],
            [
             1,
             "#f0f921"
            ]
           ]
          },
          "colorway": [
           "#636efa",
           "#EF553B",
           "#00cc96",
           "#ab63fa",
           "#FFA15A",
           "#19d3f3",
           "#FF6692",
           "#B6E880",
           "#FF97FF",
           "#FECB52"
          ],
          "font": {
           "color": "#2a3f5f"
          },
          "geo": {
           "bgcolor": "white",
           "lakecolor": "white",
           "landcolor": "#E5ECF6",
           "showlakes": true,
           "showland": true,
           "subunitcolor": "white"
          },
          "hoverlabel": {
           "align": "left"
          },
          "hovermode": "closest",
          "mapbox": {
           "style": "light"
          },
          "paper_bgcolor": "white",
          "plot_bgcolor": "#E5ECF6",
          "polar": {
           "angularaxis": {
            "gridcolor": "white",
            "linecolor": "white",
            "ticks": ""
           },
           "bgcolor": "#E5ECF6",
           "radialaxis": {
            "gridcolor": "white",
            "linecolor": "white",
            "ticks": ""
           }
          },
          "scene": {
           "xaxis": {
            "backgroundcolor": "#E5ECF6",
            "gridcolor": "white",
            "gridwidth": 2,
            "linecolor": "white",
            "showbackground": true,
            "ticks": "",
            "zerolinecolor": "white"
           },
           "yaxis": {
            "backgroundcolor": "#E5ECF6",
            "gridcolor": "white",
            "gridwidth": 2,
            "linecolor": "white",
            "showbackground": true,
            "ticks": "",
            "zerolinecolor": "white"
           },
           "zaxis": {
            "backgroundcolor": "#E5ECF6",
            "gridcolor": "white",
            "gridwidth": 2,
            "linecolor": "white",
            "showbackground": true,
            "ticks": "",
            "zerolinecolor": "white"
           }
          },
          "shapedefaults": {
           "line": {
            "color": "#2a3f5f"
           }
          },
          "ternary": {
           "aaxis": {
            "gridcolor": "white",
            "linecolor": "white",
            "ticks": ""
           },
           "baxis": {
            "gridcolor": "white",
            "linecolor": "white",
            "ticks": ""
           },
           "bgcolor": "#E5ECF6",
           "caxis": {
            "gridcolor": "white",
            "linecolor": "white",
            "ticks": ""
           }
          },
          "title": {
           "x": 0.05
          },
          "xaxis": {
           "automargin": true,
           "gridcolor": "white",
           "linecolor": "white",
           "ticks": "",
           "title": {
            "standoff": 15
           },
           "zerolinecolor": "white",
           "zerolinewidth": 2
          },
          "yaxis": {
           "automargin": true,
           "gridcolor": "white",
           "linecolor": "white",
           "ticks": "",
           "title": {
            "standoff": 15
           },
           "zerolinecolor": "white",
           "zerolinewidth": 2
          }
         }
        },
        "title": {
         "text": "Top 20 Auction Purchases Flow"
        }
       }
      }
     },
     "metadata": {},
     "output_type": "display_data"
    }
   ],
   "source": [
    "import plotly.graph_objects as go\n",
    "\n",
    "# Top 20 Expensive Purchases\n",
    "top_auction = auction.sort_values(by='Amount', ascending=False).head(20)\n",
    "\n",
    "teams = top_auction['Team'].unique().tolist()\n",
    "players = top_auction['Player'].tolist()\n",
    "\n",
    "labels = teams + players\n",
    "sources = [teams.index(team) for team in top_auction['Team']]\n",
    "targets = [len(teams) + players.index(player) for player in top_auction['Player']]\n",
    "values = top_auction['Amount'].tolist()\n",
    "\n",
    "# Sankey Diagram\n",
    "fig = go.Figure(data=[go.Sankey(\n",
    "    node=dict(\n",
    "        pad=30,\n",
    "        thickness=20,\n",
    "        line=dict(color=\"black\", width=0.5),\n",
    "        label=labels\n",
    "    ),\n",
    "    link=dict(\n",
    "        source=sources,\n",
    "        target=targets,\n",
    "        value=values\n",
    "    )\n",
    ")])\n",
    "\n",
    "fig.update_layout(title_text=\"Top 20 Auction Purchases Flow\", font_size=10)\n",
    "fig.show()\n"
   ]
  },
  {
   "cell_type": "code",
   "execution_count": 3,
   "metadata": {},
   "outputs": [
    {
     "name": "stderr",
     "output_type": "stream",
     "text": [
      "c:\\Users\\VARUN\\anaconda3\\Lib\\site-packages\\altair\\utils\\deprecation.py:65: AltairDeprecationWarning: 'selection_single' is deprecated.  Use 'selection_point'\n",
      "  warnings.warn(message, AltairDeprecationWarning, stacklevel=1)\n",
      "c:\\Users\\VARUN\\anaconda3\\Lib\\site-packages\\altair\\utils\\deprecation.py:65: AltairDeprecationWarning: 'add_selection' is deprecated. Use 'add_params' instead.\n",
      "  warnings.warn(message, AltairDeprecationWarning, stacklevel=1)\n",
      "c:\\Users\\VARUN\\anaconda3\\Lib\\site-packages\\altair\\utils\\core.py:395: FutureWarning: the convert_dtype parameter is deprecated and will be removed in a future version.  Do ``ser.astype(object).apply()`` instead if you want ``convert_dtype=False``.\n",
      "  col = df[col_name].apply(to_list_if_array, convert_dtype=False)\n"
     ]
    },
    {
     "data": {
      "text/html": [
       "\n",
       "<style>\n",
       "  #altair-viz-f765046b6deb41868b4b73ec4b91110a.vega-embed {\n",
       "    width: 100%;\n",
       "    display: flex;\n",
       "  }\n",
       "\n",
       "  #altair-viz-f765046b6deb41868b4b73ec4b91110a.vega-embed details,\n",
       "  #altair-viz-f765046b6deb41868b4b73ec4b91110a.vega-embed details summary {\n",
       "    position: relative;\n",
       "  }\n",
       "</style>\n",
       "<div id=\"altair-viz-f765046b6deb41868b4b73ec4b91110a\"></div>\n",
       "<script type=\"text/javascript\">\n",
       "  var VEGA_DEBUG = (typeof VEGA_DEBUG == \"undefined\") ? {} : VEGA_DEBUG;\n",
       "  (function(spec, embedOpt){\n",
       "    let outputDiv = document.currentScript.previousElementSibling;\n",
       "    if (outputDiv.id !== \"altair-viz-f765046b6deb41868b4b73ec4b91110a\") {\n",
       "      outputDiv = document.getElementById(\"altair-viz-f765046b6deb41868b4b73ec4b91110a\");\n",
       "    }\n",
       "    const paths = {\n",
       "      \"vega\": \"https://cdn.jsdelivr.net/npm/vega@5?noext\",\n",
       "      \"vega-lib\": \"https://cdn.jsdelivr.net/npm/vega-lib?noext\",\n",
       "      \"vega-lite\": \"https://cdn.jsdelivr.net/npm/vega-lite@5.8.0?noext\",\n",
       "      \"vega-embed\": \"https://cdn.jsdelivr.net/npm/vega-embed@6?noext\",\n",
       "    };\n",
       "\n",
       "    function maybeLoadScript(lib, version) {\n",
       "      var key = `${lib.replace(\"-\", \"\")}_version`;\n",
       "      return (VEGA_DEBUG[key] == version) ?\n",
       "        Promise.resolve(paths[lib]) :\n",
       "        new Promise(function(resolve, reject) {\n",
       "          var s = document.createElement('script');\n",
       "          document.getElementsByTagName(\"head\")[0].appendChild(s);\n",
       "          s.async = true;\n",
       "          s.onload = () => {\n",
       "            VEGA_DEBUG[key] = version;\n",
       "            return resolve(paths[lib]);\n",
       "          };\n",
       "          s.onerror = () => reject(`Error loading script: ${paths[lib]}`);\n",
       "          s.src = paths[lib];\n",
       "        });\n",
       "    }\n",
       "\n",
       "    function showError(err) {\n",
       "      outputDiv.innerHTML = `<div class=\"error\" style=\"color:red;\">${err}</div>`;\n",
       "      throw err;\n",
       "    }\n",
       "\n",
       "    function displayChart(vegaEmbed) {\n",
       "      vegaEmbed(outputDiv, spec, embedOpt)\n",
       "        .catch(err => showError(`Javascript Error: ${err.message}<br>This usually means there's a typo in your chart specification. See the javascript console for the full traceback.`));\n",
       "    }\n",
       "\n",
       "    if(typeof define === \"function\" && define.amd) {\n",
       "      requirejs.config({paths});\n",
       "      require([\"vega-embed\"], displayChart, err => showError(`Error loading script: ${err.message}`));\n",
       "    } else {\n",
       "      maybeLoadScript(\"vega\", \"5\")\n",
       "        .then(() => maybeLoadScript(\"vega-lite\", \"5.8.0\"))\n",
       "        .then(() => maybeLoadScript(\"vega-embed\", \"6\"))\n",
       "        .catch(showError)\n",
       "        .then(() => displayChart(vegaEmbed));\n",
       "    }\n",
       "  })({\"config\": {\"view\": {\"continuousWidth\": 300, \"continuousHeight\": 300}}, \"data\": {\"name\": \"data-6a8c40975bcc8f0a37c165d5e7fe9d13\"}, \"mark\": {\"type\": \"bar\", \"size\": 25}, \"encoding\": {\"color\": {\"condition\": {\"param\": \"param_1\", \"field\": \"Team\", \"type\": \"nominal\"}, \"value\": \"lightgray\"}, \"tooltip\": [{\"field\": \"Team\", \"type\": \"nominal\"}, {\"field\": \"Amount\", \"type\": \"quantitative\"}], \"x\": {\"field\": \"Amount\", \"title\": \"Total Amount (INR)\", \"type\": \"quantitative\"}, \"y\": {\"field\": \"Team\", \"sort\": \"-x\", \"title\": \"Teams\", \"type\": \"nominal\"}}, \"height\": 450, \"params\": [{\"name\": \"param_1\", \"select\": {\"type\": \"point\", \"fields\": [\"Team\"], \"nearest\": true, \"on\": \"mouseover\"}}, {\"name\": \"param_2\", \"select\": {\"type\": \"interval\", \"encodings\": [\"x\", \"y\"]}, \"bind\": \"scales\"}], \"title\": \"Auction Spending by Teams (Hover Highlight)\", \"width\": 700, \"$schema\": \"https://vega.github.io/schema/vega-lite/v5.8.0.json\", \"datasets\": {\"data-6a8c40975bcc8f0a37c165d5e7fe9d13\": [{\"Team\": \"Chennai Super Kings\", \"Amount\": 1570875000}, {\"Team\": \"Delhi Capitals\", \"Amount\": 953000000}, {\"Team\": \"Delhi Daredevils\", \"Amount\": 1945500000}, {\"Team\": \"Gujarat Lions\", \"Amount\": 205000000}, {\"Team\": \"Gujarat Titans\", \"Amount\": 518500000}, {\"Team\": \"Kings XI Punjab\", \"Amount\": 1947000000}, {\"Team\": \"Kolkata Knight Riders\", \"Amount\": 2165125000}, {\"Team\": \"Lucknow Super Giants\", \"Amount\": 590000000}, {\"Team\": \"Mumbai Indians\", \"Amount\": 1870000000}, {\"Team\": \"Pune Warriors India\", \"Amount\": 187500000}, {\"Team\": \"Punjab Kings\", \"Amount\": 1029500000}, {\"Team\": \"Rajasthan Royals\", \"Amount\": 2028250000}, {\"Team\": \"Rising Pune Supergiant\", \"Amount\": 390000000}, {\"Team\": \"Royal Challengers Bangalore\", \"Amount\": 2709625000}, {\"Team\": \"Sunrisers Hyderabad\", \"Amount\": 2311000000}]}}, {\"mode\": \"vega-lite\"});\n",
       "</script>"
      ],
      "text/plain": [
       "alt.Chart(...)"
      ]
     },
     "execution_count": 3,
     "metadata": {},
     "output_type": "execute_result"
    }
   ],
   "source": [
    "import altair as alt\n",
    "\n",
    "# Drop missing year\n",
    "auction = auction.dropna(subset=['Year'])\n",
    "auction['Year'] = auction['Year'].astype(int)\n",
    "\n",
    "# Group spending\n",
    "team_spend = auction.groupby('Team', as_index=False)['Amount'].sum()\n",
    "\n",
    "# Create Bar with Hover\n",
    "highlight = alt.selection_single(on='mouseover', fields=['Team'], nearest=True)\n",
    "\n",
    "chart = alt.Chart(team_spend).mark_bar(size=25).encode(\n",
    "    x=alt.X('Amount:Q', title='Total Amount (INR)'),\n",
    "    y=alt.Y('Team:N', sort='-x', title='Teams'),\n",
    "    color=alt.condition(highlight, 'Team:N', alt.value('lightgray')),\n",
    "    tooltip=[alt.Tooltip('Team:N'), alt.Tooltip('Amount:Q')]\n",
    ").add_selection(\n",
    "    highlight\n",
    ").properties(\n",
    "    title='Auction Spending by Teams (Hover Highlight)',\n",
    "    width=700,\n",
    "    height=450\n",
    ")\n",
    "\n",
    "chart.interactive()"
   ]
  },
  {
   "cell_type": "code",
   "execution_count": 4,
   "metadata": {},
   "outputs": [
    {
     "name": "stderr",
     "output_type": "stream",
     "text": [
      "c:\\Users\\VARUN\\anaconda3\\Lib\\site-packages\\altair\\utils\\core.py:395: FutureWarning: the convert_dtype parameter is deprecated and will be removed in a future version.  Do ``ser.astype(object).apply()`` instead if you want ``convert_dtype=False``.\n",
      "  col = df[col_name].apply(to_list_if_array, convert_dtype=False)\n",
      "c:\\Users\\VARUN\\anaconda3\\Lib\\site-packages\\altair\\utils\\core.py:395: FutureWarning: the convert_dtype parameter is deprecated and will be removed in a future version.  Do ``ser.astype(object).apply()`` instead if you want ``convert_dtype=False``.\n",
      "  col = df[col_name].apply(to_list_if_array, convert_dtype=False)\n",
      "c:\\Users\\VARUN\\anaconda3\\Lib\\site-packages\\altair\\utils\\core.py:395: FutureWarning: the convert_dtype parameter is deprecated and will be removed in a future version.  Do ``ser.astype(object).apply()`` instead if you want ``convert_dtype=False``.\n",
      "  col = df[col_name].apply(to_list_if_array, convert_dtype=False)\n",
      "c:\\Users\\VARUN\\anaconda3\\Lib\\site-packages\\altair\\utils\\core.py:395: FutureWarning: the convert_dtype parameter is deprecated and will be removed in a future version.  Do ``ser.astype(object).apply()`` instead if you want ``convert_dtype=False``.\n",
      "  col = df[col_name].apply(to_list_if_array, convert_dtype=False)\n"
     ]
    },
    {
     "data": {
      "text/html": [
       "\n",
       "<style>\n",
       "  #altair-viz-c1a6216f0113408986215b322f420400.vega-embed {\n",
       "    width: 100%;\n",
       "    display: flex;\n",
       "  }\n",
       "\n",
       "  #altair-viz-c1a6216f0113408986215b322f420400.vega-embed details,\n",
       "  #altair-viz-c1a6216f0113408986215b322f420400.vega-embed details summary {\n",
       "    position: relative;\n",
       "  }\n",
       "</style>\n",
       "<div id=\"altair-viz-c1a6216f0113408986215b322f420400\"></div>\n",
       "<script type=\"text/javascript\">\n",
       "  var VEGA_DEBUG = (typeof VEGA_DEBUG == \"undefined\") ? {} : VEGA_DEBUG;\n",
       "  (function(spec, embedOpt){\n",
       "    let outputDiv = document.currentScript.previousElementSibling;\n",
       "    if (outputDiv.id !== \"altair-viz-c1a6216f0113408986215b322f420400\") {\n",
       "      outputDiv = document.getElementById(\"altair-viz-c1a6216f0113408986215b322f420400\");\n",
       "    }\n",
       "    const paths = {\n",
       "      \"vega\": \"https://cdn.jsdelivr.net/npm/vega@5?noext\",\n",
       "      \"vega-lib\": \"https://cdn.jsdelivr.net/npm/vega-lib?noext\",\n",
       "      \"vega-lite\": \"https://cdn.jsdelivr.net/npm/vega-lite@5.8.0?noext\",\n",
       "      \"vega-embed\": \"https://cdn.jsdelivr.net/npm/vega-embed@6?noext\",\n",
       "    };\n",
       "\n",
       "    function maybeLoadScript(lib, version) {\n",
       "      var key = `${lib.replace(\"-\", \"\")}_version`;\n",
       "      return (VEGA_DEBUG[key] == version) ?\n",
       "        Promise.resolve(paths[lib]) :\n",
       "        new Promise(function(resolve, reject) {\n",
       "          var s = document.createElement('script');\n",
       "          document.getElementsByTagName(\"head\")[0].appendChild(s);\n",
       "          s.async = true;\n",
       "          s.onload = () => {\n",
       "            VEGA_DEBUG[key] = version;\n",
       "            return resolve(paths[lib]);\n",
       "          };\n",
       "          s.onerror = () => reject(`Error loading script: ${paths[lib]}`);\n",
       "          s.src = paths[lib];\n",
       "        });\n",
       "    }\n",
       "\n",
       "    function showError(err) {\n",
       "      outputDiv.innerHTML = `<div class=\"error\" style=\"color:red;\">${err}</div>`;\n",
       "      throw err;\n",
       "    }\n",
       "\n",
       "    function displayChart(vegaEmbed) {\n",
       "      vegaEmbed(outputDiv, spec, embedOpt)\n",
       "        .catch(err => showError(`Javascript Error: ${err.message}<br>This usually means there's a typo in your chart specification. See the javascript console for the full traceback.`));\n",
       "    }\n",
       "\n",
       "    if(typeof define === \"function\" && define.amd) {\n",
       "      requirejs.config({paths});\n",
       "      require([\"vega-embed\"], displayChart, err => showError(`Error loading script: ${err.message}`));\n",
       "    } else {\n",
       "      maybeLoadScript(\"vega\", \"5\")\n",
       "        .then(() => maybeLoadScript(\"vega-lite\", \"5.8.0\"))\n",
       "        .then(() => maybeLoadScript(\"vega-embed\", \"6\"))\n",
       "        .catch(showError)\n",
       "        .then(() => displayChart(vegaEmbed));\n",
       "    }\n",
       "  })({\"config\": {\"view\": {\"continuousWidth\": 300, \"continuousHeight\": 300}}, \"data\": {\"name\": \"data-1314721d68ad6dab2a63af27b0aebece\"}, \"mark\": {\"type\": \"circle\", \"size\": 100}, \"encoding\": {\"color\": {\"field\": \"Team\", \"type\": \"nominal\"}, \"tooltip\": [{\"field\": \"Player\", \"type\": \"nominal\"}, {\"field\": \"Role\", \"type\": \"nominal\"}, {\"field\": \"Amount\", \"type\": \"quantitative\"}, {\"field\": \"Team\", \"type\": \"nominal\"}, {\"field\": \"Player Origin\", \"type\": \"nominal\"}], \"x\": {\"field\": \"Year\", \"title\": \"Auction Year\", \"type\": \"ordinal\"}, \"y\": {\"field\": \"Amount\", \"title\": \"Amount (INR)\", \"type\": \"quantitative\"}}, \"height\": 500, \"params\": [{\"name\": \"param_3\", \"select\": {\"type\": \"interval\", \"encodings\": [\"x\", \"y\"]}, \"bind\": \"scales\"}], \"title\": \"Auction Player Prices Over Years \", \"width\": 700, \"$schema\": \"https://vega.github.io/schema/vega-lite/v5.8.0.json\", \"datasets\": {\"data-1314721d68ad6dab2a63af27b0aebece\": [{\"Player\": \"Aaron Finch\", \"Role\": \"Batsman\", \"Amount\": 40000000, \"Team\": \"Sunrisers Hyderabad\", \"Year\": 2014, \"Player Origin\": \"Overseas\"}, {\"Player\": \"Aaron Finch\", \"Role\": \"Batsman\", \"Amount\": 32000000, \"Team\": \"Mumbai Indians\", \"Year\": 2015, \"Player Origin\": \"Overseas\"}, {\"Player\": \"Aaron Finch\", \"Role\": \"Batsman\", \"Amount\": 10000000, \"Team\": \"Gujarat Lions\", \"Year\": 2016, \"Player Origin\": \"Overseas\"}, {\"Player\": \"Aaron Finch\", \"Role\": \"Batsman\", \"Amount\": 62000000, \"Team\": \"Kings XI Punjab\", \"Year\": 2018, \"Player Origin\": \"Overseas\"}, {\"Player\": \"Aaron Finch\", \"Role\": \"Batsman\", \"Amount\": 44000000, \"Team\": \"Royal Challengers Bangalore\", \"Year\": 2020, \"Player Origin\": \"Overseas\"}, {\"Player\": \"Abdul Samad\", \"Role\": \"All-Rounder\", \"Amount\": 2000000, \"Team\": \"Sunrisers Hyderabad\", \"Year\": 2020, \"Player Origin\": \"Indian\"}, {\"Player\": \"Abhijeet Tomar\", \"Role\": \"Batsman\", \"Amount\": 4000000, \"Team\": \"Kolkata Knight Riders\", \"Year\": 2022, \"Player Origin\": \"Indian\"}, {\"Player\": \"Abhimanyu Mithun\", \"Role\": \"Bowler\", \"Amount\": 3000000, \"Team\": \"Mumbai Indians\", \"Year\": 2015, \"Player Origin\": \"Indian\"}, {\"Player\": \"Abhimanyu Mithun\", \"Role\": \"Bowler\", \"Amount\": 3000000, \"Team\": \"Sunrisers Hyderabad\", \"Year\": 2016, \"Player Origin\": \"Indian\"}, {\"Player\": \"Abhinav Sadarangani\", \"Role\": \"Batsman\", \"Amount\": 26000000, \"Team\": \"Gujarat Titans\", \"Year\": 2022, \"Player Origin\": \"Indian\"}, {\"Player\": \"Abhishek Nayar\", \"Role\": \"All-Rounder\", \"Amount\": 50625000, \"Team\": \"Pune Warriors India\", \"Year\": 2013, \"Player Origin\": \"Indian\"}, {\"Player\": \"Abhishek Nayar\", \"Role\": \"All-Rounder\", \"Amount\": 10000000, \"Team\": \"Rajasthan Royals\", \"Year\": 2014, \"Player Origin\": \"Indian\"}, {\"Player\": \"Abhishek Sharma\", \"Role\": \"All-Rounder\", \"Amount\": 5500000, \"Team\": \"Delhi Daredevils\", \"Year\": 2018, \"Player Origin\": \"Indian\"}, {\"Player\": \"Abhishek Sharma\", \"Role\": \"All-Rounder\", \"Amount\": 65000000, \"Team\": \"Sunrisers Hyderabad\", \"Year\": 2022, \"Player Origin\": \"Indian\"}, {\"Player\": \"Abu Nechim Ahmed\", \"Role\": \"Bowler\", \"Amount\": 3000000, \"Team\": \"Royal Challengers Bangalore\", \"Year\": 2014, \"Player Origin\": \"Indian\"}, {\"Player\": \"Adam Milne\", \"Role\": \"Bowler\", \"Amount\": 7000000, \"Team\": \"Royal Challengers Bangalore\", \"Year\": 2015, \"Player Origin\": \"Overseas\"}, {\"Player\": \"Adam Milne\", \"Role\": \"Bowler\", \"Amount\": 32000000, \"Team\": \"Mumbai Indians\", \"Year\": 2021, \"Player Origin\": \"Overseas\"}, {\"Player\": \"Adam Milne\", \"Role\": \"Bowler\", \"Amount\": 19000000, \"Team\": \"Chennai Super Kings\", \"Year\": 2022, \"Player Origin\": \"Overseas\"}, {\"Player\": \"Adam Zampa\", \"Role\": \"Bowler\", \"Amount\": 3000000, \"Team\": \"Rising Pune Supergiant\", \"Year\": 2016, \"Player Origin\": \"Overseas\"}, {\"Player\": \"Aditya Garhwal\", \"Role\": \"All-Rounder\", \"Amount\": 2500000, \"Team\": \"Kolkata Knight Riders\", \"Year\": 2015, \"Player Origin\": \"Indian\"}, {\"Player\": \"Aditya Tare\", \"Role\": \"Wicket Keeper\", \"Amount\": 16000000, \"Team\": \"Mumbai Indians\", \"Year\": 2014, \"Player Origin\": \"Indian\"}, {\"Player\": \"Aditya Tare\", \"Role\": \"Wicket Keeper\", \"Amount\": 12000000, \"Team\": \"Sunrisers Hyderabad\", \"Year\": 2016, \"Player Origin\": \"Indian\"}, {\"Player\": \"Aditya Tare\", \"Role\": \"Wicket Keeper\", \"Amount\": 2500000, \"Team\": \"Delhi Daredevils\", \"Year\": 2017, \"Player Origin\": \"Indian\"}, {\"Player\": \"Aditya Tare\", \"Role\": \"Wicket Keeper\", \"Amount\": 2000000, \"Team\": \"Mumbai Indians\", \"Year\": 2018, \"Player Origin\": \"Indian\"}, {\"Player\": \"Agnivesh Ayachi\", \"Role\": \"All-Rounder\", \"Amount\": 2000000, \"Team\": \"Kings XI Punjab\", \"Year\": 2019, \"Player Origin\": \"Indian\"}, {\"Player\": \"Aiden Blizzard\", \"Role\": \"Batsman\", \"Amount\": 3000000, \"Team\": \"Mumbai Indians\", \"Year\": 2015, \"Player Origin\": \"Overseas\"}, {\"Player\": \"Aiden Markram\", \"Role\": \"Batsman\", \"Amount\": 26000000, \"Team\": \"Sunrisers Hyderabad\", \"Year\": 2022, \"Player Origin\": \"Overseas\"}, {\"Player\": \"Ajantha Mendis\", \"Role\": \"Bowler\", \"Amount\": 54375000, \"Team\": \"Pune Warriors India\", \"Year\": 2013, \"Player Origin\": \"Overseas\"}, {\"Player\": \"Ajinkya Rahane\", \"Role\": \"Batsman\", \"Amount\": 40000000, \"Team\": \"Rajasthan Royals\", \"Year\": 2018, \"Player Origin\": \"Indian\"}, {\"Player\": \"Ajinkya Rahane\", \"Role\": \"Batsman\", \"Amount\": 10000000, \"Team\": \"Kolkata Knight Riders\", \"Year\": 2022, \"Player Origin\": \"Indian\"}, {\"Player\": \"Akash Deep\", \"Role\": \"Bowler\", \"Amount\": 2000000, \"Team\": \"Royal Challengers Bangalore\", \"Year\": 2022, \"Player Origin\": \"Indian\"}, {\"Player\": \"Akash Singh\", \"Role\": \"Bowler\", \"Amount\": 2000000, \"Team\": \"Rajasthan Royals\", \"Year\": 2020, \"Player Origin\": \"Indian\"}, {\"Player\": \"Akash Singh\", \"Role\": \"Bowler\", \"Amount\": 2000000, \"Team\": \"Rajasthan Royals\", \"Year\": 2021, \"Player Origin\": \"Indian\"}, {\"Player\": \"Akhil Arvind Herwadkar\", \"Role\": \"All-Rounder\", \"Amount\": 1000000, \"Team\": \"Delhi Daredevils\", \"Year\": 2016, \"Player Origin\": \"Indian\"}, {\"Player\": \"Akila Dananjaya\", \"Role\": \"All-Rounder\", \"Amount\": 1500000, \"Team\": \"Chennai Super Kings\", \"Year\": 2013, \"Player Origin\": \"Overseas\"}, {\"Player\": \"Akila Dhananjaya\", \"Role\": \"Bowler\", \"Amount\": 5000000, \"Team\": \"Mumbai Indians\", \"Year\": 2018, \"Player Origin\": \"Overseas\"}, {\"Player\": \"Akshar Rajesh Patel\", \"Role\": \"All-Rounder\", \"Amount\": 7500000, \"Team\": \"Kings XI Punjab\", \"Year\": 2014, \"Player Origin\": \"Indian\"}, {\"Player\": \"Akshay Karnewar\", \"Role\": \"All-Rounder\", \"Amount\": 1000000, \"Team\": \"Royal Challengers Bangalore\", \"Year\": 2016, \"Player Origin\": \"Indian\"}, {\"Player\": \"Akshay Wakhare\", \"Role\": \"Bowler\", \"Amount\": 1000000, \"Team\": \"Mumbai Indians\", \"Year\": 2015, \"Player Origin\": \"Indian\"}, {\"Player\": \"Akshdeep Nath\", \"Role\": \"All-Rounder\", \"Amount\": 1000000, \"Team\": \"Gujarat Lions\", \"Year\": 2016, \"Player Origin\": \"Indian\"}, {\"Player\": \"Akshdeep Nath\", \"Role\": \"All-Rounder\", \"Amount\": 1000000, \"Team\": \"Gujarat Lions\", \"Year\": 2017, \"Player Origin\": \"Indian\"}, {\"Player\": \"Akshdeep Nath\", \"Role\": \"All-Rounder\", \"Amount\": 10000000, \"Team\": \"Kings XI Punjab\", \"Year\": 2018, \"Player Origin\": \"Indian\"}, {\"Player\": \"Akshdeep Nath\", \"Role\": \"All-Rounder\", \"Amount\": 36000000, \"Team\": \"Royal Challengers Bangalore\", \"Year\": 2019, \"Player Origin\": \"Indian\"}, {\"Player\": \"Albie Morkel\", \"Role\": \"All-Rounder\", \"Amount\": 24000000, \"Team\": \"Royal Challengers Bangalore\", \"Year\": 2014, \"Player Origin\": \"Overseas\"}, {\"Player\": \"Albie Morkel\", \"Role\": \"All-Rounder\", \"Amount\": 3000000, \"Team\": \"Delhi Daredevils\", \"Year\": 2015, \"Player Origin\": \"Overseas\"}, {\"Player\": \"Alex Carey\", \"Role\": \"Wicket Keeper\", \"Amount\": 24000000, \"Team\": \"Delhi Capitals\", \"Year\": 2020, \"Player Origin\": \"Overseas\"}, {\"Player\": \"Alex Hales\", \"Role\": \"Batsman\", \"Amount\": 15000000, \"Team\": \"Kolkata Knight Riders\", \"Year\": 2022, \"Player Origin\": \"Overseas\"}, {\"Player\": \"Alzarri Joseph\", \"Role\": \"Bowler\", \"Amount\": 24000000, \"Team\": \"Gujarat Titans\", \"Year\": 2022, \"Player Origin\": \"Overseas\"}, {\"Player\": \"Aman Khan\", \"Role\": \"All-Rounder\", \"Amount\": 2000000, \"Team\": \"Kolkata Knight Riders\", \"Year\": 2022, \"Player Origin\": \"Indian\"}, {\"Player\": \"Ambati Rayudu\", \"Role\": \"Wicket Keeper\", \"Amount\": 22000000, \"Team\": \"Chennai Super Kings\", \"Year\": 2018, \"Player Origin\": \"Indian\"}, {\"Player\": \"Ambati Rayudu\", \"Role\": \"Wicket Keeper\", \"Amount\": 67500000, \"Team\": \"Chennai Super Kings\", \"Year\": 2022, \"Player Origin\": \"Indian\"}, {\"Player\": \"Amit Mishra\", \"Role\": \"Bowler\", \"Amount\": 1000000, \"Team\": \"Rajasthan Royals\", \"Year\": 2014, \"Player Origin\": \"Indian\"}, {\"Player\": \"Amit Mishra\", \"Role\": \"Bowler\", \"Amount\": 47500000, \"Team\": \"Sunrisers Hyderabad\", \"Year\": 2014, \"Player Origin\": \"Indian\"}, {\"Player\": \"Amit Mishra\", \"Role\": \"Bowler\", \"Amount\": 35000000, \"Team\": \"Delhi Daredevils\", \"Year\": 2015, \"Player Origin\": \"Indian\"}, {\"Player\": \"Amit Mishra\", \"Role\": \"Bowler\", \"Amount\": 1000000, \"Team\": \"Gujarat Lions\", \"Year\": 2016, \"Player Origin\": \"Indian\"}, {\"Player\": \"Amit Mishra\", \"Role\": \"Bowler\", \"Amount\": 40000000, \"Team\": \"Delhi Daredevils\", \"Year\": 2018, \"Player Origin\": \"Indian\"}, {\"Player\": \"Amit Paunikar\", \"Role\": \"Wicket Keeper\", \"Amount\": 2000000, \"Team\": \"Sunrisers Hyderabad\", \"Year\": 2014, \"Player Origin\": \"Indian\"}, {\"Player\": \"Andre Russell\", \"Role\": \"All-Rounder\", \"Amount\": 6000000, \"Team\": \"Kolkata Knight Riders\", \"Year\": 2014, \"Player Origin\": \"Overseas\"}, {\"Player\": \"Andrew Tye\", \"Role\": \"Bowler\", \"Amount\": 2000000, \"Team\": \"Chennai Super Kings\", \"Year\": 2015, \"Player Origin\": \"Overseas\"}, {\"Player\": \"Andrew Tye\", \"Role\": \"All-Rounder\", \"Amount\": 5000000, \"Team\": \"Gujarat Lions\", \"Year\": 2016, \"Player Origin\": \"Overseas\"}, {\"Player\": \"Andrew Tye\", \"Role\": \"Bowler\", \"Amount\": 72000000, \"Team\": \"Kings XI Punjab\", \"Year\": 2018, \"Player Origin\": \"Overseas\"}, {\"Player\": \"Andrew Tye\", \"Role\": \"Bowler\", \"Amount\": 10000000, \"Team\": \"Rajasthan Royals\", \"Year\": 2020, \"Player Origin\": \"Overseas\"}, {\"Player\": \"Aneeshwar Gautam\", \"Role\": \"All-Rounder\", \"Amount\": 2000000, \"Team\": \"Royal Challengers Bangalore\", \"Year\": 2022, \"Player Origin\": \"Indian\"}, {\"Player\": \"Angelo Mathews\", \"Role\": \"All-Rounder\", \"Amount\": 75000000, \"Team\": \"Delhi Daredevils\", \"Year\": 2015, \"Player Origin\": \"Overseas\"}, {\"Player\": \"Angelo Mathews\", \"Role\": \"All-Rounder\", \"Amount\": 20000000, \"Team\": \"Delhi Daredevils\", \"Year\": 2017, \"Player Origin\": \"Overseas\"}, {\"Player\": \"Aniket Choudhary\", \"Role\": \"Bowler\", \"Amount\": 20000000, \"Team\": \"Royal Challengers Bangalore\", \"Year\": 2017, \"Player Origin\": \"Indian\"}, {\"Player\": \"Aniket Choudhary\", \"Role\": \"Bowler\", \"Amount\": 3000000, \"Team\": \"Royal Challengers Bangalore\", \"Year\": 2018, \"Player Origin\": \"Indian\"}, {\"Player\": \"Anirudha Ashok Joshi\", \"Role\": \"All-Rounder\", \"Amount\": 2000000, \"Team\": \"Royal Challengers Bangalore\", \"Year\": 2018, \"Player Origin\": \"Indian\"}, {\"Player\": \"Anirudha Ashok Joshi\", \"Role\": \"All-Rounder\", \"Amount\": 2000000, \"Team\": \"Rajasthan Royals\", \"Year\": 2020, \"Player Origin\": \"Indian\"}, {\"Player\": \"Ankeet Bawane\", \"Role\": \"Batsman\", \"Amount\": 1000000, \"Team\": \"Delhi Daredevils\", \"Year\": 2017, \"Player Origin\": \"Indian\"}, {\"Player\": \"Ankit Nagendra Sharma\", \"Role\": \"Bowler\", \"Amount\": 1000000, \"Team\": \"Rajasthan Royals\", \"Year\": 2014, \"Player Origin\": \"Indian\"}, {\"Player\": \"Ankit Sharma\", \"Role\": \"All-Rounder\", \"Amount\": 1000000, \"Team\": \"Rising Pune Supergiant\", \"Year\": 2016, \"Player Origin\": \"Indian\"}, {\"Player\": \"Ankit Sharma\", \"Role\": \"All-Rounder\", \"Amount\": 2000000, \"Team\": \"Rajasthan Royals\", \"Year\": 2018, \"Player Origin\": \"Indian\"}, {\"Player\": \"Ankit Singh Rajpoot\", \"Role\": \"Bowler\", \"Amount\": 15000000, \"Team\": \"Kolkata Knight Riders\", \"Year\": 2016, \"Player Origin\": \"Indian\"}, {\"Player\": \"Ankit Singh Rajpoot\", \"Role\": \"Bowler\", \"Amount\": 30000000, \"Team\": \"Kings XI Punjab\", \"Year\": 2018, \"Player Origin\": \"Indian\"}, {\"Player\": \"Ankit Singh Rajpoot\", \"Role\": \"Bowler\", \"Amount\": 5000000, \"Team\": \"Lucknow Super Giants\", \"Year\": 2022, \"Player Origin\": \"Indian\"}, {\"Player\": \"Ankush Bains\", \"Role\": \"Wicket Keeper\", \"Amount\": 1000000, \"Team\": \"Rajasthan Royals\", \"Year\": 2014, \"Player Origin\": \"Indian\"}, {\"Player\": \"Ankush Bains\", \"Role\": \"Wicket Keeper\", \"Amount\": 1000000, \"Team\": \"Chennai Super Kings\", \"Year\": 2015, \"Player Origin\": \"Indian\"}, {\"Player\": \"Ankush Bains\", \"Role\": \"Wicket Keeper\", \"Amount\": 1000000, \"Team\": \"Rising Pune Supergiant\", \"Year\": 2016, \"Player Origin\": \"Indian\"}, {\"Player\": \"Ankush Bains\", \"Role\": \"Wicket Keeper\", \"Amount\": 2000000, \"Team\": \"Delhi Capitals\", \"Year\": 2019, \"Player Origin\": \"Indian\"}, {\"Player\": \"Anmolpreet Singh\", \"Role\": \"Batsman\", \"Amount\": 8000000, \"Team\": \"Mumbai Indians\", \"Year\": 2019, \"Player Origin\": \"Indian\"}, {\"Player\": \"Anmolpreet Singh\", \"Role\": \"Batsman\", \"Amount\": 2000000, \"Team\": \"Mumbai Indians\", \"Year\": 2022, \"Player Origin\": \"Indian\"}, {\"Player\": \"Anrich Nortje\", \"Role\": \"Bowler\", \"Amount\": 2000000, \"Team\": \"Kolkata Knight Riders\", \"Year\": 2019, \"Player Origin\": \"Overseas\"}, {\"Player\": \"Ansh Patel\", \"Role\": \"All-Rounder\", \"Amount\": 2000000, \"Team\": \"Punjab Kings\", \"Year\": 2022, \"Player Origin\": \"Indian\"}, {\"Player\": \"Anuj Rawat\", \"Role\": \"Wicket Keeper\", \"Amount\": 8000000, \"Team\": \"Rajasthan Royals\", \"Year\": 2020, \"Player Origin\": \"Indian\"}, {\"Player\": \"Anuj Rawat\", \"Role\": \"Wicket Keeper\", \"Amount\": 34000000, \"Team\": \"Royal Challengers Bangalore\", \"Year\": 2022, \"Player Origin\": \"Indian\"}, {\"Player\": \"Anukul Roy\", \"Role\": \"All-Rounder\", \"Amount\": 2000000, \"Team\": \"Mumbai Indians\", \"Year\": 2018, \"Player Origin\": \"Indian\"}, {\"Player\": \"Anukul Roy\", \"Role\": \"All-Rounder\", \"Amount\": 2000000, \"Team\": \"Kolkata Knight Riders\", \"Year\": 2022, \"Player Origin\": \"Indian\"}, {\"Player\": \"Anunay Singh\", \"Role\": \"All-Rounder\", \"Amount\": 2000000, \"Team\": \"Rajasthan Royals\", \"Year\": 2022, \"Player Origin\": \"Indian\"}, {\"Player\": \"Anureet Singh\", \"Role\": \"Bowler\", \"Amount\": 2000000, \"Team\": \"Kings XI Punjab\", \"Year\": 2014, \"Player Origin\": \"Indian\"}, {\"Player\": \"Anureet Singh\", \"Role\": \"Bowler\", \"Amount\": 3000000, \"Team\": \"Rajasthan Royals\", \"Year\": 2018, \"Player Origin\": \"Indian\"}, {\"Player\": \"Apoorv Vijay Wankhade\", \"Role\": \"Batsman\", \"Amount\": 1000000, \"Team\": \"Mumbai Indians\", \"Year\": 2014, \"Player Origin\": \"Indian\"}, {\"Player\": \"Apoorv Vijay Wankhade\", \"Role\": \"Batsman\", \"Amount\": 2000000, \"Team\": \"Kolkata Knight Riders\", \"Year\": 2018, \"Player Origin\": \"Indian\"}, {\"Player\": \"Arjun Tendulkar\", \"Role\": \"All-Rounder\", \"Amount\": 2000000, \"Team\": \"Mumbai Indians\", \"Year\": 2021, \"Player Origin\": \"Indian\"}, {\"Player\": \"Arjun Tendulkar\", \"Role\": \"All-Rounder\", \"Amount\": 3000000, \"Team\": \"Mumbai Indians\", \"Year\": 2022, \"Player Origin\": \"Indian\"}, {\"Player\": \"Armaan Jaffer\", \"Role\": \"Batsman\", \"Amount\": 1000000, \"Team\": \"Kings XI Punjab\", \"Year\": 2016, \"Player Origin\": \"Indian\"}, {\"Player\": \"Arshdeep Singh\", \"Role\": \"Bowler\", \"Amount\": 2000000, \"Team\": \"Kings XI Punjab\", \"Year\": 2019, \"Player Origin\": \"Indian\"}, {\"Player\": \"Aryaman Vikram Birla\", \"Role\": \"All-Rounder\", \"Amount\": 3000000, \"Team\": \"Rajasthan Royals\", \"Year\": 2018, \"Player Origin\": \"Indian\"}, {\"Player\": \"Aryan Juyal\", \"Role\": \"Wicket Keeper\", \"Amount\": 2000000, \"Team\": \"Mumbai Indians\", \"Year\": 2022, \"Player Origin\": \"Indian\"}, {\"Player\": \"Asela Gunarathna\", \"Role\": \"Batsman\", \"Amount\": 3000000, \"Team\": \"Mumbai Indians\", \"Year\": 2017, \"Player Origin\": \"Overseas\"}, {\"Player\": \"Ashish Nehra\", \"Role\": \"Bowler\", \"Amount\": 20000000, \"Team\": \"Chennai Super Kings\", \"Year\": 2014, \"Player Origin\": \"Indian\"}, {\"Player\": \"Ashish Nehra\", \"Role\": \"Bowler\", \"Amount\": 55000000, \"Team\": \"Sunrisers Hyderabad\", \"Year\": 2016, \"Player Origin\": \"Indian\"}, {\"Player\": \"Ashish Reddy\", \"Role\": \"Bowler\", \"Amount\": 2000000, \"Team\": \"Sunrisers Hyderabad\", \"Year\": 2014, \"Player Origin\": \"Indian\"}, {\"Player\": \"Ashok Dinda\", \"Role\": \"Bowler\", \"Amount\": 15000000, \"Team\": \"Royal Challengers Bangalore\", \"Year\": 2014, \"Player Origin\": \"Indian\"}, {\"Player\": \"Ashok Dinda\", \"Role\": \"Bowler\", \"Amount\": 5000000, \"Team\": \"Rising Pune Supergiant\", \"Year\": 2016, \"Player Origin\": \"Indian\"}, {\"Player\": \"Ashok Sharma\", \"Role\": \"Bowler\", \"Amount\": 5500000, \"Team\": \"Kolkata Knight Riders\", \"Year\": 2022, \"Player Origin\": \"Indian\"}, {\"Player\": \"Ashton Turner\", \"Role\": \"All-Rounder\", \"Amount\": 5000000, \"Team\": \"Rajasthan Royals\", \"Year\": 2019, \"Player Origin\": \"Indian\"}, {\"Player\": \"Ashwin Hebbar\", \"Role\": \"Batsman\", \"Amount\": 2000000, \"Team\": \"Delhi Capitals\", \"Year\": 2022, \"Player Origin\": \"Indian\"}, {\"Player\": \"Asif K M\", \"Role\": \"Bowler\", \"Amount\": 4000000, \"Team\": \"Chennai Super Kings\", \"Year\": 2018, \"Player Origin\": \"Indian\"}, {\"Player\": \"Atharva Taide\", \"Role\": \"All-Rounder\", \"Amount\": 2000000, \"Team\": \"Punjab Kings\", \"Year\": 2022, \"Player Origin\": \"Indian\"}, {\"Player\": \"Avesh Khan\", \"Role\": \"Bowler\", \"Amount\": 7000000, \"Team\": \"Delhi Daredevils\", \"Year\": 2018, \"Player Origin\": \"Indian\"}, {\"Player\": \"Avesh Khan\", \"Role\": \"Bowler\", \"Amount\": 100000000, \"Team\": \"Lucknow Super Giants\", \"Year\": 2022, \"Player Origin\": \"Indian\"}, {\"Player\": \"Axar Rajesh Patel\", \"Role\": \"All-Rounder\", \"Amount\": 50000000, \"Team\": \"Delhi Capitals\", \"Year\": 2019, \"Player Origin\": \"Indian\"}, {\"Player\": \"Ayush Badoni\", \"Role\": \"All-Rounder\", \"Amount\": 2000000, \"Team\": \"Lucknow Super Giants\", \"Year\": 2022, \"Player Origin\": \"Indian\"}, {\"Player\": \"B. Sai Sudharsan\", \"Role\": \"All-Rounder\", \"Amount\": 2000000, \"Team\": \"Gujarat Titans\", \"Year\": 2022, \"Player Origin\": \"Indian\"}, {\"Player\": \"Baba Aparajith\", \"Role\": \"Batsman\", \"Amount\": 1000000, \"Team\": \"Chennai Super Kings\", \"Year\": 2014, \"Player Origin\": \"Indian\"}, {\"Player\": \"Baba Aparajith\", \"Role\": \"All-Rounder\", \"Amount\": 1000000, \"Team\": \"Rising Pune Supergiant\", \"Year\": 2016, \"Player Origin\": \"Indian\"}, {\"Player\": \"Baba Indrajith\", \"Role\": \"Wicket Keeper\", \"Amount\": 2000000, \"Team\": \"Kolkata Knight Riders\", \"Year\": 2022, \"Player Origin\": \"Indian\"}, {\"Player\": \"Baltej Dhanda\", \"Role\": \"Bowler\", \"Amount\": 2000000, \"Team\": \"Punjab Kings\", \"Year\": 2022, \"Player Origin\": \"Indian\"}, {\"Player\": \"Bandaru Ayyappa\", \"Role\": \"Bowler\", \"Amount\": 2000000, \"Team\": \"Delhi Capitals\", \"Year\": 2019, \"Player Origin\": \"Indian\"}, {\"Player\": \"Barinder Singh Saran\", \"Role\": \"Bowler\", \"Amount\": 1000000, \"Team\": \"Rajasthan Royals\", \"Year\": 2015, \"Player Origin\": \"Indian\"}, {\"Player\": \"Barinder Singh Sran\", \"Role\": \"Bowler\", \"Amount\": 12000000, \"Team\": \"Sunrisers Hyderabad\", \"Year\": 2016, \"Player Origin\": \"Indian\"}, {\"Player\": \"Barinder Singh Sran\", \"Role\": \"Bowler\", \"Amount\": 22000000, \"Team\": \"Kings XI Punjab\", \"Year\": 2018, \"Player Origin\": \"Indian\"}, {\"Player\": \"Barinder Singh Sran\", \"Role\": \"Bowler\", \"Amount\": 34000000, \"Team\": \"Mumbai Indians\", \"Year\": 2019, \"Player Origin\": \"Indian\"}, {\"Player\": \"Basil Thampi\", \"Role\": \"Bowler\", \"Amount\": 8500000, \"Team\": \"Gujarat Lions\", \"Year\": 2017, \"Player Origin\": \"Indian\"}, {\"Player\": \"Basil Thampi\", \"Role\": \"Bowler\", \"Amount\": 9500000, \"Team\": \"Sunrisers Hyderabad\", \"Year\": 2018, \"Player Origin\": \"Indian\"}, {\"Player\": \"Basil Thampi\", \"Role\": \"Bowler\", \"Amount\": 3000000, \"Team\": \"Mumbai Indians\", \"Year\": 2022, \"Player Origin\": \"Indian\"}, {\"Player\": \"Ben Cutting\", \"Role\": \"Bowler\", \"Amount\": 8000000, \"Team\": \"Rajasthan Royals\", \"Year\": 2014, \"Player Origin\": \"Overseas\"}, {\"Player\": \"Ben Cutting\", \"Role\": \"All-Rounder\", \"Amount\": 5000000, \"Team\": \"Sunrisers Hyderabad\", \"Year\": 2016, \"Player Origin\": \"Overseas\"}, {\"Player\": \"Ben Cutting\", \"Role\": \"All-Rounder\", \"Amount\": 22000000, \"Team\": \"Mumbai Indians\", \"Year\": 2018, \"Player Origin\": \"Overseas\"}, {\"Player\": \"Ben Cutting\", \"Role\": \"All-Rounder\", \"Amount\": 7500000, \"Team\": \"Kolkata Knight Riders\", \"Year\": 2021, \"Player Origin\": \"Overseas\"}, {\"Player\": \"Ben Dunk\", \"Role\": \"Wicket Keeper\", \"Amount\": 2000000, \"Team\": \"Mumbai Indians\", \"Year\": 2014, \"Player Origin\": \"Overseas\"}, {\"Player\": \"Ben Dwarshuis\", \"Role\": \"Bowler\", \"Amount\": 14000000, \"Team\": \"Kings XI Punjab\", \"Year\": 2018, \"Player Origin\": \"Overseas\"}, {\"Player\": \"Ben Hilfenhaus\", \"Role\": \"Bowler\", \"Amount\": 10000000, \"Team\": \"Chennai Super Kings\", \"Year\": 2014, \"Player Origin\": \"Overseas\"}, {\"Player\": \"Ben Laughlin\", \"Role\": \"Bowler\", \"Amount\": 1500000, \"Team\": \"Chennai Super Kings\", \"Year\": 2013, \"Player Origin\": \"Overseas\"}, {\"Player\": \"Ben Laughlin\", \"Role\": \"Bowler\", \"Amount\": 3000000, \"Team\": \"Sunrisers Hyderabad\", \"Year\": 2017, \"Player Origin\": \"Overseas\"}, {\"Player\": \"Ben Laughlin\", \"Role\": \"Bowler\", \"Amount\": 5000000, \"Team\": \"Rajasthan Royals\", \"Year\": 2018, \"Player Origin\": \"Overseas\"}, {\"Player\": \"Benjamin Stokes\", \"Role\": \"All-Rounder\", \"Amount\": 145000000, \"Team\": \"Rising Pune Supergiant\", \"Year\": 2017, \"Player Origin\": \"Overseas\"}, {\"Player\": \"Benjamin Stokes\", \"Role\": \"All-Rounder\", \"Amount\": 125000000, \"Team\": \"Rajasthan Royals\", \"Year\": 2018, \"Player Origin\": \"Overseas\"}, {\"Player\": \"Benny Howell\", \"Role\": \"All-Rounder\", \"Amount\": 4000000, \"Team\": \"Punjab Kings\", \"Year\": 2022, \"Player Origin\": \"Overseas\"}, {\"Player\": \"Beuran Hendricks\", \"Role\": \"Bowler\", \"Amount\": 18000000, \"Team\": \"Kings XI Punjab\", \"Year\": 2014, \"Player Origin\": \"Overseas\"}, {\"Player\": \"Bhanuka Rajapaksa\", \"Role\": \"Batsman\", \"Amount\": 5000000, \"Team\": \"Punjab Kings\", \"Year\": 2022, \"Player Origin\": \"Overseas\"}, {\"Player\": \"Bhuvneshwar Kumar\", \"Role\": \"Bowler\", \"Amount\": 42500000, \"Team\": \"Sunrisers Hyderabad\", \"Year\": 2014, \"Player Origin\": \"Overseas\"}, {\"Player\": \"Bhuvneshwar Kumar\", \"Role\": \"Bowler\", \"Amount\": 42000000, \"Team\": \"Sunrisers Hyderabad\", \"Year\": 2022, \"Player Origin\": \"Indian\"}, {\"Player\": \"Billy Stanlake\", \"Role\": \"Bowler\", \"Amount\": 3000000, \"Team\": \"Royal Challengers Bangalore\", \"Year\": 2017, \"Player Origin\": \"Overseas\"}, {\"Player\": \"Billy Stanlake\", \"Role\": \"Batsman\", \"Amount\": 5000000, \"Team\": \"Sunrisers Hyderabad\", \"Year\": 2018, \"Player Origin\": \"Overseas\"}, {\"Player\": \"Bipul Sharma\", \"Role\": \"All-Rounder\", \"Amount\": 2000000, \"Team\": \"Sunrisers Hyderabad\", \"Year\": 2018, \"Player Origin\": \"Indian\"}, {\"Player\": \"Brad Hodge\", \"Role\": \"Batsman\", \"Amount\": 24000000, \"Team\": \"Rajasthan Royals\", \"Year\": 2014, \"Player Origin\": \"Overseas\"}, {\"Player\": \"Brad Hogg\", \"Role\": \"Bowler\", \"Amount\": 5000000, \"Team\": \"Kolkata Knight Riders\", \"Year\": 2015, \"Player Origin\": \"Overseas\"}, {\"Player\": \"Brendan Taylor\", \"Role\": \"Wicket Keeper\", \"Amount\": 3000000, \"Team\": \"Sunrisers Hyderabad\", \"Year\": 2014, \"Player Origin\": \"Overseas\"}, {\"Player\": \"Brendon McCullum\", \"Role\": \"Wicket Keeper\", \"Amount\": 32500000, \"Team\": \"Chennai Super Kings\", \"Year\": 2014, \"Player Origin\": \"Overseas\"}, {\"Player\": \"Brendon McCullum\", \"Role\": \"Batsman\", \"Amount\": 36000000, \"Team\": \"Royal Challengers Bangalore\", \"Year\": 2018, \"Player Origin\": \"Overseas\"}, {\"Player\": \"C Hari Nishaanth\", \"Role\": \"Batsman\", \"Amount\": 2000000, \"Team\": \"Chennai Super Kings\", \"Year\": 2021, \"Player Origin\": \"Indian\"}, {\"Player\": \"C.Hari Nishaanth\", \"Role\": \"Batsman\", \"Amount\": 2000000, \"Team\": \"Chennai Super Kings\", \"Year\": 2022, \"Player Origin\": \"Indian\"}, {\"Player\": \"C.M. Gautam\", \"Role\": \"Wicket Keeper\", \"Amount\": 2000000, \"Team\": \"Mumbai Indians\", \"Year\": 2014, \"Player Origin\": \"Indian\"}, {\"Player\": \"C.M. Gautam\", \"Role\": \"Wicket Keeper\", \"Amount\": 2000000, \"Team\": \"Delhi Daredevils\", \"Year\": 2015, \"Player Origin\": \"Indian\"}, {\"Player\": \"Cameron Delport\", \"Role\": \"All-Rounder\", \"Amount\": 3000000, \"Team\": \"Kolkata Knight Riders\", \"Year\": 2018, \"Player Origin\": \"Overseas\"}, {\"Player\": \"Carlos Brathwaite\", \"Role\": \"All-Rounder\", \"Amount\": 42000000, \"Team\": \"Delhi Daredevils\", \"Year\": 2016, \"Player Origin\": \"Overseas\"}, {\"Player\": \"Carlos Brathwaite\", \"Role\": \"All-Rounder\", \"Amount\": 20000000, \"Team\": \"Sunrisers Hyderabad\", \"Year\": 2018, \"Player Origin\": \"Overseas\"}, {\"Player\": \"Carlos Brathwaite\", \"Role\": \"All-Rounder\", \"Amount\": 50000000, \"Team\": \"Kolkata Knight Riders\", \"Year\": 2019, \"Player Origin\": \"Overseas\"}, {\"Player\": \"Chaitanya Bishnoi\", \"Role\": \"All-Rounder\", \"Amount\": 2000000, \"Team\": \"Chennai Super Kings\", \"Year\": 2018, \"Player Origin\": \"Indian\"}, {\"Player\": \"Chama Milind\", \"Role\": \"Bowler\", \"Amount\": 1000000, \"Team\": \"Sunrisers Hyderabad\", \"Year\": 2014, \"Player Origin\": \"Indian\"}, {\"Player\": \"Chama Milind\", \"Role\": \"Bowler\", \"Amount\": 1000000, \"Team\": \"Delhi Daredevils\", \"Year\": 2016, \"Player Origin\": \"Indian\"}, {\"Player\": \"Chama Milind\", \"Role\": \"Bowler\", \"Amount\": 2500000, \"Team\": \"Royal Challengers Bangalore\", \"Year\": 2022, \"Player Origin\": \"Indian\"}, {\"Player\": \"Chamika Karunaratne\", \"Role\": \"All-Rounder\", \"Amount\": 5000000, \"Team\": \"Kolkata Knight Riders\", \"Year\": 2022, \"Player Origin\": \"Overseas\"}, {\"Player\": \"Chetan Sakariya\", \"Role\": \"Bowler\", \"Amount\": 12000000, \"Team\": \"Rajasthan Royals\", \"Year\": 2021, \"Player Origin\": \"Indian\"}, {\"Player\": \"Chetan Sakariya\", \"Role\": \"Bowler\", \"Amount\": 42000000, \"Team\": \"Delhi Capitals\", \"Year\": 2022, \"Player Origin\": \"Indian\"}, {\"Player\": \"Cheteshwar Pujara\", \"Role\": \"Batsman\", \"Amount\": 19000000, \"Team\": \"Kings XI Punjab\", \"Year\": 2014, \"Player Origin\": \"Indian\"}, {\"Player\": \"Cheteshwar Pujara\", \"Role\": \"Batsman\", \"Amount\": 5000000, \"Team\": \"Chennai Super Kings\", \"Year\": 2021, \"Player Origin\": \"Indian\"}, {\"Player\": \"Chirag Suri\", \"Role\": \"Batsman\", \"Amount\": 1000000, \"Team\": \"Gujarat Lions\", \"Year\": 2017, \"Player Origin\": \"Indian\"}, {\"Player\": \"Chris Green\", \"Role\": \"All-Rounder\", \"Amount\": 2000000, \"Team\": \"Kolkata Knight Riders\", \"Year\": 2020, \"Player Origin\": \"Overseas\"}, {\"Player\": \"Chris Jordan\", \"Role\": \"All-Rounder\", \"Amount\": 5000000, \"Team\": \"Sunrisers Hyderabad\", \"Year\": 2017, \"Player Origin\": \"Overseas\"}, {\"Player\": \"Chris Jordan\", \"Role\": \"All-Rounder\", \"Amount\": 10000000, \"Team\": \"Sunrisers Hyderabad\", \"Year\": 2018, \"Player Origin\": \"Overseas\"}, {\"Player\": \"Chris Jordan\", \"Role\": \"All-Rounder\", \"Amount\": 30000000, \"Team\": \"Kings XI Punjab\", \"Year\": 2020, \"Player Origin\": \"Overseas\"}, {\"Player\": \"Chris Jordan\", \"Role\": \"All-Rounder\", \"Amount\": 36000000, \"Team\": \"Chennai Super Kings\", \"Year\": 2022, \"Player Origin\": \"Overseas\"}, {\"Player\": \"Chris Lynn\", \"Role\": \"Batsman\", \"Amount\": 13000000, \"Team\": \"Kolkata Knight Riders\", \"Year\": 2014, \"Player Origin\": \"Overseas\"}, {\"Player\": \"Chris Lynn\", \"Role\": \"Batsman\", \"Amount\": 96000000, \"Team\": \"Kolkata Knight Riders\", \"Year\": 2018, \"Player Origin\": \"Overseas\"}, {\"Player\": \"Chris Lynn\", \"Role\": \"Batsman\", \"Amount\": 20000000, \"Team\": \"Mumbai Indians\", \"Year\": 2020, \"Player Origin\": \"Overseas\"}, {\"Player\": \"Chris Woakes\", \"Role\": \"All-Rounder\", \"Amount\": 42000000, \"Team\": \"Kolkata Knight Riders\", \"Year\": 2017, \"Player Origin\": \"Overseas\"}, {\"Player\": \"Chris Woakes\", \"Role\": \"All-Rounder\", \"Amount\": 74000000, \"Team\": \"Royal Challengers Bangalore\", \"Year\": 2018, \"Player Origin\": \"Overseas\"}, {\"Player\": \"Chris Woakes\", \"Role\": \"All-Rounder\", \"Amount\": 15000000, \"Team\": \"Delhi Capitals\", \"Year\": 2020, \"Player Origin\": \"Overseas\"}, {\"Player\": \"Christopher Barnwell\", \"Role\": \"All-Rounder\", \"Amount\": 3750000, \"Team\": \"Royal Challengers Bangalore\", \"Year\": 2013, \"Player Origin\": \"Overseas\"}, {\"Player\": \"Christopher Gayle\", \"Role\": \"Batsman\", \"Amount\": 20000000, \"Team\": \"Kings XI Punjab\", \"Year\": 2018, \"Player Origin\": \"Overseas\"}, {\"Player\": \"Christopher Morris\", \"Role\": \"All-Rounder\", \"Amount\": 46875000, \"Team\": \"Chennai Super Kings\", \"Year\": 2013, \"Player Origin\": \"Overseas\"}, {\"Player\": \"Christopher Morris\", \"Role\": \"All-Rounder\", \"Amount\": 14000000, \"Team\": \"Rajasthan Royals\", \"Year\": 2015, \"Player Origin\": \"Overseas\"}, {\"Player\": \"Christopher Morris\", \"Role\": \"All-Rounder\", \"Amount\": 70000000, \"Team\": \"Delhi Daredevils\", \"Year\": 2016, \"Player Origin\": \"Overseas\"}, {\"Player\": \"Christopher Morris\", \"Role\": \"All-Rounder\", \"Amount\": 100000000, \"Team\": \"Royal Challengers Bangalore\", \"Year\": 2020, \"Player Origin\": \"Overseas\"}, {\"Player\": \"Christopher Morris\", \"Role\": \"All-Rounder\", \"Amount\": 162500000, \"Team\": \"Rajasthan Royals\", \"Year\": 2021, \"Player Origin\": \"Overseas\"}, {\"Player\": \"Clinton McKay\", \"Role\": \"Bowler\", \"Amount\": 7500000, \"Team\": \"Sunrisers Hyderabad\", \"Year\": 2013, \"Player Origin\": \"Overseas\"}, {\"Player\": \"Colin De Grandhomme\", \"Role\": \"All-Rounder\", \"Amount\": 22000000, \"Team\": \"Royal Challengers Bangalore\", \"Year\": 2018, \"Player Origin\": \"Overseas\"}, {\"Player\": \"Colin Ingram\", \"Role\": \"Batsman\", \"Amount\": 64000000, \"Team\": \"Delhi Capitals\", \"Year\": 2019, \"Player Origin\": \"Overseas\"}, {\"Player\": \"Colin Munro\", \"Role\": \"All-Rounder\", \"Amount\": 3000000, \"Team\": \"Kolkata Knight Riders\", \"Year\": 2016, \"Player Origin\": \"Overseas\"}, {\"Player\": \"Colin Munro\", \"Role\": \"All-Rounder\", \"Amount\": 19000000, \"Team\": \"Delhi Daredevils\", \"Year\": 2018, \"Player Origin\": \"Overseas\"}, {\"Player\": \"Corey Anderson\", \"Role\": \"All-Rounder\", \"Amount\": 45000000, \"Team\": \"Mumbai Indians\", \"Year\": 2014, \"Player Origin\": \"Overseas\"}, {\"Player\": \"Corey Anderson\", \"Role\": \"All-Rounder\", \"Amount\": 10000000, \"Team\": \"Delhi Daredevils\", \"Year\": 2017, \"Player Origin\": \"Overseas\"}, {\"Player\": \"Dale Steyn\", \"Role\": \"Bowler\", \"Amount\": 23000000, \"Team\": \"Gujarat Lions\", \"Year\": 2016, \"Player Origin\": \"Overseas\"}, {\"Player\": \"Dale Steyn\", \"Role\": \"Bowler\", \"Amount\": 20000000, \"Team\": \"Royal Challengers Bangalore\", \"Year\": 2020, \"Player Origin\": \"Overseas\"}, {\"Player\": \"Dan Christian\", \"Role\": \"All-Rounder\", \"Amount\": 48000000, \"Team\": \"Royal Challengers Bangalore\", \"Year\": 2021, \"Player Origin\": \"Overseas\"}, {\"Player\": \"Daniel Christian\", \"Role\": \"All-Rounder\", \"Amount\": 7500000, \"Team\": \"Royal Challengers Bangalore\", \"Year\": 2013, \"Player Origin\": \"Overseas\"}, {\"Player\": \"Daniel Christian\", \"Role\": \"All-Rounder\", \"Amount\": 10000000, \"Team\": \"Rising Pune Supergiant\", \"Year\": 2017, \"Player Origin\": \"Overseas\"}, {\"Player\": \"Daniel Christian\", \"Role\": \"All-Rounder\", \"Amount\": 15000000, \"Team\": \"Delhi Daredevils\", \"Year\": 2018, \"Player Origin\": \"Overseas\"}, {\"Player\": \"Daniel Sams\", \"Role\": \"All-Rounder\", \"Amount\": 26000000, \"Team\": \"Mumbai Indians\", \"Year\": 2022, \"Player Origin\": \"Overseas\"}, {\"Player\": \"Darcy Short\", \"Role\": \"All-Rounder\", \"Amount\": 40000000, \"Team\": \"Rajasthan Royals\", \"Year\": 2018, \"Player Origin\": \"Overseas\"}, {\"Player\": \"Darren Bravo\", \"Role\": \"Batsman\", \"Amount\": 5000000, \"Team\": \"Kolkata Knight Riders\", \"Year\": 2017, \"Player Origin\": \"Overseas\"}, {\"Player\": \"Darren Sammy\", \"Role\": \"All-Rounder\", \"Amount\": 31875000, \"Team\": \"Sunrisers Hyderabad\", \"Year\": 2013, \"Player Origin\": \"Overseas\"}, {\"Player\": \"Darren Sammy\", \"Role\": \"All-Rounder\", \"Amount\": 35000000, \"Team\": \"Sunrisers Hyderabad\", \"Year\": 2014, \"Player Origin\": \"Overseas\"}, {\"Player\": \"Darren Sammy\", \"Role\": \"All-Rounder\", \"Amount\": 28000000, \"Team\": \"Royal Challengers Bangalore\", \"Year\": 2015, \"Player Origin\": \"Overseas\"}, {\"Player\": \"Darren Sammy\", \"Role\": \"All-Rounder\", \"Amount\": 3000000, \"Team\": \"Kings XI Punjab\", \"Year\": 2017, \"Player Origin\": \"Overseas\"}, {\"Player\": \"Darshan Nalkande\", \"Role\": \"All-Rounder\", \"Amount\": 3000000, \"Team\": \"Kings XI Punjab\", \"Year\": 2019, \"Player Origin\": \"Indian\"}, {\"Player\": \"Darshan Nalkande\", \"Role\": \"All-Rounder\", \"Amount\": 2000000, \"Team\": \"Gujarat Titans\", \"Year\": 2022, \"Player Origin\": \"Indian\"}, {\"Player\": \"Daryl Mitchell\", \"Role\": \"All-Rounder\", \"Amount\": 7500000, \"Team\": \"Rajasthan Royals\", \"Year\": 2022, \"Player Origin\": \"Overseas\"}, {\"Player\": \"David Miller\", \"Role\": \"Batsman\", \"Amount\": 30000000, \"Team\": \"Kings XI Punjab\", \"Year\": 2018, \"Player Origin\": \"Overseas\"}, {\"Player\": \"David Miller\", \"Role\": \"Batsman\", \"Amount\": 7500000, \"Team\": \"Rajasthan Royals\", \"Year\": 2020, \"Player Origin\": \"Overseas\"}, {\"Player\": \"David Miller\", \"Role\": \"Batsman\", \"Amount\": 30000000, \"Team\": \"Gujarat Titans\", \"Year\": 2022, \"Player Origin\": \"Overseas\"}, {\"Player\": \"David Warner\", \"Role\": \"Batsman\", \"Amount\": 55000000, \"Team\": \"Sunrisers Hyderabad\", \"Year\": 2014, \"Player Origin\": \"Overseas\"}, {\"Player\": \"David Warner\", \"Role\": \"Batsman\", \"Amount\": 62500000, \"Team\": \"Delhi Capitals\", \"Year\": 2022, \"Player Origin\": \"Overseas\"}, {\"Player\": \"David Wiese\", \"Role\": \"All-Rounder\", \"Amount\": 28000000, \"Team\": \"Royal Challengers Bangalore\", \"Year\": 2015, \"Player Origin\": \"Overseas\"}, {\"Player\": \"David Willey\", \"Role\": \"All-Rounder\", \"Amount\": 20000000, \"Team\": \"Royal Challengers Bangalore\", \"Year\": 2022, \"Player Origin\": \"Overseas\"}, {\"Player\": \"Dawid Malan\", \"Role\": \"All-Rounder\", \"Amount\": 15000000, \"Team\": \"Punjab Kings\", \"Year\": 2021, \"Player Origin\": \"Overseas\"}, {\"Player\": \"Debabrata Das\", \"Role\": \"Wicket Keeper\", \"Amount\": 2000000, \"Team\": \"Kolkata Knight Riders\", \"Year\": 2014, \"Player Origin\": \"Indian\"}, {\"Player\": \"Deepak Chahar\", \"Role\": \"All-Rounder\", \"Amount\": 1000000, \"Team\": \"Rising Pune Supergiant\", \"Year\": 2016, \"Player Origin\": \"Indian\"}, {\"Player\": \"Deepak Chahar\", \"Role\": \"All-Rounder\", \"Amount\": 8000000, \"Team\": \"Chennai Super Kings\", \"Year\": 2018, \"Player Origin\": \"Indian\"}, {\"Player\": \"Deepak Chahar\", \"Role\": \"Bowler\", \"Amount\": 140000000, \"Team\": \"Chennai Super Kings\", \"Year\": 2022, \"Player Origin\": \"Indian\"}, {\"Player\": \"Deepak Hooda\", \"Role\": \"Bowler\", \"Amount\": 4000000, \"Team\": \"Rajasthan Royals\", \"Year\": 2014, \"Player Origin\": \"Indian\"}, {\"Player\": \"Deepak Hooda\", \"Role\": \"All-Rounder\", \"Amount\": 42000000, \"Team\": \"Sunrisers Hyderabad\", \"Year\": 2016, \"Player Origin\": \"Indian\"}, {\"Player\": \"Deepak Hooda\", \"Role\": \"All-Rounder\", \"Amount\": 36000000, \"Team\": \"Sunrisers Hyderabad\", \"Year\": 2018, \"Player Origin\": \"Indian\"}, {\"Player\": \"Deepak Hooda\", \"Role\": \"All-Rounder\", \"Amount\": 5000000, \"Team\": \"Kings XI Punjab\", \"Year\": 2020, \"Player Origin\": \"Indian\"}, {\"Player\": \"Deepak Hooda\", \"Role\": \"All-Rounder\", \"Amount\": 57500000, \"Team\": \"Lucknow Super Giants\", \"Year\": 2022, \"Player Origin\": \"Indian\"}, {\"Player\": \"Deepak Punia\", \"Role\": \"All-Rounder\", \"Amount\": 1000000, \"Team\": \"Mumbai Indians\", \"Year\": 2016, \"Player Origin\": \"Indian\"}, {\"Player\": \"Devdutt Padikkal\", \"Role\": \"Batsman\", \"Amount\": 2000000, \"Team\": \"Royal Challengers Bangalore\", \"Year\": 2019, \"Player Origin\": \"Indian\"}, {\"Player\": \"Devdutt Padikkal\", \"Role\": \"Batsman\", \"Amount\": 77500000, \"Team\": \"Rajasthan Royals\", \"Year\": 2022, \"Player Origin\": \"Indian\"}, {\"Player\": \"Devon Conway\", \"Role\": \"Batsman\", \"Amount\": 10000000, \"Team\": \"Chennai Super Kings\", \"Year\": 2022, \"Player Origin\": \"Overseas\"}, {\"Player\": \"Dewald Brevis\", \"Role\": \"Batsman\", \"Amount\": 30000000, \"Team\": \"Mumbai Indians\", \"Year\": 2022, \"Player Origin\": \"Overseas\"}, {\"Player\": \"Dhawal Kulkarni\", \"Role\": \"Bowler\", \"Amount\": 11000000, \"Team\": \"Rajasthan Royals\", \"Year\": 2014, \"Player Origin\": \"Indian\"}, {\"Player\": \"Dhawal Kulkarni\", \"Role\": \"Bowler\", \"Amount\": 20000000, \"Team\": \"Gujarat Lions\", \"Year\": 2016, \"Player Origin\": \"Indian\"}, {\"Player\": \"Dhawal Kulkarni\", \"Role\": \"Bowler\", \"Amount\": 7500000, \"Team\": \"Rajasthan Royals\", \"Year\": 2018, \"Player Origin\": \"Indian\"}, {\"Player\": \"Dhruv Jurel\", \"Role\": \"Wicket Keeper\", \"Amount\": 2000000, \"Team\": \"Rajasthan Royals\", \"Year\": 2022, \"Player Origin\": \"Indian\"}, {\"Player\": \"Dhruv Shorey\", \"Role\": \"All-Rounder\", \"Amount\": 2000000, \"Team\": \"Chennai Super Kings\", \"Year\": 2018, \"Player Origin\": \"Indian\"}, {\"Player\": \"Digvijay Deshmukh\", \"Role\": \"All-Rounder\", \"Amount\": 2000000, \"Team\": \"Mumbai Indians\", \"Year\": 2020, \"Player Origin\": \"Indian\"}, {\"Player\": \"Dinesh Karthik\", \"Role\": \"Wicket Keeper\", \"Amount\": 125000000, \"Team\": \"Delhi Daredevils\", \"Year\": 2014, \"Player Origin\": \"Indian\"}, {\"Player\": \"Dinesh Karthik\", \"Role\": \"Wicket Keeper\", \"Amount\": 105000000, \"Team\": \"Royal Challengers Bangalore\", \"Year\": 2015, \"Player Origin\": \"Indian\"}, {\"Player\": \"Dinesh Karthik\", \"Role\": \"Wicket Keeper\", \"Amount\": 23000000, \"Team\": \"Gujarat Lions\", \"Year\": 2016, \"Player Origin\": \"Indian\"}, {\"Player\": \"Dinesh Karthik\", \"Role\": \"Wicket Keeper\", \"Amount\": 74000000, \"Team\": \"Kolkata Knight Riders\", \"Year\": 2018, \"Player Origin\": \"Indian\"}, {\"Player\": \"Dinesh Karthik\", \"Role\": \"Wicket Keeper\", \"Amount\": 55000000, \"Team\": \"Royal Challengers Bangalore\", \"Year\": 2022, \"Player Origin\": \"Indian\"}, {\"Player\": \"Dinesh Salunkhe\", \"Role\": \"All-Rounder\", \"Amount\": 1000000, \"Team\": \"Rajasthan Royals\", \"Year\": 2015, \"Player Origin\": \"Indian\"}, {\"Player\": \"Dirk Nannes\", \"Role\": \"Bowler\", \"Amount\": 45000000, \"Team\": \"Chennai Super Kings\", \"Year\": 2013, \"Player Origin\": \"Overseas\"}, {\"Player\": \"Dishant Yagnik\", \"Role\": \"Wicket Keeper\", \"Amount\": 3000000, \"Team\": \"Rajasthan Royals\", \"Year\": 2014, \"Player Origin\": \"Indian\"}, {\"Player\": \"Dominic Drakes\", \"Role\": \"All-Rounder\", \"Amount\": 11000000, \"Team\": \"Gujarat Titans\", \"Year\": 2022, \"Player Origin\": \"Overseas\"}, {\"Player\": \"Domnic Joseph Muthuswamy\", \"Role\": \"Bowler\", \"Amount\": 7500000, \"Team\": \"Delhi Daredevils\", \"Year\": 2015, \"Player Origin\": \"Overseas\"}, {\"Player\": \"Dushmanta Chameera\", \"Role\": \"Bowler\", \"Amount\": 20000000, \"Team\": \"Lucknow Super Giants\", \"Year\": 2022, \"Player Origin\": \"Overseas\"}, {\"Player\": \"Dushmantha Chameera\", \"Role\": \"Bowler\", \"Amount\": 5000000, \"Team\": \"Rajasthan Royals\", \"Year\": 2018, \"Player Origin\": \"Overseas\"}, {\"Player\": \"Dwaine Pretorius\", \"Role\": \"All-Rounder\", \"Amount\": 5000000, \"Team\": \"Chennai Super Kings\", \"Year\": 2022, \"Player Origin\": \"Overseas\"}, {\"Player\": \"Dwayne Bravo\", \"Role\": \"All-Rounder\", \"Amount\": 64000000, \"Team\": \"Chennai Super Kings\", \"Year\": 2018, \"Player Origin\": \"Overseas\"}, {\"Player\": \"Dwayne Bravo\", \"Role\": \"All-Rounder\", \"Amount\": 44000000, \"Team\": \"Chennai Super Kings\", \"Year\": 2022, \"Player Origin\": \"Overseas\"}, {\"Player\": \"Dwayne Smith\", \"Role\": \"Batsman\", \"Amount\": 45000000, \"Team\": \"Chennai Super Kings\", \"Year\": 2014, \"Player Origin\": \"Overseas\"}, {\"Player\": \"Dwayne Smith\", \"Role\": \"All-Rounder\", \"Amount\": 23000000, \"Team\": \"Gujarat Lions\", \"Year\": 2016, \"Player Origin\": \"Overseas\"}, {\"Player\": \"Eklavya Dwivedi\", \"Role\": \"Wicket Keeper\", \"Amount\": 1000000, \"Team\": \"Chennai Super Kings\", \"Year\": 2015, \"Player Origin\": \"Indian\"}, {\"Player\": \"Eklavya Dwivedi\", \"Role\": \"Wicket Keeper\", \"Amount\": 10000000, \"Team\": \"Gujarat Lions\", \"Year\": 2016, \"Player Origin\": \"Indian\"}, {\"Player\": \"Eklavya Dwivedi\", \"Role\": \"Wicket Keeper\", \"Amount\": 7500000, \"Team\": \"Sunrisers Hyderabad\", \"Year\": 2017, \"Player Origin\": \"Indian\"}, {\"Player\": \"Eoin Morgan\", \"Role\": \"Batsman\", \"Amount\": 15000000, \"Team\": \"Sunrisers Hyderabad\", \"Year\": 2015, \"Player Origin\": \"Overseas\"}, {\"Player\": \"Eoin Morgan\", \"Role\": \"Batsman\", \"Amount\": 20000000, \"Team\": \"Kings XI Punjab\", \"Year\": 2017, \"Player Origin\": \"Overseas\"}, {\"Player\": \"Eoin Morgan\", \"Role\": \"Batsman\", \"Amount\": 52500000, \"Team\": \"Kolkata Knight Riders\", \"Year\": 2020, \"Player Origin\": \"Overseas\"}, {\"Player\": \"Evin Lewis\", \"Role\": \"Batsman\", \"Amount\": 38000000, \"Team\": \"Mumbai Indians\", \"Year\": 2018, \"Player Origin\": \"Overseas\"}, {\"Player\": \"Evin Lewis\", \"Role\": \"Batsman\", \"Amount\": 20000000, \"Team\": \"Lucknow Super Giants\", \"Year\": 2022, \"Player Origin\": \"Overseas\"}, {\"Player\": \"Fabian Allen\", \"Role\": \"All-Rounder\", \"Amount\": 5000000, \"Team\": \"Sunrisers Hyderabad\", \"Year\": 2020, \"Player Origin\": \"Overseas\"}, {\"Player\": \"Fabian Allen\", \"Role\": \"All-Rounder\", \"Amount\": 7500000, \"Team\": \"Punjab Kings\", \"Year\": 2021, \"Player Origin\": \"Overseas\"}, {\"Player\": \"Fabian Allen\", \"Role\": \"All-Rounder\", \"Amount\": 7500000, \"Team\": \"Mumbai Indians\", \"Year\": 2022, \"Player Origin\": \"Overseas\"}, {\"Player\": \"Faf Du Plessis\", \"Role\": \"Batsman\", \"Amount\": 47500000, \"Team\": \"Chennai Super Kings\", \"Year\": 2014, \"Player Origin\": \"Overseas\"}, {\"Player\": \"Faf Du Plessis\", \"Role\": \"Batsman\", \"Amount\": 16000000, \"Team\": \"Chennai Super Kings\", \"Year\": 2018, \"Player Origin\": \"Overseas\"}, {\"Player\": \"Faf Du Plessis\", \"Role\": \"Batsman\", \"Amount\": 70000000, \"Team\": \"Royal Challengers Bangalore\", \"Year\": 2022, \"Player Origin\": \"Overseas\"}, {\"Player\": \"Farhaan Behardien\", \"Role\": \"All-Rounder\", \"Amount\": 3000000, \"Team\": \"Kings XI Punjab\", \"Year\": 2016, \"Player Origin\": \"Overseas\"}, {\"Player\": \"Fazalhaq Farooqi\", \"Role\": \"Bowler\", \"Amount\": 5000000, \"Team\": \"Sunrisers Hyderabad\", \"Year\": 2022, \"Player Origin\": \"Overseas\"}, {\"Player\": \"Fidel Edwards\", \"Role\": \"Bowler\", \"Amount\": 15750000, \"Team\": \"Rajasthan Royals\", \"Year\": 2013, \"Player Origin\": \"Overseas\"}, {\"Player\": \"Finn Allen\", \"Role\": \"Batsman\", \"Amount\": 8000000, \"Team\": \"Royal Challengers Bangalore\", \"Year\": 2022, \"Player Origin\": \"Overseas\"}, {\"Player\": \"Gautam Gambhir\", \"Role\": \"Batsman\", \"Amount\": 28000000, \"Team\": \"Delhi Daredevils\", \"Year\": 2018, \"Player Origin\": \"Indian\"}, {\"Player\": \"George Bailey\", \"Role\": \"Batsman\", \"Amount\": 32500000, \"Team\": \"Kings XI Punjab\", \"Year\": 2014, \"Player Origin\": \"Overseas\"}, {\"Player\": \"Glenn Maxwell\", \"Role\": \"All-Rounder\", \"Amount\": 75000000, \"Team\": \"Mumbai Indians\", \"Year\": 2013, \"Player Origin\": \"Overseas\"}, {\"Player\": \"Glenn Maxwell\", \"Role\": \"All-Rounder\", \"Amount\": 60000000, \"Team\": \"Kings XI Punjab\", \"Year\": 2014, \"Player Origin\": \"Overseas\"}, {\"Player\": \"Glenn Maxwell\", \"Role\": \"All-Rounder\", \"Amount\": 90000000, \"Team\": \"Delhi Daredevils\", \"Year\": 2018, \"Player Origin\": \"Overseas\"}, {\"Player\": \"Glenn Maxwell\", \"Role\": \"All-Rounder\", \"Amount\": 107500000, \"Team\": \"Kings XI Punjab\", \"Year\": 2020, \"Player Origin\": \"Overseas\"}, {\"Player\": \"Glenn Maxwell\", \"Role\": \"All-Rounder\", \"Amount\": 142500000, \"Team\": \"Royal Challengers Bangalore\", \"Year\": 2021, \"Player Origin\": \"Overseas\"}, {\"Player\": \"Glenn Phillips\", \"Role\": \"Wicket Keeper\", \"Amount\": 15000000, \"Team\": \"Sunrisers Hyderabad\", \"Year\": 2022, \"Player Origin\": \"Overseas\"}, {\"Player\": \"Gurinder Sandhu\", \"Role\": \"Bowler\", \"Amount\": 17000000, \"Team\": \"Delhi Daredevils\", \"Year\": 2015, \"Player Origin\": \"Indian\"}, {\"Player\": \"Gurkeerat Singh Mann\", \"Role\": \"All-Rounder\", \"Amount\": 5000000, \"Team\": \"Gujarat Titans\", \"Year\": 2022, \"Player Origin\": \"Indian\"}, {\"Player\": \"Gurkeerat Singh Mann\", \"Role\": \"All-Rounder\", \"Amount\": 7500000, \"Team\": \"Delhi Daredevils\", \"Year\": 2018, \"Player Origin\": \"Indian\"}, {\"Player\": \"Gurkeerat Singh Mann\", \"Role\": \"All-Rounder\", \"Amount\": 5000000, \"Team\": \"Royal Challengers Bangalore\", \"Year\": 2019, \"Player Origin\": \"Indian\"}, {\"Player\": \"Gurkeerat Singh Mann\", \"Role\": \"Batsman\", \"Amount\": 13000000, \"Team\": \"Kings XI Punjab\", \"Year\": 2014, \"Player Origin\": \"Indian\"}, {\"Player\": \"Hanuma Vihari\", \"Role\": \"Batsman\", \"Amount\": 1000000, \"Team\": \"Sunrisers Hyderabad\", \"Year\": 2015, \"Player Origin\": \"Indian\"}, {\"Player\": \"Hanuma Vihari\", \"Role\": \"Batsman\", \"Amount\": 20000000, \"Team\": \"Delhi Capitals\", \"Year\": 2019, \"Player Origin\": \"Indian\"}, {\"Player\": \"Harbhajan Singh\", \"Role\": \"Bowler\", \"Amount\": 20000000, \"Team\": \"Chennai Super Kings\", \"Year\": 2018, \"Player Origin\": \"Indian\"}, {\"Player\": \"Harbhajan Singh\", \"Role\": \"Bowler\", \"Amount\": 20000000, \"Team\": \"Kolkata Knight Riders\", \"Year\": 2021, \"Player Origin\": \"Indian\"}, {\"Player\": \"Hardik Pandya\", \"Role\": \"All-Rounder\", \"Amount\": 1000000, \"Team\": \"Mumbai Indians\", \"Year\": 2015, \"Player Origin\": \"Indian\"}, {\"Player\": \"Hardus Viljoen\", \"Role\": \"Bowler\", \"Amount\": 7500000, \"Team\": \"Kings XI Punjab\", \"Year\": 2019, \"Player Origin\": \"Overseas\"}, {\"Player\": \"Harpreet Brar\", \"Role\": \"All-Rounder\", \"Amount\": 2000000, \"Team\": \"Kings XI Punjab\", \"Year\": 2019, \"Player Origin\": \"Indian\"}, {\"Player\": \"Harpreet Brar\", \"Role\": \"All-Rounder\", \"Amount\": 38000000, \"Team\": \"Punjab Kings\", \"Year\": 2022, \"Player Origin\": \"Indian\"}, {\"Player\": \"Harry Gurney\", \"Role\": \"Bowler\", \"Amount\": 7500000, \"Team\": \"Kolkata Knight Riders\", \"Year\": 2019, \"Player Origin\": \"Overseas\"}, {\"Player\": \"Harshal Patel\", \"Role\": \"Bowler\", \"Amount\": 4000000, \"Team\": \"Royal Challengers Bangalore\", \"Year\": 2014, \"Player Origin\": \"Indian\"}, {\"Player\": \"Harshal Patel\", \"Role\": \"All-Rounder\", \"Amount\": 2000000, \"Team\": \"Delhi Daredevils\", \"Year\": 2018, \"Player Origin\": \"Indian\"}, {\"Player\": \"Harshal Patel\", \"Role\": \"All-Rounder\", \"Amount\": 107500000, \"Team\": \"Royal Challengers Bangalore\", \"Year\": 2022, \"Player Origin\": \"Indian\"}, {\"Player\": \"Heinrich Klaasen\", \"Role\": \"Wicket Keeper\", \"Amount\": 5000000, \"Team\": \"Royal Challengers Bangalore\", \"Year\": 2019, \"Player Origin\": \"Overseas\"}, {\"Player\": \"Himmat Singh\", \"Role\": \"Batsman\", \"Amount\": 6500000, \"Team\": \"Royal Challengers Bangalore\", \"Year\": 2019, \"Player Origin\": \"Indian\"}, {\"Player\": \"Hrithik Shokeen\", \"Role\": \"All-Rounder\", \"Amount\": 2000000, \"Team\": \"Mumbai Indians\", \"Year\": 2022, \"Player Origin\": \"Indian\"}, {\"Player\": \"HS Sharath\", \"Role\": \"Bowler\", \"Amount\": 1000000, \"Team\": \"Delhi Daredevils\", \"Year\": 2014, \"Player Origin\": \"Indian\"}, {\"Player\": \"Imran Tahir\", \"Role\": \"Bowler\", \"Amount\": 10000000, \"Team\": \"Chennai Super Kings\", \"Year\": 2018, \"Player Origin\": \"Overseas\"}, {\"Player\": \"Iqbal Abdullah\", \"Role\": \"All-Rounder\", \"Amount\": 6500000, \"Team\": \"Rajasthan Royals\", \"Year\": 2014, \"Player Origin\": \"Indian\"}, {\"Player\": \"Iqbal Abdullah\", \"Role\": \"All-Rounder\", \"Amount\": 1000000, \"Team\": \"Royal Challengers Bangalore\", \"Year\": 2016, \"Player Origin\": \"Indian\"}, {\"Player\": \"Irfan Pathan\", \"Role\": \"All-Rounder\", \"Amount\": 24000000, \"Team\": \"Sunrisers Hyderabad\", \"Year\": 2014, \"Player Origin\": \"Indian\"}, {\"Player\": \"Irfan Pathan\", \"Role\": \"All-Rounder\", \"Amount\": 15000000, \"Team\": \"Chennai Super Kings\", \"Year\": 2015, \"Player Origin\": \"Indian\"}, {\"Player\": \"Irfan Pathan\", \"Role\": \"All-Rounder\", \"Amount\": 10000000, \"Team\": \"Rising Pune Supergiant\", \"Year\": 2016, \"Player Origin\": \"Indian\"}, {\"Player\": \"Ishan Kishan\", \"Role\": \"Wicket Keeper\", \"Amount\": 3500000, \"Team\": \"Gujarat Lions\", \"Year\": 2016, \"Player Origin\": \"Indian\"}, {\"Player\": \"Ishan Kishan\", \"Role\": \"Wicket Keeper\", \"Amount\": 62000000, \"Team\": \"Mumbai Indians\", \"Year\": 2018, \"Player Origin\": \"Indian\"}, {\"Player\": \"Ishan Kishan\", \"Role\": \"Wicket Keeper\", \"Amount\": 152500000, \"Team\": \"Mumbai Indians\", \"Year\": 2022, \"Player Origin\": \"Indian\"}, {\"Player\": \"Ishan Porel\", \"Role\": \"Bowler\", \"Amount\": 2500000, \"Team\": \"Punjab Kings\", \"Year\": 2022, \"Player Origin\": \"Indian\"}, {\"Player\": \"Ishank Jaggi\", \"Role\": \"Batsman\", \"Amount\": 1000000, \"Team\": \"Kolkata Knight Riders\", \"Year\": 2017, \"Player Origin\": \"Indian\"}, {\"Player\": \"Ishank Jaggi\", \"Role\": \"Batsman\", \"Amount\": 2000000, \"Team\": \"Kolkata Knight Riders\", \"Year\": 2018, \"Player Origin\": \"Indian\"}, {\"Player\": \"Ishant Sharma\", \"Role\": \"Bowler\", \"Amount\": 26000000, \"Team\": \"Sunrisers Hyderabad\", \"Year\": 2014, \"Player Origin\": \"Indian\"}, {\"Player\": \"Ishant Sharma\", \"Role\": \"Bowler\", \"Amount\": 38000000, \"Team\": \"Rising Pune Supergiant\", \"Year\": 2016, \"Player Origin\": \"Indian\"}, {\"Player\": \"Ishant Sharma\", \"Role\": \"Bowler\", \"Amount\": 11000000, \"Team\": \"Delhi Capitals\", \"Year\": 2019, \"Player Origin\": \"Indian\"}, {\"Player\": \"Ishwar Chandra Pandey\", \"Role\": \"Bowler\", \"Amount\": 15000000, \"Team\": \"Chennai Super Kings\", \"Year\": 2014, \"Player Origin\": \"Indian\"}, {\"Player\": \"Ishwar Chandra Pandey\", \"Role\": \"Bowler\", \"Amount\": 2000000, \"Team\": \"Rising Pune Supergiant\", \"Year\": 2016, \"Player Origin\": \"Indian\"}, {\"Player\": \"Isuru Udana\", \"Role\": \"All-Rounder\", \"Amount\": 5000000, \"Team\": \"Royal Challengers Bangalore\", \"Year\": 2020, \"Player Origin\": \"Overseas\"}, {\"Player\": \"J Suchith\", \"Role\": \"Bowler\", \"Amount\": 3000000, \"Team\": \"Sunrisers Hyderabad\", \"Year\": 2021, \"Player Origin\": \"Indian\"}, {\"Player\": \"J Suchith\", \"Role\": \"All-Rounder\", \"Amount\": 1000000, \"Team\": \"Mumbai Indians\", \"Year\": 2015, \"Player Origin\": \"Indian\"}, {\"Player\": \"Jacob Oram\", \"Role\": \"All-Rounder\", \"Amount\": 3750000, \"Team\": \"Mumbai Indians\", \"Year\": 2013, \"Player Origin\": \"Overseas\"}, {\"Player\": \"Jacques Kallis\", \"Role\": \"All-Rounder\", \"Amount\": 55000000, \"Team\": \"Kolkata Knight Riders\", \"Year\": 2014, \"Player Origin\": \"Overseas\"}, {\"Player\": \"Jagadeesha Suchith\", \"Role\": \"Bowler\", \"Amount\": 2000000, \"Team\": \"Sunrisers Hyderabad\", \"Year\": 2022, \"Player Origin\": \"Indian\"}, {\"Player\": \"Jalaj Saxena\", \"Role\": \"All-Rounder\", \"Amount\": 9000000, \"Team\": \"Mumbai Indians\", \"Year\": 2014, \"Player Origin\": \"Indian\"}, {\"Player\": \"Jalaj Saxena\", \"Role\": \"All-Rounder\", \"Amount\": 1000000, \"Team\": \"Royal Challengers Bangalore\", \"Year\": 2015, \"Player Origin\": \"Indian\"}, {\"Player\": \"Jalaj Saxena\", \"Role\": \"All-Rounder\", \"Amount\": 2000000, \"Team\": \"Delhi Capitals\", \"Year\": 2019, \"Player Origin\": \"Indian\"}, {\"Player\": \"Jalaj Saxena\", \"Role\": \"All-Rounder\", \"Amount\": 3000000, \"Team\": \"Punjab Kings\", \"Year\": 2021, \"Player Origin\": \"Indian\"}, {\"Player\": \"James Faulkner\", \"Role\": \"All-Rounder\", \"Amount\": 30000000, \"Team\": \"Rajasthan Royals\", \"Year\": 2013, \"Player Origin\": \"Overseas\"}, {\"Player\": \"James Neesham\", \"Role\": \"All-Rounder\", \"Amount\": 10000000, \"Team\": \"Delhi Daredevils\", \"Year\": 2014, \"Player Origin\": \"Overseas\"}, {\"Player\": \"James Neesham\", \"Role\": \"All-Rounder\", \"Amount\": 5000000, \"Team\": \"Kolkata Knight Riders\", \"Year\": 2015, \"Player Origin\": \"Overseas\"}, {\"Player\": \"James Neesham\", \"Role\": \"All-Rounder\", \"Amount\": 5000000, \"Team\": \"Kings XI Punjab\", \"Year\": 2020, \"Player Origin\": \"Overseas\"}, {\"Player\": \"James Neesham\", \"Role\": \"All-Rounder\", \"Amount\": 5000000, \"Team\": \"Mumbai Indians\", \"Year\": 2021, \"Player Origin\": \"Overseas\"}, {\"Player\": \"James Neesham\", \"Role\": \"All-Rounder\", \"Amount\": 15000000, \"Team\": \"Rajasthan Royals\", \"Year\": 2022, \"Player Origin\": \"Overseas\"}, {\"Player\": \"Jaskaran Singh\", \"Role\": \"Bowler\", \"Amount\": 1000000, \"Team\": \"Rising Pune Supergiant\", \"Year\": 2016, \"Player Origin\": \"Indian\"}, {\"Player\": \"Jason Behrendorff\", \"Role\": \"Bowler\", \"Amount\": 15000000, \"Team\": \"Mumbai Indians\", \"Year\": 2018, \"Player Origin\": \"Overseas\"}, {\"Player\": \"Jason Behrendorff\", \"Role\": \"Bowler\", \"Amount\": 7500000, \"Team\": \"Royal Challengers Bangalore\", \"Year\": 2022, \"Player Origin\": \"Overseas\"}, {\"Player\": \"Jason Holder\", \"Role\": \"Bowler\", \"Amount\": 1500000, \"Team\": \"Chennai Super Kings\", \"Year\": 2013, \"Player Origin\": \"Overseas\"}, {\"Player\": \"Jason Holder\", \"Role\": \"Bowler\", \"Amount\": 7500000, \"Team\": \"Sunrisers Hyderabad\", \"Year\": 2014, \"Player Origin\": \"Overseas\"}, {\"Player\": \"Jason Holder\", \"Role\": \"All-Rounder\", \"Amount\": 7000000, \"Team\": \"Kolkata Knight Riders\", \"Year\": 2016, \"Player Origin\": \"Overseas\"}, {\"Player\": \"Jason Holder\", \"Role\": \"All-Rounder\", \"Amount\": 87500000, \"Team\": \"Lucknow Super Giants\", \"Year\": 2022, \"Player Origin\": \"Overseas\"}, {\"Player\": \"Jason Roy\", \"Role\": \"Batsman\", \"Amount\": 10000000, \"Team\": \"Gujarat Lions\", \"Year\": 2017, \"Player Origin\": \"Overseas\"}, {\"Player\": \"Jason Roy\", \"Role\": \"Batsman\", \"Amount\": 15000000, \"Team\": \"Delhi Daredevils\", \"Year\": 2018, \"Player Origin\": \"Overseas\"}, {\"Player\": \"Jason Roy\", \"Role\": \"Batsman\", \"Amount\": 15000000, \"Team\": \"Delhi Capitals\", \"Year\": 2020, \"Player Origin\": \"Overseas\"}, {\"Player\": \"Jason Roy\", \"Role\": \"Batsman\", \"Amount\": 20000000, \"Team\": \"Gujarat Titans\", \"Year\": 2022, \"Player Origin\": \"Overseas\"}, {\"Player\": \"Jasprit Bumrah\", \"Role\": \"Bowler\", \"Amount\": 12000000, \"Team\": \"Mumbai Indians\", \"Year\": 2014, \"Player Origin\": \"Indian\"}, {\"Player\": \"Jatin Saxena\", \"Role\": \"All-Rounder\", \"Amount\": 2000000, \"Team\": \"Rajasthan Royals\", \"Year\": 2018, \"Player Origin\": \"Indian\"}, {\"Player\": \"Javon Searless\", \"Role\": \"All-Rounder\", \"Amount\": 3000000, \"Team\": \"Kolkata Knight Riders\", \"Year\": 2018, \"Player Origin\": \"Indian\"}, {\"Player\": \"Jayant Yadav\", \"Role\": \"All-Rounder\", \"Amount\": 1000000, \"Team\": \"Delhi Daredevils\", \"Year\": 2014, \"Player Origin\": \"Indian\"}, {\"Player\": \"Jayant Yadav\", \"Role\": \"All-Rounder\", \"Amount\": 5000000, \"Team\": \"Delhi Daredevils\", \"Year\": 2018, \"Player Origin\": \"Indian\"}, {\"Player\": \"Jayant Yadav\", \"Role\": \"All-Rounder\", \"Amount\": 17000000, \"Team\": \"Gujarat Titans\", \"Year\": 2022, \"Player Origin\": \"Indian\"}, {\"Player\": \"Jaydev Shah\", \"Role\": \"All-Rounder\", \"Amount\": 2000000, \"Team\": \"Gujarat Lions\", \"Year\": 2016, \"Player Origin\": \"Indian\"}, {\"Player\": \"Jaydev Unadkat\", \"Role\": \"Bowler\", \"Amount\": 39375000, \"Team\": \"Royal Challengers Bangalore\", \"Year\": 2013, \"Player Origin\": \"Indian\"}, {\"Player\": \"Jaydev Unadkat\", \"Role\": \"Bowler\", \"Amount\": 28000000, \"Team\": \"Delhi Daredevils\", \"Year\": 2014, \"Player Origin\": \"Indian\"}, {\"Player\": \"Jaydev Unadkat\", \"Role\": \"Bowler\", \"Amount\": 11000000, \"Team\": \"Delhi Daredevils\", \"Year\": 2015, \"Player Origin\": \"Indian\"}, {\"Player\": \"Jaydev Unadkat\", \"Role\": \"Bowler\", \"Amount\": 16000000, \"Team\": \"Kolkata Knight Riders\", \"Year\": 2016, \"Player Origin\": \"Indian\"}, {\"Player\": \"Jaydev Unadkat\", \"Role\": \"Bowler\", \"Amount\": 3000000, \"Team\": \"Rising Pune Supergiant\", \"Year\": 2017, \"Player Origin\": \"Indian\"}, {\"Player\": \"Jaydev Unadkat\", \"Role\": \"Bowler\", \"Amount\": 115000000, \"Team\": \"Rajasthan Royals\", \"Year\": 2018, \"Player Origin\": \"Indian\"}, {\"Player\": \"Jaydev Unadkat\", \"Role\": \"Bowler\", \"Amount\": 84000000, \"Team\": \"Rajasthan Royals\", \"Year\": 2019, \"Player Origin\": \"Indian\"}, {\"Player\": \"Jaydev Unadkat\", \"Role\": \"Bowler\", \"Amount\": 30000000, \"Team\": \"Rajasthan Royals\", \"Year\": 2020, \"Player Origin\": \"Indian\"}, {\"Player\": \"Jaydev Unadkat\", \"Role\": \"Bowler\", \"Amount\": 13000000, \"Team\": \"Mumbai Indians\", \"Year\": 2022, \"Player Origin\": \"Indian\"}, {\"Player\": \"Jean-Paul Duminy\", \"Role\": \"Batsman\", \"Amount\": 22000000, \"Team\": \"Delhi Daredevils\", \"Year\": 2014, \"Player Origin\": \"Overseas\"}, {\"Player\": \"Jean-Paul Duminy\", \"Role\": \"All-Rounder\", \"Amount\": 10000000, \"Team\": \"Mumbai Indians\", \"Year\": 2018, \"Player Origin\": \"Overseas\"}, {\"Player\": \"Jeevan Mendis\", \"Role\": \"All-Rounder\", \"Amount\": 3750000, \"Team\": \"Delhi Daredevils\", \"Year\": 2013, \"Player Origin\": \"Overseas\"}, {\"Player\": \"Jesse Ryder\", \"Role\": \"All-Rounder\", \"Amount\": 19500000, \"Team\": \"Delhi Daredevils\", \"Year\": 2013, \"Player Origin\": \"Overseas\"}, {\"Player\": \"Jhye Richardson\", \"Role\": \"Bowler\", \"Amount\": 140000000, \"Team\": \"Punjab Kings\", \"Year\": 2021, \"Player Origin\": \"Overseas\"}, {\"Player\": \"Jitesh Sharma\", \"Role\": \"Wicket Keeper\", \"Amount\": 1000000, \"Team\": \"Mumbai Indians\", \"Year\": 2016, \"Player Origin\": \"Indian\"}, {\"Player\": \"Jitesh Sharma\", \"Role\": \"Wicket Keeper\", \"Amount\": 2000000, \"Team\": \"Punjab Kings\", \"Year\": 2022, \"Player Origin\": \"Indian\"}, {\"Player\": \"Joe Denly\", \"Role\": \"Batsman\", \"Amount\": 10000000, \"Team\": \"Kolkata Knight Riders\", \"Year\": 2019, \"Player Origin\": \"Overseas\"}, {\"Player\": \"Joel Paris\", \"Role\": \"Bowler\", \"Amount\": 3000000, \"Team\": \"Delhi Daredevils\", \"Year\": 2016, \"Player Origin\": \"Overseas\"}, {\"Player\": \"Jofra Archer\", \"Role\": \"All-Rounder\", \"Amount\": 72000000, \"Team\": \"Rajasthan Royals\", \"Year\": 2018, \"Player Origin\": \"Overseas\"}, {\"Player\": \"Jofra Archer\", \"Role\": \"All-Rounder\", \"Amount\": 80000000, \"Team\": \"Mumbai Indians\", \"Year\": 2022, \"Player Origin\": \"Overseas\"}, {\"Player\": \"Johan Botha\", \"Role\": \"All-Rounder\", \"Amount\": 33750000, \"Team\": \"Delhi Daredevils\", \"Year\": 2013, \"Player Origin\": \"Overseas\"}, {\"Player\": \"John Hastings\", \"Role\": \"All-Rounder\", \"Amount\": 5000000, \"Team\": \"Chennai Super Kings\", \"Year\": 2014, \"Player Origin\": \"Overseas\"}, {\"Player\": \"John Hastings\", \"Role\": \"Bowler\", \"Amount\": 13000000, \"Team\": \"Kolkata Knight Riders\", \"Year\": 2016, \"Player Origin\": \"Overseas\"}, {\"Player\": \"Jonny Bairstow\", \"Role\": \"Wicket Keeper\", \"Amount\": 22000000, \"Team\": \"Sunrisers Hyderabad\", \"Year\": 2019, \"Player Origin\": \"Overseas\"}, {\"Player\": \"Jonny Bairstow\", \"Role\": \"Wicket Keeper\", \"Amount\": 67500000, \"Team\": \"Punjab Kings\", \"Year\": 2022, \"Player Origin\": \"Overseas\"}, {\"Player\": \"Jos Buttler\", \"Role\": \"Wicket Keeper\", \"Amount\": 38000000, \"Team\": \"Mumbai Indians\", \"Year\": 2016, \"Player Origin\": \"Overseas\"}, {\"Player\": \"Jos Buttler\", \"Role\": \"Wicket Keeper\", \"Amount\": 44000000, \"Team\": \"Rajasthan Royals\", \"Year\": 2018, \"Player Origin\": \"Overseas\"}, {\"Player\": \"Josh Hazlewood\", \"Role\": \"Bowler\", \"Amount\": 5000000, \"Team\": \"Mumbai Indians\", \"Year\": 2014, \"Player Origin\": \"Overseas\"}, {\"Player\": \"Josh Hazlewood\", \"Role\": \"Bowler\", \"Amount\": 20000000, \"Team\": \"Chennai Super Kings\", \"Year\": 2020, \"Player Origin\": \"Overseas\"}, {\"Player\": \"Josh Hazlewood\", \"Role\": \"Bowler\", \"Amount\": 77500000, \"Team\": \"Royal Challengers Bangalore\", \"Year\": 2022, \"Player Origin\": \"Overseas\"}, {\"Player\": \"Joshua Philippe\", \"Role\": \"Wicket Keeper\", \"Amount\": 2000000, \"Team\": \"Royal Challengers Bangalore\", \"Year\": 2020, \"Player Origin\": \"Overseas\"}, {\"Player\": \"Juan Theron\", \"Role\": \"Bowler\", \"Amount\": 3000000, \"Team\": \"Rajasthan Royals\", \"Year\": 2015, \"Player Origin\": \"Overseas\"}, {\"Player\": \"Krishnappa Gowtham\", \"Role\": \"All-Rounder\", \"Amount\": 9000000, \"Team\": \"Lucknow Super Giants\", \"Year\": 2022, \"Player Origin\": \"Indian\"}, {\"Player\": \"K.Bhagath Varma\", \"Role\": \"All-Rounder\", \"Amount\": 2000000, \"Team\": \"Chennai Super Kings\", \"Year\": 2021, \"Player Origin\": \"Indian\"}, {\"Player\": \"K.Bhagath Varma\", \"Role\": \"All-Rounder\", \"Amount\": 2000000, \"Team\": \"Chennai Super Kings\", \"Year\": 2022, \"Player Origin\": \"Indian\"}, {\"Player\": \"K.C Cariappa\", \"Role\": \"Bowler\", \"Amount\": 2000000, \"Team\": \"Rajasthan Royals\", \"Year\": 2021, \"Player Origin\": \"Indian\"}, {\"Player\": \"K.C Cariappa\", \"Role\": \"Bowler\", \"Amount\": 3000000, \"Team\": \"Rajasthan Royals\", \"Year\": 2022, \"Player Origin\": \"Indian\"}, {\"Player\": \"K.C. Cariappa\", \"Role\": \"Bowler\", \"Amount\": 24000000, \"Team\": \"Kolkata Knight Riders\", \"Year\": 2015, \"Player Origin\": \"Indian\"}, {\"Player\": \"K.C. Cariappa\", \"Role\": \"Bowler\", \"Amount\": 8000000, \"Team\": \"Kings XI Punjab\", \"Year\": 2016, \"Player Origin\": \"Indian\"}, {\"Player\": \"K.K. Jiyaz\", \"Role\": \"Bowler\", \"Amount\": 1000000, \"Team\": \"Delhi Daredevils\", \"Year\": 2015, \"Player Origin\": \"Indian\"}, {\"Player\": \"K.M. Asif\", \"Role\": \"Bowler\", \"Amount\": 2000000, \"Team\": \"Chennai Super Kings\", \"Year\": 2022, \"Player Origin\": \"Indian\"}, {\"Player\": \"K.S. Bharat\", \"Role\": \"Wicket Keeper\", \"Amount\": 20000000, \"Team\": \"Delhi Capitals\", \"Year\": 2022, \"Player Origin\": \"Indian\"}, {\"Player\": \"Kagiso Rabada\", \"Role\": \"Bowler\", \"Amount\": 50000000, \"Team\": \"Delhi Daredevils\", \"Year\": 2017, \"Player Origin\": \"Overseas\"}, {\"Player\": \"Kagiso Rabada\", \"Role\": \"Bowler\", \"Amount\": 42000000, \"Team\": \"Delhi Daredevils\", \"Year\": 2018, \"Player Origin\": \"Overseas\"}, {\"Player\": \"Kagiso Rabada\", \"Role\": \"Bowler\", \"Amount\": 92500000, \"Team\": \"Punjab Kings\", \"Year\": 2022, \"Player Origin\": \"Overseas\"}, {\"Player\": \"Kamlesh Nagarkoti\", \"Role\": \"All-Rounder\", \"Amount\": 32000000, \"Team\": \"Kolkata Knight Riders\", \"Year\": 2018, \"Player Origin\": \"Indian\"}, {\"Player\": \"Kamlesh Nagarkoti\", \"Role\": \"All-Rounder\", \"Amount\": 11000000, \"Team\": \"Delhi Capitals\", \"Year\": 2022, \"Player Origin\": \"Indian\"}, {\"Player\": \"Kane Richardson\", \"Role\": \"Bowler\", \"Amount\": 52500000, \"Team\": \"Pune Warriors India\", \"Year\": 2013, \"Player Origin\": \"Overseas\"}, {\"Player\": \"Kane Richardson\", \"Role\": \"Bowler\", \"Amount\": 10000000, \"Team\": \"Rajasthan Royals\", \"Year\": 2014, \"Player Origin\": \"Overseas\"}, {\"Player\": \"Kane Richardson\", \"Role\": \"Bowler\", \"Amount\": 20000000, \"Team\": \"Royal Challengers Bangalore\", \"Year\": 2016, \"Player Origin\": \"Overseas\"}, {\"Player\": \"Kane Richardson\", \"Role\": \"Bowler\", \"Amount\": 40000000, \"Team\": \"Royal Challengers Bangalore\", \"Year\": 2020, \"Player Origin\": \"Overseas\"}, {\"Player\": \"Kane Williamson\", \"Role\": \"All-Rounder\", \"Amount\": 6000000, \"Team\": \"Sunrisers Hyderabad\", \"Year\": 2015, \"Player Origin\": \"Overseas\"}, {\"Player\": \"Kane Williamson\", \"Role\": \"Batsman\", \"Amount\": 30000000, \"Team\": \"Sunrisers Hyderabad\", \"Year\": 2018, \"Player Origin\": \"Overseas\"}, {\"Player\": \"Kanishk Seth\", \"Role\": \"All-Rounder\", \"Amount\": 2000000, \"Team\": \"Chennai Super Kings\", \"Year\": 2018, \"Player Origin\": \"Indian\"}, {\"Player\": \"Karan Sharma\", \"Role\": \"All-Rounder\", \"Amount\": 2000000, \"Team\": \"Lucknow Super Giants\", \"Year\": 2022, \"Player Origin\": \"Indian\"}, {\"Player\": \"Karanveer Singh\", \"Role\": \"All-Rounder\", \"Amount\": 1000000, \"Team\": \"Kings XI Punjab\", \"Year\": 2014, \"Player Origin\": \"Indian\"}, {\"Player\": \"Karn Sharma\", \"Role\": \"Bowler\", \"Amount\": 37500000, \"Team\": \"Sunrisers Hyderabad\", \"Year\": 2014, \"Player Origin\": \"Indian\"}, {\"Player\": \"Karn Sharma\", \"Role\": \"All-Rounder\", \"Amount\": 32000000, \"Team\": \"Mumbai Indians\", \"Year\": 2017, \"Player Origin\": \"Indian\"}, {\"Player\": \"Karn Sharma\", \"Role\": \"Bowler\", \"Amount\": 50000000, \"Team\": \"Chennai Super Kings\", \"Year\": 2018, \"Player Origin\": \"Indian\"}, {\"Player\": \"Karn Sharma\", \"Role\": \"Bowler\", \"Amount\": 5000000, \"Team\": \"Royal Challengers Bangalore\", \"Year\": 2022, \"Player Origin\": \"Indian\"}, {\"Player\": \"Kartik Tyagi\", \"Role\": \"Bowler\", \"Amount\": 13000000, \"Team\": \"Rajasthan Royals\", \"Year\": 2020, \"Player Origin\": \"Indian\"}, {\"Player\": \"Kartik Tyagi\", \"Role\": \"Bowler\", \"Amount\": 40000000, \"Team\": \"Sunrisers Hyderabad\", \"Year\": 2022, \"Player Origin\": \"Indian\"}, {\"Player\": \"Karun Nair\", \"Role\": \"Batsman\", \"Amount\": 7500000, \"Team\": \"Rajasthan Royals\", \"Year\": 2014, \"Player Origin\": \"Indian\"}, {\"Player\": \"Karun Nair\", \"Role\": \"Batsman\", \"Amount\": 40000000, \"Team\": \"Delhi Daredevils\", \"Year\": 2016, \"Player Origin\": \"Indian\"}, {\"Player\": \"Karun Nair\", \"Role\": \"Batsman\", \"Amount\": 56000000, \"Team\": \"Kings XI Punjab\", \"Year\": 2018, \"Player Origin\": \"Indian\"}, {\"Player\": \"Karun Nair\", \"Role\": \"Batsman\", \"Amount\": 5000000, \"Team\": \"Kolkata Knight Riders\", \"Year\": 2021, \"Player Origin\": \"Indian\"}, {\"Player\": \"Karun Nair\", \"Role\": \"Batsman\", \"Amount\": 14000000, \"Team\": \"Rajasthan Royals\", \"Year\": 2022, \"Player Origin\": \"Indian\"}, {\"Player\": \"Kedar Jadhav\", \"Role\": \"Batsman\", \"Amount\": 20000000, \"Team\": \"Delhi Daredevils\", \"Year\": 2014, \"Player Origin\": \"Indian\"}, {\"Player\": \"Kedar Jadhav\", \"Role\": \"All-Rounder\", \"Amount\": 78000000, \"Team\": \"Chennai Super Kings\", \"Year\": 2018, \"Player Origin\": \"Indian\"}, {\"Player\": \"Kedar Jadhav\", \"Role\": \"All-Rounder\", \"Amount\": 20000000, \"Team\": \"Sunrisers Hyderabad\", \"Year\": 2021, \"Player Origin\": \"Indian\"}, {\"Player\": \"Keemo Paul\", \"Role\": \"All-Rounder\", \"Amount\": 5000000, \"Team\": \"Delhi Capitals\", \"Year\": 2019, \"Player Origin\": \"Overseas\"}, {\"Player\": \"Kevin Pietersen\", \"Role\": \"Batsman\", \"Amount\": 90000000, \"Team\": \"Delhi Daredevils\", \"Year\": 2014, \"Player Origin\": \"Overseas\"}, {\"Player\": \"Kevin Pietersen\", \"Role\": \"Batsman\", \"Amount\": 20000000, \"Team\": \"Sunrisers Hyderabad\", \"Year\": 2015, \"Player Origin\": \"Overseas\"}, {\"Player\": \"Kevin Pietersen\", \"Role\": \"Batsman\", \"Amount\": 35000000, \"Team\": \"Rising Pune Supergiant\", \"Year\": 2016, \"Player Origin\": \"Overseas\"}, {\"Player\": \"Kevon Cooper\", \"Role\": \"All-Rounder\", \"Amount\": 3000000, \"Team\": \"Rajasthan Royals\", \"Year\": 2014, \"Player Origin\": \"Overseas\"}, {\"Player\": \"Kieron Pollard\", \"Role\": \"All-Rounder\", \"Amount\": 54000000, \"Team\": \"Mumbai Indians\", \"Year\": 2018, \"Player Origin\": \"Overseas\"}, {\"Player\": \"Kishore Pramod Kamath\", \"Role\": \"All-Rounder\", \"Amount\": 14000000, \"Team\": \"Mumbai Indians\", \"Year\": 2016, \"Player Origin\": \"Indian\"}, {\"Player\": \"KL Rahul\", \"Role\": \"Batsman\", \"Amount\": 10000000, \"Team\": \"Sunrisers Hyderabad\", \"Year\": 2014, \"Player Origin\": \"Indian\"}, {\"Player\": \"KL Rahul\", \"Role\": \"Batsman\", \"Amount\": 110000000, \"Team\": \"Kings XI Punjab\", \"Year\": 2018, \"Player Origin\": \"Indian\"}, {\"Player\": \"Kona Srikar Bharat\", \"Role\": \"Wicket Keeper\", \"Amount\": 1000000, \"Team\": \"Delhi Daredevils\", \"Year\": 2015, \"Player Origin\": \"Indian\"}, {\"Player\": \"Kona Srikar Bharat\", \"Role\": \"Wicket Keeper\", \"Amount\": 2000000, \"Team\": \"Royal Challengers Bangalore\", \"Year\": 2021, \"Player Origin\": \"Indian\"}, {\"Player\": \"Krishnappa Gowtham\", \"Role\": \"All-Rounder\", \"Amount\": 20000000, \"Team\": \"Mumbai Indians\", \"Year\": 2017, \"Player Origin\": \"Indian\"}, {\"Player\": \"Krishnappa Gowtham\", \"Role\": \"Bowler\", \"Amount\": 62000000, \"Team\": \"Rajasthan Royals\", \"Year\": 2018, \"Player Origin\": \"Indian\"}, {\"Player\": \"Krishnappa Gowtham\", \"Role\": \"All-Rounder\", \"Amount\": 92500000, \"Team\": \"Chennai Super Kings\", \"Year\": 2021, \"Player Origin\": \"Indian\"}, {\"Player\": \"Krismar Santokie\", \"Role\": \"Bowler\", \"Amount\": 3000000, \"Team\": \"Mumbai Indians\", \"Year\": 2014, \"Player Origin\": \"Overseas\"}, {\"Player\": \"Krunal Pandya\", \"Role\": \"All-Rounder\", \"Amount\": 20000000, \"Team\": \"Mumbai Indians\", \"Year\": 2016, \"Player Origin\": \"Indian\"}, {\"Player\": \"Krunal Pandya\", \"Role\": \"All-Rounder\", \"Amount\": 88000000, \"Team\": \"Mumbai Indians\", \"Year\": 2018, \"Player Origin\": \"Indian\"}, {\"Player\": \"Krunal Pandya\", \"Role\": \"All-Rounder\", \"Amount\": 82500000, \"Team\": \"Lucknow Super Giants\", \"Year\": 2022, \"Player Origin\": \"Indian\"}, {\"Player\": \"Kshitiz Sharma\", \"Role\": \"All-Rounder\", \"Amount\": 2000000, \"Team\": \"Chennai Super Kings\", \"Year\": 2018, \"Player Origin\": \"Indian\"}, {\"Player\": \"Kuldeep Sen\", \"Role\": \"Bowler\", \"Amount\": 2000000, \"Team\": \"Rajasthan Royals\", \"Year\": 2022, \"Player Origin\": \"Indian\"}, {\"Player\": \"Kuldeep Yadav\", \"Role\": \"Bowler\", \"Amount\": 4000000, \"Team\": \"Kolkata Knight Riders\", \"Year\": 2014, \"Player Origin\": \"Indian\"}, {\"Player\": \"Kuldeep Yadav\", \"Role\": \"Bowler\", \"Amount\": 58000000, \"Team\": \"Kolkata Knight Riders\", \"Year\": 2018, \"Player Origin\": \"Indian\"}, {\"Player\": \"Kuldeep Yadav\", \"Role\": \"Bowler\", \"Amount\": 20000000, \"Team\": \"Delhi Capitals\", \"Year\": 2022, \"Player Origin\": \"Indian\"}, {\"Player\": \"Kuldip Yadav\", \"Role\": \"Bowler\", \"Amount\": 2000000, \"Team\": \"Rajasthan Royals\", \"Year\": 2021, \"Player Origin\": \"Indian\"}, {\"Player\": \"Kuldip Yadav\", \"Role\": \"Bowler\", \"Amount\": 2000000, \"Team\": \"Rajasthan Royals\", \"Year\": 2022, \"Player Origin\": \"Indian\"}, {\"Player\": \"Kulwant Khejroliya\", \"Role\": \"Bowler\", \"Amount\": 1000000, \"Team\": \"Mumbai Indians\", \"Year\": 2017, \"Player Origin\": \"Indian\"}, {\"Player\": \"Kulwant Khejroliya\", \"Role\": \"Bowler\", \"Amount\": 8500000, \"Team\": \"Royal Challengers Bangalore\", \"Year\": 2018, \"Player Origin\": \"Indian\"}, {\"Player\": \"Kusal Janith Perera\", \"Role\": \"Wicket Keeper\", \"Amount\": 1500000, \"Team\": \"Rajasthan Royals\", \"Year\": 2013, \"Player Origin\": \"Indian\"}, {\"Player\": \"Kyle Abbott\", \"Role\": \"Bowler\", \"Amount\": 3000000, \"Team\": \"Chennai Super Kings\", \"Year\": 2015, \"Player Origin\": \"Overseas\"}, {\"Player\": \"Kyle Abbott\", \"Role\": \"Bowler\", \"Amount\": 21000000, \"Team\": \"Kings XI Punjab\", \"Year\": 2016, \"Player Origin\": \"Overseas\"}, {\"Player\": \"Kyle Jamieson\", \"Role\": \"All-Rounder\", \"Amount\": 150000000, \"Team\": \"Royal Challengers Bangalore\", \"Year\": 2021, \"Player Origin\": \"Overseas\"}, {\"Player\": \"Kyle Mayers\", \"Role\": \"All-Rounder\", \"Amount\": 5000000, \"Team\": \"Lucknow Super Giants\", \"Year\": 2022, \"Player Origin\": \"Overseas\"}, {\"Player\": \"Lakshmipathy Balaji\", \"Role\": \"Bowler\", \"Amount\": 18000000, \"Team\": \"Kings XI Punjab\", \"Year\": 2014, \"Player Origin\": \"Indian\"}, {\"Player\": \"Lalit Yadav\", \"Role\": \"All-Rounder\", \"Amount\": 2000000, \"Team\": \"Delhi Capitals\", \"Year\": 2020, \"Player Origin\": \"Indian\"}, {\"Player\": \"Lalit Yadav\", \"Role\": \"All-Rounder\", \"Amount\": 6500000, \"Team\": \"Delhi Capitals\", \"Year\": 2022, \"Player Origin\": \"Indian\"}, {\"Player\": \"Lasith Malinga\", \"Role\": \"Bowler\", \"Amount\": 20000000, \"Team\": \"Mumbai Indians\", \"Year\": 2019, \"Player Origin\": \"Overseas\"}, {\"Player\": \"Laxmi Ratan Shukla\", \"Role\": \"All-Rounder\", \"Amount\": 15000000, \"Team\": \"Delhi Daredevils\", \"Year\": 2014, \"Player Origin\": \"Indian\"}, {\"Player\": \"Laxmi Ratan Shukla\", \"Role\": \"All-Rounder\", \"Amount\": 3000000, \"Team\": \"Sunrisers Hyderabad\", \"Year\": 2015, \"Player Origin\": \"Indian\"}, {\"Player\": \"Liam Livingstone\", \"Role\": \"All-Rounder\", \"Amount\": 5000000, \"Team\": \"Rajasthan Royals\", \"Year\": 2019, \"Player Origin\": \"Overseas\"}, {\"Player\": \"Liam Livingstone\", \"Role\": \"All-Rounder\", \"Amount\": 7500000, \"Team\": \"Rajasthan Royals\", \"Year\": 2021, \"Player Origin\": \"Overseas\"}, {\"Player\": \"Liam Livingstone\", \"Role\": \"All-Rounder\", \"Amount\": 115000000, \"Team\": \"Punjab Kings\", \"Year\": 2022, \"Player Origin\": \"Overseas\"}, {\"Player\": \"Lockie Ferguson\", \"Role\": \"Bowler\", \"Amount\": 5000000, \"Team\": \"Rising Pune Supergiant\", \"Year\": 2017, \"Player Origin\": \"Overseas\"}, {\"Player\": \"Lockie Ferguson\", \"Role\": \"Bowler\", \"Amount\": 16000000, \"Team\": \"Kolkata Knight Riders\", \"Year\": 2019, \"Player Origin\": \"Overseas\"}, {\"Player\": \"Lockie Ferguson\", \"Role\": \"Bowler\", \"Amount\": 100000000, \"Team\": \"Gujarat Titans\", \"Year\": 2022, \"Player Origin\": \"Overseas\"}, {\"Player\": \"Luke Pomersbach\", \"Role\": \"Batsman\", \"Amount\": 22500000, \"Team\": \"Kings XI Punjab\", \"Year\": 2013, \"Player Origin\": \"Overseas\"}, {\"Player\": \"Lukman Hussain Meriwala\", \"Role\": \"Bowler\", \"Amount\": 2000000, \"Team\": \"Delhi Capitals\", \"Year\": 2021, \"Player Origin\": \"Indian\"}, {\"Player\": \"Lungisani Ngidi\", \"Role\": \"Bowler\", \"Amount\": 5000000, \"Team\": \"Chennai Super Kings\", \"Year\": 2018, \"Player Origin\": \"Overseas\"}, {\"Player\": \"Lungisani Ngidi\", \"Role\": \"Bowler\", \"Amount\": 5000000, \"Team\": \"Delhi Capitals\", \"Year\": 2022, \"Player Origin\": \"Overseas\"}, {\"Player\": \"Luvnith Sisodia\", \"Role\": \"Wicket Keeper\", \"Amount\": 2000000, \"Team\": \"Royal Challengers Bangalore\", \"Year\": 2022, \"Player Origin\": \"Indian\"}, {\"Player\": \"M Siddharth\", \"Role\": \"Bowler\", \"Amount\": 2000000, \"Team\": \"Kolkata Knight Riders\", \"Year\": 2020, \"Player Origin\": \"Indian\"}, {\"Player\": \"M Siddharth\", \"Role\": \"Bowler\", \"Amount\": 2000000, \"Team\": \"Delhi Capitals\", \"Year\": 2021, \"Player Origin\": \"Indian\"}, {\"Player\": \"M. Ashwin\", \"Role\": \"Bowler\", \"Amount\": 45000000, \"Team\": \"Rising Pune Supergiant\", \"Year\": 2016, \"Player Origin\": \"Indian\"}, {\"Player\": \"M. Ashwin\", \"Role\": \"Bowler\", \"Amount\": 10000000, \"Team\": \"Delhi Daredevils\", \"Year\": 2017, \"Player Origin\": \"Indian\"}, {\"Player\": \"M. Ashwin\", \"Role\": \"Bowler\", \"Amount\": 22000000, \"Team\": \"Royal Challengers Bangalore\", \"Year\": 2018, \"Player Origin\": \"Indian\"}, {\"Player\": \"M. Ashwin\", \"Role\": \"Bowler\", \"Amount\": 2000000, \"Team\": \"Kings XI Punjab\", \"Year\": 2019, \"Player Origin\": \"Indian\"}, {\"Player\": \"M. Harisankar Reddy\", \"Role\": \"Bowler\", \"Amount\": 2000000, \"Team\": \"Chennai Super Kings\", \"Year\": 2021, \"Player Origin\": \"Indian\"}, {\"Player\": \"Washington Sundar\", \"Role\": \"All-Rounder\", \"Amount\": 32000000, \"Team\": \"Royal Challengers Bangalore\", \"Year\": 2018, \"Player Origin\": \"Indian\"}, {\"Player\": \"Maheesh Theekshana\", \"Role\": \"Bowler\", \"Amount\": 7000000, \"Team\": \"Chennai Super Kings\", \"Year\": 2022, \"Player Origin\": \"Overseas\"}, {\"Player\": \"Mahipal Lomror\", \"Role\": \"All-Rounder\", \"Amount\": 1000000, \"Team\": \"Delhi Daredevils\", \"Year\": 2016, \"Player Origin\": \"Indian\"}, {\"Player\": \"Mahipal Lomror\", \"Role\": \"All-Rounder\", \"Amount\": 2000000, \"Team\": \"Rajasthan Royals\", \"Year\": 2018, \"Player Origin\": \"Indian\"}, {\"Player\": \"Mahipal Lomror\", \"Role\": \"All-Rounder\", \"Amount\": 9500000, \"Team\": \"Royal Challengers Bangalore\", \"Year\": 2022, \"Player Origin\": \"Indian\"}, {\"Player\": \"Manan Ajay Sharma\", \"Role\": \"All-Rounder\", \"Amount\": 1000000, \"Team\": \"Kolkata Knight Riders\", \"Year\": 2016, \"Player Origin\": \"Indian\"}, {\"Player\": \"Manan Vohra\", \"Role\": \"Batsman\", \"Amount\": 11000000, \"Team\": \"Royal Challengers Bangalore\", \"Year\": 2018, \"Player Origin\": \"Indian\"}, {\"Player\": \"Manan Vohra\", \"Role\": \"Batsman\", \"Amount\": 2000000, \"Team\": \"Rajasthan Royals\", \"Year\": 2019, \"Player Origin\": \"Indian\"}, {\"Player\": \"Manan Vohra\", \"Role\": \"Batsman\", \"Amount\": 2000000, \"Team\": \"Lucknow Super Giants\", \"Year\": 2022, \"Player Origin\": \"Indian\"}, {\"Player\": \"Mandeep Hardev Singh\", \"Role\": \"All-Rounder\", \"Amount\": 8000000, \"Team\": \"Kings XI Punjab\", \"Year\": 2014, \"Player Origin\": \"Indian\"}, {\"Player\": \"Mandeep Singh\", \"Role\": \"All-Rounder\", \"Amount\": 14000000, \"Team\": \"Royal Challengers Bangalore\", \"Year\": 2018, \"Player Origin\": \"Indian\"}, {\"Player\": \"Mandeep Singh\", \"Role\": \"Batsman\", \"Amount\": 11000000, \"Team\": \"Delhi Capitals\", \"Year\": 2022, \"Player Origin\": \"Indian\"}, {\"Player\": \"Manish Pandey\", \"Role\": \"Batsman\", \"Amount\": 17000000, \"Team\": \"Kolkata Knight Riders\", \"Year\": 2014, \"Player Origin\": \"Indian\"}, {\"Player\": \"Manish Pandey\", \"Role\": \"Batsman\", \"Amount\": 110000000, \"Team\": \"Sunrisers Hyderabad\", \"Year\": 2018, \"Player Origin\": \"Indian\"}, {\"Player\": \"Manish Pandey\", \"Role\": \"Batsman\", \"Amount\": 46000000, \"Team\": \"Lucknow Super Giants\", \"Year\": 2022, \"Player Origin\": \"Indian\"}, {\"Player\": \"Manjot Kalra\", \"Role\": \"Batsman\", \"Amount\": 2000000, \"Team\": \"Delhi Daredevils\", \"Year\": 2018, \"Player Origin\": \"Indian\"}, {\"Player\": \"Manoj Tiwary\", \"Role\": \"Batsman\", \"Amount\": 28000000, \"Team\": \"Delhi Daredevils\", \"Year\": 2014, \"Player Origin\": \"Indian\"}, {\"Player\": \"Manoj Tiwary\", \"Role\": \"Batsman\", \"Amount\": 5000000, \"Team\": \"Rising Pune Supergiant\", \"Year\": 2017, \"Player Origin\": \"Indian\"}, {\"Player\": \"Manoj Tiwary\", \"Role\": \"Batsman\", \"Amount\": 10000000, \"Team\": \"Kings XI Punjab\", \"Year\": 2018, \"Player Origin\": \"Indian\"}, {\"Player\": \"Manpreet Gony\", \"Role\": \"Bowler\", \"Amount\": 37500000, \"Team\": \"Kings XI Punjab\", \"Year\": 2013, \"Player Origin\": \"Indian\"}, {\"Player\": \"Manpreet Gony\", \"Role\": \"Bowler\", \"Amount\": 6000000, \"Team\": \"Gujarat Lions\", \"Year\": 2017, \"Player Origin\": \"Indian\"}, {\"Player\": \"Manprit Juneja\", \"Role\": \"Batsman\", \"Amount\": 1000000, \"Team\": \"Sunrisers Hyderabad\", \"Year\": 2014, \"Player Origin\": \"Indian\"}, {\"Player\": \"Manvinder Bisla\", \"Role\": \"Wicket Keeper\", \"Amount\": 6000000, \"Team\": \"Kolkata Knight Riders\", \"Year\": 2014, \"Player Origin\": \"Indian\"}, {\"Player\": \"Manzoor Dar\", \"Role\": \"All-Rounder\", \"Amount\": 2000000, \"Team\": \"Kings XI Punjab\", \"Year\": 2018, \"Player Origin\": \"Indian\"}, {\"Player\": \"Marchant De Lange\", \"Role\": \"Bowler\", \"Amount\": 3000000, \"Team\": \"Mumbai Indians\", \"Year\": 2014, \"Player Origin\": \"Overseas\"}, {\"Player\": \"Marco Jansen\", \"Role\": \"All-Rounder\", \"Amount\": 2000000, \"Team\": \"Mumbai Indians\", \"Year\": 2021, \"Player Origin\": \"Overseas\"}, {\"Player\": \"Marco Jansen\", \"Role\": \"All-Rounder\", \"Amount\": 42000000, \"Team\": \"Sunrisers Hyderabad\", \"Year\": 2022, \"Player Origin\": \"Overseas\"}, {\"Player\": \"Marcus Stoinis\", \"Role\": \"All-Rounder\", \"Amount\": 2500000, \"Team\": \"Delhi Daredevils\", \"Year\": 2015, \"Player Origin\": \"Overseas\"}, {\"Player\": \"Marcus Stoinis\", \"Role\": \"All-Rounder\", \"Amount\": 5500000, \"Team\": \"Kings XI Punjab\", \"Year\": 2016, \"Player Origin\": \"Overseas\"}, {\"Player\": \"Marcus Stoinis\", \"Role\": \"All-Rounder\", \"Amount\": 62000000, \"Team\": \"Kings XI Punjab\", \"Year\": 2018, \"Player Origin\": \"Overseas\"}, {\"Player\": \"Marcus Stoinis\", \"Role\": \"All-Rounder\", \"Amount\": 48000000, \"Team\": \"Delhi Capitals\", \"Year\": 2020, \"Player Origin\": \"Overseas\"}, {\"Player\": \"Mark Wood\", \"Role\": \"Bowler\", \"Amount\": 15000000, \"Team\": \"Chennai Super Kings\", \"Year\": 2018, \"Player Origin\": \"Overseas\"}, {\"Player\": \"Mark Wood\", \"Role\": \"Bowler\", \"Amount\": 75000000, \"Team\": \"Lucknow Super Giants\", \"Year\": 2022, \"Player Origin\": \"Overseas\"}, {\"Player\": \"Martin Guptill\", \"Role\": \"Batsman\", \"Amount\": 5000000, \"Team\": \"Kings XI Punjab\", \"Year\": 2017, \"Player Origin\": \"Overseas\"}, {\"Player\": \"Martin Guptill\", \"Role\": \"Batsman\", \"Amount\": 10000000, \"Team\": \"Sunrisers Hyderabad\", \"Year\": 2019, \"Player Origin\": \"Overseas\"}, {\"Player\": \"Matt Henry\", \"Role\": \"Bowler\", \"Amount\": 3000000, \"Team\": \"Chennai Super Kings\", \"Year\": 2014, \"Player Origin\": \"Overseas\"}, {\"Player\": \"Matt Henry\", \"Role\": \"Bowler\", \"Amount\": 5000000, \"Team\": \"Kings XI Punjab\", \"Year\": 2017, \"Player Origin\": \"Overseas\"}, {\"Player\": \"Matthew Wade\", \"Role\": \"Wicket Keeper\", \"Amount\": 24000000, \"Team\": \"Gujarat Titans\", \"Year\": 2022, \"Player Origin\": \"Overseas\"}, {\"Player\": \"Mayank Agarwal\", \"Role\": \"Batsman\", \"Amount\": 16000000, \"Team\": \"Delhi Daredevils\", \"Year\": 2014, \"Player Origin\": \"Indian\"}, {\"Player\": \"Mayank Agarwal\", \"Role\": \"Batsman\", \"Amount\": 10000000, \"Team\": \"Kings XI Punjab\", \"Year\": 2018, \"Player Origin\": \"Indian\"}, {\"Player\": \"Mayank Dagar\", \"Role\": \"All-Rounder\", \"Amount\": 2000000, \"Team\": \"Kings XI Punjab\", \"Year\": 2018, \"Player Origin\": \"Indian\"}, {\"Player\": \"Mayank Markande\", \"Role\": \"Bowler\", \"Amount\": 2000000, \"Team\": \"Mumbai Indians\", \"Year\": 2018, \"Player Origin\": \"Indian\"}, {\"Player\": \"Mayank Markande\", \"Role\": \"Bowler\", \"Amount\": 6500000, \"Team\": \"Mumbai Indians\", \"Year\": 2022, \"Player Origin\": \"Indian\"}, {\"Player\": \"Mayank Yadav\", \"Role\": \"Bowler\", \"Amount\": 2000000, \"Team\": \"Lucknow Super Giants\", \"Year\": 2022, \"Player Origin\": \"Indian\"}, {\"Player\": \"Michael Clarke\", \"Role\": \"Batsman\", \"Amount\": 30000000, \"Team\": \"Pune Warriors India\", \"Year\": 2013, \"Player Origin\": \"Overseas\"}, {\"Player\": \"Michael Hussey\", \"Role\": \"Batsman\", \"Amount\": 50000000, \"Team\": \"Mumbai Indians\", \"Year\": 2014, \"Player Origin\": \"Overseas\"}, {\"Player\": \"Michael Hussey\", \"Role\": \"Batsman\", \"Amount\": 15000000, \"Team\": \"Chennai Super Kings\", \"Year\": 2015, \"Player Origin\": \"Overseas\"}, {\"Player\": \"Midhun S\", \"Role\": \"All-Rounder\", \"Amount\": 2000000, \"Team\": \"Rajasthan Royals\", \"Year\": 2018, \"Player Origin\": \"Indian\"}, {\"Player\": \"Milind Kumar\", \"Role\": \"Batsman\", \"Amount\": 1000000, \"Team\": \"Delhi Daredevils\", \"Year\": 2014, \"Player Origin\": \"Indian\"}, {\"Player\": \"Milind Kumar\", \"Role\": \"All-Rounder\", \"Amount\": 2000000, \"Team\": \"Royal Challengers Bangalore\", \"Year\": 2019, \"Player Origin\": \"Indian\"}, {\"Player\": \"Milind Tandon\", \"Role\": \"All-Rounder\", \"Amount\": 1000000, \"Team\": \"Rising Pune Supergiant\", \"Year\": 2017, \"Player Origin\": \"Indian\"}, {\"Player\": \"Mitchell Johnson\", \"Role\": \"All-Rounder\", \"Amount\": 65000000, \"Team\": \"Kings XI Punjab\", \"Year\": 2014, \"Player Origin\": \"Overseas\"}, {\"Player\": \"Mitchell Johnson\", \"Role\": \"Bowler\", \"Amount\": 20000000, \"Team\": \"Mumbai Indians\", \"Year\": 2017, \"Player Origin\": \"Overseas\"}, {\"Player\": \"Mitchell Johnson\", \"Role\": \"Bowler\", \"Amount\": 20000000, \"Team\": \"Kolkata Knight Riders\", \"Year\": 2018, \"Player Origin\": \"Overseas\"}, {\"Player\": \"Mitchell Marsh\", \"Role\": \"All-Rounder\", \"Amount\": 48000000, \"Team\": \"Rising Pune Supergiant\", \"Year\": 2016, \"Player Origin\": \"Overseas\"}, {\"Player\": \"Mitchell Marsh\", \"Role\": \"All-Rounder\", \"Amount\": 20000000, \"Team\": \"Sunrisers Hyderabad\", \"Year\": 2020, \"Player Origin\": \"Overseas\"}, {\"Player\": \"Mitchell Marsh\", \"Role\": \"All-Rounder\", \"Amount\": 65000000, \"Team\": \"Delhi Capitals\", \"Year\": 2022, \"Player Origin\": \"Overseas\"}, {\"Player\": \"Mitchell McClenaghan\", \"Role\": \"Bowler\", \"Amount\": 3000000, \"Team\": \"Mumbai Indians\", \"Year\": 2015, \"Player Origin\": \"Overseas\"}, {\"Player\": \"Mitchell Santner\", \"Role\": \"All-Rounder\", \"Amount\": 5000000, \"Team\": \"Chennai Super Kings\", \"Year\": 2018, \"Player Origin\": \"Overseas\"}, {\"Player\": \"Mitchell Santner\", \"Role\": \"All-Rounder\", \"Amount\": 19000000, \"Team\": \"Chennai Super Kings\", \"Year\": 2022, \"Player Origin\": \"Overseas\"}, {\"Player\": \"Mitchell Starc\", \"Role\": \"Bowler\", \"Amount\": 50000000, \"Team\": \"Royal Challengers Bangalore\", \"Year\": 2014, \"Player Origin\": \"Overseas\"}, {\"Player\": \"Mitchell Starc\", \"Role\": \"Bowler\", \"Amount\": 94000000, \"Team\": \"Kolkata Knight Riders\", \"Year\": 2018, \"Player Origin\": \"Overseas\"}, {\"Player\": \"Mithun Manhas\", \"Role\": \"All-Rounder\", \"Amount\": 3000000, \"Team\": \"Chennai Super Kings\", \"Year\": 2014, \"Player Origin\": \"Indian\"}, {\"Player\": \"Moeen Ali\", \"Role\": \"All-Rounder\", \"Amount\": 17000000, \"Team\": \"Royal Challengers Bangalore\", \"Year\": 2018, \"Player Origin\": \"Overseas\"}, {\"Player\": \"Moeen Ali\", \"Role\": \"All-Rounder\", \"Amount\": 70000000, \"Team\": \"Chennai Super Kings\", \"Year\": 2021, \"Player Origin\": \"Overseas\"}, {\"Player\": \"Mohammad Nabi\", \"Role\": \"All-Rounder\", \"Amount\": 3000000, \"Team\": \"Sunrisers Hyderabad\", \"Year\": 2017, \"Player Origin\": \"Overseas\"}, {\"Player\": \"Mohammad Nabi\", \"Role\": \"All-Rounder\", \"Amount\": 10000000, \"Team\": \"Sunrisers Hyderabad\", \"Year\": 2018, \"Player Origin\": \"Overseas\"}, {\"Player\": \"Mohammad Nabi\", \"Role\": \"All-Rounder\", \"Amount\": 10000000, \"Team\": \"Kolkata Knight Riders\", \"Year\": 2022, \"Player Origin\": \"Overseas\"}, {\"Player\": \"Mohammad Shami\", \"Role\": \"Bowler\", \"Amount\": 42500000, \"Team\": \"Delhi Daredevils\", \"Year\": 2014, \"Player Origin\": \"Indian\"}, {\"Player\": \"Mohammad Shami\", \"Role\": \"Bowler\", \"Amount\": 30000000, \"Team\": \"Delhi Daredevils\", \"Year\": 2018, \"Player Origin\": \"Indian\"}, {\"Player\": \"Mohammad Shami\", \"Role\": \"Bowler\", \"Amount\": 48000000, \"Team\": \"Kings XI Punjab\", \"Year\": 2019, \"Player Origin\": \"Indian\"}, {\"Player\": \"Mohammad Shami\", \"Role\": \"Bowler\", \"Amount\": 62500000, \"Team\": \"Gujarat Titans\", \"Year\": 2022, \"Player Origin\": \"Indian\"}, {\"Player\": \"Mohammed Azharudeen\", \"Role\": \"Wicket Keeper\", \"Amount\": 2000000, \"Team\": \"Royal Challengers Bangalore\", \"Year\": 2021, \"Player Origin\": \"Indian\"}, {\"Player\": \"Mohammed Siraj\", \"Role\": \"Bowler\", \"Amount\": 26000000, \"Team\": \"Sunrisers Hyderabad\", \"Year\": 2017, \"Player Origin\": \"Indian\"}, {\"Player\": \"Mohammed Siraj\", \"Role\": \"Bowler\", \"Amount\": 26000000, \"Team\": \"Royal Challengers Bangalore\", \"Year\": 2018, \"Player Origin\": \"Indian\"}, {\"Player\": \"Mohd. Arshad Khan\", \"Role\": \"All-Rounder\", \"Amount\": 2000000, \"Team\": \"Mumbai Indians\", \"Year\": 2022, \"Player Origin\": \"Indian\"}, {\"Player\": \"Mohit Sharma\", \"Role\": \"Bowler\", \"Amount\": 20000000, \"Team\": \"Chennai Super Kings\", \"Year\": 2014, \"Player Origin\": \"Indian\"}, {\"Player\": \"Mohit Sharma\", \"Role\": \"Bowler\", \"Amount\": 65000000, \"Team\": \"Kings XI Punjab\", \"Year\": 2016, \"Player Origin\": \"Indian\"}, {\"Player\": \"Mohit Sharma\", \"Role\": \"Bowler\", \"Amount\": 24000000, \"Team\": \"Kings XI Punjab\", \"Year\": 2018, \"Player Origin\": \"Indian\"}, {\"Player\": \"Mohit Sharma\", \"Role\": \"Bowler\", \"Amount\": 50000000, \"Team\": \"Chennai Super Kings\", \"Year\": 2019, \"Player Origin\": \"Indian\"}, {\"Player\": \"Mohit Sharma\", \"Role\": \"Bowler\", \"Amount\": 5000000, \"Team\": \"Delhi Capitals\", \"Year\": 2020, \"Player Origin\": \"Indian\"}, {\"Player\": \"Mohsin Khan\", \"Role\": \"Bowler\", \"Amount\": 2000000, \"Team\": \"Mumbai Indians\", \"Year\": 2018, \"Player Origin\": \"Indian\"}, {\"Player\": \"Mohsin Khan\", \"Role\": \"Bowler\", \"Amount\": 2000000, \"Team\": \"Mumbai Indians\", \"Year\": 2020, \"Player Origin\": \"Indian\"}, {\"Player\": \"Mohsin Khan\", \"Role\": \"Bowler\", \"Amount\": 2000000, \"Team\": \"Lucknow Super Giants\", \"Year\": 2022, \"Player Origin\": \"Indian\"}, {\"Player\": \"Moises Henriques\", \"Role\": \"All-Rounder\", \"Amount\": 22500000, \"Team\": \"Royal Challengers Bangalore\", \"Year\": 2013, \"Player Origin\": \"Overseas\"}, {\"Player\": \"Moises Henriques\", \"Role\": \"All-Rounder\", \"Amount\": 10000000, \"Team\": \"Sunrisers Hyderabad\", \"Year\": 2014, \"Player Origin\": \"Overseas\"}, {\"Player\": \"Moises Henriques\", \"Role\": \"All-Rounder\", \"Amount\": 10000000, \"Team\": \"Kings XI Punjab\", \"Year\": 2019, \"Player Origin\": \"Overseas\"}, {\"Player\": \"Moises Henriques\", \"Role\": \"All-Rounder\", \"Amount\": 42000000, \"Team\": \"Punjab Kings\", \"Year\": 2021, \"Player Origin\": \"Overseas\"}, {\"Player\": \"Monu Singh\", \"Role\": \"Bowler\", \"Amount\": 2000000, \"Team\": \"Chennai Super Kings\", \"Year\": 2018, \"Player Origin\": \"Indian\"}, {\"Player\": \"Morne Morkel\", \"Role\": \"Bowler\", \"Amount\": 28000000, \"Team\": \"Kolkata Knight Riders\", \"Year\": 2014, \"Player Origin\": \"Overseas\"}, {\"Player\": \"Mujeeb Zadran\", \"Role\": \"Bowler\", \"Amount\": 40000000, \"Team\": \"Kings XI Punjab\", \"Year\": 2018, \"Player Origin\": \"Overseas\"}, {\"Player\": \"Mujeeb Zadran\", \"Role\": \"Bowler\", \"Amount\": 15000000, \"Team\": \"Sunrisers Hyderabad\", \"Year\": 2021, \"Player Origin\": \"Overseas\"}, {\"Player\": \"Mukesh Choudhary\", \"Role\": \"Bowler\", \"Amount\": 2000000, \"Team\": \"Chennai Super Kings\", \"Year\": 2022, \"Player Origin\": \"Indian\"}, {\"Player\": \"Munaf Patel\", \"Role\": \"Bowler\", \"Amount\": 3000000, \"Team\": \"Gujarat Lions\", \"Year\": 2017, \"Player Origin\": \"Indian\"}, {\"Player\": \"Murali Kartik\", \"Role\": \"Bowler\", \"Amount\": 10000000, \"Team\": \"Kings XI Punjab\", \"Year\": 2014, \"Player Origin\": \"Indian\"}, {\"Player\": \"Murali Vijay\", \"Role\": \"Batsman\", \"Amount\": 50000000, \"Team\": \"Delhi Daredevils\", \"Year\": 2014, \"Player Origin\": \"Indian\"}, {\"Player\": \"Murali Vijay\", \"Role\": \"Batsman\", \"Amount\": 30000000, \"Team\": \"Kings XI Punjab\", \"Year\": 2015, \"Player Origin\": \"Indian\"}, {\"Player\": \"Murali Vijay\", \"Role\": \"Batsman\", \"Amount\": 20000000, \"Team\": \"Chennai Super Kings\", \"Year\": 2018, \"Player Origin\": \"Indian\"}, {\"Player\": \"Murugan Ashwin\", \"Role\": \"Bowler\", \"Amount\": 16000000, \"Team\": \"Mumbai Indians\", \"Year\": 2022, \"Player Origin\": \"Indian\"}, {\"Player\": \"Mustafizur Rahman\", \"Role\": \"Bowler\", \"Amount\": 14000000, \"Team\": \"Sunrisers Hyderabad\", \"Year\": 2016, \"Player Origin\": \"Overseas\"}, {\"Player\": \"Mustafizur Rahman\", \"Role\": \"Bowler\", \"Amount\": 22000000, \"Team\": \"Mumbai Indians\", \"Year\": 2018, \"Player Origin\": \"Overseas\"}, {\"Player\": \"Mustafizur Rahman\", \"Role\": \"Bowler\", \"Amount\": 10000000, \"Team\": \"Rajasthan Royals\", \"Year\": 2021, \"Player Origin\": \"Overseas\"}, {\"Player\": \"Mustafizur Rahman\", \"Role\": \"Bowler\", \"Amount\": 20000000, \"Team\": \"Delhi Capitals\", \"Year\": 2022, \"Player Origin\": \"Overseas\"}, {\"Player\": \"Muttiah Muralitharan\", \"Role\": \"Bowler\", \"Amount\": 10000000, \"Team\": \"Royal Challengers Bangalore\", \"Year\": 2014, \"Player Origin\": \"Overseas\"}, {\"Player\": \"N Jagadeesan\", \"Role\": \"Wicket Keeper\", \"Amount\": 2000000, \"Team\": \"Chennai Super Kings\", \"Year\": 2018, \"Player Origin\": \"Indian\"}, {\"Player\": \"N. Jagadeesan\", \"Role\": \"Wicket Keeper\", \"Amount\": 2000000, \"Team\": \"Chennai Super Kings\", \"Year\": 2022, \"Player Origin\": \"Indian\"}, {\"Player\": \"N. Tilak Varma\", \"Role\": \"All-Rounder\", \"Amount\": 17000000, \"Team\": \"Mumbai Indians\", \"Year\": 2022, \"Player Origin\": \"Indian\"}, {\"Player\": \"Naman Ojha\", \"Role\": \"Wicket Keeper\", \"Amount\": 5000000, \"Team\": \"Sunrisers Hyderabad\", \"Year\": 2014, \"Player Origin\": \"Indian\"}, {\"Player\": \"Naman Ojha\", \"Role\": \"Wicket Keeper\", \"Amount\": 14000000, \"Team\": \"Delhi Daredevils\", \"Year\": 2018, \"Player Origin\": \"Indian\"}, {\"Player\": \"Nathan Coulter-Nile\", \"Role\": \"Bowler\", \"Amount\": 33750000, \"Team\": \"Mumbai Indians\", \"Year\": 2013, \"Player Origin\": \"Overseas\"}, {\"Player\": \"Nathan Coulter-Nile\", \"Role\": \"Bowler\", \"Amount\": 42500000, \"Team\": \"Delhi Daredevils\", \"Year\": 2014, \"Player Origin\": \"Overseas\"}, {\"Player\": \"Nathan Coulter-Nile\", \"Role\": \"Bowler\", \"Amount\": 35000000, \"Team\": \"Kolkata Knight Riders\", \"Year\": 2017, \"Player Origin\": \"Overseas\"}, {\"Player\": \"Nathan Coulter-Nile\", \"Role\": \"Bowler\", \"Amount\": 22000000, \"Team\": \"Royal Challengers Bangalore\", \"Year\": 2018, \"Player Origin\": \"Overseas\"}, {\"Player\": \"Nathan Coulter-Nile\", \"Role\": \"Bowler\", \"Amount\": 80000000, \"Team\": \"Mumbai Indians\", \"Year\": 2020, \"Player Origin\": \"Overseas\"}, {\"Player\": \"Nathan Coulter-Nile\", \"Role\": \"Bowler\", \"Amount\": 50000000, \"Team\": \"Mumbai Indians\", \"Year\": 2021, \"Player Origin\": \"Overseas\"}, {\"Player\": \"Nathan Coulter-Nile\", \"Role\": \"Bowler\", \"Amount\": 20000000, \"Team\": \"Rajasthan Royals\", \"Year\": 2022, \"Player Origin\": \"Overseas\"}, {\"Player\": \"Nathan Ellis\", \"Role\": \"Bowler\", \"Amount\": 7500000, \"Team\": \"Punjab Kings\", \"Year\": 2022, \"Player Origin\": \"Overseas\"}, {\"Player\": \"Nathan McCullum\", \"Role\": \"Bowler\", \"Amount\": 7500000, \"Team\": \"Sunrisers Hyderabad\", \"Year\": 2013, \"Player Origin\": \"Overseas\"}, {\"Player\": \"Nathu Singh\", \"Role\": \"Bowler\", \"Amount\": 32000000, \"Team\": \"Mumbai Indians\", \"Year\": 2016, \"Player Origin\": \"Indian\"}, {\"Player\": \"Nathu Singh\", \"Role\": \"Bowler\", \"Amount\": 5000000, \"Team\": \"Gujarat Lions\", \"Year\": 2017, \"Player Origin\": \"Indian\"}, {\"Player\": \"Nathu Singh\", \"Role\": \"Bowler\", \"Amount\": 2000000, \"Team\": \"Delhi Capitals\", \"Year\": 2019, \"Player Origin\": \"Indian\"}, {\"Player\": \"Navdeep Saini\", \"Role\": \"Bowler\", \"Amount\": 1000000, \"Team\": \"Delhi Daredevils\", \"Year\": 2017, \"Player Origin\": \"Indian\"}, {\"Player\": \"Navdeep Saini\", \"Role\": \"Bowler\", \"Amount\": 30000000, \"Team\": \"Royal Challengers Bangalore\", \"Year\": 2018, \"Player Origin\": \"Indian\"}, {\"Player\": \"Navdeep Saini\", \"Role\": \"Bowler\", \"Amount\": 26000000, \"Team\": \"Rajasthan Royals\", \"Year\": 2022, \"Player Origin\": \"Indian\"}, {\"Player\": \"Nic Maddinson\", \"Role\": \"Batsman\", \"Amount\": 5000000, \"Team\": \"Royal Challengers Bangalore\", \"Year\": 2014, \"Player Origin\": \"Overseas\"}, {\"Player\": \"Nicolas Pooran\", \"Role\": \"Wicket Keeper\", \"Amount\": 107500000, \"Team\": \"Sunrisers Hyderabad\", \"Year\": 2022, \"Player Origin\": \"Overseas\"}, {\"Player\": \"Nicolas Pooran\", \"Role\": \"Wicket Keeper\", \"Amount\": 3000000, \"Team\": \"Mumbai Indians\", \"Year\": 2017, \"Player Origin\": \"Overseas\"}, {\"Player\": \"Nicolas Pooran\", \"Role\": \"Wicket Keeper\", \"Amount\": 42000000, \"Team\": \"Kings XI Punjab\", \"Year\": 2019, \"Player Origin\": \"Overseas\"}, {\"Player\": \"Nidheesh M D Dinesan\", \"Role\": \"Bowler\", \"Amount\": 2000000, \"Team\": \"Mumbai Indians\", \"Year\": 2018, \"Player Origin\": \"Indian\"}, {\"Player\": \"Nikhil Shankar Naik\", \"Role\": \"Wicket Keeper\", \"Amount\": 3000000, \"Team\": \"Kings XI Punjab\", \"Year\": 2015, \"Player Origin\": \"Indian\"}, {\"Player\": \"Nikhil Shankar Naik\", \"Role\": \"Wicket Keeper\", \"Amount\": 2000000, \"Team\": \"Kolkata Knight Riders\", \"Year\": 2019, \"Player Origin\": \"Indian\"}, {\"Player\": \"Nikhil Shankar Naik\", \"Role\": \"Wicket Keeper\", \"Amount\": 2000000, \"Team\": \"Kolkata Knight Riders\", \"Year\": 2020, \"Player Origin\": \"Indian\"}, {\"Player\": \"Nitish Rana\", \"Role\": \"All-Rounder\", \"Amount\": 1000000, \"Team\": \"Mumbai Indians\", \"Year\": 2015, \"Player Origin\": \"Indian\"}, {\"Player\": \"Nitish Rana\", \"Role\": \"All-Rounder\", \"Amount\": 34000000, \"Team\": \"Kolkata Knight Riders\", \"Year\": 2018, \"Player Origin\": \"Indian\"}, {\"Player\": \"Nitish Rana\", \"Role\": \"All-Rounder\", \"Amount\": 80000000, \"Team\": \"Kolkata Knight Riders\", \"Year\": 2022, \"Player Origin\": \"Indian\"}, {\"Player\": \"Noor Ahmad\", \"Role\": \"Bowler\", \"Amount\": 3000000, \"Team\": \"Gujarat Titans\", \"Year\": 2022, \"Player Origin\": \"Overseas\"}, {\"Player\": \"Obed Mccoy\", \"Role\": \"Bowler\", \"Amount\": 7500000, \"Team\": \"Rajasthan Royals\", \"Year\": 2022, \"Player Origin\": \"Overseas\"}, {\"Player\": \"Odean Smith\", \"Role\": \"All-Rounder\", \"Amount\": 60000000, \"Team\": \"Punjab Kings\", \"Year\": 2022, \"Player Origin\": \"Overseas\"}, {\"Player\": \"Oshane Thomas\", \"Role\": \"Bowler\", \"Amount\": 11000000, \"Team\": \"Rajasthan Royals\", \"Year\": 2019, \"Player Origin\": \"Overseas\"}, {\"Player\": \"Oshane Thomas\", \"Role\": \"Bowler\", \"Amount\": 5000000, \"Team\": \"Rajasthan Royals\", \"Year\": 2020, \"Player Origin\": \"Overseas\"}, {\"Player\": \"Pankaj Jaswal\", \"Role\": \"All-Rounder\", \"Amount\": 2000000, \"Team\": \"Mumbai Indians\", \"Year\": 2019, \"Player Origin\": \"Overseas\"}, {\"Player\": \"Pankaj Singh\", \"Role\": \"Bowler\", \"Amount\": 11250000, \"Team\": \"Royal Challengers Bangalore\", \"Year\": 2013, \"Player Origin\": \"Indian\"}, {\"Player\": \"Paras Dogra\", \"Role\": \"Batsman\", \"Amount\": 1000000, \"Team\": \"Gujarat Lions\", \"Year\": 2016, \"Player Origin\": \"Indian\"}, {\"Player\": \"Pardeep Sahu\", \"Role\": \"All-Rounder\", \"Amount\": 1000000, \"Team\": \"Rajasthan Royals\", \"Year\": 2015, \"Player Origin\": \"Indian\"}, {\"Player\": \"Pardeep Sahu\", \"Role\": \"All-Rounder\", \"Amount\": 1000000, \"Team\": \"Kings XI Punjab\", \"Year\": 2016, \"Player Origin\": \"Indian\"}, {\"Player\": \"Pardeep Sahu\", \"Role\": \"Bowler\", \"Amount\": 2000000, \"Team\": \"Kings XI Punjab\", \"Year\": 2018, \"Player Origin\": \"Indian\"}, {\"Player\": \"Parthiv Patel\", \"Role\": \"Wicket Keeper\", \"Amount\": 14000000, \"Team\": \"Royal Challengers Bangalore\", \"Year\": 2014, \"Player Origin\": \"Indian\"}, {\"Player\": \"Parthiv Patel\", \"Role\": \"Wicket Keeper\", \"Amount\": 17000000, \"Team\": \"Royal Challengers Bangalore\", \"Year\": 2018, \"Player Origin\": \"Indian\"}, {\"Player\": \"Parveez Rasool\", \"Role\": \"All-Rounder\", \"Amount\": 9500000, \"Team\": \"Sunrisers Hyderabad\", \"Year\": 2014, \"Player Origin\": \"Indian\"}, {\"Player\": \"Parvinder Awana\", \"Role\": \"Bowler\", \"Amount\": 6500000, \"Team\": \"Kings XI Punjab\", \"Year\": 2014, \"Player Origin\": \"Indian\"}, {\"Player\": \"Pat Cummins\", \"Role\": \"Bowler\", \"Amount\": 54000000, \"Team\": \"Mumbai Indians\", \"Year\": 2018, \"Player Origin\": \"Overseas\"}, {\"Player\": \"Pat Cummins\", \"Role\": \"All-Rounder\", \"Amount\": 155000000, \"Team\": \"Kolkata Knight Riders\", \"Year\": 2020, \"Player Origin\": \"Overseas\"}, {\"Player\": \"Pat Cummins\", \"Role\": \"All-Rounder\", \"Amount\": 72500000, \"Team\": \"Kolkata Knight Riders\", \"Year\": 2022, \"Player Origin\": \"Overseas\"}, {\"Player\": \"Pat Cummins\", \"Role\": \"Bowler\", \"Amount\": 10000000, \"Team\": \"Kolkata Knight Riders\", \"Year\": 2014, \"Player Origin\": \"Overseas\"}, {\"Player\": \"Pat Cummins\", \"Role\": \"Bowler\", \"Amount\": 45000000, \"Team\": \"Delhi Daredevils\", \"Year\": 2017, \"Player Origin\": \"Overseas\"}, {\"Player\": \"Pavan Deshpande\", \"Role\": \"All-Rounder\", \"Amount\": 2000000, \"Team\": \"Royal Challengers Bangalore\", \"Year\": 2018, \"Player Origin\": \"Indian\"}, {\"Player\": \"Pavan Deshpande\", \"Role\": \"All-Rounder\", \"Amount\": 2000000, \"Team\": \"Royal Challengers Bangalore\", \"Year\": 2020, \"Player Origin\": \"Indian\"}, {\"Player\": \"Pawan Negi\", \"Role\": \"Bowler\", \"Amount\": 1000000, \"Team\": \"Chennai Super Kings\", \"Year\": 2014, \"Player Origin\": \"Indian\"}, {\"Player\": \"Pawan Negi\", \"Role\": \"All-Rounder\", \"Amount\": 85000000, \"Team\": \"Delhi Daredevils\", \"Year\": 2016, \"Player Origin\": \"Indian\"}, {\"Player\": \"Pawan Negi\", \"Role\": \"All-Rounder\", \"Amount\": 10000000, \"Team\": \"Royal Challengers Bangalore\", \"Year\": 2017, \"Player Origin\": \"Indian\"}, {\"Player\": \"Pawan Negi\", \"Role\": \"All-Rounder\", \"Amount\": 10000000, \"Team\": \"Royal Challengers Bangalore\", \"Year\": 2018, \"Player Origin\": \"Indian\"}, {\"Player\": \"Pawan Negi\", \"Role\": \"All-Rounder\", \"Amount\": 5000000, \"Team\": \"Kolkata Knight Riders\", \"Year\": 2021, \"Player Origin\": \"Indian\"}, {\"Player\": \"Pawan Suyal\", \"Role\": \"Bowler\", \"Amount\": 1000000, \"Team\": \"Mumbai Indians\", \"Year\": 2014, \"Player Origin\": \"Indian\"}, {\"Player\": \"Pawan Suyal\", \"Role\": \"Bowler\", \"Amount\": 1000000, \"Team\": \"Delhi Daredevils\", \"Year\": 2016, \"Player Origin\": \"Indian\"}, {\"Player\": \"Peter Handscomb\", \"Role\": \"Wicket Keeper\", \"Amount\": 3000000, \"Team\": \"Rising Pune Supergiant\", \"Year\": 2016, \"Player Origin\": \"Overseas\"}, {\"Player\": \"Philip Hughes\", \"Role\": \"Batsman\", \"Amount\": 7500000, \"Team\": \"Mumbai Indians\", \"Year\": 2013, \"Player Origin\": \"Overseas\"}, {\"Player\": \"Piyush Chawla\", \"Role\": \"Bowler\", \"Amount\": 42500000, \"Team\": \"Kolkata Knight Riders\", \"Year\": 2014, \"Player Origin\": \"Indian\"}, {\"Player\": \"Piyush Chawla\", \"Role\": \"Bowler\", \"Amount\": 42000000, \"Team\": \"Kolkata Knight Riders\", \"Year\": 2018, \"Player Origin\": \"Indian\"}, {\"Player\": \"Piyush Chawla\", \"Role\": \"Bowler\", \"Amount\": 67500000, \"Team\": \"Chennai Super Kings\", \"Year\": 2020, \"Player Origin\": \"Indian\"}, {\"Player\": \"Piyush Chawla\", \"Role\": \"Bowler\", \"Amount\": 24000000, \"Team\": \"Mumbai Indians\", \"Year\": 2021, \"Player Origin\": \"Indian\"}, {\"Player\": \"Prabhsimran Singh\", \"Role\": \"Wicket Keeper\", \"Amount\": 48000000, \"Team\": \"Kings XI Punjab\", \"Year\": 2019, \"Player Origin\": \"Indian\"}, {\"Player\": \"Prabhsimran Singh\", \"Role\": \"Wicket Keeper\", \"Amount\": 5500000, \"Team\": \"Kings XI Punjab\", \"Year\": 2020, \"Player Origin\": \"Indian\"}, {\"Player\": \"Prabhsimran Singh\", \"Role\": \"Wicket Keeper\", \"Amount\": 6000000, \"Team\": \"Punjab Kings\", \"Year\": 2022, \"Player Origin\": \"Indian\"}, {\"Player\": \"Pradeep Sangwan\", \"Role\": \"All-Rounder\", \"Amount\": 2000000, \"Team\": \"Gujarat Lions\", \"Year\": 2016, \"Player Origin\": \"Indian\"}, {\"Player\": \"Pradeep Sangwan\", \"Role\": \"Bowler\", \"Amount\": 15000000, \"Team\": \"Mumbai Indians\", \"Year\": 2018, \"Player Origin\": \"Indian\"}, {\"Player\": \"Pradeep Sangwan\", \"Role\": \"All-Rounder\", \"Amount\": 2000000, \"Team\": \"Gujarat Titans\", \"Year\": 2022, \"Player Origin\": \"Indian\"}, {\"Player\": \"Pragyan Ojha\", \"Role\": \"Bowler\", \"Amount\": 32500000, \"Team\": \"Mumbai Indians\", \"Year\": 2014, \"Player Origin\": \"Indian\"}, {\"Player\": \"Pragyan Ojha\", \"Role\": \"Bowler\", \"Amount\": 5000000, \"Team\": \"Mumbai Indians\", \"Year\": 2015, \"Player Origin\": \"Indian\"}, {\"Player\": \"Prasanth Padmanabhan\", \"Role\": \"All-Rounder\", \"Amount\": 1000000, \"Team\": \"Sunrisers Hyderabad\", \"Year\": 2015, \"Player Origin\": \"Indian\"}, {\"Player\": \"Prasanth Parameswaran\", \"Role\": \"Bowler\", \"Amount\": 3000000, \"Team\": \"Sunrisers Hyderabad\", \"Year\": 2014, \"Player Origin\": \"Indian\"}, {\"Player\": \"Prashant Chopra\", \"Role\": \"Wicket Keeper\", \"Amount\": 2000000, \"Team\": \"Rajasthan Royals\", \"Year\": 2018, \"Player Origin\": \"Indian\"}, {\"Player\": \"Prashant Solanki\", \"Role\": \"Bowler\", \"Amount\": 12000000, \"Team\": \"Chennai Super Kings\", \"Year\": 2022, \"Player Origin\": \"Indian\"}, {\"Player\": \"Prasidh Krishna\", \"Role\": \"Bowler\", \"Amount\": 100000000, \"Team\": \"Rajasthan Royals\", \"Year\": 2022, \"Player Origin\": \"Indian\"}, {\"Player\": \"Pratham Singh\", \"Role\": \"All-Rounder\", \"Amount\": 1000000, \"Team\": \"Gujarat Lions\", \"Year\": 2017, \"Player Origin\": \"Indian\"}, {\"Player\": \"Pratham Singh\", \"Role\": \"Batsman\", \"Amount\": 2000000, \"Team\": \"Kolkata Knight Riders\", \"Year\": 2022, \"Player Origin\": \"Indian\"}, {\"Player\": \"Pratyush Singh\", \"Role\": \"All-Rounder\", \"Amount\": 1000000, \"Team\": \"Chennai Super Kings\", \"Year\": 2015, \"Player Origin\": \"Indian\"}, {\"Player\": \"Pratyush Singh\", \"Role\": \"All-Rounder\", \"Amount\": 1000000, \"Team\": \"Delhi Daredevils\", \"Year\": 2016, \"Player Origin\": \"Indian\"}, {\"Player\": \"Praveen Dubey\", \"Role\": \"All-Rounder\", \"Amount\": 3500000, \"Team\": \"Royal Challengers Bangalore\", \"Year\": 2016, \"Player Origin\": \"Indian\"}, {\"Player\": \"Praveen Dubey\", \"Role\": \"All-Rounder\", \"Amount\": 1000000, \"Team\": \"Royal Challengers Bangalore\", \"Year\": 2017, \"Player Origin\": \"Indian\"}, {\"Player\": \"Praveen Kumar\", \"Role\": \"Bowler\", \"Amount\": 22000000, \"Team\": \"Sunrisers Hyderabad\", \"Year\": 2015, \"Player Origin\": \"Indian\"}, {\"Player\": \"Praveen Kumar\", \"Role\": \"Bowler\", \"Amount\": 35000000, \"Team\": \"Gujarat Lions\", \"Year\": 2016, \"Player Origin\": \"Indian\"}, {\"Player\": \"Pravin Dubey\", \"Role\": \"All-Rounder\", \"Amount\": 5000000, \"Team\": \"Delhi Capitals\", \"Year\": 2022, \"Player Origin\": \"Indian\"}, {\"Player\": \"Pravin Tambe\", \"Role\": \"Bowler\", \"Amount\": 1000000, \"Team\": \"Rajasthan Royals\", \"Year\": 2014, \"Player Origin\": \"Indian\"}, {\"Player\": \"Pravin Tambe\", \"Role\": \"Bowler\", \"Amount\": 2000000, \"Team\": \"Gujarat Lions\", \"Year\": 2016, \"Player Origin\": \"Indian\"}, {\"Player\": \"Pravin Tambe\", \"Role\": \"Bowler\", \"Amount\": 1000000, \"Team\": \"Sunrisers Hyderabad\", \"Year\": 2017, \"Player Origin\": \"Indian\"}, {\"Player\": \"Pravin Tambe\", \"Role\": \"Bowler\", \"Amount\": 2000000, \"Team\": \"Kolkata Knight Riders\", \"Year\": 2020, \"Player Origin\": \"Indian\"}, {\"Player\": \"Prayas Ray Barman\", \"Role\": \"All-Rounder\", \"Amount\": 15000000, \"Team\": \"Royal Challengers Bangalore\", \"Year\": 2019, \"Player Origin\": \"Indian\"}, {\"Player\": \"Prerak Mankad\", \"Role\": \"All-Rounder\", \"Amount\": 2000000, \"Team\": \"Punjab Kings\", \"Year\": 2022, \"Player Origin\": \"Indian\"}, {\"Player\": \"Prince Balwant Rai Singh\", \"Role\": \"All-Rounder\", \"Amount\": 2000000, \"Team\": \"Mumbai Indians\", \"Year\": 2020, \"Player Origin\": \"Indian\"}, {\"Player\": \"Prithvi Raj Yarra\", \"Role\": \"Bowler\", \"Amount\": 2000000, \"Team\": \"Kolkata Knight Riders\", \"Year\": 2019, \"Player Origin\": \"Indian\"}, {\"Player\": \"Prithvi Shaw\", \"Role\": \"Batsman\", \"Amount\": 12000000, \"Team\": \"Delhi Daredevils\", \"Year\": 2018, \"Player Origin\": \"Indian\"}, {\"Player\": \"Priyam Garg\", \"Role\": \"Batsman\", \"Amount\": 19000000, \"Team\": \"Sunrisers Hyderabad\", \"Year\": 2020, \"Player Origin\": \"Indian\"}, {\"Player\": \"Priyam Garg\", \"Role\": \"Batsman\", \"Amount\": 2000000, \"Team\": \"Sunrisers Hyderabad\", \"Year\": 2022, \"Player Origin\": \"Indian\"}, {\"Player\": \"Quinton De Kock\", \"Role\": \"Wicket Keeper\", \"Amount\": 1500000, \"Team\": \"Sunrisers Hyderabad\", \"Year\": 2013, \"Player Origin\": \"Overseas\"}, {\"Player\": \"Quinton De Kock\", \"Role\": \"Wicket Keeper\", \"Amount\": 35000000, \"Team\": \"Delhi Daredevils\", \"Year\": 2014, \"Player Origin\": \"Overseas\"}, {\"Player\": \"Quinton De Kock\", \"Role\": \"Wicket Keeper\", \"Amount\": 28000000, \"Team\": \"Royal Challengers Bangalore\", \"Year\": 2018, \"Player Origin\": \"Overseas\"}, {\"Player\": \"Quinton De Kock\", \"Role\": \"Wicket Keeper\", \"Amount\": 67500000, \"Team\": \"Lucknow Super Giants\", \"Year\": 2022, \"Player Origin\": \"Overseas\"}, {\"Player\": \"R Samarth\", \"Role\": \"Batsman\", \"Amount\": 2000000, \"Team\": \"Sunrisers Hyderabad\", \"Year\": 2022, \"Player Origin\": \"Indian\"}, {\"Player\": \"R. Ashwin\", \"Role\": \"All-Rounder\", \"Amount\": 50000000, \"Team\": \"Rajasthan Royals\", \"Year\": 2022, \"Player Origin\": \"Indian\"}, {\"Player\": \"R. Sai Kishore\", \"Role\": \"Bowler\", \"Amount\": 2000000, \"Team\": \"Chennai Super Kings\", \"Year\": 2020, \"Player Origin\": \"Indian\"}, {\"Player\": \"R. Sai Kishore\", \"Role\": \"Bowler\", \"Amount\": 30000000, \"Team\": \"Gujarat Titans\", \"Year\": 2022, \"Player Origin\": \"Indian\"}, {\"Player\": \"R. Sanjay Yadav\", \"Role\": \"All-Rounder\", \"Amount\": 1000000, \"Team\": \"Kolkata Knight Riders\", \"Year\": 2017, \"Player Origin\": \"Indian\"}, {\"Player\": \"Rahul Ajay Tripathi\", \"Role\": \"All-Rounder\", \"Amount\": 1000000, \"Team\": \"Rising Pune Supergiant\", \"Year\": 2017, \"Player Origin\": \"Indian\"}, {\"Player\": \"Rahul Buddhi\", \"Role\": \"Batsman\", \"Amount\": 2000000, \"Team\": \"Mumbai Indians\", \"Year\": 2022, \"Player Origin\": \"Indian\"}, {\"Player\": \"Rahul Chahar\", \"Role\": \"Bowler\", \"Amount\": 1000000, \"Team\": \"Rising Pune Supergiant\", \"Year\": 2017, \"Player Origin\": \"Indian\"}, {\"Player\": \"Rahul Chahar\", \"Role\": \"Bowler\", \"Amount\": 19000000, \"Team\": \"Mumbai Indians\", \"Year\": 2018, \"Player Origin\": \"Indian\"}, {\"Player\": \"Rahul Chahar\", \"Role\": \"Bowler\", \"Amount\": 52500000, \"Team\": \"Punjab Kings\", \"Year\": 2022, \"Player Origin\": \"Indian\"}, {\"Player\": \"Rahul Sharma\", \"Role\": \"Bowler\", \"Amount\": 19000000, \"Team\": \"Delhi Daredevils\", \"Year\": 2014, \"Player Origin\": \"Indian\"}, {\"Player\": \"Rahul Sharma\", \"Role\": \"Bowler\", \"Amount\": 3000000, \"Team\": \"Chennai Super Kings\", \"Year\": 2015, \"Player Origin\": \"Indian\"}, {\"Player\": \"Rahul Shukla\", \"Role\": \"Bowler\", \"Amount\": 4000000, \"Team\": \"Delhi Daredevils\", \"Year\": 2014, \"Player Origin\": \"Indian\"}, {\"Player\": \"Rahul Tewatia\", \"Role\": \"All-Rounder\", \"Amount\": 1000000, \"Team\": \"Rajasthan Royals\", \"Year\": 2014, \"Player Origin\": \"Indian\"}, {\"Player\": \"Rahul Tewatia\", \"Role\": \"All-Rounder\", \"Amount\": 2500000, \"Team\": \"Kings XI Punjab\", \"Year\": 2017, \"Player Origin\": \"Indian\"}, {\"Player\": \"Rahul Tewatia\", \"Role\": \"All-Rounder\", \"Amount\": 30000000, \"Team\": \"Delhi Daredevils\", \"Year\": 2018, \"Player Origin\": \"Indian\"}, {\"Player\": \"Rahul Tewatia\", \"Role\": \"All-Rounder\", \"Amount\": 90000000, \"Team\": \"Gujarat Titans\", \"Year\": 2022, \"Player Origin\": \"Indian\"}, {\"Player\": \"Rahul Tripathi\", \"Role\": \"Batsman\", \"Amount\": 34000000, \"Team\": \"Rajasthan Royals\", \"Year\": 2018, \"Player Origin\": \"Indian\"}, {\"Player\": \"Rahul Tripathi\", \"Role\": \"Batsman\", \"Amount\": 6000000, \"Team\": \"Kolkata Knight Riders\", \"Year\": 2020, \"Player Origin\": \"Indian\"}, {\"Player\": \"Rahul Tripathi\", \"Role\": \"Batsman\", \"Amount\": 85000000, \"Team\": \"Sunrisers Hyderabad\", \"Year\": 2022, \"Player Origin\": \"Indian\"}, {\"Player\": \"Raj Angad Bawa\", \"Role\": \"All-Rounder\", \"Amount\": 20000000, \"Team\": \"Punjab Kings\", \"Year\": 2022, \"Player Origin\": \"Indian\"}, {\"Player\": \"Rajagopal Sathish\", \"Role\": \"All-Rounder\", \"Amount\": 2000000, \"Team\": \"Kolkata Knight Riders\", \"Year\": 2016, \"Player Origin\": \"Indian\"}, {\"Player\": \"Rajat Bhatia\", \"Role\": \"All-Rounder\", \"Amount\": 17000000, \"Team\": \"Rajasthan Royals\", \"Year\": 2014, \"Player Origin\": \"Indian\"}, {\"Player\": \"Rajat Bhatia\", \"Role\": \"All-Rounder\", \"Amount\": 6000000, \"Team\": \"Rising Pune Supergiant\", \"Year\": 2016, \"Player Origin\": \"Indian\"}, {\"Player\": \"Rajat Patidar\", \"Role\": \"Batsman\", \"Amount\": 2000000, \"Team\": \"Royal Challengers Bangalore\", \"Year\": 2021, \"Player Origin\": \"Indian\"}, {\"Player\": \"Rajvardhan Hangargekar\", \"Role\": \"All-Rounder\", \"Amount\": 15000000, \"Team\": \"Chennai Super Kings\", \"Year\": 2022, \"Player Origin\": \"Indian\"}, {\"Player\": \"Ramandeep Singh\", \"Role\": \"All-Rounder\", \"Amount\": 2000000, \"Team\": \"Mumbai Indians\", \"Year\": 2022, \"Player Origin\": \"Indian\"}, {\"Player\": \"Ramesh Kumar\", \"Role\": \"Batsman\", \"Amount\": 2000000, \"Team\": \"Kolkata Knight Riders\", \"Year\": 2022, \"Player Origin\": \"Indian\"}, {\"Player\": \"Ranganath Vinay Kumar\", \"Role\": \"Bowler\", \"Amount\": 28000000, \"Team\": \"Kolkata Knight Riders\", \"Year\": 2014, \"Player Origin\": \"Indian\"}, {\"Player\": \"Ranganath Vinay Kumar\", \"Role\": \"Bowler\", \"Amount\": 10000000, \"Team\": \"Kolkata Knight Riders\", \"Year\": 2018, \"Player Origin\": \"Indian\"}, {\"Player\": \"Rashid Khan Arman\", \"Role\": \"Bowler\", \"Amount\": 40000000, \"Team\": \"Sunrisers Hyderabad\", \"Year\": 2017, \"Player Origin\": \"Overseas\"}, {\"Player\": \"Rashid Khan Arman\", \"Role\": \"Bowler\", \"Amount\": 90000000, \"Team\": \"Sunrisers Hyderabad\", \"Year\": 2018, \"Player Origin\": \"Overseas\"}, {\"Player\": \"Rasikh Dar\", \"Role\": \"Bowler\", \"Amount\": 2000000, \"Team\": \"Mumbai Indians\", \"Year\": 2019, \"Player Origin\": \"Indian\"}, {\"Player\": \"Rasikh Dar\", \"Role\": \"Bowler\", \"Amount\": 2000000, \"Team\": \"Kolkata Knight Riders\", \"Year\": 2022, \"Player Origin\": \"Indian\"}, {\"Player\": \"Rassie Van Der Dussen\", \"Role\": \"Batsman\", \"Amount\": 10000000, \"Team\": \"Rajasthan Royals\", \"Year\": 2022, \"Player Origin\": \"Overseas\"}, {\"Player\": \"Ravi Bishnoi\", \"Role\": \"Bowler\", \"Amount\": 20000000, \"Team\": \"Kings XI Punjab\", \"Year\": 2020, \"Player Origin\": \"Indian\"}, {\"Player\": \"Ravi Bopara\", \"Role\": \"All-Rounder\", \"Amount\": 10000000, \"Team\": \"Sunrisers Hyderabad\", \"Year\": 2015, \"Player Origin\": \"Indian\"}, {\"Player\": \"Ravi Rampaul\", \"Role\": \"Bowler\", \"Amount\": 21750000, \"Team\": \"Royal Challengers Bangalore\", \"Year\": 2013, \"Player Origin\": \"Overseas\"}, {\"Player\": \"Ravi Rampaul\", \"Role\": \"Bowler\", \"Amount\": 9000000, \"Team\": \"Royal Challengers Bangalore\", \"Year\": 2014, \"Player Origin\": \"Overseas\"}, {\"Player\": \"Ravichandran Ashwin\", \"Role\": \"All-Rounder\", \"Amount\": 76000000, \"Team\": \"Kings XI Punjab\", \"Year\": 2018, \"Player Origin\": \"Overseas\"}, {\"Player\": \"Ricky Bhui\", \"Role\": \"Batsman\", \"Amount\": 1000000, \"Team\": \"Sunrisers Hyderabad\", \"Year\": 2014, \"Player Origin\": \"Overseas\"}, {\"Player\": \"Ricky Bhui\", \"Role\": \"Batsman\", \"Amount\": 2000000, \"Team\": \"Sunrisers Hyderabad\", \"Year\": 2018, \"Player Origin\": \"Overseas\"}, {\"Player\": \"Ricky Ponting\", \"Role\": \"Batsman\", \"Amount\": 30000000, \"Team\": \"Mumbai Indians\", \"Year\": 2013, \"Player Origin\": \"Overseas\"}, {\"Player\": \"Riley Meredith\", \"Role\": \"Bowler\", \"Amount\": 80000000, \"Team\": \"Punjab Kings\", \"Year\": 2021, \"Player Origin\": \"Overseas\"}, {\"Player\": \"Riley Meredith\", \"Role\": \"Bowler\", \"Amount\": 10000000, \"Team\": \"Mumbai Indians\", \"Year\": 2022, \"Player Origin\": \"Overseas\"}, {\"Player\": \"Rinku Singh\", \"Role\": \"Batsman\", \"Amount\": 1000000, \"Team\": \"Kings XI Punjab\", \"Year\": 2017, \"Player Origin\": \"Indian\"}, {\"Player\": \"Rinku Singh\", \"Role\": \"Batsman\", \"Amount\": 8000000, \"Team\": \"Kolkata Knight Riders\", \"Year\": 2018, \"Player Origin\": \"Indian\"}, {\"Player\": \"Rinku Singh\", \"Role\": \"Batsman\", \"Amount\": 5500000, \"Team\": \"Kolkata Knight Riders\", \"Year\": 2022, \"Player Origin\": \"Indian\"}, {\"Player\": \"Ripal Patel\", \"Role\": \"All-Rounder\", \"Amount\": 2000000, \"Team\": \"Delhi Capitals\", \"Year\": 2021, \"Player Origin\": \"Indian\"}, {\"Player\": \"Ripal Patel\", \"Role\": \"All-Rounder\", \"Amount\": 2000000, \"Team\": \"Delhi Capitals\", \"Year\": 2022, \"Player Origin\": \"Indian\"}, {\"Player\": \"Rishabh Pant\", \"Role\": \"Wicket Keeper\", \"Amount\": 19000000, \"Team\": \"Delhi Daredevils\", \"Year\": 2016, \"Player Origin\": \"Indian\"}, {\"Player\": \"Rishi Dhawan\", \"Role\": \"All-Rounder\", \"Amount\": 30000000, \"Team\": \"Kings XI Punjab\", \"Year\": 2014, \"Player Origin\": \"Indian\"}, {\"Player\": \"Rishi Dhawan\", \"Role\": \"All-Rounder\", \"Amount\": 5500000, \"Team\": \"Kolkata Knight Riders\", \"Year\": 2017, \"Player Origin\": \"Indian\"}, {\"Player\": \"Rishi Dhawan\", \"Role\": \"All-Rounder\", \"Amount\": 5500000, \"Team\": \"Punjab Kings\", \"Year\": 2022, \"Player Origin\": \"Indian\"}, {\"Player\": \"Riyan Parag\", \"Role\": \"All-Rounder\", \"Amount\": 2000000, \"Team\": \"Rajasthan Royals\", \"Year\": 2019, \"Player Origin\": \"Indian\"}, {\"Player\": \"Riyan Parag\", \"Role\": \"All-Rounder\", \"Amount\": 38000000, \"Team\": \"Rajasthan Royals\", \"Year\": 2022, \"Player Origin\": \"Indian\"}, {\"Player\": \"Robin Uthappa\", \"Role\": \"Batsman\", \"Amount\": 50000000, \"Team\": \"Kolkata Knight Riders\", \"Year\": 2014, \"Player Origin\": \"Indian\"}, {\"Player\": \"Robin Uthappa\", \"Role\": \"Batsman\", \"Amount\": 64000000, \"Team\": \"Kolkata Knight Riders\", \"Year\": 2018, \"Player Origin\": \"Indian\"}, {\"Player\": \"Robin Uthappa\", \"Role\": \"Batsman\", \"Amount\": 30000000, \"Team\": \"Rajasthan Royals\", \"Year\": 2020, \"Player Origin\": \"Indian\"}, {\"Player\": \"Robin Uthappa\", \"Role\": \"Batsman\", \"Amount\": 20000000, \"Team\": \"Chennai Super Kings\", \"Year\": 2022, \"Player Origin\": \"Indian\"}, {\"Player\": \"Romario Shepherd\", \"Role\": \"All-Rounder\", \"Amount\": 77500000, \"Team\": \"Sunrisers Hyderabad\", \"Year\": 2022, \"Player Origin\": \"Overseas\"}, {\"Player\": \"Ronit More\", \"Role\": \"Bowler\", \"Amount\": 1000000, \"Team\": \"Chennai Super Kings\", \"Year\": 2014, \"Player Origin\": \"Indian\"}, {\"Player\": \"Ross Taylor\", \"Role\": \"Batsman\", \"Amount\": 20000000, \"Team\": \"Delhi Daredevils\", \"Year\": 2014, \"Player Origin\": \"Overseas\"}, {\"Player\": \"Rovman Powell\", \"Role\": \"All-Rounder\", \"Amount\": 3000000, \"Team\": \"Kolkata Knight Riders\", \"Year\": 2017, \"Player Origin\": \"Overseas\"}, {\"Player\": \"Rovman Powell\", \"Role\": \"Batsman\", \"Amount\": 28000000, \"Team\": \"Delhi Capitals\", \"Year\": 2022, \"Player Origin\": \"Overseas\"}, {\"Player\": \"Rudra Pratap Singh\", \"Role\": \"Bowler\", \"Amount\": 30000000, \"Team\": \"Royal Challengers Bangalore\", \"Year\": 2013, \"Player Origin\": \"Indian\"}, {\"Player\": \"Rudra Pratap Singh\", \"Role\": \"Bowler\", \"Amount\": 3000000, \"Team\": \"Rising Pune Supergiant\", \"Year\": 2016, \"Player Origin\": \"Indian\"}, {\"Player\": \"Ruturaj Gaikwad\", \"Role\": \"Batsman\", \"Amount\": 2000000, \"Team\": \"Chennai Super Kings\", \"Year\": 2019, \"Player Origin\": \"Indian\"}, {\"Player\": \"Ryan McLaren\", \"Role\": \"Bowler\", \"Amount\": 3750000, \"Team\": \"Kolkata Knight Riders\", \"Year\": 2013, \"Player Origin\": \"Overseas\"}, {\"Player\": \"Ryan Ten Doeschate\", \"Role\": \"All-Rounder\", \"Amount\": 10000000, \"Team\": \"Kolkata Knight Riders\", \"Year\": 2014, \"Player Origin\": \"Overseas\"}, {\"Player\": \"Sachin Baby\", \"Role\": \"Batsman\", \"Amount\": 1000000, \"Team\": \"Royal Challengers Bangalore\", \"Year\": 2016, \"Player Origin\": \"Indian\"}, {\"Player\": \"Sachin Baby\", \"Role\": \"Batsman\", \"Amount\": 2000000, \"Team\": \"Sunrisers Hyderabad\", \"Year\": 2018, \"Player Origin\": \"Indian\"}, {\"Player\": \"Sachin Baby\", \"Role\": \"Batsman\", \"Amount\": 2000000, \"Team\": \"Royal Challengers Bangalore\", \"Year\": 2021, \"Player Origin\": \"Indian\"}, {\"Player\": \"Sachin Rana\", \"Role\": \"Bowler\", \"Amount\": 2000000, \"Team\": \"Royal Challengers Bangalore\", \"Year\": 2014, \"Player Origin\": \"Indian\"}, {\"Player\": \"Sachithra Senanayaka\", \"Role\": \"All-Rounder\", \"Amount\": 46875000, \"Team\": \"Kolkata Knight Riders\", \"Year\": 2013, \"Player Origin\": \"Overseas\"}, {\"Player\": \"Sagar Trivedi\", \"Role\": \"All-Rounder\", \"Amount\": 1000000, \"Team\": \"Rajasthan Royals\", \"Year\": 2015, \"Player Origin\": \"Indian\"}, {\"Player\": \"Sam Billings\", \"Role\": \"Wicket Keeper\", \"Amount\": 3000000, \"Team\": \"Delhi Daredevils\", \"Year\": 2016, \"Player Origin\": \"Overseas\"}, {\"Player\": \"Sam Billings\", \"Role\": \"Wicket Keeper\", \"Amount\": 10000000, \"Team\": \"Chennai Super Kings\", \"Year\": 2018, \"Player Origin\": \"Overseas\"}, {\"Player\": \"Sam Billings\", \"Role\": \"Wicket Keeper\", \"Amount\": 20000000, \"Team\": \"Delhi Capitals\", \"Year\": 2021, \"Player Origin\": \"Overseas\"}, {\"Player\": \"Sam Billings\", \"Role\": \"Wicket Keeper\", \"Amount\": 20000000, \"Team\": \"Kolkata Knight Riders\", \"Year\": 2022, \"Player Origin\": \"Overseas\"}, {\"Player\": \"Sam Curran\", \"Role\": \"All-Rounder\", \"Amount\": 72000000, \"Team\": \"Kings XI Punjab\", \"Year\": 2019, \"Player Origin\": \"Overseas\"}, {\"Player\": \"Sam Curran\", \"Role\": \"All-Rounder\", \"Amount\": 55000000, \"Team\": \"Chennai Super Kings\", \"Year\": 2020, \"Player Origin\": \"Overseas\"}, {\"Player\": \"Samuel Badree\", \"Role\": \"Bowler\", \"Amount\": 3000000, \"Team\": \"Chennai Super Kings\", \"Year\": 2014, \"Player Origin\": \"Overseas\"}, {\"Player\": \"Samuel Badree\", \"Role\": \"Bowler\", \"Amount\": 5000000, \"Team\": \"Royal Challengers Bangalore\", \"Year\": 2016, \"Player Origin\": \"Overseas\"}, {\"Player\": \"Sandeep Bavanaka\", \"Role\": \"All-Rounder\", \"Amount\": 2000000, \"Team\": \"Sunrisers Hyderabad\", \"Year\": 2020, \"Player Origin\": \"Overseas\"}, {\"Player\": \"Sandeep Lamichhane\", \"Role\": \"Bowler\", \"Amount\": 2000000, \"Team\": \"Delhi Daredevils\", \"Year\": 2018, \"Player Origin\": \"Overseas\"}, {\"Player\": \"Sandeep Sharma\", \"Role\": \"Bowler\", \"Amount\": 8500000, \"Team\": \"Kings XI Punjab\", \"Year\": 2014, \"Player Origin\": \"Indian\"}, {\"Player\": \"Sandeep Sharma\", \"Role\": \"Bowler\", \"Amount\": 30000000, \"Team\": \"Sunrisers Hyderabad\", \"Year\": 2018, \"Player Origin\": \"Indian\"}, {\"Player\": \"Sandeep Sharma\", \"Role\": \"Bowler\", \"Amount\": 5000000, \"Team\": \"Punjab Kings\", \"Year\": 2022, \"Player Origin\": \"Indian\"}, {\"Player\": \"Sandeep Warrier\", \"Role\": \"Bowler\", \"Amount\": 1000000, \"Team\": \"Royal Challengers Bangalore\", \"Year\": 2014, \"Player Origin\": \"Indian\"}, {\"Player\": \"Sanjay Yadav\", \"Role\": \"All-Rounder\", \"Amount\": 2000000, \"Team\": \"Sunrisers Hyderabad\", \"Year\": 2020, \"Player Origin\": \"Indian\"}, {\"Player\": \"Sanjay Yadav\", \"Role\": \"All-Rounder\", \"Amount\": 5000000, \"Team\": \"Mumbai Indians\", \"Year\": 2022, \"Player Origin\": \"Indian\"}, {\"Player\": \"Sanju Samson\", \"Role\": \"Wicket Keeper\", \"Amount\": 42000000, \"Team\": \"Delhi Daredevils\", \"Year\": 2016, \"Player Origin\": \"Indian\"}, {\"Player\": \"Sanju Samson\", \"Role\": \"Wicket Keeper\", \"Amount\": 80000000, \"Team\": \"Rajasthan Royals\", \"Year\": 2018, \"Player Origin\": \"Indian\"}, {\"Player\": \"Sarabjit Ladda\", \"Role\": \"Bowler\", \"Amount\": 1000000, \"Team\": \"Gujarat Lions\", \"Year\": 2016, \"Player Origin\": \"Indian\"}, {\"Player\": \"Sarfaraz Khan\", \"Role\": \"All-Rounder\", \"Amount\": 2000000, \"Team\": \"Delhi Capitals\", \"Year\": 2022, \"Player Origin\": \"Indian\"}, {\"Player\": \"Sarfaraz Naushad Khan\", \"Role\": \"Batsman\", \"Amount\": 5000000, \"Team\": \"Royal Challengers Bangalore\", \"Year\": 2015, \"Player Origin\": \"Indian\"}, {\"Player\": \"Sarfaraz Naushad Khan\", \"Role\": \"All-Rounder\", \"Amount\": 2500000, \"Team\": \"Kings XI Punjab\", \"Year\": 2019, \"Player Origin\": \"Indian\"}, {\"Player\": \"Saurabh Dubey\", \"Role\": \"Bowler\", \"Amount\": 2000000, \"Team\": \"Sunrisers Hyderabad\", \"Year\": 2022, \"Player Origin\": \"Indian\"}, {\"Player\": \"Saurabh Kumar\", \"Role\": \"Bowler\", \"Amount\": 1000000, \"Team\": \"Rising Pune Supergiant\", \"Year\": 2017, \"Player Origin\": \"Indian\"}, {\"Player\": \"Saurabh Kumar\", \"Role\": \"All-Rounder\", \"Amount\": 2000000, \"Team\": \"Punjab Kings\", \"Year\": 2021, \"Player Origin\": \"Indian\"}, {\"Player\": \"Saurabh Tiwary\", \"Role\": \"Batsman\", \"Amount\": 7000000, \"Team\": \"Delhi Daredevils\", \"Year\": 2014, \"Player Origin\": \"Indian\"}, {\"Player\": \"Saurabh Tiwary\", \"Role\": \"Batsman\", \"Amount\": 3000000, \"Team\": \"Mumbai Indians\", \"Year\": 2017, \"Player Origin\": \"Indian\"}, {\"Player\": \"Saurabh Tiwary\", \"Role\": \"Batsman\", \"Amount\": 8000000, \"Team\": \"Mumbai Indians\", \"Year\": 2018, \"Player Origin\": \"Indian\"}, {\"Player\": \"Saurabh Tiwary\", \"Role\": \"Batsman\", \"Amount\": 5000000, \"Team\": \"Mumbai Indians\", \"Year\": 2020, \"Player Origin\": \"Indian\"}, {\"Player\": \"Sayan Ghosh\", \"Role\": \"Bowler\", \"Amount\": 1000000, \"Team\": \"Kolkata Knight Riders\", \"Year\": 2017, \"Player Origin\": \"Indian\"}, {\"Player\": \"Sayan Ghosh\", \"Role\": \"Bowler\", \"Amount\": 2000000, \"Team\": \"Delhi Daredevils\", \"Year\": 2018, \"Player Origin\": \"Indian\"}, {\"Player\": \"Sayan Sekhar Mandal\", \"Role\": \"All-Rounder\", \"Amount\": 1000000, \"Team\": \"Kolkata Knight Riders\", \"Year\": 2014, \"Player Origin\": \"Indian\"}, {\"Player\": \"Scott Boland\", \"Role\": \"Bowler\", \"Amount\": 5000000, \"Team\": \"Rising Pune Supergiant\", \"Year\": 2016, \"Player Origin\": \"Overseas\"}, {\"Player\": \"Sean Abbott\", \"Role\": \"Bowler\", \"Amount\": 10000000, \"Team\": \"Royal Challengers Bangalore\", \"Year\": 2015, \"Player Origin\": \"Overseas\"}, {\"Player\": \"Sean Abbott\", \"Role\": \"Bowler\", \"Amount\": 24000000, \"Team\": \"Sunrisers Hyderabad\", \"Year\": 2022, \"Player Origin\": \"Overseas\"}, {\"Player\": \"Shadab Jakati\", \"Role\": \"Bowler\", \"Amount\": 2000000, \"Team\": \"Royal Challengers Bangalore\", \"Year\": 2014, \"Player Origin\": \"Indian\"}, {\"Player\": \"Shadab Jakati\", \"Role\": \"All-Rounder\", \"Amount\": 2000000, \"Team\": \"Gujarat Lions\", \"Year\": 2016, \"Player Origin\": \"Indian\"}, {\"Player\": \"Shahbaz Ahamad\", \"Role\": \"Wicket Keeper\", \"Amount\": 2000000, \"Team\": \"Royal Challengers Bangalore\", \"Year\": 2020, \"Player Origin\": \"Indian\"}, {\"Player\": \"Shahbaz Ahamad\", \"Role\": \"All-Rounder\", \"Amount\": 24000000, \"Team\": \"Royal Challengers Bangalore\", \"Year\": 2022, \"Player Origin\": \"Indian\"}, {\"Player\": \"Shahbaz Nadeem\", \"Role\": \"Bowler\", \"Amount\": 8500000, \"Team\": \"Delhi Daredevils\", \"Year\": 2014, \"Player Origin\": \"Indian\"}, {\"Player\": \"Shahbaz Nadeem\", \"Role\": \"Bowler\", \"Amount\": 32000000, \"Team\": \"Delhi Daredevils\", \"Year\": 2018, \"Player Origin\": \"Indian\"}, {\"Player\": \"Shahbaz Nadeem\", \"Role\": \"Bowler\", \"Amount\": 5000000, \"Team\": \"Lucknow Super Giants\", \"Year\": 2022, \"Player Origin\": \"Indian\"}, {\"Player\": \"Shahrukh Khan\", \"Role\": \"All-Rounder\", \"Amount\": 52500000, \"Team\": \"Punjab Kings\", \"Year\": 2021, \"Player Origin\": \"Indian\"}, {\"Player\": \"Shahrukh Khan\", \"Role\": \"All-Rounder\", \"Amount\": 90000000, \"Team\": \"Punjab Kings\", \"Year\": 2022, \"Player Origin\": \"Indian\"}, {\"Player\": \"Shakib Al Hasan\", \"Role\": \"All-Rounder\", \"Amount\": 28000000, \"Team\": \"Kolkata Knight Riders\", \"Year\": 2014, \"Player Origin\": \"Overseas\"}, {\"Player\": \"Shakib Al Hasan\", \"Role\": \"All-Rounder\", \"Amount\": 20000000, \"Team\": \"Sunrisers Hyderabad\", \"Year\": 2018, \"Player Origin\": \"Overseas\"}, {\"Player\": \"Shakib Al Hasan\", \"Role\": \"All-Rounder\", \"Amount\": 32000000, \"Team\": \"Kolkata Knight Riders\", \"Year\": 2021, \"Player Origin\": \"Overseas\"}, {\"Player\": \"Shane Watson\", \"Role\": \"All-Rounder\", \"Amount\": 95000000, \"Team\": \"Royal Challengers Bangalore\", \"Year\": 2016, \"Player Origin\": \"Overseas\"}, {\"Player\": \"Shane Watson\", \"Role\": \"All-Rounder\", \"Amount\": 40000000, \"Team\": \"Chennai Super Kings\", \"Year\": 2018, \"Player Origin\": \"Overseas\"}, {\"Player\": \"Sharad Lumba\", \"Role\": \"Batsman\", \"Amount\": 2000000, \"Team\": \"Mumbai Indians\", \"Year\": 2018, \"Player Origin\": \"Indian\"}, {\"Player\": \"Shardul Thakur\", \"Role\": \"Bowler\", \"Amount\": 2000000, \"Team\": \"Kings XI Punjab\", \"Year\": 2014, \"Player Origin\": \"Indian\"}, {\"Player\": \"Shardul Thakur\", \"Role\": \"Bowler\", \"Amount\": 26000000, \"Team\": \"Chennai Super Kings\", \"Year\": 2018, \"Player Origin\": \"Indian\"}, {\"Player\": \"Shardul Thakur\", \"Role\": \"Bowler\", \"Amount\": 107500000, \"Team\": \"Delhi Capitals\", \"Year\": 2022, \"Player Origin\": \"Indian\"}, {\"Player\": \"Shashank Singh\", \"Role\": \"All-Rounder\", \"Amount\": 1000000, \"Team\": \"Delhi Daredevils\", \"Year\": 2017, \"Player Origin\": \"Indian\"}, {\"Player\": \"Shashank Singh\", \"Role\": \"All-Rounder\", \"Amount\": 3000000, \"Team\": \"Rajasthan Royals\", \"Year\": 2019, \"Player Origin\": \"Indian\"}, {\"Player\": \"Shashank Singh\", \"Role\": \"All-Rounder\", \"Amount\": 2000000, \"Team\": \"Sunrisers Hyderabad\", \"Year\": 2022, \"Player Origin\": \"Indian\"}, {\"Player\": \"Shaun Marsh\", \"Role\": \"Batsman\", \"Amount\": 22000000, \"Team\": \"Kings XI Punjab\", \"Year\": 2014, \"Player Origin\": \"Overseas\"}, {\"Player\": \"Sheldon Cottrell\", \"Role\": \"Bowler\", \"Amount\": 85000000, \"Team\": \"Kings XI Punjab\", \"Year\": 2020, \"Player Origin\": \"Overseas\"}, {\"Player\": \"Sheldon Jackson\", \"Role\": \"Batsman\", \"Amount\": 1500000, \"Team\": \"Kolkata Knight Riders\", \"Year\": 2015, \"Player Origin\": \"Indian\"}, {\"Player\": \"Sheldon Jackson\", \"Role\": \"Wicket Keeper\", \"Amount\": 2000000, \"Team\": \"Kolkata Knight Riders\", \"Year\": 2021, \"Player Origin\": \"Indian\"}, {\"Player\": \"Sheldon Jackson\", \"Role\": \"Wicket Keeper\", \"Amount\": 6000000, \"Team\": \"Kolkata Knight Riders\", \"Year\": 2022, \"Player Origin\": \"Indian\"}, {\"Player\": \"Shelley Shaurya\", \"Role\": \"Bowler\", \"Amount\": 1000000, \"Team\": \"Gujarat Lions\", \"Year\": 2017, \"Player Origin\": \"Indian\"}, {\"Player\": \"Sherfane Rutherford\", \"Role\": \"All-Rounder\", \"Amount\": 20000000, \"Team\": \"Delhi Capitals\", \"Year\": 2019, \"Player Origin\": \"Overseas\"}, {\"Player\": \"Sherfane Rutherford\", \"Role\": \"All-Rounder\", \"Amount\": 10000000, \"Team\": \"Royal Challengers Bangalore\", \"Year\": 2022, \"Player Origin\": \"Overseas\"}, {\"Player\": \"Shikhar Dhawan\", \"Role\": \"Batsman\", \"Amount\": 52000000, \"Team\": \"Sunrisers Hyderabad\", \"Year\": 2018, \"Player Origin\": \"Indian\"}, {\"Player\": \"Shikhar Dhawan\", \"Role\": \"Batsman\", \"Amount\": 82500000, \"Team\": \"Punjab Kings\", \"Year\": 2022, \"Player Origin\": \"Indian\"}, {\"Player\": \"Shimron Hetmyer\", \"Role\": \"Batsman\", \"Amount\": 42000000, \"Team\": \"Royal Challengers Bangalore\", \"Year\": 2019, \"Player Origin\": \"Overseas\"}, {\"Player\": \"Shimron Hetmyer\", \"Role\": \"Batsman\", \"Amount\": 77500000, \"Team\": \"Delhi Capitals\", \"Year\": 2020, \"Player Origin\": \"Overseas\"}, {\"Player\": \"Shimron Hetmyer\", \"Role\": \"Batsman\", \"Amount\": 85000000, \"Team\": \"Rajasthan Royals\", \"Year\": 2022, \"Player Origin\": \"Overseas\"}, {\"Player\": \"Shishir Bhavane\", \"Role\": \"Batsman\", \"Amount\": 1000000, \"Team\": \"Royal Challengers Bangalore\", \"Year\": 2015, \"Player Origin\": \"Indian\"}, {\"Player\": \"Shivam Dube\", \"Role\": \"All-Rounder\", \"Amount\": 50000000, \"Team\": \"Royal Challengers Bangalore\", \"Year\": 2019, \"Player Origin\": \"Indian\"}, {\"Player\": \"Shivam Dube\", \"Role\": \"All-Rounder\", \"Amount\": 44000000, \"Team\": \"Rajasthan Royals\", \"Year\": 2021, \"Player Origin\": \"Indian\"}, {\"Player\": \"Shivam Dube\", \"Role\": \"All-Rounder\", \"Amount\": 40000000, \"Team\": \"Chennai Super Kings\", \"Year\": 2022, \"Player Origin\": \"Indian\"}, {\"Player\": \"Shivam Mavi\", \"Role\": \"All-Rounder\", \"Amount\": 30000000, \"Team\": \"Kolkata Knight Riders\", \"Year\": 2018, \"Player Origin\": \"Indian\"}, {\"Player\": \"Shivam Mavi\", \"Role\": \"All-Rounder\", \"Amount\": 72500000, \"Team\": \"Kolkata Knight Riders\", \"Year\": 2022, \"Player Origin\": \"Indian\"}, {\"Player\": \"Shivam Sharma\", \"Role\": \"Bowler\", \"Amount\": 1000000, \"Team\": \"Kings XI Punjab\", \"Year\": 2014, \"Player Origin\": \"Indian\"}, {\"Player\": \"Shivil Kaushik\", \"Role\": \"Bowler\", \"Amount\": 1000000, \"Team\": \"Gujarat Lions\", \"Year\": 2016, \"Player Origin\": \"Indian\"}, {\"Player\": \"Shreevats Goswami\", \"Role\": \"Wicket Keeper\", \"Amount\": 10000000, \"Team\": \"Sunrisers Hyderabad\", \"Year\": 2018, \"Player Origin\": \"Indian\"}, {\"Player\": \"Shreyas Gopal\", \"Role\": \"Bowler\", \"Amount\": 1000000, \"Team\": \"Mumbai Indians\", \"Year\": 2014, \"Player Origin\": \"Indian\"}, {\"Player\": \"Shreyas Gopal\", \"Role\": \"All-Rounder\", \"Amount\": 2000000, \"Team\": \"Rajasthan Royals\", \"Year\": 2018, \"Player Origin\": \"Indian\"}, {\"Player\": \"Shreyas Gopal\", \"Role\": \"Bowler\", \"Amount\": 7500000, \"Team\": \"Sunrisers Hyderabad\", \"Year\": 2022, \"Player Origin\": \"Indian\"}, {\"Player\": \"Shreyas Iyer\", \"Role\": \"Batsman\", \"Amount\": 26000000, \"Team\": \"Delhi Daredevils\", \"Year\": 2015, \"Player Origin\": \"Indian\"}, {\"Player\": \"Shreyas Iyer\", \"Role\": \"Batsman\", \"Amount\": 122500000, \"Team\": \"Kolkata Knight Riders\", \"Year\": 2022, \"Player Origin\": \"Indian\"}, {\"Player\": \"Shrikant Mundhe\", \"Role\": \"All-Rounder\", \"Amount\": 2000000, \"Team\": \"Kolkata Knight Riders\", \"Year\": 2019, \"Player Origin\": \"Indian\"}, {\"Player\": \"Shubam Agrawal\", \"Role\": \"All-Rounder\", \"Amount\": 1000000, \"Team\": \"Gujarat Lions\", \"Year\": 2017, \"Player Origin\": \"Indian\"}, {\"Player\": \"Shubham Garhwal\", \"Role\": \"All-Rounder\", \"Amount\": 2000000, \"Team\": \"Rajasthan Royals\", \"Year\": 2022, \"Player Origin\": \"Indian\"}, {\"Player\": \"Shubham Ranjane\", \"Role\": \"All-Rounder\", \"Amount\": 2000000, \"Team\": \"Rajasthan Royals\", \"Year\": 2019, \"Player Origin\": \"Indian\"}, {\"Player\": \"Shubman Gill\", \"Role\": \"Batsman\", \"Amount\": 18000000, \"Team\": \"Kolkata Knight Riders\", \"Year\": 2018, \"Player Origin\": \"Indian\"}, {\"Player\": \"Siddarth Kaul\", \"Role\": \"Bowler\", \"Amount\": 4500000, \"Team\": \"Delhi Daredevils\", \"Year\": 2014, \"Player Origin\": \"Indian\"}, {\"Player\": \"Siddarth Kaul\", \"Role\": \"Bowler\", \"Amount\": 1000000, \"Team\": \"Sunrisers Hyderabad\", \"Year\": 2015, \"Player Origin\": \"Indian\"}, {\"Player\": \"Siddarth Kaul\", \"Role\": \"Bowler\", \"Amount\": 38000000, \"Team\": \"Sunrisers Hyderabad\", \"Year\": 2018, \"Player Origin\": \"Indian\"}, {\"Player\": \"Siddharth Kaul\", \"Role\": \"Bowler\", \"Amount\": 7500000, \"Team\": \"Royal Challengers Bangalore\", \"Year\": 2022, \"Player Origin\": \"Indian\"}, {\"Player\": \"Siddhesh Dinesh Lad\", \"Role\": \"All-Rounder\", \"Amount\": 1000000, \"Team\": \"Mumbai Indians\", \"Year\": 2015, \"Player Origin\": \"Indian\"}, {\"Player\": \"Siddhesh Dinesh Lad\", \"Role\": \"Batsman\", \"Amount\": 2000000, \"Team\": \"Mumbai Indians\", \"Year\": 2018, \"Player Origin\": \"Indian\"}, {\"Player\": \"Simarjeet Singh\", \"Role\": \"Bowler\", \"Amount\": 2000000, \"Team\": \"Chennai Super Kings\", \"Year\": 2022, \"Player Origin\": \"Indian\"}, {\"Player\": \"Srikkanth Anirudha\", \"Role\": \"Batsman\", \"Amount\": 2000000, \"Team\": \"Sunrisers Hyderabad\", \"Year\": 2014, \"Player Origin\": \"Indian\"}, {\"Player\": \"Steven Smith\", \"Role\": \"All-Rounder\", \"Amount\": 40000000, \"Team\": \"Rajasthan Royals\", \"Year\": 2014, \"Player Origin\": \"Overseas\"}, {\"Player\": \"Steven Smith\", \"Role\": \"Batsman\", \"Amount\": 22000000, \"Team\": \"Delhi Capitals\", \"Year\": 2021, \"Player Origin\": \"Overseas\"}, {\"Player\": \"Stuart Binny\", \"Role\": \"All-Rounder\", \"Amount\": 20000000, \"Team\": \"Royal Challengers Bangalore\", \"Year\": 2016, \"Player Origin\": \"Indian\"}, {\"Player\": \"Stuart Binny\", \"Role\": \"All-Rounder\", \"Amount\": 5000000, \"Team\": \"Rajasthan Royals\", \"Year\": 2018, \"Player Origin\": \"Indian\"}, {\"Player\": \"Subhranshu Senapati\", \"Role\": \"Batsman\", \"Amount\": 2000000, \"Team\": \"Chennai Super Kings\", \"Year\": 2022, \"Player Origin\": \"Indian\"}, {\"Player\": \"Subramaniam Badrinath\", \"Role\": \"Batsman\", \"Amount\": 3000000, \"Team\": \"Royal Challengers Bangalore\", \"Year\": 2015, \"Player Origin\": \"Indian\"}, {\"Player\": \"Sudeep Tyagi\", \"Role\": \"Bowler\", \"Amount\": 7500000, \"Team\": \"Sunrisers Hyderabad\", \"Year\": 2013, \"Player Origin\": \"Indian\"}, {\"Player\": \"Sumit Narwal\", \"Role\": \"All-Rounder\", \"Amount\": 1000000, \"Team\": \"Kolkata Knight Riders\", \"Year\": 2015, \"Player Origin\": \"Indian\"}, {\"Player\": \"Suryakumar Yadav\", \"Role\": \"Batsman\", \"Amount\": 7000000, \"Team\": \"Kolkata Knight Riders\", \"Year\": 2014, \"Player Origin\": \"Indian\"}, {\"Player\": \"Suryakumar Yadav\", \"Role\": \"Batsman\", \"Amount\": 32000000, \"Team\": \"Mumbai Indians\", \"Year\": 2018, \"Player Origin\": \"Indian\"}, {\"Player\": \"Sushant Marathe\", \"Role\": \"Wicket Keeper\", \"Amount\": 1000000, \"Team\": \"Mumbai Indians\", \"Year\": 2014, \"Player Origin\": \"Indian\"}, {\"Player\": \"Suyash Prabhudesai\", \"Role\": \"All-Rounder\", \"Amount\": 2000000, \"Team\": \"Royal Challengers Bangalore\", \"Year\": 2021, \"Player Origin\": \"Indian\"}, {\"Player\": \"Suyash Prabhudessai\", \"Role\": \"All-Rounder\", \"Amount\": 3000000, \"Team\": \"Royal Challengers Bangalore\", \"Year\": 2022, \"Player Origin\": \"Indian\"}, {\"Player\": \"Swapnil Singh\", \"Role\": \"All-Rounder\", \"Amount\": 1000000, \"Team\": \"Kings XI Punjab\", \"Year\": 2016, \"Player Origin\": \"Indian\"}, {\"Player\": \"Syed Khaleel Ahmed\", \"Role\": \"All-Rounder\", \"Amount\": 1000000, \"Team\": \"Delhi Daredevils\", \"Year\": 2016, \"Player Origin\": \"Indian\"}, {\"Player\": \"Syed Khaleel Ahmed\", \"Role\": \"Bowler\", \"Amount\": 30000000, \"Team\": \"Sunrisers Hyderabad\", \"Year\": 2018, \"Player Origin\": \"Indian\"}, {\"Player\": \"Syed Khaleel Ahmed\", \"Role\": \"Bowler\", \"Amount\": 52500000, \"Team\": \"Delhi Capitals\", \"Year\": 2022, \"Player Origin\": \"Indian\"}, {\"Player\": \"Syed Mehdi Hasan\", \"Role\": \"All-Rounder\", \"Amount\": 2000000, \"Team\": \"Sunrisers Hyderabad\", \"Year\": 2018, \"Player Origin\": \"Indian\"}, {\"Player\": \"T Natarajan\", \"Role\": \"Bowler\", \"Amount\": 30000000, \"Team\": \"Kings XI Punjab\", \"Year\": 2017, \"Player Origin\": \"Indian\"}, {\"Player\": \"T Natarajan\", \"Role\": \"Bowler\", \"Amount\": 4000000, \"Team\": \"Sunrisers Hyderabad\", \"Year\": 2018, \"Player Origin\": \"Indian\"}, {\"Player\": \"T. Natarajan\", \"Role\": \"Bowler\", \"Amount\": 40000000, \"Team\": \"Sunrisers Hyderabad\", \"Year\": 2022, \"Player Origin\": \"Indian\"}, {\"Player\": \"Tajinder Dhillon\", \"Role\": \"All-Rounder\", \"Amount\": 5500000, \"Team\": \"Mumbai Indians\", \"Year\": 2018, \"Player Origin\": \"Indian\"}, {\"Player\": \"Tajinder Dhillon\", \"Role\": \"All-Rounder\", \"Amount\": 2000000, \"Team\": \"Kings XI Punjab\", \"Year\": 2020, \"Player Origin\": \"Indian\"}, {\"Player\": \"Tanmay Agarwal\", \"Role\": \"Batsman\", \"Amount\": 1000000, \"Team\": \"Sunrisers Hyderabad\", \"Year\": 2017, \"Player Origin\": \"Indian\"}, {\"Player\": \"Tanmay Agarwal\", \"Role\": \"Batsman\", \"Amount\": 2000000, \"Team\": \"Sunrisers Hyderabad\", \"Year\": 2018, \"Player Origin\": \"Indian\"}, {\"Player\": \"Tanmay Mishra\", \"Role\": \"Batsman\", \"Amount\": 1000000, \"Team\": \"Royal Challengers Bangalore\", \"Year\": 2014, \"Player Origin\": \"Indian\"}, {\"Player\": \"Tejas Baroka\", \"Role\": \"Bowler\", \"Amount\": 2000000, \"Team\": \"Rajasthan Royals\", \"Year\": 2022, \"Player Origin\": \"Indian\"}, {\"Player\": \"Tejas Singh Baroka\", \"Role\": \"Bowler\", \"Amount\": 1000000, \"Team\": \"Gujarat Lions\", \"Year\": 2017, \"Player Origin\": \"Indian\"}, {\"Player\": \"Thisara Perera\", \"Role\": \"All-Rounder\", \"Amount\": 50625000, \"Team\": \"Sunrisers Hyderabad\", \"Year\": 2013, \"Player Origin\": \"Overseas\"}, {\"Player\": \"Thisara Perera\", \"Role\": \"All-Rounder\", \"Amount\": 16000000, \"Team\": \"Kings XI Punjab\", \"Year\": 2014, \"Player Origin\": \"Overseas\"}, {\"Player\": \"Thisara Perera\", \"Role\": \"All-Rounder\", \"Amount\": 10000000, \"Team\": \"Rising Pune Supergiant\", \"Year\": 2016, \"Player Origin\": \"Overseas\"}, {\"Player\": \"Tim David\", \"Role\": \"All-Rounder\", \"Amount\": 82500000, \"Team\": \"Mumbai Indians\", \"Year\": 2022, \"Player Origin\": \"Overseas\"}, {\"Player\": \"Tim Seifert\", \"Role\": \"Wicket Keeper\", \"Amount\": 5000000, \"Team\": \"Delhi Capitals\", \"Year\": 2022, \"Player Origin\": \"Overseas\"}, {\"Player\": \"Tim Southee\", \"Role\": \"Bowler\", \"Amount\": 12000000, \"Team\": \"Rajasthan Royals\", \"Year\": 2014, \"Player Origin\": \"Overseas\"}, {\"Player\": \"Tim Southee\", \"Role\": \"Bowler\", \"Amount\": 25000000, \"Team\": \"Mumbai Indians\", \"Year\": 2016, \"Player Origin\": \"Overseas\"}, {\"Player\": \"Tim Southee\", \"Role\": \"Bowler\", \"Amount\": 10000000, \"Team\": \"Royal Challengers Bangalore\", \"Year\": 2018, \"Player Origin\": \"Overseas\"}, {\"Player\": \"Tim Southee\", \"Role\": \"Bowler\", \"Amount\": 15000000, \"Team\": \"Kolkata Knight Riders\", \"Year\": 2022, \"Player Origin\": \"Overseas\"}, {\"Player\": \"Tirumalasetti Suman\", \"Role\": \"Batsman\", \"Amount\": 1000000, \"Team\": \"Sunrisers Hyderabad\", \"Year\": 2016, \"Player Origin\": \"Indian\"}, {\"Player\": \"Tom Banton\", \"Role\": \"Batsman\", \"Amount\": 10000000, \"Team\": \"Kolkata Knight Riders\", \"Year\": 2020, \"Player Origin\": \"Overseas\"}, {\"Player\": \"Tom Curran\", \"Role\": \"All-Rounder\", \"Amount\": 10000000, \"Team\": \"Rajasthan Royals\", \"Year\": 2020, \"Player Origin\": \"Overseas\"}, {\"Player\": \"Tom Curran\", \"Role\": \"All-Rounder\", \"Amount\": 52500000, \"Team\": \"Delhi Capitals\", \"Year\": 2021, \"Player Origin\": \"Overseas\"}, {\"Player\": \"Travis Head\", \"Role\": \"Batsman\", \"Amount\": 3000000, \"Team\": \"Delhi Daredevils\", \"Year\": 2015, \"Player Origin\": \"Overseas\"}, {\"Player\": \"Travis Head\", \"Role\": \"Batsman\", \"Amount\": 5000000, \"Team\": \"Royal Challengers Bangalore\", \"Year\": 2016, \"Player Origin\": \"Overseas\"}, {\"Player\": \"Trent Boult\", \"Role\": \"Bowler\", \"Amount\": 38000000, \"Team\": \"Sunrisers Hyderabad\", \"Year\": 2015, \"Player Origin\": \"Overseas\"}, {\"Player\": \"Trent Boult\", \"Role\": \"Bowler\", \"Amount\": 50000000, \"Team\": \"Kolkata Knight Riders\", \"Year\": 2017, \"Player Origin\": \"Overseas\"}, {\"Player\": \"Trent Boult\", \"Role\": \"Bowler\", \"Amount\": 22000000, \"Team\": \"Delhi Daredevils\", \"Year\": 2018, \"Player Origin\": \"Overseas\"}, {\"Player\": \"Trent Boult\", \"Role\": \"Bowler\", \"Amount\": 80000000, \"Team\": \"Rajasthan Royals\", \"Year\": 2022, \"Player Origin\": \"Overseas\"}, {\"Player\": \"Tushar Deshpande\", \"Role\": \"Bowler\", \"Amount\": 2000000, \"Team\": \"Delhi Capitals\", \"Year\": 2020, \"Player Origin\": \"Indian\"}, {\"Player\": \"Tushar Deshpande\", \"Role\": \"Bowler\", \"Amount\": 2000000, \"Team\": \"Chennai Super Kings\", \"Year\": 2022, \"Player Origin\": \"Indian\"}, {\"Player\": \"Tymal Mills\", \"Role\": \"Bowler\", \"Amount\": 120000000, \"Team\": \"Royal Challengers Bangalore\", \"Year\": 2017, \"Player Origin\": \"Overseas\"}, {\"Player\": \"Tymal Mills\", \"Role\": \"Bowler\", \"Amount\": 15000000, \"Team\": \"Mumbai Indians\", \"Year\": 2022, \"Player Origin\": \"Overseas\"}, {\"Player\": \"Umang Sharma\", \"Role\": \"Batsman\", \"Amount\": 1000000, \"Team\": \"Gujarat Lions\", \"Year\": 2016, \"Player Origin\": \"Indian\"}, {\"Player\": \"Umesh Yadav\", \"Role\": \"Bowler\", \"Amount\": 26000000, \"Team\": \"Kolkata Knight Riders\", \"Year\": 2014, \"Player Origin\": \"Indian\"}, {\"Player\": \"Umesh Yadav\", \"Role\": \"Bowler\", \"Amount\": 42000000, \"Team\": \"Royal Challengers Bangalore\", \"Year\": 2018, \"Player Origin\": \"Indian\"}, {\"Player\": \"Umesh Yadav\", \"Role\": \"Bowler\", \"Amount\": 10000000, \"Team\": \"Delhi Capitals\", \"Year\": 2021, \"Player Origin\": \"Indian\"}, {\"Player\": \"Umesh Yadav\", \"Role\": \"Bowler\", \"Amount\": 20000000, \"Team\": \"Kolkata Knight Riders\", \"Year\": 2022, \"Player Origin\": \"Indian\"}, {\"Player\": \"Unmukt Chand\", \"Role\": \"Batsman\", \"Amount\": 6500000, \"Team\": \"Rajasthan Royals\", \"Year\": 2014, \"Player Origin\": \"Indian\"}, {\"Player\": \"Utkarsh Singh\", \"Role\": \"All-Rounder\", \"Amount\": 2000000, \"Team\": \"Punjab Kings\", \"Year\": 2021, \"Player Origin\": \"Indian\"}, {\"Player\": \"Vaibhav Arora\", \"Role\": \"Bowler\", \"Amount\": 2000000, \"Team\": \"Kolkata Knight Riders\", \"Year\": 2021, \"Player Origin\": \"Indian\"}, {\"Player\": \"Vaibhav Arora\", \"Role\": \"Bowler\", \"Amount\": 20000000, \"Team\": \"Punjab Kings\", \"Year\": 2022, \"Player Origin\": \"Indian\"}, {\"Player\": \"Vaibhav Rawal\", \"Role\": \"All-Rounder\", \"Amount\": 1000000, \"Team\": \"Kolkata Knight Riders\", \"Year\": 2015, \"Player Origin\": \"Indian\"}, {\"Player\": \"Varun Aaron\", \"Role\": \"Bowler\", \"Amount\": 20000000, \"Team\": \"Royal Challengers Bangalore\", \"Year\": 2014, \"Player Origin\": \"Indian\"}, {\"Player\": \"Varun Aaron\", \"Role\": \"Bowler\", \"Amount\": 28000000, \"Team\": \"Kings XI Punjab\", \"Year\": 2017, \"Player Origin\": \"Indian\"}, {\"Player\": \"Varun Aaron\", \"Role\": \"Bowler\", \"Amount\": 24000000, \"Team\": \"Rajasthan Royals\", \"Year\": 2019, \"Player Origin\": \"Indian\"}, {\"Player\": \"Varun Aaron\", \"Role\": \"Bowler\", \"Amount\": 5000000, \"Team\": \"Gujarat Titans\", \"Year\": 2022, \"Player Origin\": \"Indian\"}, {\"Player\": \"Varun Chakaravarthy\", \"Role\": \"All-Rounder\", \"Amount\": 84000000, \"Team\": \"Kings XI Punjab\", \"Year\": 2019, \"Player Origin\": \"Indian\"}, {\"Player\": \"Varun Chakaravarthy\", \"Role\": \"All-Rounder\", \"Amount\": 40000000, \"Team\": \"Kolkata Knight Riders\", \"Year\": 2020, \"Player Origin\": \"Indian\"}, {\"Player\": \"Veer Pratap Singh\", \"Role\": \"Bowler\", \"Amount\": 4000000, \"Team\": \"Kolkata Knight Riders\", \"Year\": 2014, \"Player Origin\": \"Indian\"}, {\"Player\": \"Venkatesh Iyer\", \"Role\": \"All-Rounder\", \"Amount\": 2000000, \"Team\": \"Kolkata Knight Riders\", \"Year\": 2021, \"Player Origin\": \"Indian\"}, {\"Player\": \"Venugopal Rao\", \"Role\": \"Batsman\", \"Amount\": 5500000, \"Team\": \"Sunrisers Hyderabad\", \"Year\": 2014, \"Player Origin\": \"Indian\"}, {\"Player\": \"Vicky Ostwal\", \"Role\": \"All-Rounder\", \"Amount\": 2000000, \"Team\": \"Delhi Capitals\", \"Year\": 2022, \"Player Origin\": \"Indian\"}, {\"Player\": \"Vijay Shankar\", \"Role\": \"All-Rounder\", \"Amount\": 1000000, \"Team\": \"Chennai Super Kings\", \"Year\": 2014, \"Player Origin\": \"Indian\"}, {\"Player\": \"Vijay Shankar\", \"Role\": \"All-Rounder\", \"Amount\": 3500000, \"Team\": \"Sunrisers Hyderabad\", \"Year\": 2016, \"Player Origin\": \"Indian\"}, {\"Player\": \"Vijay Shankar\", \"Role\": \"All-Rounder\", \"Amount\": 32000000, \"Team\": \"Delhi Daredevils\", \"Year\": 2018, \"Player Origin\": \"Indian\"}, {\"Player\": \"Vijay Shankar\", \"Role\": \"All-Rounder\", \"Amount\": 14000000, \"Team\": \"Gujarat Titans\", \"Year\": 2022, \"Player Origin\": \"Indian\"}, {\"Player\": \"Vijay Zol\", \"Role\": \"Batsman\", \"Amount\": 3000000, \"Team\": \"Royal Challengers Bangalore\", \"Year\": 2014, \"Player Origin\": \"Indian\"}, {\"Player\": \"Vikas Tokas\", \"Role\": \"Bowler\", \"Amount\": 1000000, \"Team\": \"Royal Challengers Bangalore\", \"Year\": 2016, \"Player Origin\": \"Indian\"}, {\"Player\": \"Vikramjeet Malik\", \"Role\": \"Bowler\", \"Amount\": 2000000, \"Team\": \"Rajasthan Royals\", \"Year\": 2014, \"Player Origin\": \"Indian\"}, {\"Player\": \"Vikramjeet Malik\", \"Role\": \"Bowler\", \"Amount\": 2000000, \"Team\": \"Royal Challengers Bangalore\", \"Year\": 2016, \"Player Origin\": \"Indian\"}, {\"Player\": \"Virat Singh\", \"Role\": \"Batsman\", \"Amount\": 19000000, \"Team\": \"Sunrisers Hyderabad\", \"Year\": 2020, \"Player Origin\": \"Indian\"}, {\"Player\": \"Virender Sehwag\", \"Role\": \"Batsman\", \"Amount\": 32000000, \"Team\": \"Kings XI Punjab\", \"Year\": 2014, \"Player Origin\": \"Indian\"}, {\"Player\": \"Vishnu Vinod\", \"Role\": \"Wicket Keeper\", \"Amount\": 2000000, \"Team\": \"Delhi Capitals\", \"Year\": 2021, \"Player Origin\": \"Indian\"}, {\"Player\": \"Vishnu Vinod\", \"Role\": \"Wicket Keeper\", \"Amount\": 5000000, \"Team\": \"Sunrisers Hyderabad\", \"Year\": 2022, \"Player Origin\": \"Indian\"}, {\"Player\": \"Wanindu Hasaranga\", \"Role\": \"All-Rounder\", \"Amount\": 107500000, \"Team\": \"Royal Challengers Bangalore\", \"Year\": 2022, \"Player Origin\": \"Overseas\"}, {\"Player\": \"Washington Sundar\", \"Role\": \"All-Rounder\", \"Amount\": 87500000, \"Team\": \"Sunrisers Hyderabad\", \"Year\": 2022, \"Player Origin\": \"Indian\"}, {\"Player\": \"Wayne Parnell\", \"Role\": \"Bowler\", \"Amount\": 10000000, \"Team\": \"Delhi Daredevils\", \"Year\": 2014, \"Player Origin\": \"Overseas\"}, {\"Player\": \"Wriddhiman Saha\", \"Role\": \"Wicket Keeper\", \"Amount\": 22000000, \"Team\": \"Kings XI Punjab\", \"Year\": 2014, \"Player Origin\": \"Indian\"}, {\"Player\": \"Wriddhiman Saha\", \"Role\": \"Wicket Keeper\", \"Amount\": 50000000, \"Team\": \"Sunrisers Hyderabad\", \"Year\": 2018, \"Player Origin\": \"Indian\"}, {\"Player\": \"Wriddhiman Saha\", \"Role\": \"Wicket Keeper\", \"Amount\": 12000000, \"Team\": \"Sunrisers Hyderabad\", \"Year\": 2019, \"Player Origin\": \"Indian\"}, {\"Player\": \"Wriddhiman Saha\", \"Role\": \"Wicket Keeper\", \"Amount\": 19000000, \"Team\": \"Gujarat Titans\", \"Year\": 2022, \"Player Origin\": \"Indian\"}, {\"Player\": \"Writtick Chatterjee\", \"Role\": \"All-Rounder\", \"Amount\": 2000000, \"Team\": \"Punjab Kings\", \"Year\": 2022, \"Player Origin\": \"Indian\"}, {\"Player\": \"Yash Dayal\", \"Role\": \"Bowler\", \"Amount\": 32000000, \"Team\": \"Gujarat Titans\", \"Year\": 2022, \"Player Origin\": \"Indian\"}, {\"Player\": \"Yash Dhull\", \"Role\": \"All-Rounder\", \"Amount\": 5000000, \"Team\": \"Delhi Capitals\", \"Year\": 2022, \"Player Origin\": \"Indian\"}, {\"Player\": \"Yashasvi Jaiswal\", \"Role\": \"All-Rounder\", \"Amount\": 24000000, \"Team\": \"Rajasthan Royals\", \"Year\": 2020, \"Player Origin\": \"Indian\"}, {\"Player\": \"Yogesh Gowalkar\", \"Role\": \"All-Rounder\", \"Amount\": 1000000, \"Team\": \"Kings XI Punjab\", \"Year\": 2015, \"Player Origin\": \"Indian\"}, {\"Player\": \"Yogesh Takawale\", \"Role\": \"Wicket Keeper\", \"Amount\": 1000000, \"Team\": \"Royal Challengers Bangalore\", \"Year\": 2014, \"Player Origin\": \"Indian\"}, {\"Player\": \"Yudhvir Charak\", \"Role\": \"All-Rounder\", \"Amount\": 2000000, \"Team\": \"Mumbai Indians\", \"Year\": 2021, \"Player Origin\": \"Indian\"}, {\"Player\": \"Yusuf Pathan\", \"Role\": \"All-Rounder\", \"Amount\": 32500000, \"Team\": \"Kolkata Knight Riders\", \"Year\": 2014, \"Player Origin\": \"Indian\"}, {\"Player\": \"Yusuf Pathan\", \"Role\": \"All-Rounder\", \"Amount\": 19000000, \"Team\": \"Sunrisers Hyderabad\", \"Year\": 2018, \"Player Origin\": \"Indian\"}, {\"Player\": \"Yuvraj Singh\", \"Role\": \"All-Rounder\", \"Amount\": 140000000, \"Team\": \"Royal Challengers Bangalore\", \"Year\": 2014, \"Player Origin\": \"Indian\"}, {\"Player\": \"Yuvraj Singh\", \"Role\": \"Batsman\", \"Amount\": 160000000, \"Team\": \"Delhi Daredevils\", \"Year\": 2015, \"Player Origin\": \"Indian\"}, {\"Player\": \"Yuvraj Singh\", \"Role\": \"All-Rounder\", \"Amount\": 70000000, \"Team\": \"Sunrisers Hyderabad\", \"Year\": 2016, \"Player Origin\": \"Indian\"}, {\"Player\": \"Yuvraj Singh\", \"Role\": \"All-Rounder\", \"Amount\": 20000000, \"Team\": \"Kings XI Punjab\", \"Year\": 2018, \"Player Origin\": \"Indian\"}, {\"Player\": \"Yuvraj Singh\", \"Role\": \"All-Rounder\", \"Amount\": 10000000, \"Team\": \"Mumbai Indians\", \"Year\": 2019, \"Player Origin\": \"Indian\"}, {\"Player\": \"Yuzvendra Chahal\", \"Role\": \"Bowler\", \"Amount\": 65000000, \"Team\": \"Rajasthan Royals\", \"Year\": 2022, \"Player Origin\": \"Indian\"}, {\"Player\": \"Yuzvendra Singh Chahal\", \"Role\": \"Bowler\", \"Amount\": 1000000, \"Team\": \"Royal Challengers Bangalore\", \"Year\": 2014, \"Player Origin\": \"Indian\"}, {\"Player\": \"Yuzvendra Singh Chahal\", \"Role\": \"Bowler\", \"Amount\": 60000000, \"Team\": \"Royal Challengers Bangalore\", \"Year\": 2018, \"Player Origin\": \"Indian\"}, {\"Player\": \"Zaheer Khan\", \"Role\": \"Bowler\", \"Amount\": 26000000, \"Team\": \"Mumbai Indians\", \"Year\": 2014, \"Player Origin\": \"Indian\"}, {\"Player\": \"Zaheer Khan\", \"Role\": \"Bowler\", \"Amount\": 40000000, \"Team\": \"Delhi Daredevils\", \"Year\": 2015, \"Player Origin\": \"Indian\"}, {\"Player\": \"Zahir Khan Pakteen\", \"Role\": \"Bowler\", \"Amount\": 6000000, \"Team\": \"Rajasthan Royals\", \"Year\": 2018, \"Player Origin\": \"Indian\"}]}}, {\"mode\": \"vega-lite\"});\n",
       "</script>"
      ],
      "text/plain": [
       "alt.Chart(...)"
      ]
     },
     "execution_count": 4,
     "metadata": {},
     "output_type": "execute_result"
    }
   ],
   "source": [
    "# Scatterplot\n",
    "scatter = alt.Chart(auction).mark_circle(size=100).encode(\n",
    "    x=alt.X('Year:O', title='Auction Year'),\n",
    "    y=alt.Y('Amount:Q', title='Amount (INR)'),\n",
    "    color='Team:N',\n",
    "    tooltip=['Player:N', 'Role:N', 'Amount:Q', 'Team:N', 'Player Origin:N']\n",
    ").properties(\n",
    "    width=700,\n",
    "    height=500,\n",
    "    title='Auction Player Prices Over Years '\n",
    ").interactive()\n",
    "\n",
    "scatter\n"
   ]
  },
  {
   "cell_type": "code",
   "execution_count": 5,
   "metadata": {},
   "outputs": [
    {
     "name": "stderr",
     "output_type": "stream",
     "text": [
      "c:\\Users\\VARUN\\anaconda3\\Lib\\site-packages\\altair\\utils\\core.py:395: FutureWarning: the convert_dtype parameter is deprecated and will be removed in a future version.  Do ``ser.astype(object).apply()`` instead if you want ``convert_dtype=False``.\n",
      "  col = df[col_name].apply(to_list_if_array, convert_dtype=False)\n"
     ]
    },
    {
     "data": {
      "text/html": [
       "\n",
       "<style>\n",
       "  #altair-viz-29541e78c137403288ad2f617dd47e10.vega-embed {\n",
       "    width: 100%;\n",
       "    display: flex;\n",
       "  }\n",
       "\n",
       "  #altair-viz-29541e78c137403288ad2f617dd47e10.vega-embed details,\n",
       "  #altair-viz-29541e78c137403288ad2f617dd47e10.vega-embed details summary {\n",
       "    position: relative;\n",
       "  }\n",
       "</style>\n",
       "<div id=\"altair-viz-29541e78c137403288ad2f617dd47e10\"></div>\n",
       "<script type=\"text/javascript\">\n",
       "  var VEGA_DEBUG = (typeof VEGA_DEBUG == \"undefined\") ? {} : VEGA_DEBUG;\n",
       "  (function(spec, embedOpt){\n",
       "    let outputDiv = document.currentScript.previousElementSibling;\n",
       "    if (outputDiv.id !== \"altair-viz-29541e78c137403288ad2f617dd47e10\") {\n",
       "      outputDiv = document.getElementById(\"altair-viz-29541e78c137403288ad2f617dd47e10\");\n",
       "    }\n",
       "    const paths = {\n",
       "      \"vega\": \"https://cdn.jsdelivr.net/npm/vega@5?noext\",\n",
       "      \"vega-lib\": \"https://cdn.jsdelivr.net/npm/vega-lib?noext\",\n",
       "      \"vega-lite\": \"https://cdn.jsdelivr.net/npm/vega-lite@5.8.0?noext\",\n",
       "      \"vega-embed\": \"https://cdn.jsdelivr.net/npm/vega-embed@6?noext\",\n",
       "    };\n",
       "\n",
       "    function maybeLoadScript(lib, version) {\n",
       "      var key = `${lib.replace(\"-\", \"\")}_version`;\n",
       "      return (VEGA_DEBUG[key] == version) ?\n",
       "        Promise.resolve(paths[lib]) :\n",
       "        new Promise(function(resolve, reject) {\n",
       "          var s = document.createElement('script');\n",
       "          document.getElementsByTagName(\"head\")[0].appendChild(s);\n",
       "          s.async = true;\n",
       "          s.onload = () => {\n",
       "            VEGA_DEBUG[key] = version;\n",
       "            return resolve(paths[lib]);\n",
       "          };\n",
       "          s.onerror = () => reject(`Error loading script: ${paths[lib]}`);\n",
       "          s.src = paths[lib];\n",
       "        });\n",
       "    }\n",
       "\n",
       "    function showError(err) {\n",
       "      outputDiv.innerHTML = `<div class=\"error\" style=\"color:red;\">${err}</div>`;\n",
       "      throw err;\n",
       "    }\n",
       "\n",
       "    function displayChart(vegaEmbed) {\n",
       "      vegaEmbed(outputDiv, spec, embedOpt)\n",
       "        .catch(err => showError(`Javascript Error: ${err.message}<br>This usually means there's a typo in your chart specification. See the javascript console for the full traceback.`));\n",
       "    }\n",
       "\n",
       "    if(typeof define === \"function\" && define.amd) {\n",
       "      requirejs.config({paths});\n",
       "      require([\"vega-embed\"], displayChart, err => showError(`Error loading script: ${err.message}`));\n",
       "    } else {\n",
       "      maybeLoadScript(\"vega\", \"5\")\n",
       "        .then(() => maybeLoadScript(\"vega-lite\", \"5.8.0\"))\n",
       "        .then(() => maybeLoadScript(\"vega-embed\", \"6\"))\n",
       "        .catch(showError)\n",
       "        .then(() => displayChart(vegaEmbed));\n",
       "    }\n",
       "  })({\"config\": {\"view\": {\"continuousWidth\": 300, \"continuousHeight\": 300}}, \"data\": {\"name\": \"data-f9d47abef3f254121c403b972c5c4fe2\"}, \"mark\": {\"type\": \"bar\"}, \"encoding\": {\"color\": {\"field\": \"Player\", \"type\": \"nominal\"}, \"tooltip\": [{\"field\": \"Player\", \"type\": \"nominal\"}, {\"field\": \"Amount\", \"type\": \"quantitative\"}, {\"field\": \"Year\", \"type\": \"ordinal\"}], \"x\": {\"field\": \"Amount\", \"title\": \"Auction Amount (INR)\", \"type\": \"quantitative\"}, \"y\": {\"field\": \"Player\", \"sort\": \"-x\", \"title\": \"Player\", \"type\": \"nominal\"}}, \"height\": 400, \"params\": [{\"name\": \"YearSelector\", \"bind\": {\"input\": \"range\", \"max\": 2022, \"min\": 2013, \"step\": 1}, \"value\": 2013}], \"title\": \"Top Paid Players per Year (Interactive Slider)\", \"transform\": [{\"filter\": \"(datum.Year === YearSelector)\"}], \"width\": 700, \"$schema\": \"https://vega.github.io/schema/vega-lite/v5.8.0.json\", \"datasets\": {\"data-f9d47abef3f254121c403b972c5c4fe2\": [{\"Year\": 2021, \"Player\": \"Christopher Morris\", \"Amount\": 162500000}, {\"Year\": 2015, \"Player\": \"Yuvraj Singh\", \"Amount\": 160000000}, {\"Year\": 2020, \"Player\": \"Pat Cummins\", \"Amount\": 155000000}, {\"Year\": 2022, \"Player\": \"Ishan Kishan\", \"Amount\": 152500000}, {\"Year\": 2021, \"Player\": \"Kyle Jamieson\", \"Amount\": 150000000}, {\"Year\": 2017, \"Player\": \"Benjamin Stokes\", \"Amount\": 145000000}, {\"Year\": 2021, \"Player\": \"Glenn Maxwell\", \"Amount\": 142500000}, {\"Year\": 2022, \"Player\": \"Deepak Chahar\", \"Amount\": 140000000}, {\"Year\": 2014, \"Player\": \"Yuvraj Singh\", \"Amount\": 140000000}, {\"Year\": 2021, \"Player\": \"Jhye Richardson\", \"Amount\": 140000000}, {\"Year\": 2014, \"Player\": \"Dinesh Karthik\", \"Amount\": 125000000}, {\"Year\": 2018, \"Player\": \"Benjamin Stokes\", \"Amount\": 125000000}, {\"Year\": 2022, \"Player\": \"Shreyas Iyer\", \"Amount\": 122500000}, {\"Year\": 2017, \"Player\": \"Tymal Mills\", \"Amount\": 120000000}, {\"Year\": 2018, \"Player\": \"Jaydev Unadkat\", \"Amount\": 115000000}, {\"Year\": 2022, \"Player\": \"Liam Livingstone\", \"Amount\": 115000000}, {\"Year\": 2018, \"Player\": \"Manish Pandey\", \"Amount\": 110000000}, {\"Year\": 2018, \"Player\": \"KL Rahul\", \"Amount\": 110000000}, {\"Year\": 2022, \"Player\": \"Harshal Patel\", \"Amount\": 107500000}, {\"Year\": 2022, \"Player\": \"Wanindu Hasaranga\", \"Amount\": 107500000}, {\"Year\": 2022, \"Player\": \"Nicolas Pooran\", \"Amount\": 107500000}, {\"Year\": 2020, \"Player\": \"Glenn Maxwell\", \"Amount\": 107500000}, {\"Year\": 2022, \"Player\": \"Shardul Thakur\", \"Amount\": 107500000}, {\"Year\": 2015, \"Player\": \"Dinesh Karthik\", \"Amount\": 105000000}, {\"Year\": 2022, \"Player\": \"Lockie Ferguson\", \"Amount\": 100000000}, {\"Year\": 2020, \"Player\": \"Christopher Morris\", \"Amount\": 100000000}, {\"Year\": 2022, \"Player\": \"Avesh Khan\", \"Amount\": 100000000}, {\"Year\": 2018, \"Player\": \"Chris Lynn\", \"Amount\": 96000000}, {\"Year\": 2016, \"Player\": \"Shane Watson\", \"Amount\": 95000000}, {\"Year\": 2018, \"Player\": \"Mitchell Starc\", \"Amount\": 94000000}, {\"Year\": 2021, \"Player\": \"Krishnappa Gowtham\", \"Amount\": 92500000}, {\"Year\": 2018, \"Player\": \"Rashid Khan Arman\", \"Amount\": 90000000}, {\"Year\": 2018, \"Player\": \"Glenn Maxwell\", \"Amount\": 90000000}, {\"Year\": 2014, \"Player\": \"Kevin Pietersen\", \"Amount\": 90000000}, {\"Year\": 2018, \"Player\": \"Krunal Pandya\", \"Amount\": 88000000}, {\"Year\": 2016, \"Player\": \"Pawan Negi\", \"Amount\": 85000000}, {\"Year\": 2020, \"Player\": \"Sheldon Cottrell\", \"Amount\": 85000000}, {\"Year\": 2019, \"Player\": \"Jaydev Unadkat\", \"Amount\": 84000000}, {\"Year\": 2019, \"Player\": \"Varun Chakaravarthy\", \"Amount\": 84000000}, {\"Year\": 2018, \"Player\": \"Sanju Samson\", \"Amount\": 80000000}, {\"Year\": 2020, \"Player\": \"Nathan Coulter-Nile\", \"Amount\": 80000000}, {\"Year\": 2021, \"Player\": \"Riley Meredith\", \"Amount\": 80000000}, {\"Year\": 2020, \"Player\": \"Shimron Hetmyer\", \"Amount\": 77500000}, {\"Year\": 2015, \"Player\": \"Angelo Mathews\", \"Amount\": 75000000}, {\"Year\": 2013, \"Player\": \"Glenn Maxwell\", \"Amount\": 75000000}, {\"Year\": 2019, \"Player\": \"Sam Curran\", \"Amount\": 72000000}, {\"Year\": 2016, \"Player\": \"Yuvraj Singh\", \"Amount\": 70000000}, {\"Year\": 2016, \"Player\": \"Christopher Morris\", \"Amount\": 70000000}, {\"Year\": 2021, \"Player\": \"Moeen Ali\", \"Amount\": 70000000}, {\"Year\": 2020, \"Player\": \"Piyush Chawla\", \"Amount\": 67500000}, {\"Year\": 2016, \"Player\": \"Mohit Sharma\", \"Amount\": 65000000}, {\"Year\": 2014, \"Player\": \"Mitchell Johnson\", \"Amount\": 65000000}, {\"Year\": 2019, \"Player\": \"Colin Ingram\", \"Amount\": 64000000}, {\"Year\": 2014, \"Player\": \"Glenn Maxwell\", \"Amount\": 60000000}, {\"Year\": 2014, \"Player\": \"David Warner\", \"Amount\": 55000000}, {\"Year\": 2016, \"Player\": \"Ashish Nehra\", \"Amount\": 55000000}, {\"Year\": 2014, \"Player\": \"Jacques Kallis\", \"Amount\": 55000000}, {\"Year\": 2020, \"Player\": \"Sam Curran\", \"Amount\": 55000000}, {\"Year\": 2013, \"Player\": \"Ajantha Mendis\", \"Amount\": 54375000}, {\"Year\": 2020, \"Player\": \"Eoin Morgan\", \"Amount\": 52500000}, {\"Year\": 2021, \"Player\": \"Shahrukh Khan\", \"Amount\": 52500000}, {\"Year\": 2021, \"Player\": \"Tom Curran\", \"Amount\": 52500000}, {\"Year\": 2013, \"Player\": \"Kane Richardson\", \"Amount\": 52500000}, {\"Year\": 2013, \"Player\": \"Abhishek Nayar\", \"Amount\": 50625000}, {\"Year\": 2013, \"Player\": \"Thisara Perera\", \"Amount\": 50625000}, {\"Year\": 2014, \"Player\": \"Robin Uthappa\", \"Amount\": 50000000}, {\"Year\": 2014, \"Player\": \"Mitchell Starc\", \"Amount\": 50000000}, {\"Year\": 2021, \"Player\": \"Nathan Coulter-Nile\", \"Amount\": 50000000}, {\"Year\": 2019, \"Player\": \"Shivam Dube\", \"Amount\": 50000000}, {\"Year\": 2017, \"Player\": \"Trent Boult\", \"Amount\": 50000000}, {\"Year\": 2014, \"Player\": \"Murali Vijay\", \"Amount\": 50000000}, {\"Year\": 2019, \"Player\": \"Mohit Sharma\", \"Amount\": 50000000}, {\"Year\": 2019, \"Player\": \"Carlos Brathwaite\", \"Amount\": 50000000}, {\"Year\": 2017, \"Player\": \"Kagiso Rabada\", \"Amount\": 50000000}, {\"Year\": 2019, \"Player\": \"Axar Rajesh Patel\", \"Amount\": 50000000}, {\"Year\": 2019, \"Player\": \"Mohammad Shami\", \"Amount\": 48000000}, {\"Year\": 2016, \"Player\": \"Mitchell Marsh\", \"Amount\": 48000000}, {\"Year\": 2019, \"Player\": \"Prabhsimran Singh\", \"Amount\": 48000000}, {\"Year\": 2020, \"Player\": \"Marcus Stoinis\", \"Amount\": 48000000}, {\"Year\": 2013, \"Player\": \"Sachithra Senanayaka\", \"Amount\": 46875000}, {\"Year\": 2013, \"Player\": \"Christopher Morris\", \"Amount\": 46875000}, {\"Year\": 2016, \"Player\": \"M. Ashwin\", \"Amount\": 45000000}, {\"Year\": 2017, \"Player\": \"Pat Cummins\", \"Amount\": 45000000}, {\"Year\": 2013, \"Player\": \"Dirk Nannes\", \"Amount\": 45000000}, {\"Year\": 2016, \"Player\": \"Deepak Hooda\", \"Amount\": 42000000}, {\"Year\": 2016, \"Player\": \"Sanju Samson\", \"Amount\": 42000000}, {\"Year\": 2017, \"Player\": \"Chris Woakes\", \"Amount\": 42000000}, {\"Year\": 2015, \"Player\": \"Zaheer Khan\", \"Amount\": 40000000}, {\"Year\": 2017, \"Player\": \"Rashid Khan Arman\", \"Amount\": 40000000}, {\"Year\": 2013, \"Player\": \"Jaydev Unadkat\", \"Amount\": 39375000}, {\"Year\": 2015, \"Player\": \"Trent Boult\", \"Amount\": 38000000}, {\"Year\": 2013, \"Player\": \"Manpreet Gony\", \"Amount\": 37500000}, {\"Year\": 2015, \"Player\": \"Amit Mishra\", \"Amount\": 35000000}, {\"Year\": 2017, \"Player\": \"Nathan Coulter-Nile\", \"Amount\": 35000000}, {\"Year\": 2015, \"Player\": \"Aaron Finch\", \"Amount\": 32000000}, {\"Year\": 2017, \"Player\": \"Karn Sharma\", \"Amount\": 32000000}, {\"Year\": 2017, \"Player\": \"T Natarajan\", \"Amount\": 30000000}, {\"Year\": 2015, \"Player\": \"Murali Vijay\", \"Amount\": 30000000}, {\"Year\": 2015, \"Player\": \"David Wiese\", \"Amount\": 28000000}, {\"Year\": 2015, \"Player\": \"Darren Sammy\", \"Amount\": 28000000}]}}, {\"mode\": \"vega-lite\"});\n",
       "</script>"
      ],
      "text/plain": [
       "alt.Chart(...)"
      ]
     },
     "execution_count": 5,
     "metadata": {},
     "output_type": "execute_result"
    }
   ],
   "source": [
    "\n",
    "\n",
    "# Clean\n",
    "auction = auction.dropna(subset=['Year'])\n",
    "auction['Year'] = auction['Year'].astype(int)\n",
    "\n",
    "# Group\n",
    "race = auction.groupby(['Year', 'Player'], as_index=False)['Amount'].sum()\n",
    "\n",
    "# Get top N players per year\n",
    "def top_per_year(df, n=10):\n",
    "    return df.sort_values('Amount', ascending=False).groupby('Year').head(n)\n",
    "\n",
    "race = top_per_year(race)\n",
    "\n",
    "# Create selection parameter for animation\n",
    "year_slider = alt.binding_range(min=race['Year'].min(), max=race['Year'].max(), step=1)\n",
    "year_select = alt.param(name='YearSelector', bind=year_slider, value=race['Year'].min())\n",
    "\n",
    "# Race Chart\n",
    "race_chart = alt.Chart(race).transform_filter(\n",
    "    alt.datum.Year == year_select\n",
    ").mark_bar().encode(\n",
    "    x=alt.X('Amount:Q', title='Auction Amount (INR)'),\n",
    "    y=alt.Y('Player:N', sort='-x', title='Player'),\n",
    "    color='Player:N',\n",
    "    tooltip=['Player:N', 'Amount:Q', 'Year:O']\n",
    ").add_params(\n",
    "    year_select\n",
    ").properties(\n",
    "    width=700,\n",
    "    height=400,\n",
    "    title=\"Top Paid Players per Year (Interactive Slider)\"\n",
    ")\n",
    "\n",
    "race_chart\n"
   ]
  },
  {
   "cell_type": "code",
   "execution_count": 25,
   "metadata": {},
   "outputs": [
    {
     "name": "stderr",
     "output_type": "stream",
     "text": [
      "c:\\Users\\VARUN\\anaconda3\\Lib\\site-packages\\altair\\utils\\core.py:395: FutureWarning:\n",
      "\n",
      "the convert_dtype parameter is deprecated and will be removed in a future version.  Do ``ser.astype(object).apply()`` instead if you want ``convert_dtype=False``.\n",
      "\n",
      "c:\\Users\\VARUN\\anaconda3\\Lib\\site-packages\\altair\\utils\\core.py:395: FutureWarning:\n",
      "\n",
      "the convert_dtype parameter is deprecated and will be removed in a future version.  Do ``ser.astype(object).apply()`` instead if you want ``convert_dtype=False``.\n",
      "\n",
      "c:\\Users\\VARUN\\anaconda3\\Lib\\site-packages\\altair\\utils\\core.py:395: FutureWarning:\n",
      "\n",
      "the convert_dtype parameter is deprecated and will be removed in a future version.  Do ``ser.astype(object).apply()`` instead if you want ``convert_dtype=False``.\n",
      "\n",
      "c:\\Users\\VARUN\\anaconda3\\Lib\\site-packages\\altair\\utils\\core.py:395: FutureWarning:\n",
      "\n",
      "the convert_dtype parameter is deprecated and will be removed in a future version.  Do ``ser.astype(object).apply()`` instead if you want ``convert_dtype=False``.\n",
      "\n",
      "c:\\Users\\VARUN\\anaconda3\\Lib\\site-packages\\altair\\utils\\core.py:395: FutureWarning:\n",
      "\n",
      "the convert_dtype parameter is deprecated and will be removed in a future version.  Do ``ser.astype(object).apply()`` instead if you want ``convert_dtype=False``.\n",
      "\n",
      "c:\\Users\\VARUN\\anaconda3\\Lib\\site-packages\\altair\\utils\\core.py:395: FutureWarning:\n",
      "\n",
      "the convert_dtype parameter is deprecated and will be removed in a future version.  Do ``ser.astype(object).apply()`` instead if you want ``convert_dtype=False``.\n",
      "\n"
     ]
    },
    {
     "data": {
      "text/html": [
       "\n",
       "<style>\n",
       "  #altair-viz-f457bfa9dbe84c949dccce50217021f3.vega-embed {\n",
       "    width: 100%;\n",
       "    display: flex;\n",
       "  }\n",
       "\n",
       "  #altair-viz-f457bfa9dbe84c949dccce50217021f3.vega-embed details,\n",
       "  #altair-viz-f457bfa9dbe84c949dccce50217021f3.vega-embed details summary {\n",
       "    position: relative;\n",
       "  }\n",
       "</style>\n",
       "<div id=\"altair-viz-f457bfa9dbe84c949dccce50217021f3\"></div>\n",
       "<script type=\"text/javascript\">\n",
       "  var VEGA_DEBUG = (typeof VEGA_DEBUG == \"undefined\") ? {} : VEGA_DEBUG;\n",
       "  (function(spec, embedOpt){\n",
       "    let outputDiv = document.currentScript.previousElementSibling;\n",
       "    if (outputDiv.id !== \"altair-viz-f457bfa9dbe84c949dccce50217021f3\") {\n",
       "      outputDiv = document.getElementById(\"altair-viz-f457bfa9dbe84c949dccce50217021f3\");\n",
       "    }\n",
       "    const paths = {\n",
       "      \"vega\": \"https://cdn.jsdelivr.net/npm/vega@5?noext\",\n",
       "      \"vega-lib\": \"https://cdn.jsdelivr.net/npm/vega-lib?noext\",\n",
       "      \"vega-lite\": \"https://cdn.jsdelivr.net/npm/vega-lite@5.8.0?noext\",\n",
       "      \"vega-embed\": \"https://cdn.jsdelivr.net/npm/vega-embed@6?noext\",\n",
       "    };\n",
       "\n",
       "    function maybeLoadScript(lib, version) {\n",
       "      var key = `${lib.replace(\"-\", \"\")}_version`;\n",
       "      return (VEGA_DEBUG[key] == version) ?\n",
       "        Promise.resolve(paths[lib]) :\n",
       "        new Promise(function(resolve, reject) {\n",
       "          var s = document.createElement('script');\n",
       "          document.getElementsByTagName(\"head\")[0].appendChild(s);\n",
       "          s.async = true;\n",
       "          s.onload = () => {\n",
       "            VEGA_DEBUG[key] = version;\n",
       "            return resolve(paths[lib]);\n",
       "          };\n",
       "          s.onerror = () => reject(`Error loading script: ${paths[lib]}`);\n",
       "          s.src = paths[lib];\n",
       "        });\n",
       "    }\n",
       "\n",
       "    function showError(err) {\n",
       "      outputDiv.innerHTML = `<div class=\"error\" style=\"color:red;\">${err}</div>`;\n",
       "      throw err;\n",
       "    }\n",
       "\n",
       "    function displayChart(vegaEmbed) {\n",
       "      vegaEmbed(outputDiv, spec, embedOpt)\n",
       "        .catch(err => showError(`Javascript Error: ${err.message}<br>This usually means there's a typo in your chart specification. See the javascript console for the full traceback.`));\n",
       "    }\n",
       "\n",
       "    if(typeof define === \"function\" && define.amd) {\n",
       "      requirejs.config({paths});\n",
       "      require([\"vega-embed\"], displayChart, err => showError(`Error loading script: ${err.message}`));\n",
       "    } else {\n",
       "      maybeLoadScript(\"vega\", \"5\")\n",
       "        .then(() => maybeLoadScript(\"vega-lite\", \"5.8.0\"))\n",
       "        .then(() => maybeLoadScript(\"vega-embed\", \"6\"))\n",
       "        .catch(showError)\n",
       "        .then(() => displayChart(vegaEmbed));\n",
       "    }\n",
       "  })({\"config\": {\"view\": {\"continuousWidth\": 300, \"continuousHeight\": 300}, \"title\": {\"anchor\": \"start\", \"color\": \"black\", \"font\": \"Arial\", \"fontSize\": 24}}, \"vconcat\": [{\"data\": {\"name\": \"data-6a8c40975bcc8f0a37c165d5e7fe9d13\"}, \"mark\": {\"type\": \"bar\", \"size\": 25}, \"encoding\": {\"color\": {\"condition\": {\"param\": \"param_7\", \"field\": \"Team\", \"type\": \"nominal\"}, \"value\": \"lightgray\"}, \"tooltip\": [{\"field\": \"Team\", \"type\": \"nominal\"}, {\"field\": \"Amount\", \"type\": \"quantitative\"}], \"x\": {\"field\": \"Amount\", \"title\": \"Total Auction Amount (INR)\", \"type\": \"quantitative\"}, \"y\": {\"field\": \"Team\", \"sort\": \"-x\", \"title\": \"Teams\", \"type\": \"nominal\"}}, \"height\": 450, \"name\": \"view_2\", \"title\": \"\\ud83d\\udcb0 Total Auction Spending by Teams (Hover to Highlight)\", \"width\": 700}, {\"data\": {\"name\": \"data-1314721d68ad6dab2a63af27b0aebece\"}, \"mark\": {\"type\": \"circle\", \"size\": 90}, \"encoding\": {\"color\": {\"field\": \"Team\", \"type\": \"nominal\"}, \"size\": {\"field\": \"Amount\", \"scale\": {\"range\": [20, 500]}, \"type\": \"quantitative\"}, \"tooltip\": [{\"field\": \"Player\", \"type\": \"nominal\"}, {\"field\": \"Amount\", \"type\": \"quantitative\"}, {\"field\": \"Team\", \"type\": \"nominal\"}, {\"field\": \"Role\", \"type\": \"nominal\"}, {\"field\": \"Player Origin\", \"type\": \"nominal\"}], \"x\": {\"field\": \"Year\", \"title\": \"Auction Year\", \"type\": \"ordinal\"}, \"y\": {\"field\": \"Amount\", \"title\": \"Auction Amount (INR)\", \"type\": \"quantitative\"}}, \"height\": 450, \"name\": \"view_3\", \"title\": \"\\ud83c\\udfaf Player Auction Prices Over the Years\", \"width\": 700}, {\"data\": {\"name\": \"data-f9d47abef3f254121c403b972c5c4fe2\"}, \"mark\": {\"type\": \"bar\"}, \"encoding\": {\"color\": {\"field\": \"Player\", \"type\": \"nominal\"}, \"tooltip\": [{\"field\": \"Player\", \"type\": \"nominal\"}, {\"field\": \"Amount\", \"type\": \"quantitative\"}, {\"field\": \"Year\", \"type\": \"ordinal\"}], \"x\": {\"field\": \"Amount\", \"title\": \"Auction Amount (INR)\", \"type\": \"quantitative\"}, \"y\": {\"field\": \"Player\", \"sort\": \"-x\", \"title\": \"Player\", \"type\": \"nominal\"}}, \"height\": 400, \"title\": \"\\ud83c\\udfce\\ufe0f Top Paid Players Each Year (Use Slider to Change Year)\", \"transform\": [{\"filter\": \"(datum.Year === YearSelector)\"}], \"width\": 700}], \"params\": [{\"name\": \"param_7\", \"select\": {\"type\": \"point\", \"fields\": [\"Team\"], \"nearest\": true, \"on\": \"mouseover\"}, \"views\": [\"view_2\"]}, {\"name\": \"param_8\", \"select\": {\"type\": \"interval\", \"encodings\": [\"x\", \"y\"]}, \"bind\": \"scales\", \"views\": [\"view_3\"]}, {\"name\": \"YearSelector\", \"bind\": {\"input\": \"range\", \"max\": 2022, \"min\": 2013, \"step\": 1}, \"value\": 2013}], \"resolve\": {\"legend\": {\"color\": \"independent\", \"size\": \"independent\"}}, \"$schema\": \"https://vega.github.io/schema/vega-lite/v5.8.0.json\", \"datasets\": {\"data-6a8c40975bcc8f0a37c165d5e7fe9d13\": [{\"Team\": \"Chennai Super Kings\", \"Amount\": 1570875000}, {\"Team\": \"Delhi Capitals\", \"Amount\": 953000000}, {\"Team\": \"Delhi Daredevils\", \"Amount\": 1945500000}, {\"Team\": \"Gujarat Lions\", \"Amount\": 205000000}, {\"Team\": \"Gujarat Titans\", \"Amount\": 518500000}, {\"Team\": \"Kings XI Punjab\", \"Amount\": 1947000000}, {\"Team\": \"Kolkata Knight Riders\", \"Amount\": 2165125000}, {\"Team\": \"Lucknow Super Giants\", \"Amount\": 590000000}, {\"Team\": \"Mumbai Indians\", \"Amount\": 1870000000}, {\"Team\": \"Pune Warriors India\", \"Amount\": 187500000}, {\"Team\": \"Punjab Kings\", \"Amount\": 1029500000}, {\"Team\": \"Rajasthan Royals\", \"Amount\": 2028250000}, {\"Team\": \"Rising Pune Supergiant\", \"Amount\": 390000000}, {\"Team\": \"Royal Challengers Bangalore\", \"Amount\": 2709625000}, {\"Team\": \"Sunrisers Hyderabad\", \"Amount\": 2311000000}], \"data-1314721d68ad6dab2a63af27b0aebece\": [{\"Player\": \"Aaron Finch\", \"Role\": \"Batsman\", \"Amount\": 40000000, \"Team\": \"Sunrisers Hyderabad\", \"Year\": 2014, \"Player Origin\": \"Overseas\"}, {\"Player\": \"Aaron Finch\", \"Role\": \"Batsman\", \"Amount\": 32000000, \"Team\": \"Mumbai Indians\", \"Year\": 2015, \"Player Origin\": \"Overseas\"}, {\"Player\": \"Aaron Finch\", \"Role\": \"Batsman\", \"Amount\": 10000000, \"Team\": \"Gujarat Lions\", \"Year\": 2016, \"Player Origin\": \"Overseas\"}, {\"Player\": \"Aaron Finch\", \"Role\": \"Batsman\", \"Amount\": 62000000, \"Team\": \"Kings XI Punjab\", \"Year\": 2018, \"Player Origin\": \"Overseas\"}, {\"Player\": \"Aaron Finch\", \"Role\": \"Batsman\", \"Amount\": 44000000, \"Team\": \"Royal Challengers Bangalore\", \"Year\": 2020, \"Player Origin\": \"Overseas\"}, {\"Player\": \"Abdul Samad\", \"Role\": \"All-Rounder\", \"Amount\": 2000000, \"Team\": \"Sunrisers Hyderabad\", \"Year\": 2020, \"Player Origin\": \"Indian\"}, {\"Player\": \"Abhijeet Tomar\", \"Role\": \"Batsman\", \"Amount\": 4000000, \"Team\": \"Kolkata Knight Riders\", \"Year\": 2022, \"Player Origin\": \"Indian\"}, {\"Player\": \"Abhimanyu Mithun\", \"Role\": \"Bowler\", \"Amount\": 3000000, \"Team\": \"Mumbai Indians\", \"Year\": 2015, \"Player Origin\": \"Indian\"}, {\"Player\": \"Abhimanyu Mithun\", \"Role\": \"Bowler\", \"Amount\": 3000000, \"Team\": \"Sunrisers Hyderabad\", \"Year\": 2016, \"Player Origin\": \"Indian\"}, {\"Player\": \"Abhinav Sadarangani\", \"Role\": \"Batsman\", \"Amount\": 26000000, \"Team\": \"Gujarat Titans\", \"Year\": 2022, \"Player Origin\": \"Indian\"}, {\"Player\": \"Abhishek Nayar\", \"Role\": \"All-Rounder\", \"Amount\": 50625000, \"Team\": \"Pune Warriors India\", \"Year\": 2013, \"Player Origin\": \"Indian\"}, {\"Player\": \"Abhishek Nayar\", \"Role\": \"All-Rounder\", \"Amount\": 10000000, \"Team\": \"Rajasthan Royals\", \"Year\": 2014, \"Player Origin\": \"Indian\"}, {\"Player\": \"Abhishek Sharma\", \"Role\": \"All-Rounder\", \"Amount\": 5500000, \"Team\": \"Delhi Daredevils\", \"Year\": 2018, \"Player Origin\": \"Indian\"}, {\"Player\": \"Abhishek Sharma\", \"Role\": \"All-Rounder\", \"Amount\": 65000000, \"Team\": \"Sunrisers Hyderabad\", \"Year\": 2022, \"Player Origin\": \"Indian\"}, {\"Player\": \"Abu Nechim Ahmed\", \"Role\": \"Bowler\", \"Amount\": 3000000, \"Team\": \"Royal Challengers Bangalore\", \"Year\": 2014, \"Player Origin\": \"Indian\"}, {\"Player\": \"Adam Milne\", \"Role\": \"Bowler\", \"Amount\": 7000000, \"Team\": \"Royal Challengers Bangalore\", \"Year\": 2015, \"Player Origin\": \"Overseas\"}, {\"Player\": \"Adam Milne\", \"Role\": \"Bowler\", \"Amount\": 32000000, \"Team\": \"Mumbai Indians\", \"Year\": 2021, \"Player Origin\": \"Overseas\"}, {\"Player\": \"Adam Milne\", \"Role\": \"Bowler\", \"Amount\": 19000000, \"Team\": \"Chennai Super Kings\", \"Year\": 2022, \"Player Origin\": \"Overseas\"}, {\"Player\": \"Adam Zampa\", \"Role\": \"Bowler\", \"Amount\": 3000000, \"Team\": \"Rising Pune Supergiant\", \"Year\": 2016, \"Player Origin\": \"Overseas\"}, {\"Player\": \"Aditya Garhwal\", \"Role\": \"All-Rounder\", \"Amount\": 2500000, \"Team\": \"Kolkata Knight Riders\", \"Year\": 2015, \"Player Origin\": \"Indian\"}, {\"Player\": \"Aditya Tare\", \"Role\": \"Wicket Keeper\", \"Amount\": 16000000, \"Team\": \"Mumbai Indians\", \"Year\": 2014, \"Player Origin\": \"Indian\"}, {\"Player\": \"Aditya Tare\", \"Role\": \"Wicket Keeper\", \"Amount\": 12000000, \"Team\": \"Sunrisers Hyderabad\", \"Year\": 2016, \"Player Origin\": \"Indian\"}, {\"Player\": \"Aditya Tare\", \"Role\": \"Wicket Keeper\", \"Amount\": 2500000, \"Team\": \"Delhi Daredevils\", \"Year\": 2017, \"Player Origin\": \"Indian\"}, {\"Player\": \"Aditya Tare\", \"Role\": \"Wicket Keeper\", \"Amount\": 2000000, \"Team\": \"Mumbai Indians\", \"Year\": 2018, \"Player Origin\": \"Indian\"}, {\"Player\": \"Agnivesh Ayachi\", \"Role\": \"All-Rounder\", \"Amount\": 2000000, \"Team\": \"Kings XI Punjab\", \"Year\": 2019, \"Player Origin\": \"Indian\"}, {\"Player\": \"Aiden Blizzard\", \"Role\": \"Batsman\", \"Amount\": 3000000, \"Team\": \"Mumbai Indians\", \"Year\": 2015, \"Player Origin\": \"Overseas\"}, {\"Player\": \"Aiden Markram\", \"Role\": \"Batsman\", \"Amount\": 26000000, \"Team\": \"Sunrisers Hyderabad\", \"Year\": 2022, \"Player Origin\": \"Overseas\"}, {\"Player\": \"Ajantha Mendis\", \"Role\": \"Bowler\", \"Amount\": 54375000, \"Team\": \"Pune Warriors India\", \"Year\": 2013, \"Player Origin\": \"Overseas\"}, {\"Player\": \"Ajinkya Rahane\", \"Role\": \"Batsman\", \"Amount\": 40000000, \"Team\": \"Rajasthan Royals\", \"Year\": 2018, \"Player Origin\": \"Indian\"}, {\"Player\": \"Ajinkya Rahane\", \"Role\": \"Batsman\", \"Amount\": 10000000, \"Team\": \"Kolkata Knight Riders\", \"Year\": 2022, \"Player Origin\": \"Indian\"}, {\"Player\": \"Akash Deep\", \"Role\": \"Bowler\", \"Amount\": 2000000, \"Team\": \"Royal Challengers Bangalore\", \"Year\": 2022, \"Player Origin\": \"Indian\"}, {\"Player\": \"Akash Singh\", \"Role\": \"Bowler\", \"Amount\": 2000000, \"Team\": \"Rajasthan Royals\", \"Year\": 2020, \"Player Origin\": \"Indian\"}, {\"Player\": \"Akash Singh\", \"Role\": \"Bowler\", \"Amount\": 2000000, \"Team\": \"Rajasthan Royals\", \"Year\": 2021, \"Player Origin\": \"Indian\"}, {\"Player\": \"Akhil Arvind Herwadkar\", \"Role\": \"All-Rounder\", \"Amount\": 1000000, \"Team\": \"Delhi Daredevils\", \"Year\": 2016, \"Player Origin\": \"Indian\"}, {\"Player\": \"Akila Dananjaya\", \"Role\": \"All-Rounder\", \"Amount\": 1500000, \"Team\": \"Chennai Super Kings\", \"Year\": 2013, \"Player Origin\": \"Overseas\"}, {\"Player\": \"Akila Dhananjaya\", \"Role\": \"Bowler\", \"Amount\": 5000000, \"Team\": \"Mumbai Indians\", \"Year\": 2018, \"Player Origin\": \"Overseas\"}, {\"Player\": \"Akshar Rajesh Patel\", \"Role\": \"All-Rounder\", \"Amount\": 7500000, \"Team\": \"Kings XI Punjab\", \"Year\": 2014, \"Player Origin\": \"Indian\"}, {\"Player\": \"Akshay Karnewar\", \"Role\": \"All-Rounder\", \"Amount\": 1000000, \"Team\": \"Royal Challengers Bangalore\", \"Year\": 2016, \"Player Origin\": \"Indian\"}, {\"Player\": \"Akshay Wakhare\", \"Role\": \"Bowler\", \"Amount\": 1000000, \"Team\": \"Mumbai Indians\", \"Year\": 2015, \"Player Origin\": \"Indian\"}, {\"Player\": \"Akshdeep Nath\", \"Role\": \"All-Rounder\", \"Amount\": 1000000, \"Team\": \"Gujarat Lions\", \"Year\": 2016, \"Player Origin\": \"Indian\"}, {\"Player\": \"Akshdeep Nath\", \"Role\": \"All-Rounder\", \"Amount\": 1000000, \"Team\": \"Gujarat Lions\", \"Year\": 2017, \"Player Origin\": \"Indian\"}, {\"Player\": \"Akshdeep Nath\", \"Role\": \"All-Rounder\", \"Amount\": 10000000, \"Team\": \"Kings XI Punjab\", \"Year\": 2018, \"Player Origin\": \"Indian\"}, {\"Player\": \"Akshdeep Nath\", \"Role\": \"All-Rounder\", \"Amount\": 36000000, \"Team\": \"Royal Challengers Bangalore\", \"Year\": 2019, \"Player Origin\": \"Indian\"}, {\"Player\": \"Albie Morkel\", \"Role\": \"All-Rounder\", \"Amount\": 24000000, \"Team\": \"Royal Challengers Bangalore\", \"Year\": 2014, \"Player Origin\": \"Overseas\"}, {\"Player\": \"Albie Morkel\", \"Role\": \"All-Rounder\", \"Amount\": 3000000, \"Team\": \"Delhi Daredevils\", \"Year\": 2015, \"Player Origin\": \"Overseas\"}, {\"Player\": \"Alex Carey\", \"Role\": \"Wicket Keeper\", \"Amount\": 24000000, \"Team\": \"Delhi Capitals\", \"Year\": 2020, \"Player Origin\": \"Overseas\"}, {\"Player\": \"Alex Hales\", \"Role\": \"Batsman\", \"Amount\": 15000000, \"Team\": \"Kolkata Knight Riders\", \"Year\": 2022, \"Player Origin\": \"Overseas\"}, {\"Player\": \"Alzarri Joseph\", \"Role\": \"Bowler\", \"Amount\": 24000000, \"Team\": \"Gujarat Titans\", \"Year\": 2022, \"Player Origin\": \"Overseas\"}, {\"Player\": \"Aman Khan\", \"Role\": \"All-Rounder\", \"Amount\": 2000000, \"Team\": \"Kolkata Knight Riders\", \"Year\": 2022, \"Player Origin\": \"Indian\"}, {\"Player\": \"Ambati Rayudu\", \"Role\": \"Wicket Keeper\", \"Amount\": 22000000, \"Team\": \"Chennai Super Kings\", \"Year\": 2018, \"Player Origin\": \"Indian\"}, {\"Player\": \"Ambati Rayudu\", \"Role\": \"Wicket Keeper\", \"Amount\": 67500000, \"Team\": \"Chennai Super Kings\", \"Year\": 2022, \"Player Origin\": \"Indian\"}, {\"Player\": \"Amit Mishra\", \"Role\": \"Bowler\", \"Amount\": 1000000, \"Team\": \"Rajasthan Royals\", \"Year\": 2014, \"Player Origin\": \"Indian\"}, {\"Player\": \"Amit Mishra\", \"Role\": \"Bowler\", \"Amount\": 47500000, \"Team\": \"Sunrisers Hyderabad\", \"Year\": 2014, \"Player Origin\": \"Indian\"}, {\"Player\": \"Amit Mishra\", \"Role\": \"Bowler\", \"Amount\": 35000000, \"Team\": \"Delhi Daredevils\", \"Year\": 2015, \"Player Origin\": \"Indian\"}, {\"Player\": \"Amit Mishra\", \"Role\": \"Bowler\", \"Amount\": 1000000, \"Team\": \"Gujarat Lions\", \"Year\": 2016, \"Player Origin\": \"Indian\"}, {\"Player\": \"Amit Mishra\", \"Role\": \"Bowler\", \"Amount\": 40000000, \"Team\": \"Delhi Daredevils\", \"Year\": 2018, \"Player Origin\": \"Indian\"}, {\"Player\": \"Amit Paunikar\", \"Role\": \"Wicket Keeper\", \"Amount\": 2000000, \"Team\": \"Sunrisers Hyderabad\", \"Year\": 2014, \"Player Origin\": \"Indian\"}, {\"Player\": \"Andre Russell\", \"Role\": \"All-Rounder\", \"Amount\": 6000000, \"Team\": \"Kolkata Knight Riders\", \"Year\": 2014, \"Player Origin\": \"Overseas\"}, {\"Player\": \"Andrew Tye\", \"Role\": \"Bowler\", \"Amount\": 2000000, \"Team\": \"Chennai Super Kings\", \"Year\": 2015, \"Player Origin\": \"Overseas\"}, {\"Player\": \"Andrew Tye\", \"Role\": \"All-Rounder\", \"Amount\": 5000000, \"Team\": \"Gujarat Lions\", \"Year\": 2016, \"Player Origin\": \"Overseas\"}, {\"Player\": \"Andrew Tye\", \"Role\": \"Bowler\", \"Amount\": 72000000, \"Team\": \"Kings XI Punjab\", \"Year\": 2018, \"Player Origin\": \"Overseas\"}, {\"Player\": \"Andrew Tye\", \"Role\": \"Bowler\", \"Amount\": 10000000, \"Team\": \"Rajasthan Royals\", \"Year\": 2020, \"Player Origin\": \"Overseas\"}, {\"Player\": \"Aneeshwar Gautam\", \"Role\": \"All-Rounder\", \"Amount\": 2000000, \"Team\": \"Royal Challengers Bangalore\", \"Year\": 2022, \"Player Origin\": \"Indian\"}, {\"Player\": \"Angelo Mathews\", \"Role\": \"All-Rounder\", \"Amount\": 75000000, \"Team\": \"Delhi Daredevils\", \"Year\": 2015, \"Player Origin\": \"Overseas\"}, {\"Player\": \"Angelo Mathews\", \"Role\": \"All-Rounder\", \"Amount\": 20000000, \"Team\": \"Delhi Daredevils\", \"Year\": 2017, \"Player Origin\": \"Overseas\"}, {\"Player\": \"Aniket Choudhary\", \"Role\": \"Bowler\", \"Amount\": 20000000, \"Team\": \"Royal Challengers Bangalore\", \"Year\": 2017, \"Player Origin\": \"Indian\"}, {\"Player\": \"Aniket Choudhary\", \"Role\": \"Bowler\", \"Amount\": 3000000, \"Team\": \"Royal Challengers Bangalore\", \"Year\": 2018, \"Player Origin\": \"Indian\"}, {\"Player\": \"Anirudha Ashok Joshi\", \"Role\": \"All-Rounder\", \"Amount\": 2000000, \"Team\": \"Royal Challengers Bangalore\", \"Year\": 2018, \"Player Origin\": \"Indian\"}, {\"Player\": \"Anirudha Ashok Joshi\", \"Role\": \"All-Rounder\", \"Amount\": 2000000, \"Team\": \"Rajasthan Royals\", \"Year\": 2020, \"Player Origin\": \"Indian\"}, {\"Player\": \"Ankeet Bawane\", \"Role\": \"Batsman\", \"Amount\": 1000000, \"Team\": \"Delhi Daredevils\", \"Year\": 2017, \"Player Origin\": \"Indian\"}, {\"Player\": \"Ankit Nagendra Sharma\", \"Role\": \"Bowler\", \"Amount\": 1000000, \"Team\": \"Rajasthan Royals\", \"Year\": 2014, \"Player Origin\": \"Indian\"}, {\"Player\": \"Ankit Sharma\", \"Role\": \"All-Rounder\", \"Amount\": 1000000, \"Team\": \"Rising Pune Supergiant\", \"Year\": 2016, \"Player Origin\": \"Indian\"}, {\"Player\": \"Ankit Sharma\", \"Role\": \"All-Rounder\", \"Amount\": 2000000, \"Team\": \"Rajasthan Royals\", \"Year\": 2018, \"Player Origin\": \"Indian\"}, {\"Player\": \"Ankit Singh Rajpoot\", \"Role\": \"Bowler\", \"Amount\": 15000000, \"Team\": \"Kolkata Knight Riders\", \"Year\": 2016, \"Player Origin\": \"Indian\"}, {\"Player\": \"Ankit Singh Rajpoot\", \"Role\": \"Bowler\", \"Amount\": 30000000, \"Team\": \"Kings XI Punjab\", \"Year\": 2018, \"Player Origin\": \"Indian\"}, {\"Player\": \"Ankit Singh Rajpoot\", \"Role\": \"Bowler\", \"Amount\": 5000000, \"Team\": \"Lucknow Super Giants\", \"Year\": 2022, \"Player Origin\": \"Indian\"}, {\"Player\": \"Ankush Bains\", \"Role\": \"Wicket Keeper\", \"Amount\": 1000000, \"Team\": \"Rajasthan Royals\", \"Year\": 2014, \"Player Origin\": \"Indian\"}, {\"Player\": \"Ankush Bains\", \"Role\": \"Wicket Keeper\", \"Amount\": 1000000, \"Team\": \"Chennai Super Kings\", \"Year\": 2015, \"Player Origin\": \"Indian\"}, {\"Player\": \"Ankush Bains\", \"Role\": \"Wicket Keeper\", \"Amount\": 1000000, \"Team\": \"Rising Pune Supergiant\", \"Year\": 2016, \"Player Origin\": \"Indian\"}, {\"Player\": \"Ankush Bains\", \"Role\": \"Wicket Keeper\", \"Amount\": 2000000, \"Team\": \"Delhi Capitals\", \"Year\": 2019, \"Player Origin\": \"Indian\"}, {\"Player\": \"Anmolpreet Singh\", \"Role\": \"Batsman\", \"Amount\": 8000000, \"Team\": \"Mumbai Indians\", \"Year\": 2019, \"Player Origin\": \"Indian\"}, {\"Player\": \"Anmolpreet Singh\", \"Role\": \"Batsman\", \"Amount\": 2000000, \"Team\": \"Mumbai Indians\", \"Year\": 2022, \"Player Origin\": \"Indian\"}, {\"Player\": \"Anrich Nortje\", \"Role\": \"Bowler\", \"Amount\": 2000000, \"Team\": \"Kolkata Knight Riders\", \"Year\": 2019, \"Player Origin\": \"Overseas\"}, {\"Player\": \"Ansh Patel\", \"Role\": \"All-Rounder\", \"Amount\": 2000000, \"Team\": \"Punjab Kings\", \"Year\": 2022, \"Player Origin\": \"Indian\"}, {\"Player\": \"Anuj Rawat\", \"Role\": \"Wicket Keeper\", \"Amount\": 8000000, \"Team\": \"Rajasthan Royals\", \"Year\": 2020, \"Player Origin\": \"Indian\"}, {\"Player\": \"Anuj Rawat\", \"Role\": \"Wicket Keeper\", \"Amount\": 34000000, \"Team\": \"Royal Challengers Bangalore\", \"Year\": 2022, \"Player Origin\": \"Indian\"}, {\"Player\": \"Anukul Roy\", \"Role\": \"All-Rounder\", \"Amount\": 2000000, \"Team\": \"Mumbai Indians\", \"Year\": 2018, \"Player Origin\": \"Indian\"}, {\"Player\": \"Anukul Roy\", \"Role\": \"All-Rounder\", \"Amount\": 2000000, \"Team\": \"Kolkata Knight Riders\", \"Year\": 2022, \"Player Origin\": \"Indian\"}, {\"Player\": \"Anunay Singh\", \"Role\": \"All-Rounder\", \"Amount\": 2000000, \"Team\": \"Rajasthan Royals\", \"Year\": 2022, \"Player Origin\": \"Indian\"}, {\"Player\": \"Anureet Singh\", \"Role\": \"Bowler\", \"Amount\": 2000000, \"Team\": \"Kings XI Punjab\", \"Year\": 2014, \"Player Origin\": \"Indian\"}, {\"Player\": \"Anureet Singh\", \"Role\": \"Bowler\", \"Amount\": 3000000, \"Team\": \"Rajasthan Royals\", \"Year\": 2018, \"Player Origin\": \"Indian\"}, {\"Player\": \"Apoorv Vijay Wankhade\", \"Role\": \"Batsman\", \"Amount\": 1000000, \"Team\": \"Mumbai Indians\", \"Year\": 2014, \"Player Origin\": \"Indian\"}, {\"Player\": \"Apoorv Vijay Wankhade\", \"Role\": \"Batsman\", \"Amount\": 2000000, \"Team\": \"Kolkata Knight Riders\", \"Year\": 2018, \"Player Origin\": \"Indian\"}, {\"Player\": \"Arjun Tendulkar\", \"Role\": \"All-Rounder\", \"Amount\": 2000000, \"Team\": \"Mumbai Indians\", \"Year\": 2021, \"Player Origin\": \"Indian\"}, {\"Player\": \"Arjun Tendulkar\", \"Role\": \"All-Rounder\", \"Amount\": 3000000, \"Team\": \"Mumbai Indians\", \"Year\": 2022, \"Player Origin\": \"Indian\"}, {\"Player\": \"Armaan Jaffer\", \"Role\": \"Batsman\", \"Amount\": 1000000, \"Team\": \"Kings XI Punjab\", \"Year\": 2016, \"Player Origin\": \"Indian\"}, {\"Player\": \"Arshdeep Singh\", \"Role\": \"Bowler\", \"Amount\": 2000000, \"Team\": \"Kings XI Punjab\", \"Year\": 2019, \"Player Origin\": \"Indian\"}, {\"Player\": \"Aryaman Vikram Birla\", \"Role\": \"All-Rounder\", \"Amount\": 3000000, \"Team\": \"Rajasthan Royals\", \"Year\": 2018, \"Player Origin\": \"Indian\"}, {\"Player\": \"Aryan Juyal\", \"Role\": \"Wicket Keeper\", \"Amount\": 2000000, \"Team\": \"Mumbai Indians\", \"Year\": 2022, \"Player Origin\": \"Indian\"}, {\"Player\": \"Asela Gunarathna\", \"Role\": \"Batsman\", \"Amount\": 3000000, \"Team\": \"Mumbai Indians\", \"Year\": 2017, \"Player Origin\": \"Overseas\"}, {\"Player\": \"Ashish Nehra\", \"Role\": \"Bowler\", \"Amount\": 20000000, \"Team\": \"Chennai Super Kings\", \"Year\": 2014, \"Player Origin\": \"Indian\"}, {\"Player\": \"Ashish Nehra\", \"Role\": \"Bowler\", \"Amount\": 55000000, \"Team\": \"Sunrisers Hyderabad\", \"Year\": 2016, \"Player Origin\": \"Indian\"}, {\"Player\": \"Ashish Reddy\", \"Role\": \"Bowler\", \"Amount\": 2000000, \"Team\": \"Sunrisers Hyderabad\", \"Year\": 2014, \"Player Origin\": \"Indian\"}, {\"Player\": \"Ashok Dinda\", \"Role\": \"Bowler\", \"Amount\": 15000000, \"Team\": \"Royal Challengers Bangalore\", \"Year\": 2014, \"Player Origin\": \"Indian\"}, {\"Player\": \"Ashok Dinda\", \"Role\": \"Bowler\", \"Amount\": 5000000, \"Team\": \"Rising Pune Supergiant\", \"Year\": 2016, \"Player Origin\": \"Indian\"}, {\"Player\": \"Ashok Sharma\", \"Role\": \"Bowler\", \"Amount\": 5500000, \"Team\": \"Kolkata Knight Riders\", \"Year\": 2022, \"Player Origin\": \"Indian\"}, {\"Player\": \"Ashton Turner\", \"Role\": \"All-Rounder\", \"Amount\": 5000000, \"Team\": \"Rajasthan Royals\", \"Year\": 2019, \"Player Origin\": \"Indian\"}, {\"Player\": \"Ashwin Hebbar\", \"Role\": \"Batsman\", \"Amount\": 2000000, \"Team\": \"Delhi Capitals\", \"Year\": 2022, \"Player Origin\": \"Indian\"}, {\"Player\": \"Asif K M\", \"Role\": \"Bowler\", \"Amount\": 4000000, \"Team\": \"Chennai Super Kings\", \"Year\": 2018, \"Player Origin\": \"Indian\"}, {\"Player\": \"Atharva Taide\", \"Role\": \"All-Rounder\", \"Amount\": 2000000, \"Team\": \"Punjab Kings\", \"Year\": 2022, \"Player Origin\": \"Indian\"}, {\"Player\": \"Avesh Khan\", \"Role\": \"Bowler\", \"Amount\": 7000000, \"Team\": \"Delhi Daredevils\", \"Year\": 2018, \"Player Origin\": \"Indian\"}, {\"Player\": \"Avesh Khan\", \"Role\": \"Bowler\", \"Amount\": 100000000, \"Team\": \"Lucknow Super Giants\", \"Year\": 2022, \"Player Origin\": \"Indian\"}, {\"Player\": \"Axar Rajesh Patel\", \"Role\": \"All-Rounder\", \"Amount\": 50000000, \"Team\": \"Delhi Capitals\", \"Year\": 2019, \"Player Origin\": \"Indian\"}, {\"Player\": \"Ayush Badoni\", \"Role\": \"All-Rounder\", \"Amount\": 2000000, \"Team\": \"Lucknow Super Giants\", \"Year\": 2022, \"Player Origin\": \"Indian\"}, {\"Player\": \"B. Sai Sudharsan\", \"Role\": \"All-Rounder\", \"Amount\": 2000000, \"Team\": \"Gujarat Titans\", \"Year\": 2022, \"Player Origin\": \"Indian\"}, {\"Player\": \"Baba Aparajith\", \"Role\": \"Batsman\", \"Amount\": 1000000, \"Team\": \"Chennai Super Kings\", \"Year\": 2014, \"Player Origin\": \"Indian\"}, {\"Player\": \"Baba Aparajith\", \"Role\": \"All-Rounder\", \"Amount\": 1000000, \"Team\": \"Rising Pune Supergiant\", \"Year\": 2016, \"Player Origin\": \"Indian\"}, {\"Player\": \"Baba Indrajith\", \"Role\": \"Wicket Keeper\", \"Amount\": 2000000, \"Team\": \"Kolkata Knight Riders\", \"Year\": 2022, \"Player Origin\": \"Indian\"}, {\"Player\": \"Baltej Dhanda\", \"Role\": \"Bowler\", \"Amount\": 2000000, \"Team\": \"Punjab Kings\", \"Year\": 2022, \"Player Origin\": \"Indian\"}, {\"Player\": \"Bandaru Ayyappa\", \"Role\": \"Bowler\", \"Amount\": 2000000, \"Team\": \"Delhi Capitals\", \"Year\": 2019, \"Player Origin\": \"Indian\"}, {\"Player\": \"Barinder Singh Saran\", \"Role\": \"Bowler\", \"Amount\": 1000000, \"Team\": \"Rajasthan Royals\", \"Year\": 2015, \"Player Origin\": \"Indian\"}, {\"Player\": \"Barinder Singh Sran\", \"Role\": \"Bowler\", \"Amount\": 12000000, \"Team\": \"Sunrisers Hyderabad\", \"Year\": 2016, \"Player Origin\": \"Indian\"}, {\"Player\": \"Barinder Singh Sran\", \"Role\": \"Bowler\", \"Amount\": 22000000, \"Team\": \"Kings XI Punjab\", \"Year\": 2018, \"Player Origin\": \"Indian\"}, {\"Player\": \"Barinder Singh Sran\", \"Role\": \"Bowler\", \"Amount\": 34000000, \"Team\": \"Mumbai Indians\", \"Year\": 2019, \"Player Origin\": \"Indian\"}, {\"Player\": \"Basil Thampi\", \"Role\": \"Bowler\", \"Amount\": 8500000, \"Team\": \"Gujarat Lions\", \"Year\": 2017, \"Player Origin\": \"Indian\"}, {\"Player\": \"Basil Thampi\", \"Role\": \"Bowler\", \"Amount\": 9500000, \"Team\": \"Sunrisers Hyderabad\", \"Year\": 2018, \"Player Origin\": \"Indian\"}, {\"Player\": \"Basil Thampi\", \"Role\": \"Bowler\", \"Amount\": 3000000, \"Team\": \"Mumbai Indians\", \"Year\": 2022, \"Player Origin\": \"Indian\"}, {\"Player\": \"Ben Cutting\", \"Role\": \"Bowler\", \"Amount\": 8000000, \"Team\": \"Rajasthan Royals\", \"Year\": 2014, \"Player Origin\": \"Overseas\"}, {\"Player\": \"Ben Cutting\", \"Role\": \"All-Rounder\", \"Amount\": 5000000, \"Team\": \"Sunrisers Hyderabad\", \"Year\": 2016, \"Player Origin\": \"Overseas\"}, {\"Player\": \"Ben Cutting\", \"Role\": \"All-Rounder\", \"Amount\": 22000000, \"Team\": \"Mumbai Indians\", \"Year\": 2018, \"Player Origin\": \"Overseas\"}, {\"Player\": \"Ben Cutting\", \"Role\": \"All-Rounder\", \"Amount\": 7500000, \"Team\": \"Kolkata Knight Riders\", \"Year\": 2021, \"Player Origin\": \"Overseas\"}, {\"Player\": \"Ben Dunk\", \"Role\": \"Wicket Keeper\", \"Amount\": 2000000, \"Team\": \"Mumbai Indians\", \"Year\": 2014, \"Player Origin\": \"Overseas\"}, {\"Player\": \"Ben Dwarshuis\", \"Role\": \"Bowler\", \"Amount\": 14000000, \"Team\": \"Kings XI Punjab\", \"Year\": 2018, \"Player Origin\": \"Overseas\"}, {\"Player\": \"Ben Hilfenhaus\", \"Role\": \"Bowler\", \"Amount\": 10000000, \"Team\": \"Chennai Super Kings\", \"Year\": 2014, \"Player Origin\": \"Overseas\"}, {\"Player\": \"Ben Laughlin\", \"Role\": \"Bowler\", \"Amount\": 1500000, \"Team\": \"Chennai Super Kings\", \"Year\": 2013, \"Player Origin\": \"Overseas\"}, {\"Player\": \"Ben Laughlin\", \"Role\": \"Bowler\", \"Amount\": 3000000, \"Team\": \"Sunrisers Hyderabad\", \"Year\": 2017, \"Player Origin\": \"Overseas\"}, {\"Player\": \"Ben Laughlin\", \"Role\": \"Bowler\", \"Amount\": 5000000, \"Team\": \"Rajasthan Royals\", \"Year\": 2018, \"Player Origin\": \"Overseas\"}, {\"Player\": \"Benjamin Stokes\", \"Role\": \"All-Rounder\", \"Amount\": 145000000, \"Team\": \"Rising Pune Supergiant\", \"Year\": 2017, \"Player Origin\": \"Overseas\"}, {\"Player\": \"Benjamin Stokes\", \"Role\": \"All-Rounder\", \"Amount\": 125000000, \"Team\": \"Rajasthan Royals\", \"Year\": 2018, \"Player Origin\": \"Overseas\"}, {\"Player\": \"Benny Howell\", \"Role\": \"All-Rounder\", \"Amount\": 4000000, \"Team\": \"Punjab Kings\", \"Year\": 2022, \"Player Origin\": \"Overseas\"}, {\"Player\": \"Beuran Hendricks\", \"Role\": \"Bowler\", \"Amount\": 18000000, \"Team\": \"Kings XI Punjab\", \"Year\": 2014, \"Player Origin\": \"Overseas\"}, {\"Player\": \"Bhanuka Rajapaksa\", \"Role\": \"Batsman\", \"Amount\": 5000000, \"Team\": \"Punjab Kings\", \"Year\": 2022, \"Player Origin\": \"Overseas\"}, {\"Player\": \"Bhuvneshwar Kumar\", \"Role\": \"Bowler\", \"Amount\": 42500000, \"Team\": \"Sunrisers Hyderabad\", \"Year\": 2014, \"Player Origin\": \"Overseas\"}, {\"Player\": \"Bhuvneshwar Kumar\", \"Role\": \"Bowler\", \"Amount\": 42000000, \"Team\": \"Sunrisers Hyderabad\", \"Year\": 2022, \"Player Origin\": \"Indian\"}, {\"Player\": \"Billy Stanlake\", \"Role\": \"Bowler\", \"Amount\": 3000000, \"Team\": \"Royal Challengers Bangalore\", \"Year\": 2017, \"Player Origin\": \"Overseas\"}, {\"Player\": \"Billy Stanlake\", \"Role\": \"Batsman\", \"Amount\": 5000000, \"Team\": \"Sunrisers Hyderabad\", \"Year\": 2018, \"Player Origin\": \"Overseas\"}, {\"Player\": \"Bipul Sharma\", \"Role\": \"All-Rounder\", \"Amount\": 2000000, \"Team\": \"Sunrisers Hyderabad\", \"Year\": 2018, \"Player Origin\": \"Indian\"}, {\"Player\": \"Brad Hodge\", \"Role\": \"Batsman\", \"Amount\": 24000000, \"Team\": \"Rajasthan Royals\", \"Year\": 2014, \"Player Origin\": \"Overseas\"}, {\"Player\": \"Brad Hogg\", \"Role\": \"Bowler\", \"Amount\": 5000000, \"Team\": \"Kolkata Knight Riders\", \"Year\": 2015, \"Player Origin\": \"Overseas\"}, {\"Player\": \"Brendan Taylor\", \"Role\": \"Wicket Keeper\", \"Amount\": 3000000, \"Team\": \"Sunrisers Hyderabad\", \"Year\": 2014, \"Player Origin\": \"Overseas\"}, {\"Player\": \"Brendon McCullum\", \"Role\": \"Wicket Keeper\", \"Amount\": 32500000, \"Team\": \"Chennai Super Kings\", \"Year\": 2014, \"Player Origin\": \"Overseas\"}, {\"Player\": \"Brendon McCullum\", \"Role\": \"Batsman\", \"Amount\": 36000000, \"Team\": \"Royal Challengers Bangalore\", \"Year\": 2018, \"Player Origin\": \"Overseas\"}, {\"Player\": \"C Hari Nishaanth\", \"Role\": \"Batsman\", \"Amount\": 2000000, \"Team\": \"Chennai Super Kings\", \"Year\": 2021, \"Player Origin\": \"Indian\"}, {\"Player\": \"C.Hari Nishaanth\", \"Role\": \"Batsman\", \"Amount\": 2000000, \"Team\": \"Chennai Super Kings\", \"Year\": 2022, \"Player Origin\": \"Indian\"}, {\"Player\": \"C.M. Gautam\", \"Role\": \"Wicket Keeper\", \"Amount\": 2000000, \"Team\": \"Mumbai Indians\", \"Year\": 2014, \"Player Origin\": \"Indian\"}, {\"Player\": \"C.M. Gautam\", \"Role\": \"Wicket Keeper\", \"Amount\": 2000000, \"Team\": \"Delhi Daredevils\", \"Year\": 2015, \"Player Origin\": \"Indian\"}, {\"Player\": \"Cameron Delport\", \"Role\": \"All-Rounder\", \"Amount\": 3000000, \"Team\": \"Kolkata Knight Riders\", \"Year\": 2018, \"Player Origin\": \"Overseas\"}, {\"Player\": \"Carlos Brathwaite\", \"Role\": \"All-Rounder\", \"Amount\": 42000000, \"Team\": \"Delhi Daredevils\", \"Year\": 2016, \"Player Origin\": \"Overseas\"}, {\"Player\": \"Carlos Brathwaite\", \"Role\": \"All-Rounder\", \"Amount\": 20000000, \"Team\": \"Sunrisers Hyderabad\", \"Year\": 2018, \"Player Origin\": \"Overseas\"}, {\"Player\": \"Carlos Brathwaite\", \"Role\": \"All-Rounder\", \"Amount\": 50000000, \"Team\": \"Kolkata Knight Riders\", \"Year\": 2019, \"Player Origin\": \"Overseas\"}, {\"Player\": \"Chaitanya Bishnoi\", \"Role\": \"All-Rounder\", \"Amount\": 2000000, \"Team\": \"Chennai Super Kings\", \"Year\": 2018, \"Player Origin\": \"Indian\"}, {\"Player\": \"Chama Milind\", \"Role\": \"Bowler\", \"Amount\": 1000000, \"Team\": \"Sunrisers Hyderabad\", \"Year\": 2014, \"Player Origin\": \"Indian\"}, {\"Player\": \"Chama Milind\", \"Role\": \"Bowler\", \"Amount\": 1000000, \"Team\": \"Delhi Daredevils\", \"Year\": 2016, \"Player Origin\": \"Indian\"}, {\"Player\": \"Chama Milind\", \"Role\": \"Bowler\", \"Amount\": 2500000, \"Team\": \"Royal Challengers Bangalore\", \"Year\": 2022, \"Player Origin\": \"Indian\"}, {\"Player\": \"Chamika Karunaratne\", \"Role\": \"All-Rounder\", \"Amount\": 5000000, \"Team\": \"Kolkata Knight Riders\", \"Year\": 2022, \"Player Origin\": \"Overseas\"}, {\"Player\": \"Chetan Sakariya\", \"Role\": \"Bowler\", \"Amount\": 12000000, \"Team\": \"Rajasthan Royals\", \"Year\": 2021, \"Player Origin\": \"Indian\"}, {\"Player\": \"Chetan Sakariya\", \"Role\": \"Bowler\", \"Amount\": 42000000, \"Team\": \"Delhi Capitals\", \"Year\": 2022, \"Player Origin\": \"Indian\"}, {\"Player\": \"Cheteshwar Pujara\", \"Role\": \"Batsman\", \"Amount\": 19000000, \"Team\": \"Kings XI Punjab\", \"Year\": 2014, \"Player Origin\": \"Indian\"}, {\"Player\": \"Cheteshwar Pujara\", \"Role\": \"Batsman\", \"Amount\": 5000000, \"Team\": \"Chennai Super Kings\", \"Year\": 2021, \"Player Origin\": \"Indian\"}, {\"Player\": \"Chirag Suri\", \"Role\": \"Batsman\", \"Amount\": 1000000, \"Team\": \"Gujarat Lions\", \"Year\": 2017, \"Player Origin\": \"Indian\"}, {\"Player\": \"Chris Green\", \"Role\": \"All-Rounder\", \"Amount\": 2000000, \"Team\": \"Kolkata Knight Riders\", \"Year\": 2020, \"Player Origin\": \"Overseas\"}, {\"Player\": \"Chris Jordan\", \"Role\": \"All-Rounder\", \"Amount\": 5000000, \"Team\": \"Sunrisers Hyderabad\", \"Year\": 2017, \"Player Origin\": \"Overseas\"}, {\"Player\": \"Chris Jordan\", \"Role\": \"All-Rounder\", \"Amount\": 10000000, \"Team\": \"Sunrisers Hyderabad\", \"Year\": 2018, \"Player Origin\": \"Overseas\"}, {\"Player\": \"Chris Jordan\", \"Role\": \"All-Rounder\", \"Amount\": 30000000, \"Team\": \"Kings XI Punjab\", \"Year\": 2020, \"Player Origin\": \"Overseas\"}, {\"Player\": \"Chris Jordan\", \"Role\": \"All-Rounder\", \"Amount\": 36000000, \"Team\": \"Chennai Super Kings\", \"Year\": 2022, \"Player Origin\": \"Overseas\"}, {\"Player\": \"Chris Lynn\", \"Role\": \"Batsman\", \"Amount\": 13000000, \"Team\": \"Kolkata Knight Riders\", \"Year\": 2014, \"Player Origin\": \"Overseas\"}, {\"Player\": \"Chris Lynn\", \"Role\": \"Batsman\", \"Amount\": 96000000, \"Team\": \"Kolkata Knight Riders\", \"Year\": 2018, \"Player Origin\": \"Overseas\"}, {\"Player\": \"Chris Lynn\", \"Role\": \"Batsman\", \"Amount\": 20000000, \"Team\": \"Mumbai Indians\", \"Year\": 2020, \"Player Origin\": \"Overseas\"}, {\"Player\": \"Chris Woakes\", \"Role\": \"All-Rounder\", \"Amount\": 42000000, \"Team\": \"Kolkata Knight Riders\", \"Year\": 2017, \"Player Origin\": \"Overseas\"}, {\"Player\": \"Chris Woakes\", \"Role\": \"All-Rounder\", \"Amount\": 74000000, \"Team\": \"Royal Challengers Bangalore\", \"Year\": 2018, \"Player Origin\": \"Overseas\"}, {\"Player\": \"Chris Woakes\", \"Role\": \"All-Rounder\", \"Amount\": 15000000, \"Team\": \"Delhi Capitals\", \"Year\": 2020, \"Player Origin\": \"Overseas\"}, {\"Player\": \"Christopher Barnwell\", \"Role\": \"All-Rounder\", \"Amount\": 3750000, \"Team\": \"Royal Challengers Bangalore\", \"Year\": 2013, \"Player Origin\": \"Overseas\"}, {\"Player\": \"Christopher Gayle\", \"Role\": \"Batsman\", \"Amount\": 20000000, \"Team\": \"Kings XI Punjab\", \"Year\": 2018, \"Player Origin\": \"Overseas\"}, {\"Player\": \"Christopher Morris\", \"Role\": \"All-Rounder\", \"Amount\": 46875000, \"Team\": \"Chennai Super Kings\", \"Year\": 2013, \"Player Origin\": \"Overseas\"}, {\"Player\": \"Christopher Morris\", \"Role\": \"All-Rounder\", \"Amount\": 14000000, \"Team\": \"Rajasthan Royals\", \"Year\": 2015, \"Player Origin\": \"Overseas\"}, {\"Player\": \"Christopher Morris\", \"Role\": \"All-Rounder\", \"Amount\": 70000000, \"Team\": \"Delhi Daredevils\", \"Year\": 2016, \"Player Origin\": \"Overseas\"}, {\"Player\": \"Christopher Morris\", \"Role\": \"All-Rounder\", \"Amount\": 100000000, \"Team\": \"Royal Challengers Bangalore\", \"Year\": 2020, \"Player Origin\": \"Overseas\"}, {\"Player\": \"Christopher Morris\", \"Role\": \"All-Rounder\", \"Amount\": 162500000, \"Team\": \"Rajasthan Royals\", \"Year\": 2021, \"Player Origin\": \"Overseas\"}, {\"Player\": \"Clinton McKay\", \"Role\": \"Bowler\", \"Amount\": 7500000, \"Team\": \"Sunrisers Hyderabad\", \"Year\": 2013, \"Player Origin\": \"Overseas\"}, {\"Player\": \"Colin De Grandhomme\", \"Role\": \"All-Rounder\", \"Amount\": 22000000, \"Team\": \"Royal Challengers Bangalore\", \"Year\": 2018, \"Player Origin\": \"Overseas\"}, {\"Player\": \"Colin Ingram\", \"Role\": \"Batsman\", \"Amount\": 64000000, \"Team\": \"Delhi Capitals\", \"Year\": 2019, \"Player Origin\": \"Overseas\"}, {\"Player\": \"Colin Munro\", \"Role\": \"All-Rounder\", \"Amount\": 3000000, \"Team\": \"Kolkata Knight Riders\", \"Year\": 2016, \"Player Origin\": \"Overseas\"}, {\"Player\": \"Colin Munro\", \"Role\": \"All-Rounder\", \"Amount\": 19000000, \"Team\": \"Delhi Daredevils\", \"Year\": 2018, \"Player Origin\": \"Overseas\"}, {\"Player\": \"Corey Anderson\", \"Role\": \"All-Rounder\", \"Amount\": 45000000, \"Team\": \"Mumbai Indians\", \"Year\": 2014, \"Player Origin\": \"Overseas\"}, {\"Player\": \"Corey Anderson\", \"Role\": \"All-Rounder\", \"Amount\": 10000000, \"Team\": \"Delhi Daredevils\", \"Year\": 2017, \"Player Origin\": \"Overseas\"}, {\"Player\": \"Dale Steyn\", \"Role\": \"Bowler\", \"Amount\": 23000000, \"Team\": \"Gujarat Lions\", \"Year\": 2016, \"Player Origin\": \"Overseas\"}, {\"Player\": \"Dale Steyn\", \"Role\": \"Bowler\", \"Amount\": 20000000, \"Team\": \"Royal Challengers Bangalore\", \"Year\": 2020, \"Player Origin\": \"Overseas\"}, {\"Player\": \"Dan Christian\", \"Role\": \"All-Rounder\", \"Amount\": 48000000, \"Team\": \"Royal Challengers Bangalore\", \"Year\": 2021, \"Player Origin\": \"Overseas\"}, {\"Player\": \"Daniel Christian\", \"Role\": \"All-Rounder\", \"Amount\": 7500000, \"Team\": \"Royal Challengers Bangalore\", \"Year\": 2013, \"Player Origin\": \"Overseas\"}, {\"Player\": \"Daniel Christian\", \"Role\": \"All-Rounder\", \"Amount\": 10000000, \"Team\": \"Rising Pune Supergiant\", \"Year\": 2017, \"Player Origin\": \"Overseas\"}, {\"Player\": \"Daniel Christian\", \"Role\": \"All-Rounder\", \"Amount\": 15000000, \"Team\": \"Delhi Daredevils\", \"Year\": 2018, \"Player Origin\": \"Overseas\"}, {\"Player\": \"Daniel Sams\", \"Role\": \"All-Rounder\", \"Amount\": 26000000, \"Team\": \"Mumbai Indians\", \"Year\": 2022, \"Player Origin\": \"Overseas\"}, {\"Player\": \"Darcy Short\", \"Role\": \"All-Rounder\", \"Amount\": 40000000, \"Team\": \"Rajasthan Royals\", \"Year\": 2018, \"Player Origin\": \"Overseas\"}, {\"Player\": \"Darren Bravo\", \"Role\": \"Batsman\", \"Amount\": 5000000, \"Team\": \"Kolkata Knight Riders\", \"Year\": 2017, \"Player Origin\": \"Overseas\"}, {\"Player\": \"Darren Sammy\", \"Role\": \"All-Rounder\", \"Amount\": 31875000, \"Team\": \"Sunrisers Hyderabad\", \"Year\": 2013, \"Player Origin\": \"Overseas\"}, {\"Player\": \"Darren Sammy\", \"Role\": \"All-Rounder\", \"Amount\": 35000000, \"Team\": \"Sunrisers Hyderabad\", \"Year\": 2014, \"Player Origin\": \"Overseas\"}, {\"Player\": \"Darren Sammy\", \"Role\": \"All-Rounder\", \"Amount\": 28000000, \"Team\": \"Royal Challengers Bangalore\", \"Year\": 2015, \"Player Origin\": \"Overseas\"}, {\"Player\": \"Darren Sammy\", \"Role\": \"All-Rounder\", \"Amount\": 3000000, \"Team\": \"Kings XI Punjab\", \"Year\": 2017, \"Player Origin\": \"Overseas\"}, {\"Player\": \"Darshan Nalkande\", \"Role\": \"All-Rounder\", \"Amount\": 3000000, \"Team\": \"Kings XI Punjab\", \"Year\": 2019, \"Player Origin\": \"Indian\"}, {\"Player\": \"Darshan Nalkande\", \"Role\": \"All-Rounder\", \"Amount\": 2000000, \"Team\": \"Gujarat Titans\", \"Year\": 2022, \"Player Origin\": \"Indian\"}, {\"Player\": \"Daryl Mitchell\", \"Role\": \"All-Rounder\", \"Amount\": 7500000, \"Team\": \"Rajasthan Royals\", \"Year\": 2022, \"Player Origin\": \"Overseas\"}, {\"Player\": \"David Miller\", \"Role\": \"Batsman\", \"Amount\": 30000000, \"Team\": \"Kings XI Punjab\", \"Year\": 2018, \"Player Origin\": \"Overseas\"}, {\"Player\": \"David Miller\", \"Role\": \"Batsman\", \"Amount\": 7500000, \"Team\": \"Rajasthan Royals\", \"Year\": 2020, \"Player Origin\": \"Overseas\"}, {\"Player\": \"David Miller\", \"Role\": \"Batsman\", \"Amount\": 30000000, \"Team\": \"Gujarat Titans\", \"Year\": 2022, \"Player Origin\": \"Overseas\"}, {\"Player\": \"David Warner\", \"Role\": \"Batsman\", \"Amount\": 55000000, \"Team\": \"Sunrisers Hyderabad\", \"Year\": 2014, \"Player Origin\": \"Overseas\"}, {\"Player\": \"David Warner\", \"Role\": \"Batsman\", \"Amount\": 62500000, \"Team\": \"Delhi Capitals\", \"Year\": 2022, \"Player Origin\": \"Overseas\"}, {\"Player\": \"David Wiese\", \"Role\": \"All-Rounder\", \"Amount\": 28000000, \"Team\": \"Royal Challengers Bangalore\", \"Year\": 2015, \"Player Origin\": \"Overseas\"}, {\"Player\": \"David Willey\", \"Role\": \"All-Rounder\", \"Amount\": 20000000, \"Team\": \"Royal Challengers Bangalore\", \"Year\": 2022, \"Player Origin\": \"Overseas\"}, {\"Player\": \"Dawid Malan\", \"Role\": \"All-Rounder\", \"Amount\": 15000000, \"Team\": \"Punjab Kings\", \"Year\": 2021, \"Player Origin\": \"Overseas\"}, {\"Player\": \"Debabrata Das\", \"Role\": \"Wicket Keeper\", \"Amount\": 2000000, \"Team\": \"Kolkata Knight Riders\", \"Year\": 2014, \"Player Origin\": \"Indian\"}, {\"Player\": \"Deepak Chahar\", \"Role\": \"All-Rounder\", \"Amount\": 1000000, \"Team\": \"Rising Pune Supergiant\", \"Year\": 2016, \"Player Origin\": \"Indian\"}, {\"Player\": \"Deepak Chahar\", \"Role\": \"All-Rounder\", \"Amount\": 8000000, \"Team\": \"Chennai Super Kings\", \"Year\": 2018, \"Player Origin\": \"Indian\"}, {\"Player\": \"Deepak Chahar\", \"Role\": \"Bowler\", \"Amount\": 140000000, \"Team\": \"Chennai Super Kings\", \"Year\": 2022, \"Player Origin\": \"Indian\"}, {\"Player\": \"Deepak Hooda\", \"Role\": \"Bowler\", \"Amount\": 4000000, \"Team\": \"Rajasthan Royals\", \"Year\": 2014, \"Player Origin\": \"Indian\"}, {\"Player\": \"Deepak Hooda\", \"Role\": \"All-Rounder\", \"Amount\": 42000000, \"Team\": \"Sunrisers Hyderabad\", \"Year\": 2016, \"Player Origin\": \"Indian\"}, {\"Player\": \"Deepak Hooda\", \"Role\": \"All-Rounder\", \"Amount\": 36000000, \"Team\": \"Sunrisers Hyderabad\", \"Year\": 2018, \"Player Origin\": \"Indian\"}, {\"Player\": \"Deepak Hooda\", \"Role\": \"All-Rounder\", \"Amount\": 5000000, \"Team\": \"Kings XI Punjab\", \"Year\": 2020, \"Player Origin\": \"Indian\"}, {\"Player\": \"Deepak Hooda\", \"Role\": \"All-Rounder\", \"Amount\": 57500000, \"Team\": \"Lucknow Super Giants\", \"Year\": 2022, \"Player Origin\": \"Indian\"}, {\"Player\": \"Deepak Punia\", \"Role\": \"All-Rounder\", \"Amount\": 1000000, \"Team\": \"Mumbai Indians\", \"Year\": 2016, \"Player Origin\": \"Indian\"}, {\"Player\": \"Devdutt Padikkal\", \"Role\": \"Batsman\", \"Amount\": 2000000, \"Team\": \"Royal Challengers Bangalore\", \"Year\": 2019, \"Player Origin\": \"Indian\"}, {\"Player\": \"Devdutt Padikkal\", \"Role\": \"Batsman\", \"Amount\": 77500000, \"Team\": \"Rajasthan Royals\", \"Year\": 2022, \"Player Origin\": \"Indian\"}, {\"Player\": \"Devon Conway\", \"Role\": \"Batsman\", \"Amount\": 10000000, \"Team\": \"Chennai Super Kings\", \"Year\": 2022, \"Player Origin\": \"Overseas\"}, {\"Player\": \"Dewald Brevis\", \"Role\": \"Batsman\", \"Amount\": 30000000, \"Team\": \"Mumbai Indians\", \"Year\": 2022, \"Player Origin\": \"Overseas\"}, {\"Player\": \"Dhawal Kulkarni\", \"Role\": \"Bowler\", \"Amount\": 11000000, \"Team\": \"Rajasthan Royals\", \"Year\": 2014, \"Player Origin\": \"Indian\"}, {\"Player\": \"Dhawal Kulkarni\", \"Role\": \"Bowler\", \"Amount\": 20000000, \"Team\": \"Gujarat Lions\", \"Year\": 2016, \"Player Origin\": \"Indian\"}, {\"Player\": \"Dhawal Kulkarni\", \"Role\": \"Bowler\", \"Amount\": 7500000, \"Team\": \"Rajasthan Royals\", \"Year\": 2018, \"Player Origin\": \"Indian\"}, {\"Player\": \"Dhruv Jurel\", \"Role\": \"Wicket Keeper\", \"Amount\": 2000000, \"Team\": \"Rajasthan Royals\", \"Year\": 2022, \"Player Origin\": \"Indian\"}, {\"Player\": \"Dhruv Shorey\", \"Role\": \"All-Rounder\", \"Amount\": 2000000, \"Team\": \"Chennai Super Kings\", \"Year\": 2018, \"Player Origin\": \"Indian\"}, {\"Player\": \"Digvijay Deshmukh\", \"Role\": \"All-Rounder\", \"Amount\": 2000000, \"Team\": \"Mumbai Indians\", \"Year\": 2020, \"Player Origin\": \"Indian\"}, {\"Player\": \"Dinesh Karthik\", \"Role\": \"Wicket Keeper\", \"Amount\": 125000000, \"Team\": \"Delhi Daredevils\", \"Year\": 2014, \"Player Origin\": \"Indian\"}, {\"Player\": \"Dinesh Karthik\", \"Role\": \"Wicket Keeper\", \"Amount\": 105000000, \"Team\": \"Royal Challengers Bangalore\", \"Year\": 2015, \"Player Origin\": \"Indian\"}, {\"Player\": \"Dinesh Karthik\", \"Role\": \"Wicket Keeper\", \"Amount\": 23000000, \"Team\": \"Gujarat Lions\", \"Year\": 2016, \"Player Origin\": \"Indian\"}, {\"Player\": \"Dinesh Karthik\", \"Role\": \"Wicket Keeper\", \"Amount\": 74000000, \"Team\": \"Kolkata Knight Riders\", \"Year\": 2018, \"Player Origin\": \"Indian\"}, {\"Player\": \"Dinesh Karthik\", \"Role\": \"Wicket Keeper\", \"Amount\": 55000000, \"Team\": \"Royal Challengers Bangalore\", \"Year\": 2022, \"Player Origin\": \"Indian\"}, {\"Player\": \"Dinesh Salunkhe\", \"Role\": \"All-Rounder\", \"Amount\": 1000000, \"Team\": \"Rajasthan Royals\", \"Year\": 2015, \"Player Origin\": \"Indian\"}, {\"Player\": \"Dirk Nannes\", \"Role\": \"Bowler\", \"Amount\": 45000000, \"Team\": \"Chennai Super Kings\", \"Year\": 2013, \"Player Origin\": \"Overseas\"}, {\"Player\": \"Dishant Yagnik\", \"Role\": \"Wicket Keeper\", \"Amount\": 3000000, \"Team\": \"Rajasthan Royals\", \"Year\": 2014, \"Player Origin\": \"Indian\"}, {\"Player\": \"Dominic Drakes\", \"Role\": \"All-Rounder\", \"Amount\": 11000000, \"Team\": \"Gujarat Titans\", \"Year\": 2022, \"Player Origin\": \"Overseas\"}, {\"Player\": \"Domnic Joseph Muthuswamy\", \"Role\": \"Bowler\", \"Amount\": 7500000, \"Team\": \"Delhi Daredevils\", \"Year\": 2015, \"Player Origin\": \"Overseas\"}, {\"Player\": \"Dushmanta Chameera\", \"Role\": \"Bowler\", \"Amount\": 20000000, \"Team\": \"Lucknow Super Giants\", \"Year\": 2022, \"Player Origin\": \"Overseas\"}, {\"Player\": \"Dushmantha Chameera\", \"Role\": \"Bowler\", \"Amount\": 5000000, \"Team\": \"Rajasthan Royals\", \"Year\": 2018, \"Player Origin\": \"Overseas\"}, {\"Player\": \"Dwaine Pretorius\", \"Role\": \"All-Rounder\", \"Amount\": 5000000, \"Team\": \"Chennai Super Kings\", \"Year\": 2022, \"Player Origin\": \"Overseas\"}, {\"Player\": \"Dwayne Bravo\", \"Role\": \"All-Rounder\", \"Amount\": 64000000, \"Team\": \"Chennai Super Kings\", \"Year\": 2018, \"Player Origin\": \"Overseas\"}, {\"Player\": \"Dwayne Bravo\", \"Role\": \"All-Rounder\", \"Amount\": 44000000, \"Team\": \"Chennai Super Kings\", \"Year\": 2022, \"Player Origin\": \"Overseas\"}, {\"Player\": \"Dwayne Smith\", \"Role\": \"Batsman\", \"Amount\": 45000000, \"Team\": \"Chennai Super Kings\", \"Year\": 2014, \"Player Origin\": \"Overseas\"}, {\"Player\": \"Dwayne Smith\", \"Role\": \"All-Rounder\", \"Amount\": 23000000, \"Team\": \"Gujarat Lions\", \"Year\": 2016, \"Player Origin\": \"Overseas\"}, {\"Player\": \"Eklavya Dwivedi\", \"Role\": \"Wicket Keeper\", \"Amount\": 1000000, \"Team\": \"Chennai Super Kings\", \"Year\": 2015, \"Player Origin\": \"Indian\"}, {\"Player\": \"Eklavya Dwivedi\", \"Role\": \"Wicket Keeper\", \"Amount\": 10000000, \"Team\": \"Gujarat Lions\", \"Year\": 2016, \"Player Origin\": \"Indian\"}, {\"Player\": \"Eklavya Dwivedi\", \"Role\": \"Wicket Keeper\", \"Amount\": 7500000, \"Team\": \"Sunrisers Hyderabad\", \"Year\": 2017, \"Player Origin\": \"Indian\"}, {\"Player\": \"Eoin Morgan\", \"Role\": \"Batsman\", \"Amount\": 15000000, \"Team\": \"Sunrisers Hyderabad\", \"Year\": 2015, \"Player Origin\": \"Overseas\"}, {\"Player\": \"Eoin Morgan\", \"Role\": \"Batsman\", \"Amount\": 20000000, \"Team\": \"Kings XI Punjab\", \"Year\": 2017, \"Player Origin\": \"Overseas\"}, {\"Player\": \"Eoin Morgan\", \"Role\": \"Batsman\", \"Amount\": 52500000, \"Team\": \"Kolkata Knight Riders\", \"Year\": 2020, \"Player Origin\": \"Overseas\"}, {\"Player\": \"Evin Lewis\", \"Role\": \"Batsman\", \"Amount\": 38000000, \"Team\": \"Mumbai Indians\", \"Year\": 2018, \"Player Origin\": \"Overseas\"}, {\"Player\": \"Evin Lewis\", \"Role\": \"Batsman\", \"Amount\": 20000000, \"Team\": \"Lucknow Super Giants\", \"Year\": 2022, \"Player Origin\": \"Overseas\"}, {\"Player\": \"Fabian Allen\", \"Role\": \"All-Rounder\", \"Amount\": 5000000, \"Team\": \"Sunrisers Hyderabad\", \"Year\": 2020, \"Player Origin\": \"Overseas\"}, {\"Player\": \"Fabian Allen\", \"Role\": \"All-Rounder\", \"Amount\": 7500000, \"Team\": \"Punjab Kings\", \"Year\": 2021, \"Player Origin\": \"Overseas\"}, {\"Player\": \"Fabian Allen\", \"Role\": \"All-Rounder\", \"Amount\": 7500000, \"Team\": \"Mumbai Indians\", \"Year\": 2022, \"Player Origin\": \"Overseas\"}, {\"Player\": \"Faf Du Plessis\", \"Role\": \"Batsman\", \"Amount\": 47500000, \"Team\": \"Chennai Super Kings\", \"Year\": 2014, \"Player Origin\": \"Overseas\"}, {\"Player\": \"Faf Du Plessis\", \"Role\": \"Batsman\", \"Amount\": 16000000, \"Team\": \"Chennai Super Kings\", \"Year\": 2018, \"Player Origin\": \"Overseas\"}, {\"Player\": \"Faf Du Plessis\", \"Role\": \"Batsman\", \"Amount\": 70000000, \"Team\": \"Royal Challengers Bangalore\", \"Year\": 2022, \"Player Origin\": \"Overseas\"}, {\"Player\": \"Farhaan Behardien\", \"Role\": \"All-Rounder\", \"Amount\": 3000000, \"Team\": \"Kings XI Punjab\", \"Year\": 2016, \"Player Origin\": \"Overseas\"}, {\"Player\": \"Fazalhaq Farooqi\", \"Role\": \"Bowler\", \"Amount\": 5000000, \"Team\": \"Sunrisers Hyderabad\", \"Year\": 2022, \"Player Origin\": \"Overseas\"}, {\"Player\": \"Fidel Edwards\", \"Role\": \"Bowler\", \"Amount\": 15750000, \"Team\": \"Rajasthan Royals\", \"Year\": 2013, \"Player Origin\": \"Overseas\"}, {\"Player\": \"Finn Allen\", \"Role\": \"Batsman\", \"Amount\": 8000000, \"Team\": \"Royal Challengers Bangalore\", \"Year\": 2022, \"Player Origin\": \"Overseas\"}, {\"Player\": \"Gautam Gambhir\", \"Role\": \"Batsman\", \"Amount\": 28000000, \"Team\": \"Delhi Daredevils\", \"Year\": 2018, \"Player Origin\": \"Indian\"}, {\"Player\": \"George Bailey\", \"Role\": \"Batsman\", \"Amount\": 32500000, \"Team\": \"Kings XI Punjab\", \"Year\": 2014, \"Player Origin\": \"Overseas\"}, {\"Player\": \"Glenn Maxwell\", \"Role\": \"All-Rounder\", \"Amount\": 75000000, \"Team\": \"Mumbai Indians\", \"Year\": 2013, \"Player Origin\": \"Overseas\"}, {\"Player\": \"Glenn Maxwell\", \"Role\": \"All-Rounder\", \"Amount\": 60000000, \"Team\": \"Kings XI Punjab\", \"Year\": 2014, \"Player Origin\": \"Overseas\"}, {\"Player\": \"Glenn Maxwell\", \"Role\": \"All-Rounder\", \"Amount\": 90000000, \"Team\": \"Delhi Daredevils\", \"Year\": 2018, \"Player Origin\": \"Overseas\"}, {\"Player\": \"Glenn Maxwell\", \"Role\": \"All-Rounder\", \"Amount\": 107500000, \"Team\": \"Kings XI Punjab\", \"Year\": 2020, \"Player Origin\": \"Overseas\"}, {\"Player\": \"Glenn Maxwell\", \"Role\": \"All-Rounder\", \"Amount\": 142500000, \"Team\": \"Royal Challengers Bangalore\", \"Year\": 2021, \"Player Origin\": \"Overseas\"}, {\"Player\": \"Glenn Phillips\", \"Role\": \"Wicket Keeper\", \"Amount\": 15000000, \"Team\": \"Sunrisers Hyderabad\", \"Year\": 2022, \"Player Origin\": \"Overseas\"}, {\"Player\": \"Gurinder Sandhu\", \"Role\": \"Bowler\", \"Amount\": 17000000, \"Team\": \"Delhi Daredevils\", \"Year\": 2015, \"Player Origin\": \"Indian\"}, {\"Player\": \"Gurkeerat Singh Mann\", \"Role\": \"All-Rounder\", \"Amount\": 5000000, \"Team\": \"Gujarat Titans\", \"Year\": 2022, \"Player Origin\": \"Indian\"}, {\"Player\": \"Gurkeerat Singh Mann\", \"Role\": \"All-Rounder\", \"Amount\": 7500000, \"Team\": \"Delhi Daredevils\", \"Year\": 2018, \"Player Origin\": \"Indian\"}, {\"Player\": \"Gurkeerat Singh Mann\", \"Role\": \"All-Rounder\", \"Amount\": 5000000, \"Team\": \"Royal Challengers Bangalore\", \"Year\": 2019, \"Player Origin\": \"Indian\"}, {\"Player\": \"Gurkeerat Singh Mann\", \"Role\": \"Batsman\", \"Amount\": 13000000, \"Team\": \"Kings XI Punjab\", \"Year\": 2014, \"Player Origin\": \"Indian\"}, {\"Player\": \"Hanuma Vihari\", \"Role\": \"Batsman\", \"Amount\": 1000000, \"Team\": \"Sunrisers Hyderabad\", \"Year\": 2015, \"Player Origin\": \"Indian\"}, {\"Player\": \"Hanuma Vihari\", \"Role\": \"Batsman\", \"Amount\": 20000000, \"Team\": \"Delhi Capitals\", \"Year\": 2019, \"Player Origin\": \"Indian\"}, {\"Player\": \"Harbhajan Singh\", \"Role\": \"Bowler\", \"Amount\": 20000000, \"Team\": \"Chennai Super Kings\", \"Year\": 2018, \"Player Origin\": \"Indian\"}, {\"Player\": \"Harbhajan Singh\", \"Role\": \"Bowler\", \"Amount\": 20000000, \"Team\": \"Kolkata Knight Riders\", \"Year\": 2021, \"Player Origin\": \"Indian\"}, {\"Player\": \"Hardik Pandya\", \"Role\": \"All-Rounder\", \"Amount\": 1000000, \"Team\": \"Mumbai Indians\", \"Year\": 2015, \"Player Origin\": \"Indian\"}, {\"Player\": \"Hardus Viljoen\", \"Role\": \"Bowler\", \"Amount\": 7500000, \"Team\": \"Kings XI Punjab\", \"Year\": 2019, \"Player Origin\": \"Overseas\"}, {\"Player\": \"Harpreet Brar\", \"Role\": \"All-Rounder\", \"Amount\": 2000000, \"Team\": \"Kings XI Punjab\", \"Year\": 2019, \"Player Origin\": \"Indian\"}, {\"Player\": \"Harpreet Brar\", \"Role\": \"All-Rounder\", \"Amount\": 38000000, \"Team\": \"Punjab Kings\", \"Year\": 2022, \"Player Origin\": \"Indian\"}, {\"Player\": \"Harry Gurney\", \"Role\": \"Bowler\", \"Amount\": 7500000, \"Team\": \"Kolkata Knight Riders\", \"Year\": 2019, \"Player Origin\": \"Overseas\"}, {\"Player\": \"Harshal Patel\", \"Role\": \"Bowler\", \"Amount\": 4000000, \"Team\": \"Royal Challengers Bangalore\", \"Year\": 2014, \"Player Origin\": \"Indian\"}, {\"Player\": \"Harshal Patel\", \"Role\": \"All-Rounder\", \"Amount\": 2000000, \"Team\": \"Delhi Daredevils\", \"Year\": 2018, \"Player Origin\": \"Indian\"}, {\"Player\": \"Harshal Patel\", \"Role\": \"All-Rounder\", \"Amount\": 107500000, \"Team\": \"Royal Challengers Bangalore\", \"Year\": 2022, \"Player Origin\": \"Indian\"}, {\"Player\": \"Heinrich Klaasen\", \"Role\": \"Wicket Keeper\", \"Amount\": 5000000, \"Team\": \"Royal Challengers Bangalore\", \"Year\": 2019, \"Player Origin\": \"Overseas\"}, {\"Player\": \"Himmat Singh\", \"Role\": \"Batsman\", \"Amount\": 6500000, \"Team\": \"Royal Challengers Bangalore\", \"Year\": 2019, \"Player Origin\": \"Indian\"}, {\"Player\": \"Hrithik Shokeen\", \"Role\": \"All-Rounder\", \"Amount\": 2000000, \"Team\": \"Mumbai Indians\", \"Year\": 2022, \"Player Origin\": \"Indian\"}, {\"Player\": \"HS Sharath\", \"Role\": \"Bowler\", \"Amount\": 1000000, \"Team\": \"Delhi Daredevils\", \"Year\": 2014, \"Player Origin\": \"Indian\"}, {\"Player\": \"Imran Tahir\", \"Role\": \"Bowler\", \"Amount\": 10000000, \"Team\": \"Chennai Super Kings\", \"Year\": 2018, \"Player Origin\": \"Overseas\"}, {\"Player\": \"Iqbal Abdullah\", \"Role\": \"All-Rounder\", \"Amount\": 6500000, \"Team\": \"Rajasthan Royals\", \"Year\": 2014, \"Player Origin\": \"Indian\"}, {\"Player\": \"Iqbal Abdullah\", \"Role\": \"All-Rounder\", \"Amount\": 1000000, \"Team\": \"Royal Challengers Bangalore\", \"Year\": 2016, \"Player Origin\": \"Indian\"}, {\"Player\": \"Irfan Pathan\", \"Role\": \"All-Rounder\", \"Amount\": 24000000, \"Team\": \"Sunrisers Hyderabad\", \"Year\": 2014, \"Player Origin\": \"Indian\"}, {\"Player\": \"Irfan Pathan\", \"Role\": \"All-Rounder\", \"Amount\": 15000000, \"Team\": \"Chennai Super Kings\", \"Year\": 2015, \"Player Origin\": \"Indian\"}, {\"Player\": \"Irfan Pathan\", \"Role\": \"All-Rounder\", \"Amount\": 10000000, \"Team\": \"Rising Pune Supergiant\", \"Year\": 2016, \"Player Origin\": \"Indian\"}, {\"Player\": \"Ishan Kishan\", \"Role\": \"Wicket Keeper\", \"Amount\": 3500000, \"Team\": \"Gujarat Lions\", \"Year\": 2016, \"Player Origin\": \"Indian\"}, {\"Player\": \"Ishan Kishan\", \"Role\": \"Wicket Keeper\", \"Amount\": 62000000, \"Team\": \"Mumbai Indians\", \"Year\": 2018, \"Player Origin\": \"Indian\"}, {\"Player\": \"Ishan Kishan\", \"Role\": \"Wicket Keeper\", \"Amount\": 152500000, \"Team\": \"Mumbai Indians\", \"Year\": 2022, \"Player Origin\": \"Indian\"}, {\"Player\": \"Ishan Porel\", \"Role\": \"Bowler\", \"Amount\": 2500000, \"Team\": \"Punjab Kings\", \"Year\": 2022, \"Player Origin\": \"Indian\"}, {\"Player\": \"Ishank Jaggi\", \"Role\": \"Batsman\", \"Amount\": 1000000, \"Team\": \"Kolkata Knight Riders\", \"Year\": 2017, \"Player Origin\": \"Indian\"}, {\"Player\": \"Ishank Jaggi\", \"Role\": \"Batsman\", \"Amount\": 2000000, \"Team\": \"Kolkata Knight Riders\", \"Year\": 2018, \"Player Origin\": \"Indian\"}, {\"Player\": \"Ishant Sharma\", \"Role\": \"Bowler\", \"Amount\": 26000000, \"Team\": \"Sunrisers Hyderabad\", \"Year\": 2014, \"Player Origin\": \"Indian\"}, {\"Player\": \"Ishant Sharma\", \"Role\": \"Bowler\", \"Amount\": 38000000, \"Team\": \"Rising Pune Supergiant\", \"Year\": 2016, \"Player Origin\": \"Indian\"}, {\"Player\": \"Ishant Sharma\", \"Role\": \"Bowler\", \"Amount\": 11000000, \"Team\": \"Delhi Capitals\", \"Year\": 2019, \"Player Origin\": \"Indian\"}, {\"Player\": \"Ishwar Chandra Pandey\", \"Role\": \"Bowler\", \"Amount\": 15000000, \"Team\": \"Chennai Super Kings\", \"Year\": 2014, \"Player Origin\": \"Indian\"}, {\"Player\": \"Ishwar Chandra Pandey\", \"Role\": \"Bowler\", \"Amount\": 2000000, \"Team\": \"Rising Pune Supergiant\", \"Year\": 2016, \"Player Origin\": \"Indian\"}, {\"Player\": \"Isuru Udana\", \"Role\": \"All-Rounder\", \"Amount\": 5000000, \"Team\": \"Royal Challengers Bangalore\", \"Year\": 2020, \"Player Origin\": \"Overseas\"}, {\"Player\": \"J Suchith\", \"Role\": \"Bowler\", \"Amount\": 3000000, \"Team\": \"Sunrisers Hyderabad\", \"Year\": 2021, \"Player Origin\": \"Indian\"}, {\"Player\": \"J Suchith\", \"Role\": \"All-Rounder\", \"Amount\": 1000000, \"Team\": \"Mumbai Indians\", \"Year\": 2015, \"Player Origin\": \"Indian\"}, {\"Player\": \"Jacob Oram\", \"Role\": \"All-Rounder\", \"Amount\": 3750000, \"Team\": \"Mumbai Indians\", \"Year\": 2013, \"Player Origin\": \"Overseas\"}, {\"Player\": \"Jacques Kallis\", \"Role\": \"All-Rounder\", \"Amount\": 55000000, \"Team\": \"Kolkata Knight Riders\", \"Year\": 2014, \"Player Origin\": \"Overseas\"}, {\"Player\": \"Jagadeesha Suchith\", \"Role\": \"Bowler\", \"Amount\": 2000000, \"Team\": \"Sunrisers Hyderabad\", \"Year\": 2022, \"Player Origin\": \"Indian\"}, {\"Player\": \"Jalaj Saxena\", \"Role\": \"All-Rounder\", \"Amount\": 9000000, \"Team\": \"Mumbai Indians\", \"Year\": 2014, \"Player Origin\": \"Indian\"}, {\"Player\": \"Jalaj Saxena\", \"Role\": \"All-Rounder\", \"Amount\": 1000000, \"Team\": \"Royal Challengers Bangalore\", \"Year\": 2015, \"Player Origin\": \"Indian\"}, {\"Player\": \"Jalaj Saxena\", \"Role\": \"All-Rounder\", \"Amount\": 2000000, \"Team\": \"Delhi Capitals\", \"Year\": 2019, \"Player Origin\": \"Indian\"}, {\"Player\": \"Jalaj Saxena\", \"Role\": \"All-Rounder\", \"Amount\": 3000000, \"Team\": \"Punjab Kings\", \"Year\": 2021, \"Player Origin\": \"Indian\"}, {\"Player\": \"James Faulkner\", \"Role\": \"All-Rounder\", \"Amount\": 30000000, \"Team\": \"Rajasthan Royals\", \"Year\": 2013, \"Player Origin\": \"Overseas\"}, {\"Player\": \"James Neesham\", \"Role\": \"All-Rounder\", \"Amount\": 10000000, \"Team\": \"Delhi Daredevils\", \"Year\": 2014, \"Player Origin\": \"Overseas\"}, {\"Player\": \"James Neesham\", \"Role\": \"All-Rounder\", \"Amount\": 5000000, \"Team\": \"Kolkata Knight Riders\", \"Year\": 2015, \"Player Origin\": \"Overseas\"}, {\"Player\": \"James Neesham\", \"Role\": \"All-Rounder\", \"Amount\": 5000000, \"Team\": \"Kings XI Punjab\", \"Year\": 2020, \"Player Origin\": \"Overseas\"}, {\"Player\": \"James Neesham\", \"Role\": \"All-Rounder\", \"Amount\": 5000000, \"Team\": \"Mumbai Indians\", \"Year\": 2021, \"Player Origin\": \"Overseas\"}, {\"Player\": \"James Neesham\", \"Role\": \"All-Rounder\", \"Amount\": 15000000, \"Team\": \"Rajasthan Royals\", \"Year\": 2022, \"Player Origin\": \"Overseas\"}, {\"Player\": \"Jaskaran Singh\", \"Role\": \"Bowler\", \"Amount\": 1000000, \"Team\": \"Rising Pune Supergiant\", \"Year\": 2016, \"Player Origin\": \"Indian\"}, {\"Player\": \"Jason Behrendorff\", \"Role\": \"Bowler\", \"Amount\": 15000000, \"Team\": \"Mumbai Indians\", \"Year\": 2018, \"Player Origin\": \"Overseas\"}, {\"Player\": \"Jason Behrendorff\", \"Role\": \"Bowler\", \"Amount\": 7500000, \"Team\": \"Royal Challengers Bangalore\", \"Year\": 2022, \"Player Origin\": \"Overseas\"}, {\"Player\": \"Jason Holder\", \"Role\": \"Bowler\", \"Amount\": 1500000, \"Team\": \"Chennai Super Kings\", \"Year\": 2013, \"Player Origin\": \"Overseas\"}, {\"Player\": \"Jason Holder\", \"Role\": \"Bowler\", \"Amount\": 7500000, \"Team\": \"Sunrisers Hyderabad\", \"Year\": 2014, \"Player Origin\": \"Overseas\"}, {\"Player\": \"Jason Holder\", \"Role\": \"All-Rounder\", \"Amount\": 7000000, \"Team\": \"Kolkata Knight Riders\", \"Year\": 2016, \"Player Origin\": \"Overseas\"}, {\"Player\": \"Jason Holder\", \"Role\": \"All-Rounder\", \"Amount\": 87500000, \"Team\": \"Lucknow Super Giants\", \"Year\": 2022, \"Player Origin\": \"Overseas\"}, {\"Player\": \"Jason Roy\", \"Role\": \"Batsman\", \"Amount\": 10000000, \"Team\": \"Gujarat Lions\", \"Year\": 2017, \"Player Origin\": \"Overseas\"}, {\"Player\": \"Jason Roy\", \"Role\": \"Batsman\", \"Amount\": 15000000, \"Team\": \"Delhi Daredevils\", \"Year\": 2018, \"Player Origin\": \"Overseas\"}, {\"Player\": \"Jason Roy\", \"Role\": \"Batsman\", \"Amount\": 15000000, \"Team\": \"Delhi Capitals\", \"Year\": 2020, \"Player Origin\": \"Overseas\"}, {\"Player\": \"Jason Roy\", \"Role\": \"Batsman\", \"Amount\": 20000000, \"Team\": \"Gujarat Titans\", \"Year\": 2022, \"Player Origin\": \"Overseas\"}, {\"Player\": \"Jasprit Bumrah\", \"Role\": \"Bowler\", \"Amount\": 12000000, \"Team\": \"Mumbai Indians\", \"Year\": 2014, \"Player Origin\": \"Indian\"}, {\"Player\": \"Jatin Saxena\", \"Role\": \"All-Rounder\", \"Amount\": 2000000, \"Team\": \"Rajasthan Royals\", \"Year\": 2018, \"Player Origin\": \"Indian\"}, {\"Player\": \"Javon Searless\", \"Role\": \"All-Rounder\", \"Amount\": 3000000, \"Team\": \"Kolkata Knight Riders\", \"Year\": 2018, \"Player Origin\": \"Indian\"}, {\"Player\": \"Jayant Yadav\", \"Role\": \"All-Rounder\", \"Amount\": 1000000, \"Team\": \"Delhi Daredevils\", \"Year\": 2014, \"Player Origin\": \"Indian\"}, {\"Player\": \"Jayant Yadav\", \"Role\": \"All-Rounder\", \"Amount\": 5000000, \"Team\": \"Delhi Daredevils\", \"Year\": 2018, \"Player Origin\": \"Indian\"}, {\"Player\": \"Jayant Yadav\", \"Role\": \"All-Rounder\", \"Amount\": 17000000, \"Team\": \"Gujarat Titans\", \"Year\": 2022, \"Player Origin\": \"Indian\"}, {\"Player\": \"Jaydev Shah\", \"Role\": \"All-Rounder\", \"Amount\": 2000000, \"Team\": \"Gujarat Lions\", \"Year\": 2016, \"Player Origin\": \"Indian\"}, {\"Player\": \"Jaydev Unadkat\", \"Role\": \"Bowler\", \"Amount\": 39375000, \"Team\": \"Royal Challengers Bangalore\", \"Year\": 2013, \"Player Origin\": \"Indian\"}, {\"Player\": \"Jaydev Unadkat\", \"Role\": \"Bowler\", \"Amount\": 28000000, \"Team\": \"Delhi Daredevils\", \"Year\": 2014, \"Player Origin\": \"Indian\"}, {\"Player\": \"Jaydev Unadkat\", \"Role\": \"Bowler\", \"Amount\": 11000000, \"Team\": \"Delhi Daredevils\", \"Year\": 2015, \"Player Origin\": \"Indian\"}, {\"Player\": \"Jaydev Unadkat\", \"Role\": \"Bowler\", \"Amount\": 16000000, \"Team\": \"Kolkata Knight Riders\", \"Year\": 2016, \"Player Origin\": \"Indian\"}, {\"Player\": \"Jaydev Unadkat\", \"Role\": \"Bowler\", \"Amount\": 3000000, \"Team\": \"Rising Pune Supergiant\", \"Year\": 2017, \"Player Origin\": \"Indian\"}, {\"Player\": \"Jaydev Unadkat\", \"Role\": \"Bowler\", \"Amount\": 115000000, \"Team\": \"Rajasthan Royals\", \"Year\": 2018, \"Player Origin\": \"Indian\"}, {\"Player\": \"Jaydev Unadkat\", \"Role\": \"Bowler\", \"Amount\": 84000000, \"Team\": \"Rajasthan Royals\", \"Year\": 2019, \"Player Origin\": \"Indian\"}, {\"Player\": \"Jaydev Unadkat\", \"Role\": \"Bowler\", \"Amount\": 30000000, \"Team\": \"Rajasthan Royals\", \"Year\": 2020, \"Player Origin\": \"Indian\"}, {\"Player\": \"Jaydev Unadkat\", \"Role\": \"Bowler\", \"Amount\": 13000000, \"Team\": \"Mumbai Indians\", \"Year\": 2022, \"Player Origin\": \"Indian\"}, {\"Player\": \"Jean-Paul Duminy\", \"Role\": \"Batsman\", \"Amount\": 22000000, \"Team\": \"Delhi Daredevils\", \"Year\": 2014, \"Player Origin\": \"Overseas\"}, {\"Player\": \"Jean-Paul Duminy\", \"Role\": \"All-Rounder\", \"Amount\": 10000000, \"Team\": \"Mumbai Indians\", \"Year\": 2018, \"Player Origin\": \"Overseas\"}, {\"Player\": \"Jeevan Mendis\", \"Role\": \"All-Rounder\", \"Amount\": 3750000, \"Team\": \"Delhi Daredevils\", \"Year\": 2013, \"Player Origin\": \"Overseas\"}, {\"Player\": \"Jesse Ryder\", \"Role\": \"All-Rounder\", \"Amount\": 19500000, \"Team\": \"Delhi Daredevils\", \"Year\": 2013, \"Player Origin\": \"Overseas\"}, {\"Player\": \"Jhye Richardson\", \"Role\": \"Bowler\", \"Amount\": 140000000, \"Team\": \"Punjab Kings\", \"Year\": 2021, \"Player Origin\": \"Overseas\"}, {\"Player\": \"Jitesh Sharma\", \"Role\": \"Wicket Keeper\", \"Amount\": 1000000, \"Team\": \"Mumbai Indians\", \"Year\": 2016, \"Player Origin\": \"Indian\"}, {\"Player\": \"Jitesh Sharma\", \"Role\": \"Wicket Keeper\", \"Amount\": 2000000, \"Team\": \"Punjab Kings\", \"Year\": 2022, \"Player Origin\": \"Indian\"}, {\"Player\": \"Joe Denly\", \"Role\": \"Batsman\", \"Amount\": 10000000, \"Team\": \"Kolkata Knight Riders\", \"Year\": 2019, \"Player Origin\": \"Overseas\"}, {\"Player\": \"Joel Paris\", \"Role\": \"Bowler\", \"Amount\": 3000000, \"Team\": \"Delhi Daredevils\", \"Year\": 2016, \"Player Origin\": \"Overseas\"}, {\"Player\": \"Jofra Archer\", \"Role\": \"All-Rounder\", \"Amount\": 72000000, \"Team\": \"Rajasthan Royals\", \"Year\": 2018, \"Player Origin\": \"Overseas\"}, {\"Player\": \"Jofra Archer\", \"Role\": \"All-Rounder\", \"Amount\": 80000000, \"Team\": \"Mumbai Indians\", \"Year\": 2022, \"Player Origin\": \"Overseas\"}, {\"Player\": \"Johan Botha\", \"Role\": \"All-Rounder\", \"Amount\": 33750000, \"Team\": \"Delhi Daredevils\", \"Year\": 2013, \"Player Origin\": \"Overseas\"}, {\"Player\": \"John Hastings\", \"Role\": \"All-Rounder\", \"Amount\": 5000000, \"Team\": \"Chennai Super Kings\", \"Year\": 2014, \"Player Origin\": \"Overseas\"}, {\"Player\": \"John Hastings\", \"Role\": \"Bowler\", \"Amount\": 13000000, \"Team\": \"Kolkata Knight Riders\", \"Year\": 2016, \"Player Origin\": \"Overseas\"}, {\"Player\": \"Jonny Bairstow\", \"Role\": \"Wicket Keeper\", \"Amount\": 22000000, \"Team\": \"Sunrisers Hyderabad\", \"Year\": 2019, \"Player Origin\": \"Overseas\"}, {\"Player\": \"Jonny Bairstow\", \"Role\": \"Wicket Keeper\", \"Amount\": 67500000, \"Team\": \"Punjab Kings\", \"Year\": 2022, \"Player Origin\": \"Overseas\"}, {\"Player\": \"Jos Buttler\", \"Role\": \"Wicket Keeper\", \"Amount\": 38000000, \"Team\": \"Mumbai Indians\", \"Year\": 2016, \"Player Origin\": \"Overseas\"}, {\"Player\": \"Jos Buttler\", \"Role\": \"Wicket Keeper\", \"Amount\": 44000000, \"Team\": \"Rajasthan Royals\", \"Year\": 2018, \"Player Origin\": \"Overseas\"}, {\"Player\": \"Josh Hazlewood\", \"Role\": \"Bowler\", \"Amount\": 5000000, \"Team\": \"Mumbai Indians\", \"Year\": 2014, \"Player Origin\": \"Overseas\"}, {\"Player\": \"Josh Hazlewood\", \"Role\": \"Bowler\", \"Amount\": 20000000, \"Team\": \"Chennai Super Kings\", \"Year\": 2020, \"Player Origin\": \"Overseas\"}, {\"Player\": \"Josh Hazlewood\", \"Role\": \"Bowler\", \"Amount\": 77500000, \"Team\": \"Royal Challengers Bangalore\", \"Year\": 2022, \"Player Origin\": \"Overseas\"}, {\"Player\": \"Joshua Philippe\", \"Role\": \"Wicket Keeper\", \"Amount\": 2000000, \"Team\": \"Royal Challengers Bangalore\", \"Year\": 2020, \"Player Origin\": \"Overseas\"}, {\"Player\": \"Juan Theron\", \"Role\": \"Bowler\", \"Amount\": 3000000, \"Team\": \"Rajasthan Royals\", \"Year\": 2015, \"Player Origin\": \"Overseas\"}, {\"Player\": \"Krishnappa Gowtham\", \"Role\": \"All-Rounder\", \"Amount\": 9000000, \"Team\": \"Lucknow Super Giants\", \"Year\": 2022, \"Player Origin\": \"Indian\"}, {\"Player\": \"K.Bhagath Varma\", \"Role\": \"All-Rounder\", \"Amount\": 2000000, \"Team\": \"Chennai Super Kings\", \"Year\": 2021, \"Player Origin\": \"Indian\"}, {\"Player\": \"K.Bhagath Varma\", \"Role\": \"All-Rounder\", \"Amount\": 2000000, \"Team\": \"Chennai Super Kings\", \"Year\": 2022, \"Player Origin\": \"Indian\"}, {\"Player\": \"K.C Cariappa\", \"Role\": \"Bowler\", \"Amount\": 2000000, \"Team\": \"Rajasthan Royals\", \"Year\": 2021, \"Player Origin\": \"Indian\"}, {\"Player\": \"K.C Cariappa\", \"Role\": \"Bowler\", \"Amount\": 3000000, \"Team\": \"Rajasthan Royals\", \"Year\": 2022, \"Player Origin\": \"Indian\"}, {\"Player\": \"K.C. Cariappa\", \"Role\": \"Bowler\", \"Amount\": 24000000, \"Team\": \"Kolkata Knight Riders\", \"Year\": 2015, \"Player Origin\": \"Indian\"}, {\"Player\": \"K.C. Cariappa\", \"Role\": \"Bowler\", \"Amount\": 8000000, \"Team\": \"Kings XI Punjab\", \"Year\": 2016, \"Player Origin\": \"Indian\"}, {\"Player\": \"K.K. Jiyaz\", \"Role\": \"Bowler\", \"Amount\": 1000000, \"Team\": \"Delhi Daredevils\", \"Year\": 2015, \"Player Origin\": \"Indian\"}, {\"Player\": \"K.M. Asif\", \"Role\": \"Bowler\", \"Amount\": 2000000, \"Team\": \"Chennai Super Kings\", \"Year\": 2022, \"Player Origin\": \"Indian\"}, {\"Player\": \"K.S. Bharat\", \"Role\": \"Wicket Keeper\", \"Amount\": 20000000, \"Team\": \"Delhi Capitals\", \"Year\": 2022, \"Player Origin\": \"Indian\"}, {\"Player\": \"Kagiso Rabada\", \"Role\": \"Bowler\", \"Amount\": 50000000, \"Team\": \"Delhi Daredevils\", \"Year\": 2017, \"Player Origin\": \"Overseas\"}, {\"Player\": \"Kagiso Rabada\", \"Role\": \"Bowler\", \"Amount\": 42000000, \"Team\": \"Delhi Daredevils\", \"Year\": 2018, \"Player Origin\": \"Overseas\"}, {\"Player\": \"Kagiso Rabada\", \"Role\": \"Bowler\", \"Amount\": 92500000, \"Team\": \"Punjab Kings\", \"Year\": 2022, \"Player Origin\": \"Overseas\"}, {\"Player\": \"Kamlesh Nagarkoti\", \"Role\": \"All-Rounder\", \"Amount\": 32000000, \"Team\": \"Kolkata Knight Riders\", \"Year\": 2018, \"Player Origin\": \"Indian\"}, {\"Player\": \"Kamlesh Nagarkoti\", \"Role\": \"All-Rounder\", \"Amount\": 11000000, \"Team\": \"Delhi Capitals\", \"Year\": 2022, \"Player Origin\": \"Indian\"}, {\"Player\": \"Kane Richardson\", \"Role\": \"Bowler\", \"Amount\": 52500000, \"Team\": \"Pune Warriors India\", \"Year\": 2013, \"Player Origin\": \"Overseas\"}, {\"Player\": \"Kane Richardson\", \"Role\": \"Bowler\", \"Amount\": 10000000, \"Team\": \"Rajasthan Royals\", \"Year\": 2014, \"Player Origin\": \"Overseas\"}, {\"Player\": \"Kane Richardson\", \"Role\": \"Bowler\", \"Amount\": 20000000, \"Team\": \"Royal Challengers Bangalore\", \"Year\": 2016, \"Player Origin\": \"Overseas\"}, {\"Player\": \"Kane Richardson\", \"Role\": \"Bowler\", \"Amount\": 40000000, \"Team\": \"Royal Challengers Bangalore\", \"Year\": 2020, \"Player Origin\": \"Overseas\"}, {\"Player\": \"Kane Williamson\", \"Role\": \"All-Rounder\", \"Amount\": 6000000, \"Team\": \"Sunrisers Hyderabad\", \"Year\": 2015, \"Player Origin\": \"Overseas\"}, {\"Player\": \"Kane Williamson\", \"Role\": \"Batsman\", \"Amount\": 30000000, \"Team\": \"Sunrisers Hyderabad\", \"Year\": 2018, \"Player Origin\": \"Overseas\"}, {\"Player\": \"Kanishk Seth\", \"Role\": \"All-Rounder\", \"Amount\": 2000000, \"Team\": \"Chennai Super Kings\", \"Year\": 2018, \"Player Origin\": \"Indian\"}, {\"Player\": \"Karan Sharma\", \"Role\": \"All-Rounder\", \"Amount\": 2000000, \"Team\": \"Lucknow Super Giants\", \"Year\": 2022, \"Player Origin\": \"Indian\"}, {\"Player\": \"Karanveer Singh\", \"Role\": \"All-Rounder\", \"Amount\": 1000000, \"Team\": \"Kings XI Punjab\", \"Year\": 2014, \"Player Origin\": \"Indian\"}, {\"Player\": \"Karn Sharma\", \"Role\": \"Bowler\", \"Amount\": 37500000, \"Team\": \"Sunrisers Hyderabad\", \"Year\": 2014, \"Player Origin\": \"Indian\"}, {\"Player\": \"Karn Sharma\", \"Role\": \"All-Rounder\", \"Amount\": 32000000, \"Team\": \"Mumbai Indians\", \"Year\": 2017, \"Player Origin\": \"Indian\"}, {\"Player\": \"Karn Sharma\", \"Role\": \"Bowler\", \"Amount\": 50000000, \"Team\": \"Chennai Super Kings\", \"Year\": 2018, \"Player Origin\": \"Indian\"}, {\"Player\": \"Karn Sharma\", \"Role\": \"Bowler\", \"Amount\": 5000000, \"Team\": \"Royal Challengers Bangalore\", \"Year\": 2022, \"Player Origin\": \"Indian\"}, {\"Player\": \"Kartik Tyagi\", \"Role\": \"Bowler\", \"Amount\": 13000000, \"Team\": \"Rajasthan Royals\", \"Year\": 2020, \"Player Origin\": \"Indian\"}, {\"Player\": \"Kartik Tyagi\", \"Role\": \"Bowler\", \"Amount\": 40000000, \"Team\": \"Sunrisers Hyderabad\", \"Year\": 2022, \"Player Origin\": \"Indian\"}, {\"Player\": \"Karun Nair\", \"Role\": \"Batsman\", \"Amount\": 7500000, \"Team\": \"Rajasthan Royals\", \"Year\": 2014, \"Player Origin\": \"Indian\"}, {\"Player\": \"Karun Nair\", \"Role\": \"Batsman\", \"Amount\": 40000000, \"Team\": \"Delhi Daredevils\", \"Year\": 2016, \"Player Origin\": \"Indian\"}, {\"Player\": \"Karun Nair\", \"Role\": \"Batsman\", \"Amount\": 56000000, \"Team\": \"Kings XI Punjab\", \"Year\": 2018, \"Player Origin\": \"Indian\"}, {\"Player\": \"Karun Nair\", \"Role\": \"Batsman\", \"Amount\": 5000000, \"Team\": \"Kolkata Knight Riders\", \"Year\": 2021, \"Player Origin\": \"Indian\"}, {\"Player\": \"Karun Nair\", \"Role\": \"Batsman\", \"Amount\": 14000000, \"Team\": \"Rajasthan Royals\", \"Year\": 2022, \"Player Origin\": \"Indian\"}, {\"Player\": \"Kedar Jadhav\", \"Role\": \"Batsman\", \"Amount\": 20000000, \"Team\": \"Delhi Daredevils\", \"Year\": 2014, \"Player Origin\": \"Indian\"}, {\"Player\": \"Kedar Jadhav\", \"Role\": \"All-Rounder\", \"Amount\": 78000000, \"Team\": \"Chennai Super Kings\", \"Year\": 2018, \"Player Origin\": \"Indian\"}, {\"Player\": \"Kedar Jadhav\", \"Role\": \"All-Rounder\", \"Amount\": 20000000, \"Team\": \"Sunrisers Hyderabad\", \"Year\": 2021, \"Player Origin\": \"Indian\"}, {\"Player\": \"Keemo Paul\", \"Role\": \"All-Rounder\", \"Amount\": 5000000, \"Team\": \"Delhi Capitals\", \"Year\": 2019, \"Player Origin\": \"Overseas\"}, {\"Player\": \"Kevin Pietersen\", \"Role\": \"Batsman\", \"Amount\": 90000000, \"Team\": \"Delhi Daredevils\", \"Year\": 2014, \"Player Origin\": \"Overseas\"}, {\"Player\": \"Kevin Pietersen\", \"Role\": \"Batsman\", \"Amount\": 20000000, \"Team\": \"Sunrisers Hyderabad\", \"Year\": 2015, \"Player Origin\": \"Overseas\"}, {\"Player\": \"Kevin Pietersen\", \"Role\": \"Batsman\", \"Amount\": 35000000, \"Team\": \"Rising Pune Supergiant\", \"Year\": 2016, \"Player Origin\": \"Overseas\"}, {\"Player\": \"Kevon Cooper\", \"Role\": \"All-Rounder\", \"Amount\": 3000000, \"Team\": \"Rajasthan Royals\", \"Year\": 2014, \"Player Origin\": \"Overseas\"}, {\"Player\": \"Kieron Pollard\", \"Role\": \"All-Rounder\", \"Amount\": 54000000, \"Team\": \"Mumbai Indians\", \"Year\": 2018, \"Player Origin\": \"Overseas\"}, {\"Player\": \"Kishore Pramod Kamath\", \"Role\": \"All-Rounder\", \"Amount\": 14000000, \"Team\": \"Mumbai Indians\", \"Year\": 2016, \"Player Origin\": \"Indian\"}, {\"Player\": \"KL Rahul\", \"Role\": \"Batsman\", \"Amount\": 10000000, \"Team\": \"Sunrisers Hyderabad\", \"Year\": 2014, \"Player Origin\": \"Indian\"}, {\"Player\": \"KL Rahul\", \"Role\": \"Batsman\", \"Amount\": 110000000, \"Team\": \"Kings XI Punjab\", \"Year\": 2018, \"Player Origin\": \"Indian\"}, {\"Player\": \"Kona Srikar Bharat\", \"Role\": \"Wicket Keeper\", \"Amount\": 1000000, \"Team\": \"Delhi Daredevils\", \"Year\": 2015, \"Player Origin\": \"Indian\"}, {\"Player\": \"Kona Srikar Bharat\", \"Role\": \"Wicket Keeper\", \"Amount\": 2000000, \"Team\": \"Royal Challengers Bangalore\", \"Year\": 2021, \"Player Origin\": \"Indian\"}, {\"Player\": \"Krishnappa Gowtham\", \"Role\": \"All-Rounder\", \"Amount\": 20000000, \"Team\": \"Mumbai Indians\", \"Year\": 2017, \"Player Origin\": \"Indian\"}, {\"Player\": \"Krishnappa Gowtham\", \"Role\": \"Bowler\", \"Amount\": 62000000, \"Team\": \"Rajasthan Royals\", \"Year\": 2018, \"Player Origin\": \"Indian\"}, {\"Player\": \"Krishnappa Gowtham\", \"Role\": \"All-Rounder\", \"Amount\": 92500000, \"Team\": \"Chennai Super Kings\", \"Year\": 2021, \"Player Origin\": \"Indian\"}, {\"Player\": \"Krismar Santokie\", \"Role\": \"Bowler\", \"Amount\": 3000000, \"Team\": \"Mumbai Indians\", \"Year\": 2014, \"Player Origin\": \"Overseas\"}, {\"Player\": \"Krunal Pandya\", \"Role\": \"All-Rounder\", \"Amount\": 20000000, \"Team\": \"Mumbai Indians\", \"Year\": 2016, \"Player Origin\": \"Indian\"}, {\"Player\": \"Krunal Pandya\", \"Role\": \"All-Rounder\", \"Amount\": 88000000, \"Team\": \"Mumbai Indians\", \"Year\": 2018, \"Player Origin\": \"Indian\"}, {\"Player\": \"Krunal Pandya\", \"Role\": \"All-Rounder\", \"Amount\": 82500000, \"Team\": \"Lucknow Super Giants\", \"Year\": 2022, \"Player Origin\": \"Indian\"}, {\"Player\": \"Kshitiz Sharma\", \"Role\": \"All-Rounder\", \"Amount\": 2000000, \"Team\": \"Chennai Super Kings\", \"Year\": 2018, \"Player Origin\": \"Indian\"}, {\"Player\": \"Kuldeep Sen\", \"Role\": \"Bowler\", \"Amount\": 2000000, \"Team\": \"Rajasthan Royals\", \"Year\": 2022, \"Player Origin\": \"Indian\"}, {\"Player\": \"Kuldeep Yadav\", \"Role\": \"Bowler\", \"Amount\": 4000000, \"Team\": \"Kolkata Knight Riders\", \"Year\": 2014, \"Player Origin\": \"Indian\"}, {\"Player\": \"Kuldeep Yadav\", \"Role\": \"Bowler\", \"Amount\": 58000000, \"Team\": \"Kolkata Knight Riders\", \"Year\": 2018, \"Player Origin\": \"Indian\"}, {\"Player\": \"Kuldeep Yadav\", \"Role\": \"Bowler\", \"Amount\": 20000000, \"Team\": \"Delhi Capitals\", \"Year\": 2022, \"Player Origin\": \"Indian\"}, {\"Player\": \"Kuldip Yadav\", \"Role\": \"Bowler\", \"Amount\": 2000000, \"Team\": \"Rajasthan Royals\", \"Year\": 2021, \"Player Origin\": \"Indian\"}, {\"Player\": \"Kuldip Yadav\", \"Role\": \"Bowler\", \"Amount\": 2000000, \"Team\": \"Rajasthan Royals\", \"Year\": 2022, \"Player Origin\": \"Indian\"}, {\"Player\": \"Kulwant Khejroliya\", \"Role\": \"Bowler\", \"Amount\": 1000000, \"Team\": \"Mumbai Indians\", \"Year\": 2017, \"Player Origin\": \"Indian\"}, {\"Player\": \"Kulwant Khejroliya\", \"Role\": \"Bowler\", \"Amount\": 8500000, \"Team\": \"Royal Challengers Bangalore\", \"Year\": 2018, \"Player Origin\": \"Indian\"}, {\"Player\": \"Kusal Janith Perera\", \"Role\": \"Wicket Keeper\", \"Amount\": 1500000, \"Team\": \"Rajasthan Royals\", \"Year\": 2013, \"Player Origin\": \"Indian\"}, {\"Player\": \"Kyle Abbott\", \"Role\": \"Bowler\", \"Amount\": 3000000, \"Team\": \"Chennai Super Kings\", \"Year\": 2015, \"Player Origin\": \"Overseas\"}, {\"Player\": \"Kyle Abbott\", \"Role\": \"Bowler\", \"Amount\": 21000000, \"Team\": \"Kings XI Punjab\", \"Year\": 2016, \"Player Origin\": \"Overseas\"}, {\"Player\": \"Kyle Jamieson\", \"Role\": \"All-Rounder\", \"Amount\": 150000000, \"Team\": \"Royal Challengers Bangalore\", \"Year\": 2021, \"Player Origin\": \"Overseas\"}, {\"Player\": \"Kyle Mayers\", \"Role\": \"All-Rounder\", \"Amount\": 5000000, \"Team\": \"Lucknow Super Giants\", \"Year\": 2022, \"Player Origin\": \"Overseas\"}, {\"Player\": \"Lakshmipathy Balaji\", \"Role\": \"Bowler\", \"Amount\": 18000000, \"Team\": \"Kings XI Punjab\", \"Year\": 2014, \"Player Origin\": \"Indian\"}, {\"Player\": \"Lalit Yadav\", \"Role\": \"All-Rounder\", \"Amount\": 2000000, \"Team\": \"Delhi Capitals\", \"Year\": 2020, \"Player Origin\": \"Indian\"}, {\"Player\": \"Lalit Yadav\", \"Role\": \"All-Rounder\", \"Amount\": 6500000, \"Team\": \"Delhi Capitals\", \"Year\": 2022, \"Player Origin\": \"Indian\"}, {\"Player\": \"Lasith Malinga\", \"Role\": \"Bowler\", \"Amount\": 20000000, \"Team\": \"Mumbai Indians\", \"Year\": 2019, \"Player Origin\": \"Overseas\"}, {\"Player\": \"Laxmi Ratan Shukla\", \"Role\": \"All-Rounder\", \"Amount\": 15000000, \"Team\": \"Delhi Daredevils\", \"Year\": 2014, \"Player Origin\": \"Indian\"}, {\"Player\": \"Laxmi Ratan Shukla\", \"Role\": \"All-Rounder\", \"Amount\": 3000000, \"Team\": \"Sunrisers Hyderabad\", \"Year\": 2015, \"Player Origin\": \"Indian\"}, {\"Player\": \"Liam Livingstone\", \"Role\": \"All-Rounder\", \"Amount\": 5000000, \"Team\": \"Rajasthan Royals\", \"Year\": 2019, \"Player Origin\": \"Overseas\"}, {\"Player\": \"Liam Livingstone\", \"Role\": \"All-Rounder\", \"Amount\": 7500000, \"Team\": \"Rajasthan Royals\", \"Year\": 2021, \"Player Origin\": \"Overseas\"}, {\"Player\": \"Liam Livingstone\", \"Role\": \"All-Rounder\", \"Amount\": 115000000, \"Team\": \"Punjab Kings\", \"Year\": 2022, \"Player Origin\": \"Overseas\"}, {\"Player\": \"Lockie Ferguson\", \"Role\": \"Bowler\", \"Amount\": 5000000, \"Team\": \"Rising Pune Supergiant\", \"Year\": 2017, \"Player Origin\": \"Overseas\"}, {\"Player\": \"Lockie Ferguson\", \"Role\": \"Bowler\", \"Amount\": 16000000, \"Team\": \"Kolkata Knight Riders\", \"Year\": 2019, \"Player Origin\": \"Overseas\"}, {\"Player\": \"Lockie Ferguson\", \"Role\": \"Bowler\", \"Amount\": 100000000, \"Team\": \"Gujarat Titans\", \"Year\": 2022, \"Player Origin\": \"Overseas\"}, {\"Player\": \"Luke Pomersbach\", \"Role\": \"Batsman\", \"Amount\": 22500000, \"Team\": \"Kings XI Punjab\", \"Year\": 2013, \"Player Origin\": \"Overseas\"}, {\"Player\": \"Lukman Hussain Meriwala\", \"Role\": \"Bowler\", \"Amount\": 2000000, \"Team\": \"Delhi Capitals\", \"Year\": 2021, \"Player Origin\": \"Indian\"}, {\"Player\": \"Lungisani Ngidi\", \"Role\": \"Bowler\", \"Amount\": 5000000, \"Team\": \"Chennai Super Kings\", \"Year\": 2018, \"Player Origin\": \"Overseas\"}, {\"Player\": \"Lungisani Ngidi\", \"Role\": \"Bowler\", \"Amount\": 5000000, \"Team\": \"Delhi Capitals\", \"Year\": 2022, \"Player Origin\": \"Overseas\"}, {\"Player\": \"Luvnith Sisodia\", \"Role\": \"Wicket Keeper\", \"Amount\": 2000000, \"Team\": \"Royal Challengers Bangalore\", \"Year\": 2022, \"Player Origin\": \"Indian\"}, {\"Player\": \"M Siddharth\", \"Role\": \"Bowler\", \"Amount\": 2000000, \"Team\": \"Kolkata Knight Riders\", \"Year\": 2020, \"Player Origin\": \"Indian\"}, {\"Player\": \"M Siddharth\", \"Role\": \"Bowler\", \"Amount\": 2000000, \"Team\": \"Delhi Capitals\", \"Year\": 2021, \"Player Origin\": \"Indian\"}, {\"Player\": \"M. Ashwin\", \"Role\": \"Bowler\", \"Amount\": 45000000, \"Team\": \"Rising Pune Supergiant\", \"Year\": 2016, \"Player Origin\": \"Indian\"}, {\"Player\": \"M. Ashwin\", \"Role\": \"Bowler\", \"Amount\": 10000000, \"Team\": \"Delhi Daredevils\", \"Year\": 2017, \"Player Origin\": \"Indian\"}, {\"Player\": \"M. Ashwin\", \"Role\": \"Bowler\", \"Amount\": 22000000, \"Team\": \"Royal Challengers Bangalore\", \"Year\": 2018, \"Player Origin\": \"Indian\"}, {\"Player\": \"M. Ashwin\", \"Role\": \"Bowler\", \"Amount\": 2000000, \"Team\": \"Kings XI Punjab\", \"Year\": 2019, \"Player Origin\": \"Indian\"}, {\"Player\": \"M. Harisankar Reddy\", \"Role\": \"Bowler\", \"Amount\": 2000000, \"Team\": \"Chennai Super Kings\", \"Year\": 2021, \"Player Origin\": \"Indian\"}, {\"Player\": \"Washington Sundar\", \"Role\": \"All-Rounder\", \"Amount\": 32000000, \"Team\": \"Royal Challengers Bangalore\", \"Year\": 2018, \"Player Origin\": \"Indian\"}, {\"Player\": \"Maheesh Theekshana\", \"Role\": \"Bowler\", \"Amount\": 7000000, \"Team\": \"Chennai Super Kings\", \"Year\": 2022, \"Player Origin\": \"Overseas\"}, {\"Player\": \"Mahipal Lomror\", \"Role\": \"All-Rounder\", \"Amount\": 1000000, \"Team\": \"Delhi Daredevils\", \"Year\": 2016, \"Player Origin\": \"Indian\"}, {\"Player\": \"Mahipal Lomror\", \"Role\": \"All-Rounder\", \"Amount\": 2000000, \"Team\": \"Rajasthan Royals\", \"Year\": 2018, \"Player Origin\": \"Indian\"}, {\"Player\": \"Mahipal Lomror\", \"Role\": \"All-Rounder\", \"Amount\": 9500000, \"Team\": \"Royal Challengers Bangalore\", \"Year\": 2022, \"Player Origin\": \"Indian\"}, {\"Player\": \"Manan Ajay Sharma\", \"Role\": \"All-Rounder\", \"Amount\": 1000000, \"Team\": \"Kolkata Knight Riders\", \"Year\": 2016, \"Player Origin\": \"Indian\"}, {\"Player\": \"Manan Vohra\", \"Role\": \"Batsman\", \"Amount\": 11000000, \"Team\": \"Royal Challengers Bangalore\", \"Year\": 2018, \"Player Origin\": \"Indian\"}, {\"Player\": \"Manan Vohra\", \"Role\": \"Batsman\", \"Amount\": 2000000, \"Team\": \"Rajasthan Royals\", \"Year\": 2019, \"Player Origin\": \"Indian\"}, {\"Player\": \"Manan Vohra\", \"Role\": \"Batsman\", \"Amount\": 2000000, \"Team\": \"Lucknow Super Giants\", \"Year\": 2022, \"Player Origin\": \"Indian\"}, {\"Player\": \"Mandeep Hardev Singh\", \"Role\": \"All-Rounder\", \"Amount\": 8000000, \"Team\": \"Kings XI Punjab\", \"Year\": 2014, \"Player Origin\": \"Indian\"}, {\"Player\": \"Mandeep Singh\", \"Role\": \"All-Rounder\", \"Amount\": 14000000, \"Team\": \"Royal Challengers Bangalore\", \"Year\": 2018, \"Player Origin\": \"Indian\"}, {\"Player\": \"Mandeep Singh\", \"Role\": \"Batsman\", \"Amount\": 11000000, \"Team\": \"Delhi Capitals\", \"Year\": 2022, \"Player Origin\": \"Indian\"}, {\"Player\": \"Manish Pandey\", \"Role\": \"Batsman\", \"Amount\": 17000000, \"Team\": \"Kolkata Knight Riders\", \"Year\": 2014, \"Player Origin\": \"Indian\"}, {\"Player\": \"Manish Pandey\", \"Role\": \"Batsman\", \"Amount\": 110000000, \"Team\": \"Sunrisers Hyderabad\", \"Year\": 2018, \"Player Origin\": \"Indian\"}, {\"Player\": \"Manish Pandey\", \"Role\": \"Batsman\", \"Amount\": 46000000, \"Team\": \"Lucknow Super Giants\", \"Year\": 2022, \"Player Origin\": \"Indian\"}, {\"Player\": \"Manjot Kalra\", \"Role\": \"Batsman\", \"Amount\": 2000000, \"Team\": \"Delhi Daredevils\", \"Year\": 2018, \"Player Origin\": \"Indian\"}, {\"Player\": \"Manoj Tiwary\", \"Role\": \"Batsman\", \"Amount\": 28000000, \"Team\": \"Delhi Daredevils\", \"Year\": 2014, \"Player Origin\": \"Indian\"}, {\"Player\": \"Manoj Tiwary\", \"Role\": \"Batsman\", \"Amount\": 5000000, \"Team\": \"Rising Pune Supergiant\", \"Year\": 2017, \"Player Origin\": \"Indian\"}, {\"Player\": \"Manoj Tiwary\", \"Role\": \"Batsman\", \"Amount\": 10000000, \"Team\": \"Kings XI Punjab\", \"Year\": 2018, \"Player Origin\": \"Indian\"}, {\"Player\": \"Manpreet Gony\", \"Role\": \"Bowler\", \"Amount\": 37500000, \"Team\": \"Kings XI Punjab\", \"Year\": 2013, \"Player Origin\": \"Indian\"}, {\"Player\": \"Manpreet Gony\", \"Role\": \"Bowler\", \"Amount\": 6000000, \"Team\": \"Gujarat Lions\", \"Year\": 2017, \"Player Origin\": \"Indian\"}, {\"Player\": \"Manprit Juneja\", \"Role\": \"Batsman\", \"Amount\": 1000000, \"Team\": \"Sunrisers Hyderabad\", \"Year\": 2014, \"Player Origin\": \"Indian\"}, {\"Player\": \"Manvinder Bisla\", \"Role\": \"Wicket Keeper\", \"Amount\": 6000000, \"Team\": \"Kolkata Knight Riders\", \"Year\": 2014, \"Player Origin\": \"Indian\"}, {\"Player\": \"Manzoor Dar\", \"Role\": \"All-Rounder\", \"Amount\": 2000000, \"Team\": \"Kings XI Punjab\", \"Year\": 2018, \"Player Origin\": \"Indian\"}, {\"Player\": \"Marchant De Lange\", \"Role\": \"Bowler\", \"Amount\": 3000000, \"Team\": \"Mumbai Indians\", \"Year\": 2014, \"Player Origin\": \"Overseas\"}, {\"Player\": \"Marco Jansen\", \"Role\": \"All-Rounder\", \"Amount\": 2000000, \"Team\": \"Mumbai Indians\", \"Year\": 2021, \"Player Origin\": \"Overseas\"}, {\"Player\": \"Marco Jansen\", \"Role\": \"All-Rounder\", \"Amount\": 42000000, \"Team\": \"Sunrisers Hyderabad\", \"Year\": 2022, \"Player Origin\": \"Overseas\"}, {\"Player\": \"Marcus Stoinis\", \"Role\": \"All-Rounder\", \"Amount\": 2500000, \"Team\": \"Delhi Daredevils\", \"Year\": 2015, \"Player Origin\": \"Overseas\"}, {\"Player\": \"Marcus Stoinis\", \"Role\": \"All-Rounder\", \"Amount\": 5500000, \"Team\": \"Kings XI Punjab\", \"Year\": 2016, \"Player Origin\": \"Overseas\"}, {\"Player\": \"Marcus Stoinis\", \"Role\": \"All-Rounder\", \"Amount\": 62000000, \"Team\": \"Kings XI Punjab\", \"Year\": 2018, \"Player Origin\": \"Overseas\"}, {\"Player\": \"Marcus Stoinis\", \"Role\": \"All-Rounder\", \"Amount\": 48000000, \"Team\": \"Delhi Capitals\", \"Year\": 2020, \"Player Origin\": \"Overseas\"}, {\"Player\": \"Mark Wood\", \"Role\": \"Bowler\", \"Amount\": 15000000, \"Team\": \"Chennai Super Kings\", \"Year\": 2018, \"Player Origin\": \"Overseas\"}, {\"Player\": \"Mark Wood\", \"Role\": \"Bowler\", \"Amount\": 75000000, \"Team\": \"Lucknow Super Giants\", \"Year\": 2022, \"Player Origin\": \"Overseas\"}, {\"Player\": \"Martin Guptill\", \"Role\": \"Batsman\", \"Amount\": 5000000, \"Team\": \"Kings XI Punjab\", \"Year\": 2017, \"Player Origin\": \"Overseas\"}, {\"Player\": \"Martin Guptill\", \"Role\": \"Batsman\", \"Amount\": 10000000, \"Team\": \"Sunrisers Hyderabad\", \"Year\": 2019, \"Player Origin\": \"Overseas\"}, {\"Player\": \"Matt Henry\", \"Role\": \"Bowler\", \"Amount\": 3000000, \"Team\": \"Chennai Super Kings\", \"Year\": 2014, \"Player Origin\": \"Overseas\"}, {\"Player\": \"Matt Henry\", \"Role\": \"Bowler\", \"Amount\": 5000000, \"Team\": \"Kings XI Punjab\", \"Year\": 2017, \"Player Origin\": \"Overseas\"}, {\"Player\": \"Matthew Wade\", \"Role\": \"Wicket Keeper\", \"Amount\": 24000000, \"Team\": \"Gujarat Titans\", \"Year\": 2022, \"Player Origin\": \"Overseas\"}, {\"Player\": \"Mayank Agarwal\", \"Role\": \"Batsman\", \"Amount\": 16000000, \"Team\": \"Delhi Daredevils\", \"Year\": 2014, \"Player Origin\": \"Indian\"}, {\"Player\": \"Mayank Agarwal\", \"Role\": \"Batsman\", \"Amount\": 10000000, \"Team\": \"Kings XI Punjab\", \"Year\": 2018, \"Player Origin\": \"Indian\"}, {\"Player\": \"Mayank Dagar\", \"Role\": \"All-Rounder\", \"Amount\": 2000000, \"Team\": \"Kings XI Punjab\", \"Year\": 2018, \"Player Origin\": \"Indian\"}, {\"Player\": \"Mayank Markande\", \"Role\": \"Bowler\", \"Amount\": 2000000, \"Team\": \"Mumbai Indians\", \"Year\": 2018, \"Player Origin\": \"Indian\"}, {\"Player\": \"Mayank Markande\", \"Role\": \"Bowler\", \"Amount\": 6500000, \"Team\": \"Mumbai Indians\", \"Year\": 2022, \"Player Origin\": \"Indian\"}, {\"Player\": \"Mayank Yadav\", \"Role\": \"Bowler\", \"Amount\": 2000000, \"Team\": \"Lucknow Super Giants\", \"Year\": 2022, \"Player Origin\": \"Indian\"}, {\"Player\": \"Michael Clarke\", \"Role\": \"Batsman\", \"Amount\": 30000000, \"Team\": \"Pune Warriors India\", \"Year\": 2013, \"Player Origin\": \"Overseas\"}, {\"Player\": \"Michael Hussey\", \"Role\": \"Batsman\", \"Amount\": 50000000, \"Team\": \"Mumbai Indians\", \"Year\": 2014, \"Player Origin\": \"Overseas\"}, {\"Player\": \"Michael Hussey\", \"Role\": \"Batsman\", \"Amount\": 15000000, \"Team\": \"Chennai Super Kings\", \"Year\": 2015, \"Player Origin\": \"Overseas\"}, {\"Player\": \"Midhun S\", \"Role\": \"All-Rounder\", \"Amount\": 2000000, \"Team\": \"Rajasthan Royals\", \"Year\": 2018, \"Player Origin\": \"Indian\"}, {\"Player\": \"Milind Kumar\", \"Role\": \"Batsman\", \"Amount\": 1000000, \"Team\": \"Delhi Daredevils\", \"Year\": 2014, \"Player Origin\": \"Indian\"}, {\"Player\": \"Milind Kumar\", \"Role\": \"All-Rounder\", \"Amount\": 2000000, \"Team\": \"Royal Challengers Bangalore\", \"Year\": 2019, \"Player Origin\": \"Indian\"}, {\"Player\": \"Milind Tandon\", \"Role\": \"All-Rounder\", \"Amount\": 1000000, \"Team\": \"Rising Pune Supergiant\", \"Year\": 2017, \"Player Origin\": \"Indian\"}, {\"Player\": \"Mitchell Johnson\", \"Role\": \"All-Rounder\", \"Amount\": 65000000, \"Team\": \"Kings XI Punjab\", \"Year\": 2014, \"Player Origin\": \"Overseas\"}, {\"Player\": \"Mitchell Johnson\", \"Role\": \"Bowler\", \"Amount\": 20000000, \"Team\": \"Mumbai Indians\", \"Year\": 2017, \"Player Origin\": \"Overseas\"}, {\"Player\": \"Mitchell Johnson\", \"Role\": \"Bowler\", \"Amount\": 20000000, \"Team\": \"Kolkata Knight Riders\", \"Year\": 2018, \"Player Origin\": \"Overseas\"}, {\"Player\": \"Mitchell Marsh\", \"Role\": \"All-Rounder\", \"Amount\": 48000000, \"Team\": \"Rising Pune Supergiant\", \"Year\": 2016, \"Player Origin\": \"Overseas\"}, {\"Player\": \"Mitchell Marsh\", \"Role\": \"All-Rounder\", \"Amount\": 20000000, \"Team\": \"Sunrisers Hyderabad\", \"Year\": 2020, \"Player Origin\": \"Overseas\"}, {\"Player\": \"Mitchell Marsh\", \"Role\": \"All-Rounder\", \"Amount\": 65000000, \"Team\": \"Delhi Capitals\", \"Year\": 2022, \"Player Origin\": \"Overseas\"}, {\"Player\": \"Mitchell McClenaghan\", \"Role\": \"Bowler\", \"Amount\": 3000000, \"Team\": \"Mumbai Indians\", \"Year\": 2015, \"Player Origin\": \"Overseas\"}, {\"Player\": \"Mitchell Santner\", \"Role\": \"All-Rounder\", \"Amount\": 5000000, \"Team\": \"Chennai Super Kings\", \"Year\": 2018, \"Player Origin\": \"Overseas\"}, {\"Player\": \"Mitchell Santner\", \"Role\": \"All-Rounder\", \"Amount\": 19000000, \"Team\": \"Chennai Super Kings\", \"Year\": 2022, \"Player Origin\": \"Overseas\"}, {\"Player\": \"Mitchell Starc\", \"Role\": \"Bowler\", \"Amount\": 50000000, \"Team\": \"Royal Challengers Bangalore\", \"Year\": 2014, \"Player Origin\": \"Overseas\"}, {\"Player\": \"Mitchell Starc\", \"Role\": \"Bowler\", \"Amount\": 94000000, \"Team\": \"Kolkata Knight Riders\", \"Year\": 2018, \"Player Origin\": \"Overseas\"}, {\"Player\": \"Mithun Manhas\", \"Role\": \"All-Rounder\", \"Amount\": 3000000, \"Team\": \"Chennai Super Kings\", \"Year\": 2014, \"Player Origin\": \"Indian\"}, {\"Player\": \"Moeen Ali\", \"Role\": \"All-Rounder\", \"Amount\": 17000000, \"Team\": \"Royal Challengers Bangalore\", \"Year\": 2018, \"Player Origin\": \"Overseas\"}, {\"Player\": \"Moeen Ali\", \"Role\": \"All-Rounder\", \"Amount\": 70000000, \"Team\": \"Chennai Super Kings\", \"Year\": 2021, \"Player Origin\": \"Overseas\"}, {\"Player\": \"Mohammad Nabi\", \"Role\": \"All-Rounder\", \"Amount\": 3000000, \"Team\": \"Sunrisers Hyderabad\", \"Year\": 2017, \"Player Origin\": \"Overseas\"}, {\"Player\": \"Mohammad Nabi\", \"Role\": \"All-Rounder\", \"Amount\": 10000000, \"Team\": \"Sunrisers Hyderabad\", \"Year\": 2018, \"Player Origin\": \"Overseas\"}, {\"Player\": \"Mohammad Nabi\", \"Role\": \"All-Rounder\", \"Amount\": 10000000, \"Team\": \"Kolkata Knight Riders\", \"Year\": 2022, \"Player Origin\": \"Overseas\"}, {\"Player\": \"Mohammad Shami\", \"Role\": \"Bowler\", \"Amount\": 42500000, \"Team\": \"Delhi Daredevils\", \"Year\": 2014, \"Player Origin\": \"Indian\"}, {\"Player\": \"Mohammad Shami\", \"Role\": \"Bowler\", \"Amount\": 30000000, \"Team\": \"Delhi Daredevils\", \"Year\": 2018, \"Player Origin\": \"Indian\"}, {\"Player\": \"Mohammad Shami\", \"Role\": \"Bowler\", \"Amount\": 48000000, \"Team\": \"Kings XI Punjab\", \"Year\": 2019, \"Player Origin\": \"Indian\"}, {\"Player\": \"Mohammad Shami\", \"Role\": \"Bowler\", \"Amount\": 62500000, \"Team\": \"Gujarat Titans\", \"Year\": 2022, \"Player Origin\": \"Indian\"}, {\"Player\": \"Mohammed Azharudeen\", \"Role\": \"Wicket Keeper\", \"Amount\": 2000000, \"Team\": \"Royal Challengers Bangalore\", \"Year\": 2021, \"Player Origin\": \"Indian\"}, {\"Player\": \"Mohammed Siraj\", \"Role\": \"Bowler\", \"Amount\": 26000000, \"Team\": \"Sunrisers Hyderabad\", \"Year\": 2017, \"Player Origin\": \"Indian\"}, {\"Player\": \"Mohammed Siraj\", \"Role\": \"Bowler\", \"Amount\": 26000000, \"Team\": \"Royal Challengers Bangalore\", \"Year\": 2018, \"Player Origin\": \"Indian\"}, {\"Player\": \"Mohd. Arshad Khan\", \"Role\": \"All-Rounder\", \"Amount\": 2000000, \"Team\": \"Mumbai Indians\", \"Year\": 2022, \"Player Origin\": \"Indian\"}, {\"Player\": \"Mohit Sharma\", \"Role\": \"Bowler\", \"Amount\": 20000000, \"Team\": \"Chennai Super Kings\", \"Year\": 2014, \"Player Origin\": \"Indian\"}, {\"Player\": \"Mohit Sharma\", \"Role\": \"Bowler\", \"Amount\": 65000000, \"Team\": \"Kings XI Punjab\", \"Year\": 2016, \"Player Origin\": \"Indian\"}, {\"Player\": \"Mohit Sharma\", \"Role\": \"Bowler\", \"Amount\": 24000000, \"Team\": \"Kings XI Punjab\", \"Year\": 2018, \"Player Origin\": \"Indian\"}, {\"Player\": \"Mohit Sharma\", \"Role\": \"Bowler\", \"Amount\": 50000000, \"Team\": \"Chennai Super Kings\", \"Year\": 2019, \"Player Origin\": \"Indian\"}, {\"Player\": \"Mohit Sharma\", \"Role\": \"Bowler\", \"Amount\": 5000000, \"Team\": \"Delhi Capitals\", \"Year\": 2020, \"Player Origin\": \"Indian\"}, {\"Player\": \"Mohsin Khan\", \"Role\": \"Bowler\", \"Amount\": 2000000, \"Team\": \"Mumbai Indians\", \"Year\": 2018, \"Player Origin\": \"Indian\"}, {\"Player\": \"Mohsin Khan\", \"Role\": \"Bowler\", \"Amount\": 2000000, \"Team\": \"Mumbai Indians\", \"Year\": 2020, \"Player Origin\": \"Indian\"}, {\"Player\": \"Mohsin Khan\", \"Role\": \"Bowler\", \"Amount\": 2000000, \"Team\": \"Lucknow Super Giants\", \"Year\": 2022, \"Player Origin\": \"Indian\"}, {\"Player\": \"Moises Henriques\", \"Role\": \"All-Rounder\", \"Amount\": 22500000, \"Team\": \"Royal Challengers Bangalore\", \"Year\": 2013, \"Player Origin\": \"Overseas\"}, {\"Player\": \"Moises Henriques\", \"Role\": \"All-Rounder\", \"Amount\": 10000000, \"Team\": \"Sunrisers Hyderabad\", \"Year\": 2014, \"Player Origin\": \"Overseas\"}, {\"Player\": \"Moises Henriques\", \"Role\": \"All-Rounder\", \"Amount\": 10000000, \"Team\": \"Kings XI Punjab\", \"Year\": 2019, \"Player Origin\": \"Overseas\"}, {\"Player\": \"Moises Henriques\", \"Role\": \"All-Rounder\", \"Amount\": 42000000, \"Team\": \"Punjab Kings\", \"Year\": 2021, \"Player Origin\": \"Overseas\"}, {\"Player\": \"Monu Singh\", \"Role\": \"Bowler\", \"Amount\": 2000000, \"Team\": \"Chennai Super Kings\", \"Year\": 2018, \"Player Origin\": \"Indian\"}, {\"Player\": \"Morne Morkel\", \"Role\": \"Bowler\", \"Amount\": 28000000, \"Team\": \"Kolkata Knight Riders\", \"Year\": 2014, \"Player Origin\": \"Overseas\"}, {\"Player\": \"Mujeeb Zadran\", \"Role\": \"Bowler\", \"Amount\": 40000000, \"Team\": \"Kings XI Punjab\", \"Year\": 2018, \"Player Origin\": \"Overseas\"}, {\"Player\": \"Mujeeb Zadran\", \"Role\": \"Bowler\", \"Amount\": 15000000, \"Team\": \"Sunrisers Hyderabad\", \"Year\": 2021, \"Player Origin\": \"Overseas\"}, {\"Player\": \"Mukesh Choudhary\", \"Role\": \"Bowler\", \"Amount\": 2000000, \"Team\": \"Chennai Super Kings\", \"Year\": 2022, \"Player Origin\": \"Indian\"}, {\"Player\": \"Munaf Patel\", \"Role\": \"Bowler\", \"Amount\": 3000000, \"Team\": \"Gujarat Lions\", \"Year\": 2017, \"Player Origin\": \"Indian\"}, {\"Player\": \"Murali Kartik\", \"Role\": \"Bowler\", \"Amount\": 10000000, \"Team\": \"Kings XI Punjab\", \"Year\": 2014, \"Player Origin\": \"Indian\"}, {\"Player\": \"Murali Vijay\", \"Role\": \"Batsman\", \"Amount\": 50000000, \"Team\": \"Delhi Daredevils\", \"Year\": 2014, \"Player Origin\": \"Indian\"}, {\"Player\": \"Murali Vijay\", \"Role\": \"Batsman\", \"Amount\": 30000000, \"Team\": \"Kings XI Punjab\", \"Year\": 2015, \"Player Origin\": \"Indian\"}, {\"Player\": \"Murali Vijay\", \"Role\": \"Batsman\", \"Amount\": 20000000, \"Team\": \"Chennai Super Kings\", \"Year\": 2018, \"Player Origin\": \"Indian\"}, {\"Player\": \"Murugan Ashwin\", \"Role\": \"Bowler\", \"Amount\": 16000000, \"Team\": \"Mumbai Indians\", \"Year\": 2022, \"Player Origin\": \"Indian\"}, {\"Player\": \"Mustafizur Rahman\", \"Role\": \"Bowler\", \"Amount\": 14000000, \"Team\": \"Sunrisers Hyderabad\", \"Year\": 2016, \"Player Origin\": \"Overseas\"}, {\"Player\": \"Mustafizur Rahman\", \"Role\": \"Bowler\", \"Amount\": 22000000, \"Team\": \"Mumbai Indians\", \"Year\": 2018, \"Player Origin\": \"Overseas\"}, {\"Player\": \"Mustafizur Rahman\", \"Role\": \"Bowler\", \"Amount\": 10000000, \"Team\": \"Rajasthan Royals\", \"Year\": 2021, \"Player Origin\": \"Overseas\"}, {\"Player\": \"Mustafizur Rahman\", \"Role\": \"Bowler\", \"Amount\": 20000000, \"Team\": \"Delhi Capitals\", \"Year\": 2022, \"Player Origin\": \"Overseas\"}, {\"Player\": \"Muttiah Muralitharan\", \"Role\": \"Bowler\", \"Amount\": 10000000, \"Team\": \"Royal Challengers Bangalore\", \"Year\": 2014, \"Player Origin\": \"Overseas\"}, {\"Player\": \"N Jagadeesan\", \"Role\": \"Wicket Keeper\", \"Amount\": 2000000, \"Team\": \"Chennai Super Kings\", \"Year\": 2018, \"Player Origin\": \"Indian\"}, {\"Player\": \"N. Jagadeesan\", \"Role\": \"Wicket Keeper\", \"Amount\": 2000000, \"Team\": \"Chennai Super Kings\", \"Year\": 2022, \"Player Origin\": \"Indian\"}, {\"Player\": \"N. Tilak Varma\", \"Role\": \"All-Rounder\", \"Amount\": 17000000, \"Team\": \"Mumbai Indians\", \"Year\": 2022, \"Player Origin\": \"Indian\"}, {\"Player\": \"Naman Ojha\", \"Role\": \"Wicket Keeper\", \"Amount\": 5000000, \"Team\": \"Sunrisers Hyderabad\", \"Year\": 2014, \"Player Origin\": \"Indian\"}, {\"Player\": \"Naman Ojha\", \"Role\": \"Wicket Keeper\", \"Amount\": 14000000, \"Team\": \"Delhi Daredevils\", \"Year\": 2018, \"Player Origin\": \"Indian\"}, {\"Player\": \"Nathan Coulter-Nile\", \"Role\": \"Bowler\", \"Amount\": 33750000, \"Team\": \"Mumbai Indians\", \"Year\": 2013, \"Player Origin\": \"Overseas\"}, {\"Player\": \"Nathan Coulter-Nile\", \"Role\": \"Bowler\", \"Amount\": 42500000, \"Team\": \"Delhi Daredevils\", \"Year\": 2014, \"Player Origin\": \"Overseas\"}, {\"Player\": \"Nathan Coulter-Nile\", \"Role\": \"Bowler\", \"Amount\": 35000000, \"Team\": \"Kolkata Knight Riders\", \"Year\": 2017, \"Player Origin\": \"Overseas\"}, {\"Player\": \"Nathan Coulter-Nile\", \"Role\": \"Bowler\", \"Amount\": 22000000, \"Team\": \"Royal Challengers Bangalore\", \"Year\": 2018, \"Player Origin\": \"Overseas\"}, {\"Player\": \"Nathan Coulter-Nile\", \"Role\": \"Bowler\", \"Amount\": 80000000, \"Team\": \"Mumbai Indians\", \"Year\": 2020, \"Player Origin\": \"Overseas\"}, {\"Player\": \"Nathan Coulter-Nile\", \"Role\": \"Bowler\", \"Amount\": 50000000, \"Team\": \"Mumbai Indians\", \"Year\": 2021, \"Player Origin\": \"Overseas\"}, {\"Player\": \"Nathan Coulter-Nile\", \"Role\": \"Bowler\", \"Amount\": 20000000, \"Team\": \"Rajasthan Royals\", \"Year\": 2022, \"Player Origin\": \"Overseas\"}, {\"Player\": \"Nathan Ellis\", \"Role\": \"Bowler\", \"Amount\": 7500000, \"Team\": \"Punjab Kings\", \"Year\": 2022, \"Player Origin\": \"Overseas\"}, {\"Player\": \"Nathan McCullum\", \"Role\": \"Bowler\", \"Amount\": 7500000, \"Team\": \"Sunrisers Hyderabad\", \"Year\": 2013, \"Player Origin\": \"Overseas\"}, {\"Player\": \"Nathu Singh\", \"Role\": \"Bowler\", \"Amount\": 32000000, \"Team\": \"Mumbai Indians\", \"Year\": 2016, \"Player Origin\": \"Indian\"}, {\"Player\": \"Nathu Singh\", \"Role\": \"Bowler\", \"Amount\": 5000000, \"Team\": \"Gujarat Lions\", \"Year\": 2017, \"Player Origin\": \"Indian\"}, {\"Player\": \"Nathu Singh\", \"Role\": \"Bowler\", \"Amount\": 2000000, \"Team\": \"Delhi Capitals\", \"Year\": 2019, \"Player Origin\": \"Indian\"}, {\"Player\": \"Navdeep Saini\", \"Role\": \"Bowler\", \"Amount\": 1000000, \"Team\": \"Delhi Daredevils\", \"Year\": 2017, \"Player Origin\": \"Indian\"}, {\"Player\": \"Navdeep Saini\", \"Role\": \"Bowler\", \"Amount\": 30000000, \"Team\": \"Royal Challengers Bangalore\", \"Year\": 2018, \"Player Origin\": \"Indian\"}, {\"Player\": \"Navdeep Saini\", \"Role\": \"Bowler\", \"Amount\": 26000000, \"Team\": \"Rajasthan Royals\", \"Year\": 2022, \"Player Origin\": \"Indian\"}, {\"Player\": \"Nic Maddinson\", \"Role\": \"Batsman\", \"Amount\": 5000000, \"Team\": \"Royal Challengers Bangalore\", \"Year\": 2014, \"Player Origin\": \"Overseas\"}, {\"Player\": \"Nicolas Pooran\", \"Role\": \"Wicket Keeper\", \"Amount\": 107500000, \"Team\": \"Sunrisers Hyderabad\", \"Year\": 2022, \"Player Origin\": \"Overseas\"}, {\"Player\": \"Nicolas Pooran\", \"Role\": \"Wicket Keeper\", \"Amount\": 3000000, \"Team\": \"Mumbai Indians\", \"Year\": 2017, \"Player Origin\": \"Overseas\"}, {\"Player\": \"Nicolas Pooran\", \"Role\": \"Wicket Keeper\", \"Amount\": 42000000, \"Team\": \"Kings XI Punjab\", \"Year\": 2019, \"Player Origin\": \"Overseas\"}, {\"Player\": \"Nidheesh M D Dinesan\", \"Role\": \"Bowler\", \"Amount\": 2000000, \"Team\": \"Mumbai Indians\", \"Year\": 2018, \"Player Origin\": \"Indian\"}, {\"Player\": \"Nikhil Shankar Naik\", \"Role\": \"Wicket Keeper\", \"Amount\": 3000000, \"Team\": \"Kings XI Punjab\", \"Year\": 2015, \"Player Origin\": \"Indian\"}, {\"Player\": \"Nikhil Shankar Naik\", \"Role\": \"Wicket Keeper\", \"Amount\": 2000000, \"Team\": \"Kolkata Knight Riders\", \"Year\": 2019, \"Player Origin\": \"Indian\"}, {\"Player\": \"Nikhil Shankar Naik\", \"Role\": \"Wicket Keeper\", \"Amount\": 2000000, \"Team\": \"Kolkata Knight Riders\", \"Year\": 2020, \"Player Origin\": \"Indian\"}, {\"Player\": \"Nitish Rana\", \"Role\": \"All-Rounder\", \"Amount\": 1000000, \"Team\": \"Mumbai Indians\", \"Year\": 2015, \"Player Origin\": \"Indian\"}, {\"Player\": \"Nitish Rana\", \"Role\": \"All-Rounder\", \"Amount\": 34000000, \"Team\": \"Kolkata Knight Riders\", \"Year\": 2018, \"Player Origin\": \"Indian\"}, {\"Player\": \"Nitish Rana\", \"Role\": \"All-Rounder\", \"Amount\": 80000000, \"Team\": \"Kolkata Knight Riders\", \"Year\": 2022, \"Player Origin\": \"Indian\"}, {\"Player\": \"Noor Ahmad\", \"Role\": \"Bowler\", \"Amount\": 3000000, \"Team\": \"Gujarat Titans\", \"Year\": 2022, \"Player Origin\": \"Overseas\"}, {\"Player\": \"Obed Mccoy\", \"Role\": \"Bowler\", \"Amount\": 7500000, \"Team\": \"Rajasthan Royals\", \"Year\": 2022, \"Player Origin\": \"Overseas\"}, {\"Player\": \"Odean Smith\", \"Role\": \"All-Rounder\", \"Amount\": 60000000, \"Team\": \"Punjab Kings\", \"Year\": 2022, \"Player Origin\": \"Overseas\"}, {\"Player\": \"Oshane Thomas\", \"Role\": \"Bowler\", \"Amount\": 11000000, \"Team\": \"Rajasthan Royals\", \"Year\": 2019, \"Player Origin\": \"Overseas\"}, {\"Player\": \"Oshane Thomas\", \"Role\": \"Bowler\", \"Amount\": 5000000, \"Team\": \"Rajasthan Royals\", \"Year\": 2020, \"Player Origin\": \"Overseas\"}, {\"Player\": \"Pankaj Jaswal\", \"Role\": \"All-Rounder\", \"Amount\": 2000000, \"Team\": \"Mumbai Indians\", \"Year\": 2019, \"Player Origin\": \"Overseas\"}, {\"Player\": \"Pankaj Singh\", \"Role\": \"Bowler\", \"Amount\": 11250000, \"Team\": \"Royal Challengers Bangalore\", \"Year\": 2013, \"Player Origin\": \"Indian\"}, {\"Player\": \"Paras Dogra\", \"Role\": \"Batsman\", \"Amount\": 1000000, \"Team\": \"Gujarat Lions\", \"Year\": 2016, \"Player Origin\": \"Indian\"}, {\"Player\": \"Pardeep Sahu\", \"Role\": \"All-Rounder\", \"Amount\": 1000000, \"Team\": \"Rajasthan Royals\", \"Year\": 2015, \"Player Origin\": \"Indian\"}, {\"Player\": \"Pardeep Sahu\", \"Role\": \"All-Rounder\", \"Amount\": 1000000, \"Team\": \"Kings XI Punjab\", \"Year\": 2016, \"Player Origin\": \"Indian\"}, {\"Player\": \"Pardeep Sahu\", \"Role\": \"Bowler\", \"Amount\": 2000000, \"Team\": \"Kings XI Punjab\", \"Year\": 2018, \"Player Origin\": \"Indian\"}, {\"Player\": \"Parthiv Patel\", \"Role\": \"Wicket Keeper\", \"Amount\": 14000000, \"Team\": \"Royal Challengers Bangalore\", \"Year\": 2014, \"Player Origin\": \"Indian\"}, {\"Player\": \"Parthiv Patel\", \"Role\": \"Wicket Keeper\", \"Amount\": 17000000, \"Team\": \"Royal Challengers Bangalore\", \"Year\": 2018, \"Player Origin\": \"Indian\"}, {\"Player\": \"Parveez Rasool\", \"Role\": \"All-Rounder\", \"Amount\": 9500000, \"Team\": \"Sunrisers Hyderabad\", \"Year\": 2014, \"Player Origin\": \"Indian\"}, {\"Player\": \"Parvinder Awana\", \"Role\": \"Bowler\", \"Amount\": 6500000, \"Team\": \"Kings XI Punjab\", \"Year\": 2014, \"Player Origin\": \"Indian\"}, {\"Player\": \"Pat Cummins\", \"Role\": \"Bowler\", \"Amount\": 54000000, \"Team\": \"Mumbai Indians\", \"Year\": 2018, \"Player Origin\": \"Overseas\"}, {\"Player\": \"Pat Cummins\", \"Role\": \"All-Rounder\", \"Amount\": 155000000, \"Team\": \"Kolkata Knight Riders\", \"Year\": 2020, \"Player Origin\": \"Overseas\"}, {\"Player\": \"Pat Cummins\", \"Role\": \"All-Rounder\", \"Amount\": 72500000, \"Team\": \"Kolkata Knight Riders\", \"Year\": 2022, \"Player Origin\": \"Overseas\"}, {\"Player\": \"Pat Cummins\", \"Role\": \"Bowler\", \"Amount\": 10000000, \"Team\": \"Kolkata Knight Riders\", \"Year\": 2014, \"Player Origin\": \"Overseas\"}, {\"Player\": \"Pat Cummins\", \"Role\": \"Bowler\", \"Amount\": 45000000, \"Team\": \"Delhi Daredevils\", \"Year\": 2017, \"Player Origin\": \"Overseas\"}, {\"Player\": \"Pavan Deshpande\", \"Role\": \"All-Rounder\", \"Amount\": 2000000, \"Team\": \"Royal Challengers Bangalore\", \"Year\": 2018, \"Player Origin\": \"Indian\"}, {\"Player\": \"Pavan Deshpande\", \"Role\": \"All-Rounder\", \"Amount\": 2000000, \"Team\": \"Royal Challengers Bangalore\", \"Year\": 2020, \"Player Origin\": \"Indian\"}, {\"Player\": \"Pawan Negi\", \"Role\": \"Bowler\", \"Amount\": 1000000, \"Team\": \"Chennai Super Kings\", \"Year\": 2014, \"Player Origin\": \"Indian\"}, {\"Player\": \"Pawan Negi\", \"Role\": \"All-Rounder\", \"Amount\": 85000000, \"Team\": \"Delhi Daredevils\", \"Year\": 2016, \"Player Origin\": \"Indian\"}, {\"Player\": \"Pawan Negi\", \"Role\": \"All-Rounder\", \"Amount\": 10000000, \"Team\": \"Royal Challengers Bangalore\", \"Year\": 2017, \"Player Origin\": \"Indian\"}, {\"Player\": \"Pawan Negi\", \"Role\": \"All-Rounder\", \"Amount\": 10000000, \"Team\": \"Royal Challengers Bangalore\", \"Year\": 2018, \"Player Origin\": \"Indian\"}, {\"Player\": \"Pawan Negi\", \"Role\": \"All-Rounder\", \"Amount\": 5000000, \"Team\": \"Kolkata Knight Riders\", \"Year\": 2021, \"Player Origin\": \"Indian\"}, {\"Player\": \"Pawan Suyal\", \"Role\": \"Bowler\", \"Amount\": 1000000, \"Team\": \"Mumbai Indians\", \"Year\": 2014, \"Player Origin\": \"Indian\"}, {\"Player\": \"Pawan Suyal\", \"Role\": \"Bowler\", \"Amount\": 1000000, \"Team\": \"Delhi Daredevils\", \"Year\": 2016, \"Player Origin\": \"Indian\"}, {\"Player\": \"Peter Handscomb\", \"Role\": \"Wicket Keeper\", \"Amount\": 3000000, \"Team\": \"Rising Pune Supergiant\", \"Year\": 2016, \"Player Origin\": \"Overseas\"}, {\"Player\": \"Philip Hughes\", \"Role\": \"Batsman\", \"Amount\": 7500000, \"Team\": \"Mumbai Indians\", \"Year\": 2013, \"Player Origin\": \"Overseas\"}, {\"Player\": \"Piyush Chawla\", \"Role\": \"Bowler\", \"Amount\": 42500000, \"Team\": \"Kolkata Knight Riders\", \"Year\": 2014, \"Player Origin\": \"Indian\"}, {\"Player\": \"Piyush Chawla\", \"Role\": \"Bowler\", \"Amount\": 42000000, \"Team\": \"Kolkata Knight Riders\", \"Year\": 2018, \"Player Origin\": \"Indian\"}, {\"Player\": \"Piyush Chawla\", \"Role\": \"Bowler\", \"Amount\": 67500000, \"Team\": \"Chennai Super Kings\", \"Year\": 2020, \"Player Origin\": \"Indian\"}, {\"Player\": \"Piyush Chawla\", \"Role\": \"Bowler\", \"Amount\": 24000000, \"Team\": \"Mumbai Indians\", \"Year\": 2021, \"Player Origin\": \"Indian\"}, {\"Player\": \"Prabhsimran Singh\", \"Role\": \"Wicket Keeper\", \"Amount\": 48000000, \"Team\": \"Kings XI Punjab\", \"Year\": 2019, \"Player Origin\": \"Indian\"}, {\"Player\": \"Prabhsimran Singh\", \"Role\": \"Wicket Keeper\", \"Amount\": 5500000, \"Team\": \"Kings XI Punjab\", \"Year\": 2020, \"Player Origin\": \"Indian\"}, {\"Player\": \"Prabhsimran Singh\", \"Role\": \"Wicket Keeper\", \"Amount\": 6000000, \"Team\": \"Punjab Kings\", \"Year\": 2022, \"Player Origin\": \"Indian\"}, {\"Player\": \"Pradeep Sangwan\", \"Role\": \"All-Rounder\", \"Amount\": 2000000, \"Team\": \"Gujarat Lions\", \"Year\": 2016, \"Player Origin\": \"Indian\"}, {\"Player\": \"Pradeep Sangwan\", \"Role\": \"Bowler\", \"Amount\": 15000000, \"Team\": \"Mumbai Indians\", \"Year\": 2018, \"Player Origin\": \"Indian\"}, {\"Player\": \"Pradeep Sangwan\", \"Role\": \"All-Rounder\", \"Amount\": 2000000, \"Team\": \"Gujarat Titans\", \"Year\": 2022, \"Player Origin\": \"Indian\"}, {\"Player\": \"Pragyan Ojha\", \"Role\": \"Bowler\", \"Amount\": 32500000, \"Team\": \"Mumbai Indians\", \"Year\": 2014, \"Player Origin\": \"Indian\"}, {\"Player\": \"Pragyan Ojha\", \"Role\": \"Bowler\", \"Amount\": 5000000, \"Team\": \"Mumbai Indians\", \"Year\": 2015, \"Player Origin\": \"Indian\"}, {\"Player\": \"Prasanth Padmanabhan\", \"Role\": \"All-Rounder\", \"Amount\": 1000000, \"Team\": \"Sunrisers Hyderabad\", \"Year\": 2015, \"Player Origin\": \"Indian\"}, {\"Player\": \"Prasanth Parameswaran\", \"Role\": \"Bowler\", \"Amount\": 3000000, \"Team\": \"Sunrisers Hyderabad\", \"Year\": 2014, \"Player Origin\": \"Indian\"}, {\"Player\": \"Prashant Chopra\", \"Role\": \"Wicket Keeper\", \"Amount\": 2000000, \"Team\": \"Rajasthan Royals\", \"Year\": 2018, \"Player Origin\": \"Indian\"}, {\"Player\": \"Prashant Solanki\", \"Role\": \"Bowler\", \"Amount\": 12000000, \"Team\": \"Chennai Super Kings\", \"Year\": 2022, \"Player Origin\": \"Indian\"}, {\"Player\": \"Prasidh Krishna\", \"Role\": \"Bowler\", \"Amount\": 100000000, \"Team\": \"Rajasthan Royals\", \"Year\": 2022, \"Player Origin\": \"Indian\"}, {\"Player\": \"Pratham Singh\", \"Role\": \"All-Rounder\", \"Amount\": 1000000, \"Team\": \"Gujarat Lions\", \"Year\": 2017, \"Player Origin\": \"Indian\"}, {\"Player\": \"Pratham Singh\", \"Role\": \"Batsman\", \"Amount\": 2000000, \"Team\": \"Kolkata Knight Riders\", \"Year\": 2022, \"Player Origin\": \"Indian\"}, {\"Player\": \"Pratyush Singh\", \"Role\": \"All-Rounder\", \"Amount\": 1000000, \"Team\": \"Chennai Super Kings\", \"Year\": 2015, \"Player Origin\": \"Indian\"}, {\"Player\": \"Pratyush Singh\", \"Role\": \"All-Rounder\", \"Amount\": 1000000, \"Team\": \"Delhi Daredevils\", \"Year\": 2016, \"Player Origin\": \"Indian\"}, {\"Player\": \"Praveen Dubey\", \"Role\": \"All-Rounder\", \"Amount\": 3500000, \"Team\": \"Royal Challengers Bangalore\", \"Year\": 2016, \"Player Origin\": \"Indian\"}, {\"Player\": \"Praveen Dubey\", \"Role\": \"All-Rounder\", \"Amount\": 1000000, \"Team\": \"Royal Challengers Bangalore\", \"Year\": 2017, \"Player Origin\": \"Indian\"}, {\"Player\": \"Praveen Kumar\", \"Role\": \"Bowler\", \"Amount\": 22000000, \"Team\": \"Sunrisers Hyderabad\", \"Year\": 2015, \"Player Origin\": \"Indian\"}, {\"Player\": \"Praveen Kumar\", \"Role\": \"Bowler\", \"Amount\": 35000000, \"Team\": \"Gujarat Lions\", \"Year\": 2016, \"Player Origin\": \"Indian\"}, {\"Player\": \"Pravin Dubey\", \"Role\": \"All-Rounder\", \"Amount\": 5000000, \"Team\": \"Delhi Capitals\", \"Year\": 2022, \"Player Origin\": \"Indian\"}, {\"Player\": \"Pravin Tambe\", \"Role\": \"Bowler\", \"Amount\": 1000000, \"Team\": \"Rajasthan Royals\", \"Year\": 2014, \"Player Origin\": \"Indian\"}, {\"Player\": \"Pravin Tambe\", \"Role\": \"Bowler\", \"Amount\": 2000000, \"Team\": \"Gujarat Lions\", \"Year\": 2016, \"Player Origin\": \"Indian\"}, {\"Player\": \"Pravin Tambe\", \"Role\": \"Bowler\", \"Amount\": 1000000, \"Team\": \"Sunrisers Hyderabad\", \"Year\": 2017, \"Player Origin\": \"Indian\"}, {\"Player\": \"Pravin Tambe\", \"Role\": \"Bowler\", \"Amount\": 2000000, \"Team\": \"Kolkata Knight Riders\", \"Year\": 2020, \"Player Origin\": \"Indian\"}, {\"Player\": \"Prayas Ray Barman\", \"Role\": \"All-Rounder\", \"Amount\": 15000000, \"Team\": \"Royal Challengers Bangalore\", \"Year\": 2019, \"Player Origin\": \"Indian\"}, {\"Player\": \"Prerak Mankad\", \"Role\": \"All-Rounder\", \"Amount\": 2000000, \"Team\": \"Punjab Kings\", \"Year\": 2022, \"Player Origin\": \"Indian\"}, {\"Player\": \"Prince Balwant Rai Singh\", \"Role\": \"All-Rounder\", \"Amount\": 2000000, \"Team\": \"Mumbai Indians\", \"Year\": 2020, \"Player Origin\": \"Indian\"}, {\"Player\": \"Prithvi Raj Yarra\", \"Role\": \"Bowler\", \"Amount\": 2000000, \"Team\": \"Kolkata Knight Riders\", \"Year\": 2019, \"Player Origin\": \"Indian\"}, {\"Player\": \"Prithvi Shaw\", \"Role\": \"Batsman\", \"Amount\": 12000000, \"Team\": \"Delhi Daredevils\", \"Year\": 2018, \"Player Origin\": \"Indian\"}, {\"Player\": \"Priyam Garg\", \"Role\": \"Batsman\", \"Amount\": 19000000, \"Team\": \"Sunrisers Hyderabad\", \"Year\": 2020, \"Player Origin\": \"Indian\"}, {\"Player\": \"Priyam Garg\", \"Role\": \"Batsman\", \"Amount\": 2000000, \"Team\": \"Sunrisers Hyderabad\", \"Year\": 2022, \"Player Origin\": \"Indian\"}, {\"Player\": \"Quinton De Kock\", \"Role\": \"Wicket Keeper\", \"Amount\": 1500000, \"Team\": \"Sunrisers Hyderabad\", \"Year\": 2013, \"Player Origin\": \"Overseas\"}, {\"Player\": \"Quinton De Kock\", \"Role\": \"Wicket Keeper\", \"Amount\": 35000000, \"Team\": \"Delhi Daredevils\", \"Year\": 2014, \"Player Origin\": \"Overseas\"}, {\"Player\": \"Quinton De Kock\", \"Role\": \"Wicket Keeper\", \"Amount\": 28000000, \"Team\": \"Royal Challengers Bangalore\", \"Year\": 2018, \"Player Origin\": \"Overseas\"}, {\"Player\": \"Quinton De Kock\", \"Role\": \"Wicket Keeper\", \"Amount\": 67500000, \"Team\": \"Lucknow Super Giants\", \"Year\": 2022, \"Player Origin\": \"Overseas\"}, {\"Player\": \"R Samarth\", \"Role\": \"Batsman\", \"Amount\": 2000000, \"Team\": \"Sunrisers Hyderabad\", \"Year\": 2022, \"Player Origin\": \"Indian\"}, {\"Player\": \"R. Ashwin\", \"Role\": \"All-Rounder\", \"Amount\": 50000000, \"Team\": \"Rajasthan Royals\", \"Year\": 2022, \"Player Origin\": \"Indian\"}, {\"Player\": \"R. Sai Kishore\", \"Role\": \"Bowler\", \"Amount\": 2000000, \"Team\": \"Chennai Super Kings\", \"Year\": 2020, \"Player Origin\": \"Indian\"}, {\"Player\": \"R. Sai Kishore\", \"Role\": \"Bowler\", \"Amount\": 30000000, \"Team\": \"Gujarat Titans\", \"Year\": 2022, \"Player Origin\": \"Indian\"}, {\"Player\": \"R. Sanjay Yadav\", \"Role\": \"All-Rounder\", \"Amount\": 1000000, \"Team\": \"Kolkata Knight Riders\", \"Year\": 2017, \"Player Origin\": \"Indian\"}, {\"Player\": \"Rahul Ajay Tripathi\", \"Role\": \"All-Rounder\", \"Amount\": 1000000, \"Team\": \"Rising Pune Supergiant\", \"Year\": 2017, \"Player Origin\": \"Indian\"}, {\"Player\": \"Rahul Buddhi\", \"Role\": \"Batsman\", \"Amount\": 2000000, \"Team\": \"Mumbai Indians\", \"Year\": 2022, \"Player Origin\": \"Indian\"}, {\"Player\": \"Rahul Chahar\", \"Role\": \"Bowler\", \"Amount\": 1000000, \"Team\": \"Rising Pune Supergiant\", \"Year\": 2017, \"Player Origin\": \"Indian\"}, {\"Player\": \"Rahul Chahar\", \"Role\": \"Bowler\", \"Amount\": 19000000, \"Team\": \"Mumbai Indians\", \"Year\": 2018, \"Player Origin\": \"Indian\"}, {\"Player\": \"Rahul Chahar\", \"Role\": \"Bowler\", \"Amount\": 52500000, \"Team\": \"Punjab Kings\", \"Year\": 2022, \"Player Origin\": \"Indian\"}, {\"Player\": \"Rahul Sharma\", \"Role\": \"Bowler\", \"Amount\": 19000000, \"Team\": \"Delhi Daredevils\", \"Year\": 2014, \"Player Origin\": \"Indian\"}, {\"Player\": \"Rahul Sharma\", \"Role\": \"Bowler\", \"Amount\": 3000000, \"Team\": \"Chennai Super Kings\", \"Year\": 2015, \"Player Origin\": \"Indian\"}, {\"Player\": \"Rahul Shukla\", \"Role\": \"Bowler\", \"Amount\": 4000000, \"Team\": \"Delhi Daredevils\", \"Year\": 2014, \"Player Origin\": \"Indian\"}, {\"Player\": \"Rahul Tewatia\", \"Role\": \"All-Rounder\", \"Amount\": 1000000, \"Team\": \"Rajasthan Royals\", \"Year\": 2014, \"Player Origin\": \"Indian\"}, {\"Player\": \"Rahul Tewatia\", \"Role\": \"All-Rounder\", \"Amount\": 2500000, \"Team\": \"Kings XI Punjab\", \"Year\": 2017, \"Player Origin\": \"Indian\"}, {\"Player\": \"Rahul Tewatia\", \"Role\": \"All-Rounder\", \"Amount\": 30000000, \"Team\": \"Delhi Daredevils\", \"Year\": 2018, \"Player Origin\": \"Indian\"}, {\"Player\": \"Rahul Tewatia\", \"Role\": \"All-Rounder\", \"Amount\": 90000000, \"Team\": \"Gujarat Titans\", \"Year\": 2022, \"Player Origin\": \"Indian\"}, {\"Player\": \"Rahul Tripathi\", \"Role\": \"Batsman\", \"Amount\": 34000000, \"Team\": \"Rajasthan Royals\", \"Year\": 2018, \"Player Origin\": \"Indian\"}, {\"Player\": \"Rahul Tripathi\", \"Role\": \"Batsman\", \"Amount\": 6000000, \"Team\": \"Kolkata Knight Riders\", \"Year\": 2020, \"Player Origin\": \"Indian\"}, {\"Player\": \"Rahul Tripathi\", \"Role\": \"Batsman\", \"Amount\": 85000000, \"Team\": \"Sunrisers Hyderabad\", \"Year\": 2022, \"Player Origin\": \"Indian\"}, {\"Player\": \"Raj Angad Bawa\", \"Role\": \"All-Rounder\", \"Amount\": 20000000, \"Team\": \"Punjab Kings\", \"Year\": 2022, \"Player Origin\": \"Indian\"}, {\"Player\": \"Rajagopal Sathish\", \"Role\": \"All-Rounder\", \"Amount\": 2000000, \"Team\": \"Kolkata Knight Riders\", \"Year\": 2016, \"Player Origin\": \"Indian\"}, {\"Player\": \"Rajat Bhatia\", \"Role\": \"All-Rounder\", \"Amount\": 17000000, \"Team\": \"Rajasthan Royals\", \"Year\": 2014, \"Player Origin\": \"Indian\"}, {\"Player\": \"Rajat Bhatia\", \"Role\": \"All-Rounder\", \"Amount\": 6000000, \"Team\": \"Rising Pune Supergiant\", \"Year\": 2016, \"Player Origin\": \"Indian\"}, {\"Player\": \"Rajat Patidar\", \"Role\": \"Batsman\", \"Amount\": 2000000, \"Team\": \"Royal Challengers Bangalore\", \"Year\": 2021, \"Player Origin\": \"Indian\"}, {\"Player\": \"Rajvardhan Hangargekar\", \"Role\": \"All-Rounder\", \"Amount\": 15000000, \"Team\": \"Chennai Super Kings\", \"Year\": 2022, \"Player Origin\": \"Indian\"}, {\"Player\": \"Ramandeep Singh\", \"Role\": \"All-Rounder\", \"Amount\": 2000000, \"Team\": \"Mumbai Indians\", \"Year\": 2022, \"Player Origin\": \"Indian\"}, {\"Player\": \"Ramesh Kumar\", \"Role\": \"Batsman\", \"Amount\": 2000000, \"Team\": \"Kolkata Knight Riders\", \"Year\": 2022, \"Player Origin\": \"Indian\"}, {\"Player\": \"Ranganath Vinay Kumar\", \"Role\": \"Bowler\", \"Amount\": 28000000, \"Team\": \"Kolkata Knight Riders\", \"Year\": 2014, \"Player Origin\": \"Indian\"}, {\"Player\": \"Ranganath Vinay Kumar\", \"Role\": \"Bowler\", \"Amount\": 10000000, \"Team\": \"Kolkata Knight Riders\", \"Year\": 2018, \"Player Origin\": \"Indian\"}, {\"Player\": \"Rashid Khan Arman\", \"Role\": \"Bowler\", \"Amount\": 40000000, \"Team\": \"Sunrisers Hyderabad\", \"Year\": 2017, \"Player Origin\": \"Overseas\"}, {\"Player\": \"Rashid Khan Arman\", \"Role\": \"Bowler\", \"Amount\": 90000000, \"Team\": \"Sunrisers Hyderabad\", \"Year\": 2018, \"Player Origin\": \"Overseas\"}, {\"Player\": \"Rasikh Dar\", \"Role\": \"Bowler\", \"Amount\": 2000000, \"Team\": \"Mumbai Indians\", \"Year\": 2019, \"Player Origin\": \"Indian\"}, {\"Player\": \"Rasikh Dar\", \"Role\": \"Bowler\", \"Amount\": 2000000, \"Team\": \"Kolkata Knight Riders\", \"Year\": 2022, \"Player Origin\": \"Indian\"}, {\"Player\": \"Rassie Van Der Dussen\", \"Role\": \"Batsman\", \"Amount\": 10000000, \"Team\": \"Rajasthan Royals\", \"Year\": 2022, \"Player Origin\": \"Overseas\"}, {\"Player\": \"Ravi Bishnoi\", \"Role\": \"Bowler\", \"Amount\": 20000000, \"Team\": \"Kings XI Punjab\", \"Year\": 2020, \"Player Origin\": \"Indian\"}, {\"Player\": \"Ravi Bopara\", \"Role\": \"All-Rounder\", \"Amount\": 10000000, \"Team\": \"Sunrisers Hyderabad\", \"Year\": 2015, \"Player Origin\": \"Indian\"}, {\"Player\": \"Ravi Rampaul\", \"Role\": \"Bowler\", \"Amount\": 21750000, \"Team\": \"Royal Challengers Bangalore\", \"Year\": 2013, \"Player Origin\": \"Overseas\"}, {\"Player\": \"Ravi Rampaul\", \"Role\": \"Bowler\", \"Amount\": 9000000, \"Team\": \"Royal Challengers Bangalore\", \"Year\": 2014, \"Player Origin\": \"Overseas\"}, {\"Player\": \"Ravichandran Ashwin\", \"Role\": \"All-Rounder\", \"Amount\": 76000000, \"Team\": \"Kings XI Punjab\", \"Year\": 2018, \"Player Origin\": \"Overseas\"}, {\"Player\": \"Ricky Bhui\", \"Role\": \"Batsman\", \"Amount\": 1000000, \"Team\": \"Sunrisers Hyderabad\", \"Year\": 2014, \"Player Origin\": \"Overseas\"}, {\"Player\": \"Ricky Bhui\", \"Role\": \"Batsman\", \"Amount\": 2000000, \"Team\": \"Sunrisers Hyderabad\", \"Year\": 2018, \"Player Origin\": \"Overseas\"}, {\"Player\": \"Ricky Ponting\", \"Role\": \"Batsman\", \"Amount\": 30000000, \"Team\": \"Mumbai Indians\", \"Year\": 2013, \"Player Origin\": \"Overseas\"}, {\"Player\": \"Riley Meredith\", \"Role\": \"Bowler\", \"Amount\": 80000000, \"Team\": \"Punjab Kings\", \"Year\": 2021, \"Player Origin\": \"Overseas\"}, {\"Player\": \"Riley Meredith\", \"Role\": \"Bowler\", \"Amount\": 10000000, \"Team\": \"Mumbai Indians\", \"Year\": 2022, \"Player Origin\": \"Overseas\"}, {\"Player\": \"Rinku Singh\", \"Role\": \"Batsman\", \"Amount\": 1000000, \"Team\": \"Kings XI Punjab\", \"Year\": 2017, \"Player Origin\": \"Indian\"}, {\"Player\": \"Rinku Singh\", \"Role\": \"Batsman\", \"Amount\": 8000000, \"Team\": \"Kolkata Knight Riders\", \"Year\": 2018, \"Player Origin\": \"Indian\"}, {\"Player\": \"Rinku Singh\", \"Role\": \"Batsman\", \"Amount\": 5500000, \"Team\": \"Kolkata Knight Riders\", \"Year\": 2022, \"Player Origin\": \"Indian\"}, {\"Player\": \"Ripal Patel\", \"Role\": \"All-Rounder\", \"Amount\": 2000000, \"Team\": \"Delhi Capitals\", \"Year\": 2021, \"Player Origin\": \"Indian\"}, {\"Player\": \"Ripal Patel\", \"Role\": \"All-Rounder\", \"Amount\": 2000000, \"Team\": \"Delhi Capitals\", \"Year\": 2022, \"Player Origin\": \"Indian\"}, {\"Player\": \"Rishabh Pant\", \"Role\": \"Wicket Keeper\", \"Amount\": 19000000, \"Team\": \"Delhi Daredevils\", \"Year\": 2016, \"Player Origin\": \"Indian\"}, {\"Player\": \"Rishi Dhawan\", \"Role\": \"All-Rounder\", \"Amount\": 30000000, \"Team\": \"Kings XI Punjab\", \"Year\": 2014, \"Player Origin\": \"Indian\"}, {\"Player\": \"Rishi Dhawan\", \"Role\": \"All-Rounder\", \"Amount\": 5500000, \"Team\": \"Kolkata Knight Riders\", \"Year\": 2017, \"Player Origin\": \"Indian\"}, {\"Player\": \"Rishi Dhawan\", \"Role\": \"All-Rounder\", \"Amount\": 5500000, \"Team\": \"Punjab Kings\", \"Year\": 2022, \"Player Origin\": \"Indian\"}, {\"Player\": \"Riyan Parag\", \"Role\": \"All-Rounder\", \"Amount\": 2000000, \"Team\": \"Rajasthan Royals\", \"Year\": 2019, \"Player Origin\": \"Indian\"}, {\"Player\": \"Riyan Parag\", \"Role\": \"All-Rounder\", \"Amount\": 38000000, \"Team\": \"Rajasthan Royals\", \"Year\": 2022, \"Player Origin\": \"Indian\"}, {\"Player\": \"Robin Uthappa\", \"Role\": \"Batsman\", \"Amount\": 50000000, \"Team\": \"Kolkata Knight Riders\", \"Year\": 2014, \"Player Origin\": \"Indian\"}, {\"Player\": \"Robin Uthappa\", \"Role\": \"Batsman\", \"Amount\": 64000000, \"Team\": \"Kolkata Knight Riders\", \"Year\": 2018, \"Player Origin\": \"Indian\"}, {\"Player\": \"Robin Uthappa\", \"Role\": \"Batsman\", \"Amount\": 30000000, \"Team\": \"Rajasthan Royals\", \"Year\": 2020, \"Player Origin\": \"Indian\"}, {\"Player\": \"Robin Uthappa\", \"Role\": \"Batsman\", \"Amount\": 20000000, \"Team\": \"Chennai Super Kings\", \"Year\": 2022, \"Player Origin\": \"Indian\"}, {\"Player\": \"Romario Shepherd\", \"Role\": \"All-Rounder\", \"Amount\": 77500000, \"Team\": \"Sunrisers Hyderabad\", \"Year\": 2022, \"Player Origin\": \"Overseas\"}, {\"Player\": \"Ronit More\", \"Role\": \"Bowler\", \"Amount\": 1000000, \"Team\": \"Chennai Super Kings\", \"Year\": 2014, \"Player Origin\": \"Indian\"}, {\"Player\": \"Ross Taylor\", \"Role\": \"Batsman\", \"Amount\": 20000000, \"Team\": \"Delhi Daredevils\", \"Year\": 2014, \"Player Origin\": \"Overseas\"}, {\"Player\": \"Rovman Powell\", \"Role\": \"All-Rounder\", \"Amount\": 3000000, \"Team\": \"Kolkata Knight Riders\", \"Year\": 2017, \"Player Origin\": \"Overseas\"}, {\"Player\": \"Rovman Powell\", \"Role\": \"Batsman\", \"Amount\": 28000000, \"Team\": \"Delhi Capitals\", \"Year\": 2022, \"Player Origin\": \"Overseas\"}, {\"Player\": \"Rudra Pratap Singh\", \"Role\": \"Bowler\", \"Amount\": 30000000, \"Team\": \"Royal Challengers Bangalore\", \"Year\": 2013, \"Player Origin\": \"Indian\"}, {\"Player\": \"Rudra Pratap Singh\", \"Role\": \"Bowler\", \"Amount\": 3000000, \"Team\": \"Rising Pune Supergiant\", \"Year\": 2016, \"Player Origin\": \"Indian\"}, {\"Player\": \"Ruturaj Gaikwad\", \"Role\": \"Batsman\", \"Amount\": 2000000, \"Team\": \"Chennai Super Kings\", \"Year\": 2019, \"Player Origin\": \"Indian\"}, {\"Player\": \"Ryan McLaren\", \"Role\": \"Bowler\", \"Amount\": 3750000, \"Team\": \"Kolkata Knight Riders\", \"Year\": 2013, \"Player Origin\": \"Overseas\"}, {\"Player\": \"Ryan Ten Doeschate\", \"Role\": \"All-Rounder\", \"Amount\": 10000000, \"Team\": \"Kolkata Knight Riders\", \"Year\": 2014, \"Player Origin\": \"Overseas\"}, {\"Player\": \"Sachin Baby\", \"Role\": \"Batsman\", \"Amount\": 1000000, \"Team\": \"Royal Challengers Bangalore\", \"Year\": 2016, \"Player Origin\": \"Indian\"}, {\"Player\": \"Sachin Baby\", \"Role\": \"Batsman\", \"Amount\": 2000000, \"Team\": \"Sunrisers Hyderabad\", \"Year\": 2018, \"Player Origin\": \"Indian\"}, {\"Player\": \"Sachin Baby\", \"Role\": \"Batsman\", \"Amount\": 2000000, \"Team\": \"Royal Challengers Bangalore\", \"Year\": 2021, \"Player Origin\": \"Indian\"}, {\"Player\": \"Sachin Rana\", \"Role\": \"Bowler\", \"Amount\": 2000000, \"Team\": \"Royal Challengers Bangalore\", \"Year\": 2014, \"Player Origin\": \"Indian\"}, {\"Player\": \"Sachithra Senanayaka\", \"Role\": \"All-Rounder\", \"Amount\": 46875000, \"Team\": \"Kolkata Knight Riders\", \"Year\": 2013, \"Player Origin\": \"Overseas\"}, {\"Player\": \"Sagar Trivedi\", \"Role\": \"All-Rounder\", \"Amount\": 1000000, \"Team\": \"Rajasthan Royals\", \"Year\": 2015, \"Player Origin\": \"Indian\"}, {\"Player\": \"Sam Billings\", \"Role\": \"Wicket Keeper\", \"Amount\": 3000000, \"Team\": \"Delhi Daredevils\", \"Year\": 2016, \"Player Origin\": \"Overseas\"}, {\"Player\": \"Sam Billings\", \"Role\": \"Wicket Keeper\", \"Amount\": 10000000, \"Team\": \"Chennai Super Kings\", \"Year\": 2018, \"Player Origin\": \"Overseas\"}, {\"Player\": \"Sam Billings\", \"Role\": \"Wicket Keeper\", \"Amount\": 20000000, \"Team\": \"Delhi Capitals\", \"Year\": 2021, \"Player Origin\": \"Overseas\"}, {\"Player\": \"Sam Billings\", \"Role\": \"Wicket Keeper\", \"Amount\": 20000000, \"Team\": \"Kolkata Knight Riders\", \"Year\": 2022, \"Player Origin\": \"Overseas\"}, {\"Player\": \"Sam Curran\", \"Role\": \"All-Rounder\", \"Amount\": 72000000, \"Team\": \"Kings XI Punjab\", \"Year\": 2019, \"Player Origin\": \"Overseas\"}, {\"Player\": \"Sam Curran\", \"Role\": \"All-Rounder\", \"Amount\": 55000000, \"Team\": \"Chennai Super Kings\", \"Year\": 2020, \"Player Origin\": \"Overseas\"}, {\"Player\": \"Samuel Badree\", \"Role\": \"Bowler\", \"Amount\": 3000000, \"Team\": \"Chennai Super Kings\", \"Year\": 2014, \"Player Origin\": \"Overseas\"}, {\"Player\": \"Samuel Badree\", \"Role\": \"Bowler\", \"Amount\": 5000000, \"Team\": \"Royal Challengers Bangalore\", \"Year\": 2016, \"Player Origin\": \"Overseas\"}, {\"Player\": \"Sandeep Bavanaka\", \"Role\": \"All-Rounder\", \"Amount\": 2000000, \"Team\": \"Sunrisers Hyderabad\", \"Year\": 2020, \"Player Origin\": \"Overseas\"}, {\"Player\": \"Sandeep Lamichhane\", \"Role\": \"Bowler\", \"Amount\": 2000000, \"Team\": \"Delhi Daredevils\", \"Year\": 2018, \"Player Origin\": \"Overseas\"}, {\"Player\": \"Sandeep Sharma\", \"Role\": \"Bowler\", \"Amount\": 8500000, \"Team\": \"Kings XI Punjab\", \"Year\": 2014, \"Player Origin\": \"Indian\"}, {\"Player\": \"Sandeep Sharma\", \"Role\": \"Bowler\", \"Amount\": 30000000, \"Team\": \"Sunrisers Hyderabad\", \"Year\": 2018, \"Player Origin\": \"Indian\"}, {\"Player\": \"Sandeep Sharma\", \"Role\": \"Bowler\", \"Amount\": 5000000, \"Team\": \"Punjab Kings\", \"Year\": 2022, \"Player Origin\": \"Indian\"}, {\"Player\": \"Sandeep Warrier\", \"Role\": \"Bowler\", \"Amount\": 1000000, \"Team\": \"Royal Challengers Bangalore\", \"Year\": 2014, \"Player Origin\": \"Indian\"}, {\"Player\": \"Sanjay Yadav\", \"Role\": \"All-Rounder\", \"Amount\": 2000000, \"Team\": \"Sunrisers Hyderabad\", \"Year\": 2020, \"Player Origin\": \"Indian\"}, {\"Player\": \"Sanjay Yadav\", \"Role\": \"All-Rounder\", \"Amount\": 5000000, \"Team\": \"Mumbai Indians\", \"Year\": 2022, \"Player Origin\": \"Indian\"}, {\"Player\": \"Sanju Samson\", \"Role\": \"Wicket Keeper\", \"Amount\": 42000000, \"Team\": \"Delhi Daredevils\", \"Year\": 2016, \"Player Origin\": \"Indian\"}, {\"Player\": \"Sanju Samson\", \"Role\": \"Wicket Keeper\", \"Amount\": 80000000, \"Team\": \"Rajasthan Royals\", \"Year\": 2018, \"Player Origin\": \"Indian\"}, {\"Player\": \"Sarabjit Ladda\", \"Role\": \"Bowler\", \"Amount\": 1000000, \"Team\": \"Gujarat Lions\", \"Year\": 2016, \"Player Origin\": \"Indian\"}, {\"Player\": \"Sarfaraz Khan\", \"Role\": \"All-Rounder\", \"Amount\": 2000000, \"Team\": \"Delhi Capitals\", \"Year\": 2022, \"Player Origin\": \"Indian\"}, {\"Player\": \"Sarfaraz Naushad Khan\", \"Role\": \"Batsman\", \"Amount\": 5000000, \"Team\": \"Royal Challengers Bangalore\", \"Year\": 2015, \"Player Origin\": \"Indian\"}, {\"Player\": \"Sarfaraz Naushad Khan\", \"Role\": \"All-Rounder\", \"Amount\": 2500000, \"Team\": \"Kings XI Punjab\", \"Year\": 2019, \"Player Origin\": \"Indian\"}, {\"Player\": \"Saurabh Dubey\", \"Role\": \"Bowler\", \"Amount\": 2000000, \"Team\": \"Sunrisers Hyderabad\", \"Year\": 2022, \"Player Origin\": \"Indian\"}, {\"Player\": \"Saurabh Kumar\", \"Role\": \"Bowler\", \"Amount\": 1000000, \"Team\": \"Rising Pune Supergiant\", \"Year\": 2017, \"Player Origin\": \"Indian\"}, {\"Player\": \"Saurabh Kumar\", \"Role\": \"All-Rounder\", \"Amount\": 2000000, \"Team\": \"Punjab Kings\", \"Year\": 2021, \"Player Origin\": \"Indian\"}, {\"Player\": \"Saurabh Tiwary\", \"Role\": \"Batsman\", \"Amount\": 7000000, \"Team\": \"Delhi Daredevils\", \"Year\": 2014, \"Player Origin\": \"Indian\"}, {\"Player\": \"Saurabh Tiwary\", \"Role\": \"Batsman\", \"Amount\": 3000000, \"Team\": \"Mumbai Indians\", \"Year\": 2017, \"Player Origin\": \"Indian\"}, {\"Player\": \"Saurabh Tiwary\", \"Role\": \"Batsman\", \"Amount\": 8000000, \"Team\": \"Mumbai Indians\", \"Year\": 2018, \"Player Origin\": \"Indian\"}, {\"Player\": \"Saurabh Tiwary\", \"Role\": \"Batsman\", \"Amount\": 5000000, \"Team\": \"Mumbai Indians\", \"Year\": 2020, \"Player Origin\": \"Indian\"}, {\"Player\": \"Sayan Ghosh\", \"Role\": \"Bowler\", \"Amount\": 1000000, \"Team\": \"Kolkata Knight Riders\", \"Year\": 2017, \"Player Origin\": \"Indian\"}, {\"Player\": \"Sayan Ghosh\", \"Role\": \"Bowler\", \"Amount\": 2000000, \"Team\": \"Delhi Daredevils\", \"Year\": 2018, \"Player Origin\": \"Indian\"}, {\"Player\": \"Sayan Sekhar Mandal\", \"Role\": \"All-Rounder\", \"Amount\": 1000000, \"Team\": \"Kolkata Knight Riders\", \"Year\": 2014, \"Player Origin\": \"Indian\"}, {\"Player\": \"Scott Boland\", \"Role\": \"Bowler\", \"Amount\": 5000000, \"Team\": \"Rising Pune Supergiant\", \"Year\": 2016, \"Player Origin\": \"Overseas\"}, {\"Player\": \"Sean Abbott\", \"Role\": \"Bowler\", \"Amount\": 10000000, \"Team\": \"Royal Challengers Bangalore\", \"Year\": 2015, \"Player Origin\": \"Overseas\"}, {\"Player\": \"Sean Abbott\", \"Role\": \"Bowler\", \"Amount\": 24000000, \"Team\": \"Sunrisers Hyderabad\", \"Year\": 2022, \"Player Origin\": \"Overseas\"}, {\"Player\": \"Shadab Jakati\", \"Role\": \"Bowler\", \"Amount\": 2000000, \"Team\": \"Royal Challengers Bangalore\", \"Year\": 2014, \"Player Origin\": \"Indian\"}, {\"Player\": \"Shadab Jakati\", \"Role\": \"All-Rounder\", \"Amount\": 2000000, \"Team\": \"Gujarat Lions\", \"Year\": 2016, \"Player Origin\": \"Indian\"}, {\"Player\": \"Shahbaz Ahamad\", \"Role\": \"Wicket Keeper\", \"Amount\": 2000000, \"Team\": \"Royal Challengers Bangalore\", \"Year\": 2020, \"Player Origin\": \"Indian\"}, {\"Player\": \"Shahbaz Ahamad\", \"Role\": \"All-Rounder\", \"Amount\": 24000000, \"Team\": \"Royal Challengers Bangalore\", \"Year\": 2022, \"Player Origin\": \"Indian\"}, {\"Player\": \"Shahbaz Nadeem\", \"Role\": \"Bowler\", \"Amount\": 8500000, \"Team\": \"Delhi Daredevils\", \"Year\": 2014, \"Player Origin\": \"Indian\"}, {\"Player\": \"Shahbaz Nadeem\", \"Role\": \"Bowler\", \"Amount\": 32000000, \"Team\": \"Delhi Daredevils\", \"Year\": 2018, \"Player Origin\": \"Indian\"}, {\"Player\": \"Shahbaz Nadeem\", \"Role\": \"Bowler\", \"Amount\": 5000000, \"Team\": \"Lucknow Super Giants\", \"Year\": 2022, \"Player Origin\": \"Indian\"}, {\"Player\": \"Shahrukh Khan\", \"Role\": \"All-Rounder\", \"Amount\": 52500000, \"Team\": \"Punjab Kings\", \"Year\": 2021, \"Player Origin\": \"Indian\"}, {\"Player\": \"Shahrukh Khan\", \"Role\": \"All-Rounder\", \"Amount\": 90000000, \"Team\": \"Punjab Kings\", \"Year\": 2022, \"Player Origin\": \"Indian\"}, {\"Player\": \"Shakib Al Hasan\", \"Role\": \"All-Rounder\", \"Amount\": 28000000, \"Team\": \"Kolkata Knight Riders\", \"Year\": 2014, \"Player Origin\": \"Overseas\"}, {\"Player\": \"Shakib Al Hasan\", \"Role\": \"All-Rounder\", \"Amount\": 20000000, \"Team\": \"Sunrisers Hyderabad\", \"Year\": 2018, \"Player Origin\": \"Overseas\"}, {\"Player\": \"Shakib Al Hasan\", \"Role\": \"All-Rounder\", \"Amount\": 32000000, \"Team\": \"Kolkata Knight Riders\", \"Year\": 2021, \"Player Origin\": \"Overseas\"}, {\"Player\": \"Shane Watson\", \"Role\": \"All-Rounder\", \"Amount\": 95000000, \"Team\": \"Royal Challengers Bangalore\", \"Year\": 2016, \"Player Origin\": \"Overseas\"}, {\"Player\": \"Shane Watson\", \"Role\": \"All-Rounder\", \"Amount\": 40000000, \"Team\": \"Chennai Super Kings\", \"Year\": 2018, \"Player Origin\": \"Overseas\"}, {\"Player\": \"Sharad Lumba\", \"Role\": \"Batsman\", \"Amount\": 2000000, \"Team\": \"Mumbai Indians\", \"Year\": 2018, \"Player Origin\": \"Indian\"}, {\"Player\": \"Shardul Thakur\", \"Role\": \"Bowler\", \"Amount\": 2000000, \"Team\": \"Kings XI Punjab\", \"Year\": 2014, \"Player Origin\": \"Indian\"}, {\"Player\": \"Shardul Thakur\", \"Role\": \"Bowler\", \"Amount\": 26000000, \"Team\": \"Chennai Super Kings\", \"Year\": 2018, \"Player Origin\": \"Indian\"}, {\"Player\": \"Shardul Thakur\", \"Role\": \"Bowler\", \"Amount\": 107500000, \"Team\": \"Delhi Capitals\", \"Year\": 2022, \"Player Origin\": \"Indian\"}, {\"Player\": \"Shashank Singh\", \"Role\": \"All-Rounder\", \"Amount\": 1000000, \"Team\": \"Delhi Daredevils\", \"Year\": 2017, \"Player Origin\": \"Indian\"}, {\"Player\": \"Shashank Singh\", \"Role\": \"All-Rounder\", \"Amount\": 3000000, \"Team\": \"Rajasthan Royals\", \"Year\": 2019, \"Player Origin\": \"Indian\"}, {\"Player\": \"Shashank Singh\", \"Role\": \"All-Rounder\", \"Amount\": 2000000, \"Team\": \"Sunrisers Hyderabad\", \"Year\": 2022, \"Player Origin\": \"Indian\"}, {\"Player\": \"Shaun Marsh\", \"Role\": \"Batsman\", \"Amount\": 22000000, \"Team\": \"Kings XI Punjab\", \"Year\": 2014, \"Player Origin\": \"Overseas\"}, {\"Player\": \"Sheldon Cottrell\", \"Role\": \"Bowler\", \"Amount\": 85000000, \"Team\": \"Kings XI Punjab\", \"Year\": 2020, \"Player Origin\": \"Overseas\"}, {\"Player\": \"Sheldon Jackson\", \"Role\": \"Batsman\", \"Amount\": 1500000, \"Team\": \"Kolkata Knight Riders\", \"Year\": 2015, \"Player Origin\": \"Indian\"}, {\"Player\": \"Sheldon Jackson\", \"Role\": \"Wicket Keeper\", \"Amount\": 2000000, \"Team\": \"Kolkata Knight Riders\", \"Year\": 2021, \"Player Origin\": \"Indian\"}, {\"Player\": \"Sheldon Jackson\", \"Role\": \"Wicket Keeper\", \"Amount\": 6000000, \"Team\": \"Kolkata Knight Riders\", \"Year\": 2022, \"Player Origin\": \"Indian\"}, {\"Player\": \"Shelley Shaurya\", \"Role\": \"Bowler\", \"Amount\": 1000000, \"Team\": \"Gujarat Lions\", \"Year\": 2017, \"Player Origin\": \"Indian\"}, {\"Player\": \"Sherfane Rutherford\", \"Role\": \"All-Rounder\", \"Amount\": 20000000, \"Team\": \"Delhi Capitals\", \"Year\": 2019, \"Player Origin\": \"Overseas\"}, {\"Player\": \"Sherfane Rutherford\", \"Role\": \"All-Rounder\", \"Amount\": 10000000, \"Team\": \"Royal Challengers Bangalore\", \"Year\": 2022, \"Player Origin\": \"Overseas\"}, {\"Player\": \"Shikhar Dhawan\", \"Role\": \"Batsman\", \"Amount\": 52000000, \"Team\": \"Sunrisers Hyderabad\", \"Year\": 2018, \"Player Origin\": \"Indian\"}, {\"Player\": \"Shikhar Dhawan\", \"Role\": \"Batsman\", \"Amount\": 82500000, \"Team\": \"Punjab Kings\", \"Year\": 2022, \"Player Origin\": \"Indian\"}, {\"Player\": \"Shimron Hetmyer\", \"Role\": \"Batsman\", \"Amount\": 42000000, \"Team\": \"Royal Challengers Bangalore\", \"Year\": 2019, \"Player Origin\": \"Overseas\"}, {\"Player\": \"Shimron Hetmyer\", \"Role\": \"Batsman\", \"Amount\": 77500000, \"Team\": \"Delhi Capitals\", \"Year\": 2020, \"Player Origin\": \"Overseas\"}, {\"Player\": \"Shimron Hetmyer\", \"Role\": \"Batsman\", \"Amount\": 85000000, \"Team\": \"Rajasthan Royals\", \"Year\": 2022, \"Player Origin\": \"Overseas\"}, {\"Player\": \"Shishir Bhavane\", \"Role\": \"Batsman\", \"Amount\": 1000000, \"Team\": \"Royal Challengers Bangalore\", \"Year\": 2015, \"Player Origin\": \"Indian\"}, {\"Player\": \"Shivam Dube\", \"Role\": \"All-Rounder\", \"Amount\": 50000000, \"Team\": \"Royal Challengers Bangalore\", \"Year\": 2019, \"Player Origin\": \"Indian\"}, {\"Player\": \"Shivam Dube\", \"Role\": \"All-Rounder\", \"Amount\": 44000000, \"Team\": \"Rajasthan Royals\", \"Year\": 2021, \"Player Origin\": \"Indian\"}, {\"Player\": \"Shivam Dube\", \"Role\": \"All-Rounder\", \"Amount\": 40000000, \"Team\": \"Chennai Super Kings\", \"Year\": 2022, \"Player Origin\": \"Indian\"}, {\"Player\": \"Shivam Mavi\", \"Role\": \"All-Rounder\", \"Amount\": 30000000, \"Team\": \"Kolkata Knight Riders\", \"Year\": 2018, \"Player Origin\": \"Indian\"}, {\"Player\": \"Shivam Mavi\", \"Role\": \"All-Rounder\", \"Amount\": 72500000, \"Team\": \"Kolkata Knight Riders\", \"Year\": 2022, \"Player Origin\": \"Indian\"}, {\"Player\": \"Shivam Sharma\", \"Role\": \"Bowler\", \"Amount\": 1000000, \"Team\": \"Kings XI Punjab\", \"Year\": 2014, \"Player Origin\": \"Indian\"}, {\"Player\": \"Shivil Kaushik\", \"Role\": \"Bowler\", \"Amount\": 1000000, \"Team\": \"Gujarat Lions\", \"Year\": 2016, \"Player Origin\": \"Indian\"}, {\"Player\": \"Shreevats Goswami\", \"Role\": \"Wicket Keeper\", \"Amount\": 10000000, \"Team\": \"Sunrisers Hyderabad\", \"Year\": 2018, \"Player Origin\": \"Indian\"}, {\"Player\": \"Shreyas Gopal\", \"Role\": \"Bowler\", \"Amount\": 1000000, \"Team\": \"Mumbai Indians\", \"Year\": 2014, \"Player Origin\": \"Indian\"}, {\"Player\": \"Shreyas Gopal\", \"Role\": \"All-Rounder\", \"Amount\": 2000000, \"Team\": \"Rajasthan Royals\", \"Year\": 2018, \"Player Origin\": \"Indian\"}, {\"Player\": \"Shreyas Gopal\", \"Role\": \"Bowler\", \"Amount\": 7500000, \"Team\": \"Sunrisers Hyderabad\", \"Year\": 2022, \"Player Origin\": \"Indian\"}, {\"Player\": \"Shreyas Iyer\", \"Role\": \"Batsman\", \"Amount\": 26000000, \"Team\": \"Delhi Daredevils\", \"Year\": 2015, \"Player Origin\": \"Indian\"}, {\"Player\": \"Shreyas Iyer\", \"Role\": \"Batsman\", \"Amount\": 122500000, \"Team\": \"Kolkata Knight Riders\", \"Year\": 2022, \"Player Origin\": \"Indian\"}, {\"Player\": \"Shrikant Mundhe\", \"Role\": \"All-Rounder\", \"Amount\": 2000000, \"Team\": \"Kolkata Knight Riders\", \"Year\": 2019, \"Player Origin\": \"Indian\"}, {\"Player\": \"Shubam Agrawal\", \"Role\": \"All-Rounder\", \"Amount\": 1000000, \"Team\": \"Gujarat Lions\", \"Year\": 2017, \"Player Origin\": \"Indian\"}, {\"Player\": \"Shubham Garhwal\", \"Role\": \"All-Rounder\", \"Amount\": 2000000, \"Team\": \"Rajasthan Royals\", \"Year\": 2022, \"Player Origin\": \"Indian\"}, {\"Player\": \"Shubham Ranjane\", \"Role\": \"All-Rounder\", \"Amount\": 2000000, \"Team\": \"Rajasthan Royals\", \"Year\": 2019, \"Player Origin\": \"Indian\"}, {\"Player\": \"Shubman Gill\", \"Role\": \"Batsman\", \"Amount\": 18000000, \"Team\": \"Kolkata Knight Riders\", \"Year\": 2018, \"Player Origin\": \"Indian\"}, {\"Player\": \"Siddarth Kaul\", \"Role\": \"Bowler\", \"Amount\": 4500000, \"Team\": \"Delhi Daredevils\", \"Year\": 2014, \"Player Origin\": \"Indian\"}, {\"Player\": \"Siddarth Kaul\", \"Role\": \"Bowler\", \"Amount\": 1000000, \"Team\": \"Sunrisers Hyderabad\", \"Year\": 2015, \"Player Origin\": \"Indian\"}, {\"Player\": \"Siddarth Kaul\", \"Role\": \"Bowler\", \"Amount\": 38000000, \"Team\": \"Sunrisers Hyderabad\", \"Year\": 2018, \"Player Origin\": \"Indian\"}, {\"Player\": \"Siddharth Kaul\", \"Role\": \"Bowler\", \"Amount\": 7500000, \"Team\": \"Royal Challengers Bangalore\", \"Year\": 2022, \"Player Origin\": \"Indian\"}, {\"Player\": \"Siddhesh Dinesh Lad\", \"Role\": \"All-Rounder\", \"Amount\": 1000000, \"Team\": \"Mumbai Indians\", \"Year\": 2015, \"Player Origin\": \"Indian\"}, {\"Player\": \"Siddhesh Dinesh Lad\", \"Role\": \"Batsman\", \"Amount\": 2000000, \"Team\": \"Mumbai Indians\", \"Year\": 2018, \"Player Origin\": \"Indian\"}, {\"Player\": \"Simarjeet Singh\", \"Role\": \"Bowler\", \"Amount\": 2000000, \"Team\": \"Chennai Super Kings\", \"Year\": 2022, \"Player Origin\": \"Indian\"}, {\"Player\": \"Srikkanth Anirudha\", \"Role\": \"Batsman\", \"Amount\": 2000000, \"Team\": \"Sunrisers Hyderabad\", \"Year\": 2014, \"Player Origin\": \"Indian\"}, {\"Player\": \"Steven Smith\", \"Role\": \"All-Rounder\", \"Amount\": 40000000, \"Team\": \"Rajasthan Royals\", \"Year\": 2014, \"Player Origin\": \"Overseas\"}, {\"Player\": \"Steven Smith\", \"Role\": \"Batsman\", \"Amount\": 22000000, \"Team\": \"Delhi Capitals\", \"Year\": 2021, \"Player Origin\": \"Overseas\"}, {\"Player\": \"Stuart Binny\", \"Role\": \"All-Rounder\", \"Amount\": 20000000, \"Team\": \"Royal Challengers Bangalore\", \"Year\": 2016, \"Player Origin\": \"Indian\"}, {\"Player\": \"Stuart Binny\", \"Role\": \"All-Rounder\", \"Amount\": 5000000, \"Team\": \"Rajasthan Royals\", \"Year\": 2018, \"Player Origin\": \"Indian\"}, {\"Player\": \"Subhranshu Senapati\", \"Role\": \"Batsman\", \"Amount\": 2000000, \"Team\": \"Chennai Super Kings\", \"Year\": 2022, \"Player Origin\": \"Indian\"}, {\"Player\": \"Subramaniam Badrinath\", \"Role\": \"Batsman\", \"Amount\": 3000000, \"Team\": \"Royal Challengers Bangalore\", \"Year\": 2015, \"Player Origin\": \"Indian\"}, {\"Player\": \"Sudeep Tyagi\", \"Role\": \"Bowler\", \"Amount\": 7500000, \"Team\": \"Sunrisers Hyderabad\", \"Year\": 2013, \"Player Origin\": \"Indian\"}, {\"Player\": \"Sumit Narwal\", \"Role\": \"All-Rounder\", \"Amount\": 1000000, \"Team\": \"Kolkata Knight Riders\", \"Year\": 2015, \"Player Origin\": \"Indian\"}, {\"Player\": \"Suryakumar Yadav\", \"Role\": \"Batsman\", \"Amount\": 7000000, \"Team\": \"Kolkata Knight Riders\", \"Year\": 2014, \"Player Origin\": \"Indian\"}, {\"Player\": \"Suryakumar Yadav\", \"Role\": \"Batsman\", \"Amount\": 32000000, \"Team\": \"Mumbai Indians\", \"Year\": 2018, \"Player Origin\": \"Indian\"}, {\"Player\": \"Sushant Marathe\", \"Role\": \"Wicket Keeper\", \"Amount\": 1000000, \"Team\": \"Mumbai Indians\", \"Year\": 2014, \"Player Origin\": \"Indian\"}, {\"Player\": \"Suyash Prabhudesai\", \"Role\": \"All-Rounder\", \"Amount\": 2000000, \"Team\": \"Royal Challengers Bangalore\", \"Year\": 2021, \"Player Origin\": \"Indian\"}, {\"Player\": \"Suyash Prabhudessai\", \"Role\": \"All-Rounder\", \"Amount\": 3000000, \"Team\": \"Royal Challengers Bangalore\", \"Year\": 2022, \"Player Origin\": \"Indian\"}, {\"Player\": \"Swapnil Singh\", \"Role\": \"All-Rounder\", \"Amount\": 1000000, \"Team\": \"Kings XI Punjab\", \"Year\": 2016, \"Player Origin\": \"Indian\"}, {\"Player\": \"Syed Khaleel Ahmed\", \"Role\": \"All-Rounder\", \"Amount\": 1000000, \"Team\": \"Delhi Daredevils\", \"Year\": 2016, \"Player Origin\": \"Indian\"}, {\"Player\": \"Syed Khaleel Ahmed\", \"Role\": \"Bowler\", \"Amount\": 30000000, \"Team\": \"Sunrisers Hyderabad\", \"Year\": 2018, \"Player Origin\": \"Indian\"}, {\"Player\": \"Syed Khaleel Ahmed\", \"Role\": \"Bowler\", \"Amount\": 52500000, \"Team\": \"Delhi Capitals\", \"Year\": 2022, \"Player Origin\": \"Indian\"}, {\"Player\": \"Syed Mehdi Hasan\", \"Role\": \"All-Rounder\", \"Amount\": 2000000, \"Team\": \"Sunrisers Hyderabad\", \"Year\": 2018, \"Player Origin\": \"Indian\"}, {\"Player\": \"T Natarajan\", \"Role\": \"Bowler\", \"Amount\": 30000000, \"Team\": \"Kings XI Punjab\", \"Year\": 2017, \"Player Origin\": \"Indian\"}, {\"Player\": \"T Natarajan\", \"Role\": \"Bowler\", \"Amount\": 4000000, \"Team\": \"Sunrisers Hyderabad\", \"Year\": 2018, \"Player Origin\": \"Indian\"}, {\"Player\": \"T. Natarajan\", \"Role\": \"Bowler\", \"Amount\": 40000000, \"Team\": \"Sunrisers Hyderabad\", \"Year\": 2022, \"Player Origin\": \"Indian\"}, {\"Player\": \"Tajinder Dhillon\", \"Role\": \"All-Rounder\", \"Amount\": 5500000, \"Team\": \"Mumbai Indians\", \"Year\": 2018, \"Player Origin\": \"Indian\"}, {\"Player\": \"Tajinder Dhillon\", \"Role\": \"All-Rounder\", \"Amount\": 2000000, \"Team\": \"Kings XI Punjab\", \"Year\": 2020, \"Player Origin\": \"Indian\"}, {\"Player\": \"Tanmay Agarwal\", \"Role\": \"Batsman\", \"Amount\": 1000000, \"Team\": \"Sunrisers Hyderabad\", \"Year\": 2017, \"Player Origin\": \"Indian\"}, {\"Player\": \"Tanmay Agarwal\", \"Role\": \"Batsman\", \"Amount\": 2000000, \"Team\": \"Sunrisers Hyderabad\", \"Year\": 2018, \"Player Origin\": \"Indian\"}, {\"Player\": \"Tanmay Mishra\", \"Role\": \"Batsman\", \"Amount\": 1000000, \"Team\": \"Royal Challengers Bangalore\", \"Year\": 2014, \"Player Origin\": \"Indian\"}, {\"Player\": \"Tejas Baroka\", \"Role\": \"Bowler\", \"Amount\": 2000000, \"Team\": \"Rajasthan Royals\", \"Year\": 2022, \"Player Origin\": \"Indian\"}, {\"Player\": \"Tejas Singh Baroka\", \"Role\": \"Bowler\", \"Amount\": 1000000, \"Team\": \"Gujarat Lions\", \"Year\": 2017, \"Player Origin\": \"Indian\"}, {\"Player\": \"Thisara Perera\", \"Role\": \"All-Rounder\", \"Amount\": 50625000, \"Team\": \"Sunrisers Hyderabad\", \"Year\": 2013, \"Player Origin\": \"Overseas\"}, {\"Player\": \"Thisara Perera\", \"Role\": \"All-Rounder\", \"Amount\": 16000000, \"Team\": \"Kings XI Punjab\", \"Year\": 2014, \"Player Origin\": \"Overseas\"}, {\"Player\": \"Thisara Perera\", \"Role\": \"All-Rounder\", \"Amount\": 10000000, \"Team\": \"Rising Pune Supergiant\", \"Year\": 2016, \"Player Origin\": \"Overseas\"}, {\"Player\": \"Tim David\", \"Role\": \"All-Rounder\", \"Amount\": 82500000, \"Team\": \"Mumbai Indians\", \"Year\": 2022, \"Player Origin\": \"Overseas\"}, {\"Player\": \"Tim Seifert\", \"Role\": \"Wicket Keeper\", \"Amount\": 5000000, \"Team\": \"Delhi Capitals\", \"Year\": 2022, \"Player Origin\": \"Overseas\"}, {\"Player\": \"Tim Southee\", \"Role\": \"Bowler\", \"Amount\": 12000000, \"Team\": \"Rajasthan Royals\", \"Year\": 2014, \"Player Origin\": \"Overseas\"}, {\"Player\": \"Tim Southee\", \"Role\": \"Bowler\", \"Amount\": 25000000, \"Team\": \"Mumbai Indians\", \"Year\": 2016, \"Player Origin\": \"Overseas\"}, {\"Player\": \"Tim Southee\", \"Role\": \"Bowler\", \"Amount\": 10000000, \"Team\": \"Royal Challengers Bangalore\", \"Year\": 2018, \"Player Origin\": \"Overseas\"}, {\"Player\": \"Tim Southee\", \"Role\": \"Bowler\", \"Amount\": 15000000, \"Team\": \"Kolkata Knight Riders\", \"Year\": 2022, \"Player Origin\": \"Overseas\"}, {\"Player\": \"Tirumalasetti Suman\", \"Role\": \"Batsman\", \"Amount\": 1000000, \"Team\": \"Sunrisers Hyderabad\", \"Year\": 2016, \"Player Origin\": \"Indian\"}, {\"Player\": \"Tom Banton\", \"Role\": \"Batsman\", \"Amount\": 10000000, \"Team\": \"Kolkata Knight Riders\", \"Year\": 2020, \"Player Origin\": \"Overseas\"}, {\"Player\": \"Tom Curran\", \"Role\": \"All-Rounder\", \"Amount\": 10000000, \"Team\": \"Rajasthan Royals\", \"Year\": 2020, \"Player Origin\": \"Overseas\"}, {\"Player\": \"Tom Curran\", \"Role\": \"All-Rounder\", \"Amount\": 52500000, \"Team\": \"Delhi Capitals\", \"Year\": 2021, \"Player Origin\": \"Overseas\"}, {\"Player\": \"Travis Head\", \"Role\": \"Batsman\", \"Amount\": 3000000, \"Team\": \"Delhi Daredevils\", \"Year\": 2015, \"Player Origin\": \"Overseas\"}, {\"Player\": \"Travis Head\", \"Role\": \"Batsman\", \"Amount\": 5000000, \"Team\": \"Royal Challengers Bangalore\", \"Year\": 2016, \"Player Origin\": \"Overseas\"}, {\"Player\": \"Trent Boult\", \"Role\": \"Bowler\", \"Amount\": 38000000, \"Team\": \"Sunrisers Hyderabad\", \"Year\": 2015, \"Player Origin\": \"Overseas\"}, {\"Player\": \"Trent Boult\", \"Role\": \"Bowler\", \"Amount\": 50000000, \"Team\": \"Kolkata Knight Riders\", \"Year\": 2017, \"Player Origin\": \"Overseas\"}, {\"Player\": \"Trent Boult\", \"Role\": \"Bowler\", \"Amount\": 22000000, \"Team\": \"Delhi Daredevils\", \"Year\": 2018, \"Player Origin\": \"Overseas\"}, {\"Player\": \"Trent Boult\", \"Role\": \"Bowler\", \"Amount\": 80000000, \"Team\": \"Rajasthan Royals\", \"Year\": 2022, \"Player Origin\": \"Overseas\"}, {\"Player\": \"Tushar Deshpande\", \"Role\": \"Bowler\", \"Amount\": 2000000, \"Team\": \"Delhi Capitals\", \"Year\": 2020, \"Player Origin\": \"Indian\"}, {\"Player\": \"Tushar Deshpande\", \"Role\": \"Bowler\", \"Amount\": 2000000, \"Team\": \"Chennai Super Kings\", \"Year\": 2022, \"Player Origin\": \"Indian\"}, {\"Player\": \"Tymal Mills\", \"Role\": \"Bowler\", \"Amount\": 120000000, \"Team\": \"Royal Challengers Bangalore\", \"Year\": 2017, \"Player Origin\": \"Overseas\"}, {\"Player\": \"Tymal Mills\", \"Role\": \"Bowler\", \"Amount\": 15000000, \"Team\": \"Mumbai Indians\", \"Year\": 2022, \"Player Origin\": \"Overseas\"}, {\"Player\": \"Umang Sharma\", \"Role\": \"Batsman\", \"Amount\": 1000000, \"Team\": \"Gujarat Lions\", \"Year\": 2016, \"Player Origin\": \"Indian\"}, {\"Player\": \"Umesh Yadav\", \"Role\": \"Bowler\", \"Amount\": 26000000, \"Team\": \"Kolkata Knight Riders\", \"Year\": 2014, \"Player Origin\": \"Indian\"}, {\"Player\": \"Umesh Yadav\", \"Role\": \"Bowler\", \"Amount\": 42000000, \"Team\": \"Royal Challengers Bangalore\", \"Year\": 2018, \"Player Origin\": \"Indian\"}, {\"Player\": \"Umesh Yadav\", \"Role\": \"Bowler\", \"Amount\": 10000000, \"Team\": \"Delhi Capitals\", \"Year\": 2021, \"Player Origin\": \"Indian\"}, {\"Player\": \"Umesh Yadav\", \"Role\": \"Bowler\", \"Amount\": 20000000, \"Team\": \"Kolkata Knight Riders\", \"Year\": 2022, \"Player Origin\": \"Indian\"}, {\"Player\": \"Unmukt Chand\", \"Role\": \"Batsman\", \"Amount\": 6500000, \"Team\": \"Rajasthan Royals\", \"Year\": 2014, \"Player Origin\": \"Indian\"}, {\"Player\": \"Utkarsh Singh\", \"Role\": \"All-Rounder\", \"Amount\": 2000000, \"Team\": \"Punjab Kings\", \"Year\": 2021, \"Player Origin\": \"Indian\"}, {\"Player\": \"Vaibhav Arora\", \"Role\": \"Bowler\", \"Amount\": 2000000, \"Team\": \"Kolkata Knight Riders\", \"Year\": 2021, \"Player Origin\": \"Indian\"}, {\"Player\": \"Vaibhav Arora\", \"Role\": \"Bowler\", \"Amount\": 20000000, \"Team\": \"Punjab Kings\", \"Year\": 2022, \"Player Origin\": \"Indian\"}, {\"Player\": \"Vaibhav Rawal\", \"Role\": \"All-Rounder\", \"Amount\": 1000000, \"Team\": \"Kolkata Knight Riders\", \"Year\": 2015, \"Player Origin\": \"Indian\"}, {\"Player\": \"Varun Aaron\", \"Role\": \"Bowler\", \"Amount\": 20000000, \"Team\": \"Royal Challengers Bangalore\", \"Year\": 2014, \"Player Origin\": \"Indian\"}, {\"Player\": \"Varun Aaron\", \"Role\": \"Bowler\", \"Amount\": 28000000, \"Team\": \"Kings XI Punjab\", \"Year\": 2017, \"Player Origin\": \"Indian\"}, {\"Player\": \"Varun Aaron\", \"Role\": \"Bowler\", \"Amount\": 24000000, \"Team\": \"Rajasthan Royals\", \"Year\": 2019, \"Player Origin\": \"Indian\"}, {\"Player\": \"Varun Aaron\", \"Role\": \"Bowler\", \"Amount\": 5000000, \"Team\": \"Gujarat Titans\", \"Year\": 2022, \"Player Origin\": \"Indian\"}, {\"Player\": \"Varun Chakaravarthy\", \"Role\": \"All-Rounder\", \"Amount\": 84000000, \"Team\": \"Kings XI Punjab\", \"Year\": 2019, \"Player Origin\": \"Indian\"}, {\"Player\": \"Varun Chakaravarthy\", \"Role\": \"All-Rounder\", \"Amount\": 40000000, \"Team\": \"Kolkata Knight Riders\", \"Year\": 2020, \"Player Origin\": \"Indian\"}, {\"Player\": \"Veer Pratap Singh\", \"Role\": \"Bowler\", \"Amount\": 4000000, \"Team\": \"Kolkata Knight Riders\", \"Year\": 2014, \"Player Origin\": \"Indian\"}, {\"Player\": \"Venkatesh Iyer\", \"Role\": \"All-Rounder\", \"Amount\": 2000000, \"Team\": \"Kolkata Knight Riders\", \"Year\": 2021, \"Player Origin\": \"Indian\"}, {\"Player\": \"Venugopal Rao\", \"Role\": \"Batsman\", \"Amount\": 5500000, \"Team\": \"Sunrisers Hyderabad\", \"Year\": 2014, \"Player Origin\": \"Indian\"}, {\"Player\": \"Vicky Ostwal\", \"Role\": \"All-Rounder\", \"Amount\": 2000000, \"Team\": \"Delhi Capitals\", \"Year\": 2022, \"Player Origin\": \"Indian\"}, {\"Player\": \"Vijay Shankar\", \"Role\": \"All-Rounder\", \"Amount\": 1000000, \"Team\": \"Chennai Super Kings\", \"Year\": 2014, \"Player Origin\": \"Indian\"}, {\"Player\": \"Vijay Shankar\", \"Role\": \"All-Rounder\", \"Amount\": 3500000, \"Team\": \"Sunrisers Hyderabad\", \"Year\": 2016, \"Player Origin\": \"Indian\"}, {\"Player\": \"Vijay Shankar\", \"Role\": \"All-Rounder\", \"Amount\": 32000000, \"Team\": \"Delhi Daredevils\", \"Year\": 2018, \"Player Origin\": \"Indian\"}, {\"Player\": \"Vijay Shankar\", \"Role\": \"All-Rounder\", \"Amount\": 14000000, \"Team\": \"Gujarat Titans\", \"Year\": 2022, \"Player Origin\": \"Indian\"}, {\"Player\": \"Vijay Zol\", \"Role\": \"Batsman\", \"Amount\": 3000000, \"Team\": \"Royal Challengers Bangalore\", \"Year\": 2014, \"Player Origin\": \"Indian\"}, {\"Player\": \"Vikas Tokas\", \"Role\": \"Bowler\", \"Amount\": 1000000, \"Team\": \"Royal Challengers Bangalore\", \"Year\": 2016, \"Player Origin\": \"Indian\"}, {\"Player\": \"Vikramjeet Malik\", \"Role\": \"Bowler\", \"Amount\": 2000000, \"Team\": \"Rajasthan Royals\", \"Year\": 2014, \"Player Origin\": \"Indian\"}, {\"Player\": \"Vikramjeet Malik\", \"Role\": \"Bowler\", \"Amount\": 2000000, \"Team\": \"Royal Challengers Bangalore\", \"Year\": 2016, \"Player Origin\": \"Indian\"}, {\"Player\": \"Virat Singh\", \"Role\": \"Batsman\", \"Amount\": 19000000, \"Team\": \"Sunrisers Hyderabad\", \"Year\": 2020, \"Player Origin\": \"Indian\"}, {\"Player\": \"Virender Sehwag\", \"Role\": \"Batsman\", \"Amount\": 32000000, \"Team\": \"Kings XI Punjab\", \"Year\": 2014, \"Player Origin\": \"Indian\"}, {\"Player\": \"Vishnu Vinod\", \"Role\": \"Wicket Keeper\", \"Amount\": 2000000, \"Team\": \"Delhi Capitals\", \"Year\": 2021, \"Player Origin\": \"Indian\"}, {\"Player\": \"Vishnu Vinod\", \"Role\": \"Wicket Keeper\", \"Amount\": 5000000, \"Team\": \"Sunrisers Hyderabad\", \"Year\": 2022, \"Player Origin\": \"Indian\"}, {\"Player\": \"Wanindu Hasaranga\", \"Role\": \"All-Rounder\", \"Amount\": 107500000, \"Team\": \"Royal Challengers Bangalore\", \"Year\": 2022, \"Player Origin\": \"Overseas\"}, {\"Player\": \"Washington Sundar\", \"Role\": \"All-Rounder\", \"Amount\": 87500000, \"Team\": \"Sunrisers Hyderabad\", \"Year\": 2022, \"Player Origin\": \"Indian\"}, {\"Player\": \"Wayne Parnell\", \"Role\": \"Bowler\", \"Amount\": 10000000, \"Team\": \"Delhi Daredevils\", \"Year\": 2014, \"Player Origin\": \"Overseas\"}, {\"Player\": \"Wriddhiman Saha\", \"Role\": \"Wicket Keeper\", \"Amount\": 22000000, \"Team\": \"Kings XI Punjab\", \"Year\": 2014, \"Player Origin\": \"Indian\"}, {\"Player\": \"Wriddhiman Saha\", \"Role\": \"Wicket Keeper\", \"Amount\": 50000000, \"Team\": \"Sunrisers Hyderabad\", \"Year\": 2018, \"Player Origin\": \"Indian\"}, {\"Player\": \"Wriddhiman Saha\", \"Role\": \"Wicket Keeper\", \"Amount\": 12000000, \"Team\": \"Sunrisers Hyderabad\", \"Year\": 2019, \"Player Origin\": \"Indian\"}, {\"Player\": \"Wriddhiman Saha\", \"Role\": \"Wicket Keeper\", \"Amount\": 19000000, \"Team\": \"Gujarat Titans\", \"Year\": 2022, \"Player Origin\": \"Indian\"}, {\"Player\": \"Writtick Chatterjee\", \"Role\": \"All-Rounder\", \"Amount\": 2000000, \"Team\": \"Punjab Kings\", \"Year\": 2022, \"Player Origin\": \"Indian\"}, {\"Player\": \"Yash Dayal\", \"Role\": \"Bowler\", \"Amount\": 32000000, \"Team\": \"Gujarat Titans\", \"Year\": 2022, \"Player Origin\": \"Indian\"}, {\"Player\": \"Yash Dhull\", \"Role\": \"All-Rounder\", \"Amount\": 5000000, \"Team\": \"Delhi Capitals\", \"Year\": 2022, \"Player Origin\": \"Indian\"}, {\"Player\": \"Yashasvi Jaiswal\", \"Role\": \"All-Rounder\", \"Amount\": 24000000, \"Team\": \"Rajasthan Royals\", \"Year\": 2020, \"Player Origin\": \"Indian\"}, {\"Player\": \"Yogesh Gowalkar\", \"Role\": \"All-Rounder\", \"Amount\": 1000000, \"Team\": \"Kings XI Punjab\", \"Year\": 2015, \"Player Origin\": \"Indian\"}, {\"Player\": \"Yogesh Takawale\", \"Role\": \"Wicket Keeper\", \"Amount\": 1000000, \"Team\": \"Royal Challengers Bangalore\", \"Year\": 2014, \"Player Origin\": \"Indian\"}, {\"Player\": \"Yudhvir Charak\", \"Role\": \"All-Rounder\", \"Amount\": 2000000, \"Team\": \"Mumbai Indians\", \"Year\": 2021, \"Player Origin\": \"Indian\"}, {\"Player\": \"Yusuf Pathan\", \"Role\": \"All-Rounder\", \"Amount\": 32500000, \"Team\": \"Kolkata Knight Riders\", \"Year\": 2014, \"Player Origin\": \"Indian\"}, {\"Player\": \"Yusuf Pathan\", \"Role\": \"All-Rounder\", \"Amount\": 19000000, \"Team\": \"Sunrisers Hyderabad\", \"Year\": 2018, \"Player Origin\": \"Indian\"}, {\"Player\": \"Yuvraj Singh\", \"Role\": \"All-Rounder\", \"Amount\": 140000000, \"Team\": \"Royal Challengers Bangalore\", \"Year\": 2014, \"Player Origin\": \"Indian\"}, {\"Player\": \"Yuvraj Singh\", \"Role\": \"Batsman\", \"Amount\": 160000000, \"Team\": \"Delhi Daredevils\", \"Year\": 2015, \"Player Origin\": \"Indian\"}, {\"Player\": \"Yuvraj Singh\", \"Role\": \"All-Rounder\", \"Amount\": 70000000, \"Team\": \"Sunrisers Hyderabad\", \"Year\": 2016, \"Player Origin\": \"Indian\"}, {\"Player\": \"Yuvraj Singh\", \"Role\": \"All-Rounder\", \"Amount\": 20000000, \"Team\": \"Kings XI Punjab\", \"Year\": 2018, \"Player Origin\": \"Indian\"}, {\"Player\": \"Yuvraj Singh\", \"Role\": \"All-Rounder\", \"Amount\": 10000000, \"Team\": \"Mumbai Indians\", \"Year\": 2019, \"Player Origin\": \"Indian\"}, {\"Player\": \"Yuzvendra Chahal\", \"Role\": \"Bowler\", \"Amount\": 65000000, \"Team\": \"Rajasthan Royals\", \"Year\": 2022, \"Player Origin\": \"Indian\"}, {\"Player\": \"Yuzvendra Singh Chahal\", \"Role\": \"Bowler\", \"Amount\": 1000000, \"Team\": \"Royal Challengers Bangalore\", \"Year\": 2014, \"Player Origin\": \"Indian\"}, {\"Player\": \"Yuzvendra Singh Chahal\", \"Role\": \"Bowler\", \"Amount\": 60000000, \"Team\": \"Royal Challengers Bangalore\", \"Year\": 2018, \"Player Origin\": \"Indian\"}, {\"Player\": \"Zaheer Khan\", \"Role\": \"Bowler\", \"Amount\": 26000000, \"Team\": \"Mumbai Indians\", \"Year\": 2014, \"Player Origin\": \"Indian\"}, {\"Player\": \"Zaheer Khan\", \"Role\": \"Bowler\", \"Amount\": 40000000, \"Team\": \"Delhi Daredevils\", \"Year\": 2015, \"Player Origin\": \"Indian\"}, {\"Player\": \"Zahir Khan Pakteen\", \"Role\": \"Bowler\", \"Amount\": 6000000, \"Team\": \"Rajasthan Royals\", \"Year\": 2018, \"Player Origin\": \"Indian\"}], \"data-f9d47abef3f254121c403b972c5c4fe2\": [{\"Year\": 2021, \"Player\": \"Christopher Morris\", \"Amount\": 162500000}, {\"Year\": 2015, \"Player\": \"Yuvraj Singh\", \"Amount\": 160000000}, {\"Year\": 2020, \"Player\": \"Pat Cummins\", \"Amount\": 155000000}, {\"Year\": 2022, \"Player\": \"Ishan Kishan\", \"Amount\": 152500000}, {\"Year\": 2021, \"Player\": \"Kyle Jamieson\", \"Amount\": 150000000}, {\"Year\": 2017, \"Player\": \"Benjamin Stokes\", \"Amount\": 145000000}, {\"Year\": 2021, \"Player\": \"Glenn Maxwell\", \"Amount\": 142500000}, {\"Year\": 2022, \"Player\": \"Deepak Chahar\", \"Amount\": 140000000}, {\"Year\": 2014, \"Player\": \"Yuvraj Singh\", \"Amount\": 140000000}, {\"Year\": 2021, \"Player\": \"Jhye Richardson\", \"Amount\": 140000000}, {\"Year\": 2014, \"Player\": \"Dinesh Karthik\", \"Amount\": 125000000}, {\"Year\": 2018, \"Player\": \"Benjamin Stokes\", \"Amount\": 125000000}, {\"Year\": 2022, \"Player\": \"Shreyas Iyer\", \"Amount\": 122500000}, {\"Year\": 2017, \"Player\": \"Tymal Mills\", \"Amount\": 120000000}, {\"Year\": 2018, \"Player\": \"Jaydev Unadkat\", \"Amount\": 115000000}, {\"Year\": 2022, \"Player\": \"Liam Livingstone\", \"Amount\": 115000000}, {\"Year\": 2018, \"Player\": \"Manish Pandey\", \"Amount\": 110000000}, {\"Year\": 2018, \"Player\": \"KL Rahul\", \"Amount\": 110000000}, {\"Year\": 2022, \"Player\": \"Harshal Patel\", \"Amount\": 107500000}, {\"Year\": 2022, \"Player\": \"Wanindu Hasaranga\", \"Amount\": 107500000}, {\"Year\": 2022, \"Player\": \"Nicolas Pooran\", \"Amount\": 107500000}, {\"Year\": 2020, \"Player\": \"Glenn Maxwell\", \"Amount\": 107500000}, {\"Year\": 2022, \"Player\": \"Shardul Thakur\", \"Amount\": 107500000}, {\"Year\": 2015, \"Player\": \"Dinesh Karthik\", \"Amount\": 105000000}, {\"Year\": 2022, \"Player\": \"Lockie Ferguson\", \"Amount\": 100000000}, {\"Year\": 2020, \"Player\": \"Christopher Morris\", \"Amount\": 100000000}, {\"Year\": 2022, \"Player\": \"Avesh Khan\", \"Amount\": 100000000}, {\"Year\": 2018, \"Player\": \"Chris Lynn\", \"Amount\": 96000000}, {\"Year\": 2016, \"Player\": \"Shane Watson\", \"Amount\": 95000000}, {\"Year\": 2018, \"Player\": \"Mitchell Starc\", \"Amount\": 94000000}, {\"Year\": 2021, \"Player\": \"Krishnappa Gowtham\", \"Amount\": 92500000}, {\"Year\": 2018, \"Player\": \"Rashid Khan Arman\", \"Amount\": 90000000}, {\"Year\": 2018, \"Player\": \"Glenn Maxwell\", \"Amount\": 90000000}, {\"Year\": 2014, \"Player\": \"Kevin Pietersen\", \"Amount\": 90000000}, {\"Year\": 2018, \"Player\": \"Krunal Pandya\", \"Amount\": 88000000}, {\"Year\": 2016, \"Player\": \"Pawan Negi\", \"Amount\": 85000000}, {\"Year\": 2020, \"Player\": \"Sheldon Cottrell\", \"Amount\": 85000000}, {\"Year\": 2019, \"Player\": \"Jaydev Unadkat\", \"Amount\": 84000000}, {\"Year\": 2019, \"Player\": \"Varun Chakaravarthy\", \"Amount\": 84000000}, {\"Year\": 2018, \"Player\": \"Sanju Samson\", \"Amount\": 80000000}, {\"Year\": 2020, \"Player\": \"Nathan Coulter-Nile\", \"Amount\": 80000000}, {\"Year\": 2021, \"Player\": \"Riley Meredith\", \"Amount\": 80000000}, {\"Year\": 2020, \"Player\": \"Shimron Hetmyer\", \"Amount\": 77500000}, {\"Year\": 2015, \"Player\": \"Angelo Mathews\", \"Amount\": 75000000}, {\"Year\": 2013, \"Player\": \"Glenn Maxwell\", \"Amount\": 75000000}, {\"Year\": 2019, \"Player\": \"Sam Curran\", \"Amount\": 72000000}, {\"Year\": 2016, \"Player\": \"Yuvraj Singh\", \"Amount\": 70000000}, {\"Year\": 2016, \"Player\": \"Christopher Morris\", \"Amount\": 70000000}, {\"Year\": 2021, \"Player\": \"Moeen Ali\", \"Amount\": 70000000}, {\"Year\": 2020, \"Player\": \"Piyush Chawla\", \"Amount\": 67500000}, {\"Year\": 2016, \"Player\": \"Mohit Sharma\", \"Amount\": 65000000}, {\"Year\": 2014, \"Player\": \"Mitchell Johnson\", \"Amount\": 65000000}, {\"Year\": 2019, \"Player\": \"Colin Ingram\", \"Amount\": 64000000}, {\"Year\": 2014, \"Player\": \"Glenn Maxwell\", \"Amount\": 60000000}, {\"Year\": 2014, \"Player\": \"David Warner\", \"Amount\": 55000000}, {\"Year\": 2016, \"Player\": \"Ashish Nehra\", \"Amount\": 55000000}, {\"Year\": 2014, \"Player\": \"Jacques Kallis\", \"Amount\": 55000000}, {\"Year\": 2020, \"Player\": \"Sam Curran\", \"Amount\": 55000000}, {\"Year\": 2013, \"Player\": \"Ajantha Mendis\", \"Amount\": 54375000}, {\"Year\": 2020, \"Player\": \"Eoin Morgan\", \"Amount\": 52500000}, {\"Year\": 2021, \"Player\": \"Shahrukh Khan\", \"Amount\": 52500000}, {\"Year\": 2021, \"Player\": \"Tom Curran\", \"Amount\": 52500000}, {\"Year\": 2013, \"Player\": \"Kane Richardson\", \"Amount\": 52500000}, {\"Year\": 2013, \"Player\": \"Abhishek Nayar\", \"Amount\": 50625000}, {\"Year\": 2013, \"Player\": \"Thisara Perera\", \"Amount\": 50625000}, {\"Year\": 2014, \"Player\": \"Robin Uthappa\", \"Amount\": 50000000}, {\"Year\": 2014, \"Player\": \"Mitchell Starc\", \"Amount\": 50000000}, {\"Year\": 2021, \"Player\": \"Nathan Coulter-Nile\", \"Amount\": 50000000}, {\"Year\": 2019, \"Player\": \"Shivam Dube\", \"Amount\": 50000000}, {\"Year\": 2017, \"Player\": \"Trent Boult\", \"Amount\": 50000000}, {\"Year\": 2014, \"Player\": \"Murali Vijay\", \"Amount\": 50000000}, {\"Year\": 2019, \"Player\": \"Mohit Sharma\", \"Amount\": 50000000}, {\"Year\": 2019, \"Player\": \"Carlos Brathwaite\", \"Amount\": 50000000}, {\"Year\": 2017, \"Player\": \"Kagiso Rabada\", \"Amount\": 50000000}, {\"Year\": 2019, \"Player\": \"Axar Rajesh Patel\", \"Amount\": 50000000}, {\"Year\": 2019, \"Player\": \"Mohammad Shami\", \"Amount\": 48000000}, {\"Year\": 2016, \"Player\": \"Mitchell Marsh\", \"Amount\": 48000000}, {\"Year\": 2019, \"Player\": \"Prabhsimran Singh\", \"Amount\": 48000000}, {\"Year\": 2020, \"Player\": \"Marcus Stoinis\", \"Amount\": 48000000}, {\"Year\": 2013, \"Player\": \"Sachithra Senanayaka\", \"Amount\": 46875000}, {\"Year\": 2013, \"Player\": \"Christopher Morris\", \"Amount\": 46875000}, {\"Year\": 2016, \"Player\": \"M. Ashwin\", \"Amount\": 45000000}, {\"Year\": 2017, \"Player\": \"Pat Cummins\", \"Amount\": 45000000}, {\"Year\": 2013, \"Player\": \"Dirk Nannes\", \"Amount\": 45000000}, {\"Year\": 2016, \"Player\": \"Deepak Hooda\", \"Amount\": 42000000}, {\"Year\": 2016, \"Player\": \"Sanju Samson\", \"Amount\": 42000000}, {\"Year\": 2017, \"Player\": \"Chris Woakes\", \"Amount\": 42000000}, {\"Year\": 2015, \"Player\": \"Zaheer Khan\", \"Amount\": 40000000}, {\"Year\": 2017, \"Player\": \"Rashid Khan Arman\", \"Amount\": 40000000}, {\"Year\": 2013, \"Player\": \"Jaydev Unadkat\", \"Amount\": 39375000}, {\"Year\": 2015, \"Player\": \"Trent Boult\", \"Amount\": 38000000}, {\"Year\": 2013, \"Player\": \"Manpreet Gony\", \"Amount\": 37500000}, {\"Year\": 2015, \"Player\": \"Amit Mishra\", \"Amount\": 35000000}, {\"Year\": 2017, \"Player\": \"Nathan Coulter-Nile\", \"Amount\": 35000000}, {\"Year\": 2015, \"Player\": \"Aaron Finch\", \"Amount\": 32000000}, {\"Year\": 2017, \"Player\": \"Karn Sharma\", \"Amount\": 32000000}, {\"Year\": 2017, \"Player\": \"T Natarajan\", \"Amount\": 30000000}, {\"Year\": 2015, \"Player\": \"Murali Vijay\", \"Amount\": 30000000}, {\"Year\": 2015, \"Player\": \"David Wiese\", \"Amount\": 28000000}, {\"Year\": 2015, \"Player\": \"Darren Sammy\", \"Amount\": 28000000}]}}, {\"mode\": \"vega-lite\"});\n",
       "</script>"
      ],
      "text/plain": [
       "alt.VConcatChart(...)"
      ]
     },
     "execution_count": 25,
     "metadata": {},
     "output_type": "execute_result"
    }
   ],
   "source": [
    "# Install necessary packages if not already\n",
    "# pip install pandas altair vega_datasets\n",
    "\n",
    "import pandas as pd\n",
    "import altair as alt\n",
    "\n",
    "# Load your dataset\n",
    "auction = pd.read_csv('archive/IPLPlayerAuctionData.csv')\n",
    "\n",
    "# Data Cleaning\n",
    "auction = auction.dropna(subset=['Year'])\n",
    "auction['Year'] = auction['Year'].astype(int)\n",
    "\n",
    "# -------------------------------------------------------------------------------------\n",
    "# 1️⃣ Treemap-like Bar Chart: Team Spending\n",
    "\n",
    "highlight = alt.selection_point(on='mouseover', fields=['Team'], nearest=True)\n",
    "\n",
    "team_spend = auction.groupby('Team', as_index=False)['Amount'].sum()\n",
    "\n",
    "treemap_chart = alt.Chart(team_spend).mark_bar(size=25).encode(\n",
    "    x=alt.X('Amount:Q', title='Total Auction Amount (INR)'),\n",
    "    y=alt.Y('Team:N', sort='-x', title='Teams'),\n",
    "    color=alt.condition(highlight, 'Team:N', alt.value('lightgray')),\n",
    "    tooltip=[alt.Tooltip('Team:N'), alt.Tooltip('Amount:Q')]\n",
    ").add_params(\n",
    "    highlight\n",
    ").properties(\n",
    "    title='💰 Total Auction Spending by Teams (Hover to Highlight)',\n",
    "    width=700,\n",
    "    height=450\n",
    ")\n",
    "\n",
    "# -------------------------------------------------------------------------------------\n",
    "# 2️⃣ Scatterplot: Player Prices over Auction Years\n",
    "\n",
    "scatter_chart = alt.Chart(auction).mark_circle(size=90).encode(\n",
    "    x=alt.X('Year:O', title='Auction Year'),\n",
    "    y=alt.Y('Amount:Q', title='Auction Amount (INR)'),\n",
    "    color='Team:N',\n",
    "    size=alt.Size('Amount:Q', scale=alt.Scale(range=[20, 500])),\n",
    "    tooltip=['Player:N', 'Amount:Q', 'Team:N', 'Role:N', 'Player Origin:N']\n",
    ").properties(\n",
    "    title='🎯 Player Auction Prices Over the Years',\n",
    "    width=700,\n",
    "    height=450\n",
    ").interactive()\n",
    "\n",
    "# -------------------------------------------------------------------------------------\n",
    "# 3️⃣ Race Chart: Top Paid Players Per Year\n",
    "\n",
    "# Preparing race chart dataset\n",
    "race = auction.groupby(['Year', 'Player'], as_index=False)['Amount'].sum()\n",
    "\n",
    "def top_per_year(df, n=10):\n",
    "    return df.sort_values('Amount', ascending=False).groupby('Year').head(n)\n",
    "\n",
    "race = top_per_year(race)\n",
    "\n",
    "# Create a slider for Year selection\n",
    "year_slider = alt.binding_range(min=race['Year'].min(), max=race['Year'].max(), step=1)\n",
    "year_select = alt.param(name='YearSelector', bind=year_slider, value=race['Year'].min())\n",
    "\n",
    "# Race Chart\n",
    "race_chart = alt.Chart(race).transform_filter(\n",
    "    alt.datum.Year == year_select\n",
    ").mark_bar().encode(\n",
    "    x=alt.X('Amount:Q', title='Auction Amount (INR)'),\n",
    "    y=alt.Y('Player:N', sort='-x', title='Player'),\n",
    "    color='Player:N',\n",
    "    tooltip=['Player:N', 'Amount:Q', 'Year:O']\n",
    ").add_params(\n",
    "    year_select\n",
    ").properties(\n",
    "    title='🏎️ Top Paid Players Each Year (Use Slider to Change Year)',\n",
    "    width=700,\n",
    "    height=400\n",
    ")\n",
    "\n",
    "# -------------------------------------------------------------------------------------\n",
    "# 🚀 Final Dashboard: Display All Together\n",
    "\n",
    "full_dashboard = alt.vconcat(\n",
    "    treemap_chart,\n",
    "    scatter_chart,\n",
    "    race_chart\n",
    ").resolve_legend(\n",
    "    color=\"independent\",\n",
    "    size=\"independent\"\n",
    ")\n",
    "\n",
    "full_dashboard.configure_title(\n",
    "    fontSize=24,\n",
    "    font='Arial',\n",
    "    anchor='start',\n",
    "    color='black'\n",
    ")\n"
   ]
  },
  {
   "cell_type": "code",
   "execution_count": null,
   "metadata": {},
   "outputs": [],
   "source": []
  }
 ],
 "metadata": {
  "kernelspec": {
   "display_name": "base",
   "language": "python",
   "name": "python3"
  },
  "language_info": {
   "codemirror_mode": {
    "name": "ipython",
    "version": 3
   },
   "file_extension": ".py",
   "mimetype": "text/x-python",
   "name": "python",
   "nbconvert_exporter": "python",
   "pygments_lexer": "ipython3",
   "version": "3.12.4"
  }
 },
 "nbformat": 4,
 "nbformat_minor": 5
}
